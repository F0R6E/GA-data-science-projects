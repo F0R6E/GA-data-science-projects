{
 "cells": [
  {
   "cell_type": "markdown",
   "metadata": {},
   "source": [
    "This article is about doing some Exploratory Data Analysis(EDA) of the data set"
   ]
  },
  {
   "cell_type": "code",
   "execution_count": 1,
   "metadata": {
    "collapsed": true
   },
   "outputs": [],
   "source": [
    "## Importing necessary modules.\n",
    "import pandas as pd\n",
    "import numpy as np\n",
    "import matplotlib.pyplot as plt\n",
    "import seaborn as sns\n",
    "from scipy import stats\n",
    "from sklearn.linear_model import LinearRegression\n",
    "%matplotlib inline\n",
    "plt.style.use('fivethirtyeight')\n",
    "## Importing csv file and name it bill_board\n",
    "bill_board = pd.read_csv(\"/Users/masumrumi/dsi-nyc-5/labs/data-cleaning-billboard/assets/datasets/billboard.csv\")"
   ]
  },
  {
   "cell_type": "markdown",
   "metadata": {},
   "source": [
    "# Exploratory Data Analysis (EDA)"
   ]
  },
  {
   "cell_type": "code",
   "execution_count": 2,
   "metadata": {},
   "outputs": [
    {
     "data": {
      "text/html": [
       "<div>\n",
       "<table border=\"1\" class=\"dataframe\">\n",
       "  <thead>\n",
       "    <tr style=\"text-align: right;\">\n",
       "      <th></th>\n",
       "      <th>year</th>\n",
       "      <th>artist.inverted</th>\n",
       "      <th>track</th>\n",
       "      <th>time</th>\n",
       "      <th>genre</th>\n",
       "      <th>date.entered</th>\n",
       "      <th>date.peaked</th>\n",
       "      <th>x1st.week</th>\n",
       "      <th>x2nd.week</th>\n",
       "      <th>x3rd.week</th>\n",
       "      <th>...</th>\n",
       "      <th>x67th.week</th>\n",
       "      <th>x68th.week</th>\n",
       "      <th>x69th.week</th>\n",
       "      <th>x70th.week</th>\n",
       "      <th>x71st.week</th>\n",
       "      <th>x72nd.week</th>\n",
       "      <th>x73rd.week</th>\n",
       "      <th>x74th.week</th>\n",
       "      <th>x75th.week</th>\n",
       "      <th>x76th.week</th>\n",
       "    </tr>\n",
       "  </thead>\n",
       "  <tbody>\n",
       "    <tr>\n",
       "      <th>0</th>\n",
       "      <td>2000</td>\n",
       "      <td>Destiny's Child</td>\n",
       "      <td>Independent Women Part I</td>\n",
       "      <td>3,38,00 AM</td>\n",
       "      <td>Rock</td>\n",
       "      <td>September 23, 2000</td>\n",
       "      <td>November 18, 2000</td>\n",
       "      <td>78</td>\n",
       "      <td>63</td>\n",
       "      <td>49</td>\n",
       "      <td>...</td>\n",
       "      <td>*</td>\n",
       "      <td>*</td>\n",
       "      <td>*</td>\n",
       "      <td>*</td>\n",
       "      <td>*</td>\n",
       "      <td>*</td>\n",
       "      <td>*</td>\n",
       "      <td>*</td>\n",
       "      <td>*</td>\n",
       "      <td>*</td>\n",
       "    </tr>\n",
       "    <tr>\n",
       "      <th>1</th>\n",
       "      <td>2000</td>\n",
       "      <td>Santana</td>\n",
       "      <td>Maria, Maria</td>\n",
       "      <td>4,18,00 AM</td>\n",
       "      <td>Rock</td>\n",
       "      <td>February 12, 2000</td>\n",
       "      <td>April 8, 2000</td>\n",
       "      <td>15</td>\n",
       "      <td>8</td>\n",
       "      <td>6</td>\n",
       "      <td>...</td>\n",
       "      <td>*</td>\n",
       "      <td>*</td>\n",
       "      <td>*</td>\n",
       "      <td>*</td>\n",
       "      <td>*</td>\n",
       "      <td>*</td>\n",
       "      <td>*</td>\n",
       "      <td>*</td>\n",
       "      <td>*</td>\n",
       "      <td>*</td>\n",
       "    </tr>\n",
       "    <tr>\n",
       "      <th>2</th>\n",
       "      <td>2000</td>\n",
       "      <td>Savage Garden</td>\n",
       "      <td>I Knew I Loved You</td>\n",
       "      <td>4,07,00 AM</td>\n",
       "      <td>Rock</td>\n",
       "      <td>October 23, 1999</td>\n",
       "      <td>January 29, 2000</td>\n",
       "      <td>71</td>\n",
       "      <td>48</td>\n",
       "      <td>43</td>\n",
       "      <td>...</td>\n",
       "      <td>*</td>\n",
       "      <td>*</td>\n",
       "      <td>*</td>\n",
       "      <td>*</td>\n",
       "      <td>*</td>\n",
       "      <td>*</td>\n",
       "      <td>*</td>\n",
       "      <td>*</td>\n",
       "      <td>*</td>\n",
       "      <td>*</td>\n",
       "    </tr>\n",
       "    <tr>\n",
       "      <th>3</th>\n",
       "      <td>2000</td>\n",
       "      <td>Madonna</td>\n",
       "      <td>Music</td>\n",
       "      <td>3,45,00 AM</td>\n",
       "      <td>Rock</td>\n",
       "      <td>August 12, 2000</td>\n",
       "      <td>September 16, 2000</td>\n",
       "      <td>41</td>\n",
       "      <td>23</td>\n",
       "      <td>18</td>\n",
       "      <td>...</td>\n",
       "      <td>*</td>\n",
       "      <td>*</td>\n",
       "      <td>*</td>\n",
       "      <td>*</td>\n",
       "      <td>*</td>\n",
       "      <td>*</td>\n",
       "      <td>*</td>\n",
       "      <td>*</td>\n",
       "      <td>*</td>\n",
       "      <td>*</td>\n",
       "    </tr>\n",
       "    <tr>\n",
       "      <th>4</th>\n",
       "      <td>2000</td>\n",
       "      <td>Aguilera, Christina</td>\n",
       "      <td>Come On Over Baby (All I Want Is You)</td>\n",
       "      <td>3,38,00 AM</td>\n",
       "      <td>Rock</td>\n",
       "      <td>August 5, 2000</td>\n",
       "      <td>October 14, 2000</td>\n",
       "      <td>57</td>\n",
       "      <td>47</td>\n",
       "      <td>45</td>\n",
       "      <td>...</td>\n",
       "      <td>*</td>\n",
       "      <td>*</td>\n",
       "      <td>*</td>\n",
       "      <td>*</td>\n",
       "      <td>*</td>\n",
       "      <td>*</td>\n",
       "      <td>*</td>\n",
       "      <td>*</td>\n",
       "      <td>*</td>\n",
       "      <td>*</td>\n",
       "    </tr>\n",
       "  </tbody>\n",
       "</table>\n",
       "<p>5 rows × 83 columns</p>\n",
       "</div>"
      ],
      "text/plain": [
       "   year      artist.inverted                                  track  \\\n",
       "0  2000      Destiny's Child               Independent Women Part I   \n",
       "1  2000              Santana                           Maria, Maria   \n",
       "2  2000        Savage Garden                     I Knew I Loved You   \n",
       "3  2000              Madonna                                  Music   \n",
       "4  2000  Aguilera, Christina  Come On Over Baby (All I Want Is You)   \n",
       "\n",
       "         time genre        date.entered         date.peaked  x1st.week  \\\n",
       "0  3,38,00 AM  Rock  September 23, 2000   November 18, 2000         78   \n",
       "1  4,18,00 AM  Rock   February 12, 2000       April 8, 2000         15   \n",
       "2  4,07,00 AM  Rock    October 23, 1999    January 29, 2000         71   \n",
       "3  3,45,00 AM  Rock     August 12, 2000  September 16, 2000         41   \n",
       "4  3,38,00 AM  Rock      August 5, 2000    October 14, 2000         57   \n",
       "\n",
       "  x2nd.week x3rd.week    ...     x67th.week x68th.week x69th.week x70th.week  \\\n",
       "0        63        49    ...              *          *          *          *   \n",
       "1         8         6    ...              *          *          *          *   \n",
       "2        48        43    ...              *          *          *          *   \n",
       "3        23        18    ...              *          *          *          *   \n",
       "4        47        45    ...              *          *          *          *   \n",
       "\n",
       "  x71st.week x72nd.week x73rd.week x74th.week x75th.week x76th.week  \n",
       "0          *          *          *          *          *          *  \n",
       "1          *          *          *          *          *          *  \n",
       "2          *          *          *          *          *          *  \n",
       "3          *          *          *          *          *          *  \n",
       "4          *          *          *          *          *          *  \n",
       "\n",
       "[5 rows x 83 columns]"
      ]
     },
     "execution_count": 2,
     "metadata": {},
     "output_type": "execute_result"
    }
   ],
   "source": [
    "bill_board.head()"
   ]
  },
  {
   "cell_type": "code",
   "execution_count": 5,
   "metadata": {},
   "outputs": [
    {
     "data": {
      "text/plain": [
       "(317, 83)"
      ]
     },
     "execution_count": 5,
     "metadata": {},
     "output_type": "execute_result"
    }
   ],
   "source": [
    "bill_board.shape"
   ]
  },
  {
   "cell_type": "code",
   "execution_count": 31,
   "metadata": {
    "scrolled": true
   },
   "outputs": [
    {
     "name": "stdout",
     "output_type": "stream",
     "text": [
      "<class 'pandas.core.frame.DataFrame'>\n",
      "RangeIndex: 317 entries, 0 to 316\n",
      "Data columns (total 83 columns):\n",
      "year               317 non-null int64\n",
      "artist.inverted    317 non-null object\n",
      "track              317 non-null object\n",
      "time               317 non-null object\n",
      "genre              317 non-null object\n",
      "date.entered       317 non-null object\n",
      "date.peaked        317 non-null object\n",
      "x1st.week          317 non-null int64\n",
      "x2nd.week          317 non-null object\n",
      "x3rd.week          317 non-null object\n",
      "x4th.week          317 non-null object\n",
      "x5th.week          317 non-null object\n",
      "x6th.week          317 non-null object\n",
      "x7th.week          317 non-null object\n",
      "x8th.week          317 non-null object\n",
      "x9th.week          317 non-null object\n",
      "x10th.week         317 non-null object\n",
      "x11th.week         317 non-null object\n",
      "x12th.week         317 non-null object\n",
      "x13th.week         317 non-null object\n",
      "x14th.week         317 non-null object\n",
      "x15th.week         317 non-null object\n",
      "x16th.week         317 non-null object\n",
      "x17th.week         317 non-null object\n",
      "x18th.week         317 non-null object\n",
      "x19th.week         317 non-null object\n",
      "x20th.week         317 non-null object\n",
      "x21st.week         317 non-null object\n",
      "x22nd.week         317 non-null object\n",
      "x23rd.week         317 non-null object\n",
      "x24th.week         317 non-null object\n",
      "x25th.week         39 non-null object\n",
      "x26th.week         37 non-null object\n",
      "x27th.week         30 non-null object\n",
      "x28th.week         317 non-null object\n",
      "x29th.week         317 non-null object\n",
      "x30th.week         317 non-null object\n",
      "x31st.week         317 non-null object\n",
      "x32nd.week         317 non-null object\n",
      "x33rd.week         317 non-null object\n",
      "x34th.week         317 non-null object\n",
      "x35th.week         317 non-null object\n",
      "x36th.week         317 non-null object\n",
      "x37th.week         317 non-null object\n",
      "x38th.week         317 non-null object\n",
      "x39th.week         317 non-null object\n",
      "x40th.week         317 non-null object\n",
      "x41st.week         317 non-null object\n",
      "x42nd.week         317 non-null object\n",
      "x43rd.week         317 non-null object\n",
      "x44th.week         317 non-null object\n",
      "x45th.week         317 non-null object\n",
      "x46th.week         317 non-null object\n",
      "x47th.week         317 non-null object\n",
      "x48th.week         317 non-null object\n",
      "x49th.week         317 non-null object\n",
      "x50th.week         317 non-null object\n",
      "x51st.week         317 non-null object\n",
      "x52nd.week         317 non-null object\n",
      "x53rd.week         317 non-null object\n",
      "x54th.week         317 non-null object\n",
      "x55th.week         317 non-null object\n",
      "x56th.week         317 non-null object\n",
      "x57th.week         317 non-null object\n",
      "x58th.week         317 non-null object\n",
      "x59th.week         317 non-null object\n",
      "x60th.week         317 non-null object\n",
      "x61st.week         317 non-null object\n",
      "x62nd.week         317 non-null object\n",
      "x63rd.week         317 non-null object\n",
      "x64th.week         317 non-null object\n",
      "x65th.week         317 non-null object\n",
      "x66th.week         317 non-null object\n",
      "x67th.week         317 non-null object\n",
      "x68th.week         317 non-null object\n",
      "x69th.week         317 non-null object\n",
      "x70th.week         317 non-null object\n",
      "x71st.week         317 non-null object\n",
      "x72nd.week         317 non-null object\n",
      "x73rd.week         317 non-null object\n",
      "x74th.week         317 non-null object\n",
      "x75th.week         317 non-null object\n",
      "x76th.week         317 non-null object\n",
      "dtypes: int64(2), object(81)\n",
      "memory usage: 205.6+ KB\n"
     ]
    }
   ],
   "source": [
    "## Looking the info for each columns. \n",
    "bill_board.info();"
   ]
  },
  {
   "cell_type": "code",
   "execution_count": 32,
   "metadata": {},
   "outputs": [
    {
     "data": {
      "text/html": [
       "<div>\n",
       "<table border=\"1\" class=\"dataframe\">\n",
       "  <thead>\n",
       "    <tr style=\"text-align: right;\">\n",
       "      <th></th>\n",
       "      <th>year</th>\n",
       "      <th>x1st.week</th>\n",
       "    </tr>\n",
       "  </thead>\n",
       "  <tbody>\n",
       "    <tr>\n",
       "      <th>count</th>\n",
       "      <td>317.0</td>\n",
       "      <td>317.000000</td>\n",
       "    </tr>\n",
       "    <tr>\n",
       "      <th>mean</th>\n",
       "      <td>2000.0</td>\n",
       "      <td>79.958991</td>\n",
       "    </tr>\n",
       "    <tr>\n",
       "      <th>std</th>\n",
       "      <td>0.0</td>\n",
       "      <td>14.686865</td>\n",
       "    </tr>\n",
       "    <tr>\n",
       "      <th>min</th>\n",
       "      <td>2000.0</td>\n",
       "      <td>15.000000</td>\n",
       "    </tr>\n",
       "    <tr>\n",
       "      <th>25%</th>\n",
       "      <td>2000.0</td>\n",
       "      <td>74.000000</td>\n",
       "    </tr>\n",
       "    <tr>\n",
       "      <th>50%</th>\n",
       "      <td>2000.0</td>\n",
       "      <td>81.000000</td>\n",
       "    </tr>\n",
       "    <tr>\n",
       "      <th>75%</th>\n",
       "      <td>2000.0</td>\n",
       "      <td>91.000000</td>\n",
       "    </tr>\n",
       "    <tr>\n",
       "      <th>max</th>\n",
       "      <td>2000.0</td>\n",
       "      <td>100.000000</td>\n",
       "    </tr>\n",
       "  </tbody>\n",
       "</table>\n",
       "</div>"
      ],
      "text/plain": [
       "         year   x1st.week\n",
       "count   317.0  317.000000\n",
       "mean   2000.0   79.958991\n",
       "std       0.0   14.686865\n",
       "min    2000.0   15.000000\n",
       "25%    2000.0   74.000000\n",
       "50%    2000.0   81.000000\n",
       "75%    2000.0   91.000000\n",
       "max    2000.0  100.000000"
      ]
     },
     "execution_count": 32,
     "metadata": {},
     "output_type": "execute_result"
    }
   ],
   "source": [
    "## going to through some statistics\n",
    "bill_board.describe()"
   ]
  },
  {
   "cell_type": "code",
   "execution_count": 33,
   "metadata": {},
   "outputs": [
    {
     "data": {
      "text/plain": [
       "Rock           103\n",
       "Country         74\n",
       "Rap             58\n",
       "Rock'n'roll     34\n",
       "R&B             13\n",
       "R & B           10\n",
       "Pop              9\n",
       "Latin            9\n",
       "Electronica      4\n",
       "Gospel           1\n",
       "Jazz             1\n",
       "Reggae           1\n",
       "Name: genre, dtype: int64"
      ]
     },
     "execution_count": 33,
     "metadata": {},
     "output_type": "execute_result"
    }
   ],
   "source": [
    "## value counts for genre column.\n",
    "bill_board[\"genre\"].value_counts()"
   ]
  },
  {
   "cell_type": "code",
   "execution_count": 34,
   "metadata": {},
   "outputs": [
    {
     "data": {
      "text/plain": [
       "(317, 83)"
      ]
     },
     "execution_count": 34,
     "metadata": {},
     "output_type": "execute_result"
    }
   ],
   "source": [
    "## Looking at the shape of the bill_board.\n",
    "bill_board.shape"
   ]
  },
  {
   "cell_type": "code",
   "execution_count": 35,
   "metadata": {},
   "outputs": [
    {
     "data": {
      "text/html": [
       "<div>\n",
       "<table border=\"1\" class=\"dataframe\">\n",
       "  <thead>\n",
       "    <tr style=\"text-align: right;\">\n",
       "      <th></th>\n",
       "      <th>year</th>\n",
       "      <th>artist.inverted</th>\n",
       "      <th>track</th>\n",
       "      <th>time</th>\n",
       "      <th>genre</th>\n",
       "      <th>date.entered</th>\n",
       "      <th>date.peaked</th>\n",
       "      <th>x1st.week</th>\n",
       "      <th>x2nd.week</th>\n",
       "      <th>x3rd.week</th>\n",
       "      <th>...</th>\n",
       "      <th>x67th.week</th>\n",
       "      <th>x68th.week</th>\n",
       "      <th>x69th.week</th>\n",
       "      <th>x70th.week</th>\n",
       "      <th>x71st.week</th>\n",
       "      <th>x72nd.week</th>\n",
       "      <th>x73rd.week</th>\n",
       "      <th>x74th.week</th>\n",
       "      <th>x75th.week</th>\n",
       "      <th>x76th.week</th>\n",
       "    </tr>\n",
       "  </thead>\n",
       "  <tbody>\n",
       "    <tr>\n",
       "      <th>0</th>\n",
       "      <td>2000</td>\n",
       "      <td>Destiny's Child</td>\n",
       "      <td>Independent Women Part I</td>\n",
       "      <td>3,38,00 AM</td>\n",
       "      <td>Rock</td>\n",
       "      <td>September 23, 2000</td>\n",
       "      <td>November 18, 2000</td>\n",
       "      <td>78</td>\n",
       "      <td>63</td>\n",
       "      <td>49</td>\n",
       "      <td>...</td>\n",
       "      <td>*</td>\n",
       "      <td>*</td>\n",
       "      <td>*</td>\n",
       "      <td>*</td>\n",
       "      <td>*</td>\n",
       "      <td>*</td>\n",
       "      <td>*</td>\n",
       "      <td>*</td>\n",
       "      <td>*</td>\n",
       "      <td>*</td>\n",
       "    </tr>\n",
       "  </tbody>\n",
       "</table>\n",
       "<p>1 rows × 83 columns</p>\n",
       "</div>"
      ],
      "text/plain": [
       "   year  artist.inverted                     track        time genre  \\\n",
       "0  2000  Destiny's Child  Independent Women Part I  3,38,00 AM  Rock   \n",
       "\n",
       "         date.entered        date.peaked  x1st.week x2nd.week x3rd.week  \\\n",
       "0  September 23, 2000  November 18, 2000         78        63        49   \n",
       "\n",
       "     ...     x67th.week x68th.week x69th.week x70th.week x71st.week  \\\n",
       "0    ...              *          *          *          *          *   \n",
       "\n",
       "  x72nd.week x73rd.week x74th.week x75th.week x76th.week  \n",
       "0          *          *          *          *          *  \n",
       "\n",
       "[1 rows x 83 columns]"
      ]
     },
     "execution_count": 35,
     "metadata": {},
     "output_type": "execute_result"
    }
   ],
   "source": [
    "## Trying to findout how the columns look like. \n",
    "bill_board.head(1)"
   ]
  },
  {
   "cell_type": "code",
   "execution_count": 36,
   "metadata": {
    "scrolled": true
   },
   "outputs": [
    {
     "data": {
      "text/plain": [
       "2000    317\n",
       "Name: year, dtype: int64"
      ]
     },
     "execution_count": 36,
     "metadata": {},
     "output_type": "execute_result"
    }
   ],
   "source": [
    "## Value count of the year column\n",
    "bill_board[\"year\"].value_counts()"
   ]
  },
  {
   "cell_type": "code",
   "execution_count": 7,
   "metadata": {},
   "outputs": [
    {
     "data": {
      "text/plain": [
       "January 29, 2000     11\n",
       "August 12, 2000      10\n",
       "May 13, 2000          9\n",
       "February 19, 2000     9\n",
       "March 18, 2000        9\n",
       "Name: date.entered, dtype: int64"
      ]
     },
     "execution_count": 7,
     "metadata": {},
     "output_type": "execute_result"
    }
   ],
   "source": [
    "## Value counts of the date.entered column\n",
    "bill_board[\"date.entered\"].value_counts().head()"
   ]
  },
  {
   "cell_type": "code",
   "execution_count": 38,
   "metadata": {
    "collapsed": true
   },
   "outputs": [],
   "source": [
    "## Converting \"date.entered\" and \"date.peaked\" column using pd.to_datetime. \n",
    "bill_board[\"date.entered\"] = pd.to_datetime(bill_board[\"date.entered\"])\n",
    "bill_board[\"date.peaked\"] = pd.to_datetime(bill_board[\"date.peaked\"])"
   ]
  },
  {
   "cell_type": "code",
   "execution_count": 39,
   "metadata": {},
   "outputs": [
    {
     "data": {
      "text/plain": [
       "0   2000-11-18\n",
       "1   2000-04-08\n",
       "2   2000-01-29\n",
       "3   2000-09-16\n",
       "4   2000-10-14\n",
       "Name: date.peaked, dtype: datetime64[ns]"
      ]
     },
     "execution_count": 39,
     "metadata": {},
     "output_type": "execute_result"
    }
   ],
   "source": [
    "## Checking if the convertion was successful\n",
    "bill_board[\"date.peaked\"].head(1)"
   ]
  },
  {
   "cell_type": "code",
   "execution_count": 57,
   "metadata": {},
   "outputs": [
    {
     "data": {
      "text/plain": [
       "0    [3, 38, 00 AM]\n",
       "Name: time, dtype: object"
      ]
     },
     "execution_count": 57,
     "metadata": {},
     "output_type": "execute_result"
    }
   ],
   "source": [
    "## checkingout the time column. \n",
    "bill_board.time.head(1)"
   ]
  },
  {
   "cell_type": "code",
   "execution_count": 41,
   "metadata": {
    "collapsed": true
   },
   "outputs": [],
   "source": [
    "## converting time so that it could be converted into seconds, since the time column \n",
    "## holds the length of a song instead of time. \n",
    "bill_board[\"time\"] = bill_board[\"time\"].apply(lambda x:x.replace(\",\", \".\"))\n",
    "bill_board[\"time\"] = bill_board[\"time\"].apply(lambda x:x.split(\".\"))"
   ]
  },
  {
   "cell_type": "code",
   "execution_count": 56,
   "metadata": {},
   "outputs": [
    {
     "data": {
      "text/plain": [
       "0    [3, 38, 00 AM]\n",
       "Name: time, dtype: object"
      ]
     },
     "execution_count": 56,
     "metadata": {},
     "output_type": "execute_result"
    }
   ],
   "source": [
    "bill_board.time.head(1)"
   ]
  },
  {
   "cell_type": "code",
   "execution_count": 43,
   "metadata": {
    "collapsed": true
   },
   "outputs": [],
   "source": [
    "## Convert time into seconds. \n",
    "bill_board[\"seconds\"] = [(int(x[0])*60)+int(x[1]) for x in bill_board[\"time\"]]"
   ]
  },
  {
   "cell_type": "code",
   "execution_count": 55,
   "metadata": {},
   "outputs": [
    {
     "data": {
      "text/plain": [
       "0    218\n",
       "Name: seconds, dtype: int64"
      ]
     },
     "execution_count": 55,
     "metadata": {},
     "output_type": "execute_result"
    }
   ],
   "source": [
    "## Checking to see if the conversion was successful.\n",
    "bill_board.seconds.head(1)"
   ]
  },
  {
   "cell_type": "code",
   "execution_count": 45,
   "metadata": {},
   "outputs": [
    {
     "data": {
      "text/plain": [
       "Rock           103\n",
       "Country         74\n",
       "Rap             58\n",
       "Rock'n'roll     34\n",
       "R&B             13\n",
       "R & B           10\n",
       "Pop              9\n",
       "Latin            9\n",
       "Electronica      4\n",
       "Gospel           1\n",
       "Jazz             1\n",
       "Reggae           1\n",
       "Name: genre, dtype: int64"
      ]
     },
     "execution_count": 45,
     "metadata": {},
     "output_type": "execute_result"
    }
   ],
   "source": [
    "## Looking at the values of the genre column. \n",
    "bill_board[\"genre\"].value_counts()"
   ]
  },
  {
   "cell_type": "code",
   "execution_count": 46,
   "metadata": {
    "collapsed": true
   },
   "outputs": [],
   "source": [
    "## Changing \"R & B\" to \"R&B\"\n",
    "bill_board.replace('R & B', 'R&B', inplace=True)"
   ]
  },
  {
   "cell_type": "code",
   "execution_count": 47,
   "metadata": {
    "collapsed": true
   },
   "outputs": [],
   "source": [
    "## Changing \"Rock'n'roll\" to 'Rock'\n",
    "bill_board.replace(\"Rock'n'roll\", 'Rock', inplace=True)"
   ]
  },
  {
   "cell_type": "code",
   "execution_count": 48,
   "metadata": {
    "collapsed": true
   },
   "outputs": [],
   "source": [
    "## Some of the values are represented my \"*\", so I am changing that to nan value\n",
    "bill_board.replace(\"*\", np.nan, inplace = True)"
   ]
  },
  {
   "cell_type": "code",
   "execution_count": 49,
   "metadata": {
    "scrolled": true
   },
   "outputs": [
    {
     "name": "stdout",
     "output_type": "stream",
     "text": [
      "<class 'pandas.core.frame.DataFrame'>\n",
      "RangeIndex: 317 entries, 0 to 316\n",
      "Data columns (total 84 columns):\n",
      "year               317 non-null int64\n",
      "artist.inverted    317 non-null object\n",
      "track              317 non-null object\n",
      "time               317 non-null object\n",
      "genre              317 non-null object\n",
      "date.entered       317 non-null datetime64[ns]\n",
      "date.peaked        317 non-null datetime64[ns]\n",
      "x1st.week          317 non-null int64\n",
      "x2nd.week          312 non-null object\n",
      "x3rd.week          307 non-null object\n",
      "x4th.week          300 non-null object\n",
      "x5th.week          292 non-null object\n",
      "x6th.week          280 non-null object\n",
      "x7th.week          269 non-null object\n",
      "x8th.week          260 non-null object\n",
      "x9th.week          253 non-null object\n",
      "x10th.week         244 non-null object\n",
      "x11th.week         236 non-null object\n",
      "x12th.week         222 non-null object\n",
      "x13th.week         210 non-null object\n",
      "x14th.week         204 non-null object\n",
      "x15th.week         197 non-null object\n",
      "x16th.week         182 non-null object\n",
      "x17th.week         177 non-null object\n",
      "x18th.week         166 non-null object\n",
      "x19th.week         156 non-null object\n",
      "x20th.week         146 non-null object\n",
      "x21st.week         65 non-null object\n",
      "x22nd.week         55 non-null object\n",
      "x23rd.week         48 non-null object\n",
      "x24th.week         46 non-null object\n",
      "x25th.week         38 non-null object\n",
      "x26th.week         36 non-null object\n",
      "x27th.week         29 non-null object\n",
      "x28th.week         24 non-null object\n",
      "x29th.week         20 non-null object\n",
      "x30th.week         20 non-null object\n",
      "x31st.week         19 non-null object\n",
      "x32nd.week         18 non-null object\n",
      "x33rd.week         12 non-null object\n",
      "x34th.week         10 non-null object\n",
      "x35th.week         9 non-null object\n",
      "x36th.week         9 non-null object\n",
      "x37th.week         9 non-null object\n",
      "x38th.week         8 non-null object\n",
      "x39th.week         8 non-null object\n",
      "x40th.week         7 non-null object\n",
      "x41st.week         7 non-null object\n",
      "x42nd.week         6 non-null object\n",
      "x43rd.week         6 non-null object\n",
      "x44th.week         6 non-null object\n",
      "x45th.week         5 non-null object\n",
      "x46th.week         5 non-null object\n",
      "x47th.week         5 non-null object\n",
      "x48th.week         4 non-null object\n",
      "x49th.week         4 non-null object\n",
      "x50th.week         4 non-null object\n",
      "x51st.week         4 non-null object\n",
      "x52nd.week         4 non-null object\n",
      "x53rd.week         4 non-null object\n",
      "x54th.week         2 non-null object\n",
      "x55th.week         2 non-null object\n",
      "x56th.week         2 non-null object\n",
      "x57th.week         2 non-null object\n",
      "x58th.week         2 non-null object\n",
      "x59th.week         2 non-null object\n",
      "x60th.week         2 non-null object\n",
      "x61st.week         2 non-null object\n",
      "x62nd.week         2 non-null object\n",
      "x63rd.week         2 non-null object\n",
      "x64th.week         2 non-null object\n",
      "x65th.week         1 non-null object\n",
      "x66th.week         0 non-null float64\n",
      "x67th.week         0 non-null float64\n",
      "x68th.week         0 non-null float64\n",
      "x69th.week         0 non-null float64\n",
      "x70th.week         0 non-null float64\n",
      "x71st.week         0 non-null float64\n",
      "x72nd.week         0 non-null float64\n",
      "x73rd.week         0 non-null float64\n",
      "x74th.week         0 non-null float64\n",
      "x75th.week         0 non-null float64\n",
      "x76th.week         0 non-null float64\n",
      "seconds            317 non-null int64\n",
      "dtypes: datetime64[ns](2), float64(11), int64(3), object(68)\n",
      "memory usage: 208.1+ KB\n"
     ]
    }
   ],
   "source": [
    "bill_board.info()"
   ]
  },
  {
   "cell_type": "code",
   "execution_count": 50,
   "metadata": {
    "collapsed": true
   },
   "outputs": [],
   "source": [
    "## converting \"...week\" columns value from object to numeric\n",
    "for item in bill_board.columns:\n",
    "    if item.startswith(\"x\"):\n",
    "        bill_board[item] = pd.to_numeric(bill_board[item])\n"
   ]
  },
  {
   "cell_type": "code",
   "execution_count": 63,
   "metadata": {
    "scrolled": true
   },
   "outputs": [
    {
     "name": "stdout",
     "output_type": "stream",
     "text": [
      "<class 'pandas.core.frame.DataFrame'>\n",
      "RangeIndex: 317 entries, 0 to 316\n",
      "Data columns (total 85 columns):\n",
      "year               317 non-null int64\n",
      "artist.inverted    317 non-null object\n",
      "track              317 non-null object\n",
      "time               317 non-null object\n",
      "genre              317 non-null object\n",
      "date.entered       317 non-null datetime64[ns]\n",
      "date.peaked        317 non-null datetime64[ns]\n",
      "x1st.week          317 non-null int64\n",
      "x2nd.week          312 non-null float64\n",
      "x3rd.week          307 non-null float64\n",
      "x4th.week          300 non-null float64\n",
      "x5th.week          292 non-null float64\n",
      "x6th.week          280 non-null float64\n",
      "x7th.week          269 non-null float64\n",
      "x8th.week          260 non-null float64\n",
      "x9th.week          253 non-null float64\n",
      "x10th.week         244 non-null float64\n",
      "x11th.week         236 non-null float64\n",
      "x12th.week         222 non-null float64\n",
      "x13th.week         210 non-null float64\n",
      "x14th.week         204 non-null float64\n",
      "x15th.week         197 non-null float64\n",
      "x16th.week         182 non-null float64\n",
      "x17th.week         177 non-null float64\n",
      "x18th.week         166 non-null float64\n",
      "x19th.week         156 non-null float64\n",
      "x20th.week         146 non-null float64\n",
      "x21st.week         65 non-null float64\n",
      "x22nd.week         55 non-null float64\n",
      "x23rd.week         48 non-null float64\n",
      "x24th.week         46 non-null float64\n",
      "x25th.week         38 non-null float64\n",
      "x26th.week         36 non-null float64\n",
      "x27th.week         29 non-null float64\n",
      "x28th.week         24 non-null float64\n",
      "x29th.week         20 non-null float64\n",
      "x30th.week         20 non-null float64\n",
      "x31st.week         19 non-null float64\n",
      "x32nd.week         18 non-null float64\n",
      "x33rd.week         12 non-null float64\n",
      "x34th.week         10 non-null float64\n",
      "x35th.week         9 non-null float64\n",
      "x36th.week         9 non-null float64\n",
      "x37th.week         9 non-null float64\n",
      "x38th.week         8 non-null float64\n",
      "x39th.week         8 non-null float64\n",
      "x40th.week         7 non-null float64\n",
      "x41st.week         7 non-null float64\n",
      "x42nd.week         6 non-null float64\n",
      "x43rd.week         6 non-null float64\n",
      "x44th.week         6 non-null float64\n",
      "x45th.week         5 non-null float64\n",
      "x46th.week         5 non-null float64\n",
      "x47th.week         5 non-null float64\n",
      "x48th.week         4 non-null float64\n",
      "x49th.week         4 non-null float64\n",
      "x50th.week         4 non-null float64\n",
      "x51st.week         4 non-null float64\n",
      "x52nd.week         4 non-null float64\n",
      "x53rd.week         4 non-null float64\n",
      "x54th.week         2 non-null float64\n",
      "x55th.week         2 non-null float64\n",
      "x56th.week         2 non-null float64\n",
      "x57th.week         2 non-null float64\n",
      "x58th.week         2 non-null float64\n",
      "x59th.week         2 non-null float64\n",
      "x60th.week         2 non-null float64\n",
      "x61st.week         2 non-null float64\n",
      "x62nd.week         2 non-null float64\n",
      "x63rd.week         2 non-null float64\n",
      "x64th.week         2 non-null float64\n",
      "x65th.week         1 non-null float64\n",
      "x66th.week         0 non-null float64\n",
      "x67th.week         0 non-null float64\n",
      "x68th.week         0 non-null float64\n",
      "x69th.week         0 non-null float64\n",
      "x70th.week         0 non-null float64\n",
      "x71st.week         0 non-null float64\n",
      "x72nd.week         0 non-null float64\n",
      "x73rd.week         0 non-null float64\n",
      "x74th.week         0 non-null float64\n",
      "x75th.week         0 non-null float64\n",
      "x76th.week         0 non-null float64\n",
      "seconds            317 non-null int64\n",
      "time_to_peak       317 non-null timedelta64[ns]\n",
      "dtypes: datetime64[ns](2), float64(75), int64(3), object(4), timedelta64[ns](1)\n",
      "memory usage: 210.6+ KB\n"
     ]
    }
   ],
   "source": [
    "bill_board.info();"
   ]
  },
  {
   "cell_type": "code",
   "execution_count": 52,
   "metadata": {
    "collapsed": true
   },
   "outputs": [],
   "source": [
    "## Creating a new feature from two other existing features.\n",
    "bill_board['time_to_peak'] = bill_board['date.peaked'] - bill_board['date.entered']"
   ]
  },
  {
   "cell_type": "code",
   "execution_count": 54,
   "metadata": {},
   "outputs": [
    {
     "data": {
      "text/plain": [
       "0   56 days\n",
       "1   56 days\n",
       "2   98 days\n",
       "3   35 days\n",
       "4   70 days\n",
       "Name: time_to_peak, dtype: timedelta64[ns]"
      ]
     },
     "execution_count": 54,
     "metadata": {},
     "output_type": "execute_result"
    }
   ],
   "source": [
    "bill_board.time_to_peak.head()"
   ]
  },
  {
   "cell_type": "code",
   "execution_count": 58,
   "metadata": {},
   "outputs": [
    {
     "data": {
      "text/plain": [
       "137"
      ]
     },
     "execution_count": 58,
     "metadata": {},
     "output_type": "execute_result"
    }
   ],
   "source": [
    "## counting \"Rock\" values does the genre column have.\n",
    "len(bill_board[bill_board[\"genre\"] == \"Rock\"])"
   ]
  },
  {
   "cell_type": "code",
   "execution_count": 59,
   "metadata": {},
   "outputs": [
    {
     "data": {
      "text/plain": [
       "180"
      ]
     },
     "execution_count": 59,
     "metadata": {},
     "output_type": "execute_result"
    }
   ],
   "source": [
    "## counting anything else but\"Rock\" values does the genre column have.\n",
    "len(bill_board[bill_board[\"genre\"] != \"Rock\"])\n"
   ]
  },
  {
   "cell_type": "code",
   "execution_count": 61,
   "metadata": {},
   "outputs": [
    {
     "data": {
      "text/plain": [
       "Rock       137\n",
       "Country     74\n",
       "Rap         58\n",
       "R&B         23\n",
       "Pop          9\n",
       "Name: genre, dtype: int64"
      ]
     },
     "execution_count": 61,
     "metadata": {},
     "output_type": "execute_result"
    }
   ],
   "source": [
    "bill_board.genre.value_counts().head()"
   ]
  },
  {
   "cell_type": "code",
   "execution_count": 65,
   "metadata": {
    "collapsed": true
   },
   "outputs": [],
   "source": [
    "## Creating a new dataframe named \"all_weeks\" which consists of all the weeks\"\n",
    "all_weeks = bill_board.loc[:,'x1st.week':'x76th.week']"
   ]
  },
  {
   "cell_type": "code",
   "execution_count": 68,
   "metadata": {},
   "outputs": [
    {
     "data": {
      "text/html": [
       "<div>\n",
       "<table border=\"1\" class=\"dataframe\">\n",
       "  <thead>\n",
       "    <tr style=\"text-align: right;\">\n",
       "      <th></th>\n",
       "      <th>x1st.week</th>\n",
       "      <th>x2nd.week</th>\n",
       "      <th>x3rd.week</th>\n",
       "      <th>x4th.week</th>\n",
       "      <th>x5th.week</th>\n",
       "      <th>x6th.week</th>\n",
       "      <th>x7th.week</th>\n",
       "      <th>x8th.week</th>\n",
       "      <th>x9th.week</th>\n",
       "      <th>x10th.week</th>\n",
       "      <th>...</th>\n",
       "      <th>x67th.week</th>\n",
       "      <th>x68th.week</th>\n",
       "      <th>x69th.week</th>\n",
       "      <th>x70th.week</th>\n",
       "      <th>x71st.week</th>\n",
       "      <th>x72nd.week</th>\n",
       "      <th>x73rd.week</th>\n",
       "      <th>x74th.week</th>\n",
       "      <th>x75th.week</th>\n",
       "      <th>x76th.week</th>\n",
       "    </tr>\n",
       "  </thead>\n",
       "  <tbody>\n",
       "    <tr>\n",
       "      <th>0</th>\n",
       "      <td>78</td>\n",
       "      <td>63.0</td>\n",
       "      <td>49.0</td>\n",
       "      <td>33.0</td>\n",
       "      <td>23.0</td>\n",
       "      <td>15.0</td>\n",
       "      <td>7.0</td>\n",
       "      <td>5.0</td>\n",
       "      <td>1.0</td>\n",
       "      <td>1.0</td>\n",
       "      <td>...</td>\n",
       "      <td>NaN</td>\n",
       "      <td>NaN</td>\n",
       "      <td>NaN</td>\n",
       "      <td>NaN</td>\n",
       "      <td>NaN</td>\n",
       "      <td>NaN</td>\n",
       "      <td>NaN</td>\n",
       "      <td>NaN</td>\n",
       "      <td>NaN</td>\n",
       "      <td>NaN</td>\n",
       "    </tr>\n",
       "    <tr>\n",
       "      <th>1</th>\n",
       "      <td>15</td>\n",
       "      <td>8.0</td>\n",
       "      <td>6.0</td>\n",
       "      <td>5.0</td>\n",
       "      <td>2.0</td>\n",
       "      <td>3.0</td>\n",
       "      <td>2.0</td>\n",
       "      <td>2.0</td>\n",
       "      <td>1.0</td>\n",
       "      <td>1.0</td>\n",
       "      <td>...</td>\n",
       "      <td>NaN</td>\n",
       "      <td>NaN</td>\n",
       "      <td>NaN</td>\n",
       "      <td>NaN</td>\n",
       "      <td>NaN</td>\n",
       "      <td>NaN</td>\n",
       "      <td>NaN</td>\n",
       "      <td>NaN</td>\n",
       "      <td>NaN</td>\n",
       "      <td>NaN</td>\n",
       "    </tr>\n",
       "    <tr>\n",
       "      <th>2</th>\n",
       "      <td>71</td>\n",
       "      <td>48.0</td>\n",
       "      <td>43.0</td>\n",
       "      <td>31.0</td>\n",
       "      <td>20.0</td>\n",
       "      <td>13.0</td>\n",
       "      <td>7.0</td>\n",
       "      <td>6.0</td>\n",
       "      <td>4.0</td>\n",
       "      <td>4.0</td>\n",
       "      <td>...</td>\n",
       "      <td>NaN</td>\n",
       "      <td>NaN</td>\n",
       "      <td>NaN</td>\n",
       "      <td>NaN</td>\n",
       "      <td>NaN</td>\n",
       "      <td>NaN</td>\n",
       "      <td>NaN</td>\n",
       "      <td>NaN</td>\n",
       "      <td>NaN</td>\n",
       "      <td>NaN</td>\n",
       "    </tr>\n",
       "    <tr>\n",
       "      <th>3</th>\n",
       "      <td>41</td>\n",
       "      <td>23.0</td>\n",
       "      <td>18.0</td>\n",
       "      <td>14.0</td>\n",
       "      <td>2.0</td>\n",
       "      <td>1.0</td>\n",
       "      <td>1.0</td>\n",
       "      <td>1.0</td>\n",
       "      <td>1.0</td>\n",
       "      <td>2.0</td>\n",
       "      <td>...</td>\n",
       "      <td>NaN</td>\n",
       "      <td>NaN</td>\n",
       "      <td>NaN</td>\n",
       "      <td>NaN</td>\n",
       "      <td>NaN</td>\n",
       "      <td>NaN</td>\n",
       "      <td>NaN</td>\n",
       "      <td>NaN</td>\n",
       "      <td>NaN</td>\n",
       "      <td>NaN</td>\n",
       "    </tr>\n",
       "    <tr>\n",
       "      <th>4</th>\n",
       "      <td>57</td>\n",
       "      <td>47.0</td>\n",
       "      <td>45.0</td>\n",
       "      <td>29.0</td>\n",
       "      <td>23.0</td>\n",
       "      <td>18.0</td>\n",
       "      <td>11.0</td>\n",
       "      <td>9.0</td>\n",
       "      <td>9.0</td>\n",
       "      <td>11.0</td>\n",
       "      <td>...</td>\n",
       "      <td>NaN</td>\n",
       "      <td>NaN</td>\n",
       "      <td>NaN</td>\n",
       "      <td>NaN</td>\n",
       "      <td>NaN</td>\n",
       "      <td>NaN</td>\n",
       "      <td>NaN</td>\n",
       "      <td>NaN</td>\n",
       "      <td>NaN</td>\n",
       "      <td>NaN</td>\n",
       "    </tr>\n",
       "  </tbody>\n",
       "</table>\n",
       "<p>5 rows × 76 columns</p>\n",
       "</div>"
      ],
      "text/plain": [
       "   x1st.week  x2nd.week  x3rd.week  x4th.week  x5th.week  x6th.week  \\\n",
       "0         78       63.0       49.0       33.0       23.0       15.0   \n",
       "1         15        8.0        6.0        5.0        2.0        3.0   \n",
       "2         71       48.0       43.0       31.0       20.0       13.0   \n",
       "3         41       23.0       18.0       14.0        2.0        1.0   \n",
       "4         57       47.0       45.0       29.0       23.0       18.0   \n",
       "\n",
       "   x7th.week  x8th.week  x9th.week  x10th.week     ...      x67th.week  \\\n",
       "0        7.0        5.0        1.0         1.0     ...             NaN   \n",
       "1        2.0        2.0        1.0         1.0     ...             NaN   \n",
       "2        7.0        6.0        4.0         4.0     ...             NaN   \n",
       "3        1.0        1.0        1.0         2.0     ...             NaN   \n",
       "4       11.0        9.0        9.0        11.0     ...             NaN   \n",
       "\n",
       "   x68th.week  x69th.week  x70th.week  x71st.week  x72nd.week  x73rd.week  \\\n",
       "0         NaN         NaN         NaN         NaN         NaN         NaN   \n",
       "1         NaN         NaN         NaN         NaN         NaN         NaN   \n",
       "2         NaN         NaN         NaN         NaN         NaN         NaN   \n",
       "3         NaN         NaN         NaN         NaN         NaN         NaN   \n",
       "4         NaN         NaN         NaN         NaN         NaN         NaN   \n",
       "\n",
       "   x74th.week  x75th.week  x76th.week  \n",
       "0         NaN         NaN         NaN  \n",
       "1         NaN         NaN         NaN  \n",
       "2         NaN         NaN         NaN  \n",
       "3         NaN         NaN         NaN  \n",
       "4         NaN         NaN         NaN  \n",
       "\n",
       "[5 rows x 76 columns]"
      ]
     },
     "execution_count": 68,
     "metadata": {},
     "output_type": "execute_result"
    }
   ],
   "source": [
    "all_weeks.head()"
   ]
  },
  {
   "cell_type": "code",
   "execution_count": 75,
   "metadata": {},
   "outputs": [
    {
     "name": "stdout",
     "output_type": "stream",
     "text": [
      "0\n",
      "76\n",
      "[17, 18, 17, 12, 8, 12, 11, 10, 13, 12, 11, 7, 19, 18, 15, 14, 4, 19, 13, 11, 7, 6, 5, 16, 18, 13, 4, 17, 16, 12, 12, 7, 9, 9, 9, 10, 9, 9, 6, 8, 7, 9, 5, 4, 4, 7, 6, 5, 3, 2, 3, 3, 3, 0, 0, 0, 0, 0, 0, 0, 0, 0, 0, 0, 0, 0, 0, 0, 0, 0, 0, 0, 0, 0, 0, 0]\n"
     ]
    }
   ],
   "source": [
    "## instantiate an empty list and name it \"weeks_on_top\"\n",
    "## the following code creates a list where it records the number of weeks each song was in the top ten list.\n",
    "weeks_on_top = []\n",
    "print len(weeks_on_top)  \n",
    "for i in range(all_weeks.shape[1]):\n",
    "    count = 0\n",
    "    for item in all_weeks.iloc[i,:]:\n",
    "        if item < 11 and item>0:\n",
    "            count += 1\n",
    "    weeks_on_top.append(int(count))\n",
    "            \n",
    "print len(weeks_on_top)            \n",
    "print weeks_on_top\n",
    "\n",
    "## Then I add the list \"Weeks_on_top\" with the DataFrame \"bill_board\"\n",
    "bill_board[\"weeks_on_top_10\"] = pd.Series(weeks_on_top)"
   ]
  },
  {
   "cell_type": "code",
   "execution_count": 79,
   "metadata": {
    "collapsed": true
   },
   "outputs": [],
   "source": [
    "billboard_week=[]\n",
    "for i in range(len(all_weeks)):\n",
    "    billboard_week.append(all_weeks.iloc[i,:].count())\n",
    "    \n",
    "bill_board['weeks_on_billboard'] = pd.Series(billboard_week)"
   ]
  },
  {
   "cell_type": "code",
   "execution_count": 80,
   "metadata": {},
   "outputs": [
    {
     "data": {
      "text/html": [
       "<div>\n",
       "<table border=\"1\" class=\"dataframe\">\n",
       "  <thead>\n",
       "    <tr style=\"text-align: right;\">\n",
       "      <th></th>\n",
       "      <th>year</th>\n",
       "      <th>artist.inverted</th>\n",
       "      <th>track</th>\n",
       "      <th>time</th>\n",
       "      <th>genre</th>\n",
       "      <th>date.entered</th>\n",
       "      <th>date.peaked</th>\n",
       "      <th>x1st.week</th>\n",
       "      <th>x2nd.week</th>\n",
       "      <th>x3rd.week</th>\n",
       "      <th>...</th>\n",
       "      <th>x71st.week</th>\n",
       "      <th>x72nd.week</th>\n",
       "      <th>x73rd.week</th>\n",
       "      <th>x74th.week</th>\n",
       "      <th>x75th.week</th>\n",
       "      <th>x76th.week</th>\n",
       "      <th>seconds</th>\n",
       "      <th>time_to_peak</th>\n",
       "      <th>weeks_on_top_10</th>\n",
       "      <th>weeks_on_billboard</th>\n",
       "    </tr>\n",
       "  </thead>\n",
       "  <tbody>\n",
       "    <tr>\n",
       "      <th>0</th>\n",
       "      <td>2000</td>\n",
       "      <td>Destiny's Child</td>\n",
       "      <td>Independent Women Part I</td>\n",
       "      <td>[3, 38, 00 AM]</td>\n",
       "      <td>Rock</td>\n",
       "      <td>2000-09-23</td>\n",
       "      <td>2000-11-18</td>\n",
       "      <td>78</td>\n",
       "      <td>63.0</td>\n",
       "      <td>49.0</td>\n",
       "      <td>...</td>\n",
       "      <td>NaN</td>\n",
       "      <td>NaN</td>\n",
       "      <td>NaN</td>\n",
       "      <td>NaN</td>\n",
       "      <td>NaN</td>\n",
       "      <td>NaN</td>\n",
       "      <td>218</td>\n",
       "      <td>56 days</td>\n",
       "      <td>17.0</td>\n",
       "      <td>28</td>\n",
       "    </tr>\n",
       "  </tbody>\n",
       "</table>\n",
       "<p>1 rows × 87 columns</p>\n",
       "</div>"
      ],
      "text/plain": [
       "   year  artist.inverted                     track            time genre  \\\n",
       "0  2000  Destiny's Child  Independent Women Part I  [3, 38, 00 AM]  Rock   \n",
       "\n",
       "  date.entered date.peaked  x1st.week  x2nd.week  x3rd.week  \\\n",
       "0   2000-09-23  2000-11-18         78       63.0       49.0   \n",
       "\n",
       "          ...          x71st.week  x72nd.week  x73rd.week  x74th.week  \\\n",
       "0         ...                 NaN         NaN         NaN         NaN   \n",
       "\n",
       "   x75th.week  x76th.week  seconds  time_to_peak  weeks_on_top_10  \\\n",
       "0         NaN         NaN      218       56 days             17.0   \n",
       "\n",
       "   weeks_on_billboard  \n",
       "0                  28  \n",
       "\n",
       "[1 rows x 87 columns]"
      ]
     },
     "execution_count": 80,
     "metadata": {},
     "output_type": "execute_result"
    }
   ],
   "source": [
    "bill_board.head(1)"
   ]
  },
  {
   "cell_type": "code",
   "execution_count": 81,
   "metadata": {},
   "outputs": [
    {
     "data": {
      "text/plain": [
       "19.0"
      ]
     },
     "execution_count": 81,
     "metadata": {},
     "output_type": "execute_result"
    }
   ],
   "source": [
    "bill_board[\"weeks_on_top_10\"].max()"
   ]
  },
  {
   "cell_type": "code",
   "execution_count": 82,
   "metadata": {
    "collapsed": true
   },
   "outputs": [],
   "source": [
    "all_rocks = (bill_board[bill_board[\"genre\"] == \"Rock\"])\n",
    "all_tops = (bill_board[bill_board[\"weeks_on_top_10\"] <= 19 ])\n",
    "all_top_rocks = all_tops[all_tops[\"genre\"] == \"Rock\"]"
   ]
  },
  {
   "cell_type": "code",
   "execution_count": 83,
   "metadata": {},
   "outputs": [
    {
     "name": "stdout",
     "output_type": "stream",
     "text": [
      "Rock    137\n",
      "Name: genre, dtype: int64\n",
      "76\n",
      "55\n"
     ]
    }
   ],
   "source": [
    "print (all_rocks[\"genre\"].value_counts())\n",
    "print (all_tops[\"genre\"].count())\n",
    "print (all_top_rocks[\"genre\"].count())"
   ]
  },
  {
   "cell_type": "markdown",
   "metadata": {},
   "source": [
    "## $$ Sample Ratio = \\frac{55}{76} $$"
   ]
  },
  {
   "cell_type": "code",
   "execution_count": 84,
   "metadata": {
    "scrolled": true
   },
   "outputs": [
    {
     "data": {
      "image/png": "[encoded data removed]",
      "text/plain": [
       "<matplotlib.figure.Figure at 0x122c09110>"
      ]
     },
     "metadata": {},
     "output_type": "display_data"
    }
   ],
   "source": [
    "sns.regplot(x='weeks_on_billboard',y='weeks_on_top_10',data= bill_board);\n",
    "plt.title(\"The correlation between top ten sons and all songs per week.\", fontsize = 15);"
   ]
  },
  {
   "cell_type": "code",
   "execution_count": 85,
   "metadata": {},
   "outputs": [
    {
     "data": {
      "image/png": "[encoded data removed]",
      "text/plain": [
       "<matplotlib.figure.Figure at 0x122948f90>"
      ]
     },
     "metadata": {},
     "output_type": "display_data"
    }
   ],
   "source": [
    "sns.set_style(\"whitegrid\")\n",
    "sns.barplot(x=\"genre\", y=\"weeks_on_top_10\", data=bill_board)\n",
    "plt.xlabel(\"Genre\")\n",
    "plt.ylabel(\"top 10 in Billboard\")\n",
    "plt.title(\"Top ten songs in differet genre\", fontsize = 20, y = 1.05);\n"
   ]
  },
  {
   "cell_type": "code",
   "execution_count": 86,
   "metadata": {},
   "outputs": [
    {
     "data": {
      "image/png": "[encoded data removed]",
      "text/plain": [
       "<matplotlib.figure.Figure at 0x123174210>"
      ]
     },
     "metadata": {},
     "output_type": "display_data"
    }
   ],
   "source": [
    "sns.set_style(\"whitegrid\")\n",
    "sns.barplot(x=\"genre\", y=\"weeks_on_billboard\", data=bill_board)\n",
    "plt.xlabel(\"Genre\")\n",
    "plt.ylabel(\"Weeks on Billboard\")\n",
    "plt.title(\"All songs distributed by genre\", fontsize = 20, y = 1.05);"
   ]
  },
  {
   "cell_type": "code",
   "execution_count": 87,
   "metadata": {
    "scrolled": true
   },
   "outputs": [
    {
     "data": {
      "text/html": [
       "<div>\n",
       "<table border=\"1\" class=\"dataframe\">\n",
       "  <thead>\n",
       "    <tr style=\"text-align: right;\">\n",
       "      <th></th>\n",
       "      <th>year</th>\n",
       "      <th>artist.inverted</th>\n",
       "      <th>track</th>\n",
       "      <th>time</th>\n",
       "      <th>genre</th>\n",
       "      <th>date.entered</th>\n",
       "      <th>date.peaked</th>\n",
       "      <th>x1st.week</th>\n",
       "      <th>x2nd.week</th>\n",
       "      <th>x3rd.week</th>\n",
       "      <th>...</th>\n",
       "      <th>x71st.week</th>\n",
       "      <th>x72nd.week</th>\n",
       "      <th>x73rd.week</th>\n",
       "      <th>x74th.week</th>\n",
       "      <th>x75th.week</th>\n",
       "      <th>x76th.week</th>\n",
       "      <th>seconds</th>\n",
       "      <th>time_to_peak</th>\n",
       "      <th>weeks_on_top_10</th>\n",
       "      <th>weeks_on_billboard</th>\n",
       "    </tr>\n",
       "  </thead>\n",
       "  <tbody>\n",
       "    <tr>\n",
       "      <th>0</th>\n",
       "      <td>2000</td>\n",
       "      <td>Destiny's Child</td>\n",
       "      <td>Independent Women Part I</td>\n",
       "      <td>[3, 38, 00 AM]</td>\n",
       "      <td>Rock</td>\n",
       "      <td>2000-09-23</td>\n",
       "      <td>2000-11-18</td>\n",
       "      <td>78</td>\n",
       "      <td>63.0</td>\n",
       "      <td>49.0</td>\n",
       "      <td>...</td>\n",
       "      <td>NaN</td>\n",
       "      <td>NaN</td>\n",
       "      <td>NaN</td>\n",
       "      <td>NaN</td>\n",
       "      <td>NaN</td>\n",
       "      <td>NaN</td>\n",
       "      <td>218</td>\n",
       "      <td>56 days</td>\n",
       "      <td>17.0</td>\n",
       "      <td>28</td>\n",
       "    </tr>\n",
       "    <tr>\n",
       "      <th>1</th>\n",
       "      <td>2000</td>\n",
       "      <td>Santana</td>\n",
       "      <td>Maria, Maria</td>\n",
       "      <td>[4, 18, 00 AM]</td>\n",
       "      <td>Rock</td>\n",
       "      <td>2000-02-12</td>\n",
       "      <td>2000-04-08</td>\n",
       "      <td>15</td>\n",
       "      <td>8.0</td>\n",
       "      <td>6.0</td>\n",
       "      <td>...</td>\n",
       "      <td>NaN</td>\n",
       "      <td>NaN</td>\n",
       "      <td>NaN</td>\n",
       "      <td>NaN</td>\n",
       "      <td>NaN</td>\n",
       "      <td>NaN</td>\n",
       "      <td>258</td>\n",
       "      <td>56 days</td>\n",
       "      <td>18.0</td>\n",
       "      <td>26</td>\n",
       "    </tr>\n",
       "    <tr>\n",
       "      <th>2</th>\n",
       "      <td>2000</td>\n",
       "      <td>Savage Garden</td>\n",
       "      <td>I Knew I Loved You</td>\n",
       "      <td>[4, 07, 00 AM]</td>\n",
       "      <td>Rock</td>\n",
       "      <td>1999-10-23</td>\n",
       "      <td>2000-01-29</td>\n",
       "      <td>71</td>\n",
       "      <td>48.0</td>\n",
       "      <td>43.0</td>\n",
       "      <td>...</td>\n",
       "      <td>NaN</td>\n",
       "      <td>NaN</td>\n",
       "      <td>NaN</td>\n",
       "      <td>NaN</td>\n",
       "      <td>NaN</td>\n",
       "      <td>NaN</td>\n",
       "      <td>247</td>\n",
       "      <td>98 days</td>\n",
       "      <td>17.0</td>\n",
       "      <td>33</td>\n",
       "    </tr>\n",
       "    <tr>\n",
       "      <th>3</th>\n",
       "      <td>2000</td>\n",
       "      <td>Madonna</td>\n",
       "      <td>Music</td>\n",
       "      <td>[3, 45, 00 AM]</td>\n",
       "      <td>Rock</td>\n",
       "      <td>2000-08-12</td>\n",
       "      <td>2000-09-16</td>\n",
       "      <td>41</td>\n",
       "      <td>23.0</td>\n",
       "      <td>18.0</td>\n",
       "      <td>...</td>\n",
       "      <td>NaN</td>\n",
       "      <td>NaN</td>\n",
       "      <td>NaN</td>\n",
       "      <td>NaN</td>\n",
       "      <td>NaN</td>\n",
       "      <td>NaN</td>\n",
       "      <td>225</td>\n",
       "      <td>35 days</td>\n",
       "      <td>12.0</td>\n",
       "      <td>24</td>\n",
       "    </tr>\n",
       "    <tr>\n",
       "      <th>4</th>\n",
       "      <td>2000</td>\n",
       "      <td>Aguilera, Christina</td>\n",
       "      <td>Come On Over Baby (All I Want Is You)</td>\n",
       "      <td>[3, 38, 00 AM]</td>\n",
       "      <td>Rock</td>\n",
       "      <td>2000-08-05</td>\n",
       "      <td>2000-10-14</td>\n",
       "      <td>57</td>\n",
       "      <td>47.0</td>\n",
       "      <td>45.0</td>\n",
       "      <td>...</td>\n",
       "      <td>NaN</td>\n",
       "      <td>NaN</td>\n",
       "      <td>NaN</td>\n",
       "      <td>NaN</td>\n",
       "      <td>NaN</td>\n",
       "      <td>NaN</td>\n",
       "      <td>218</td>\n",
       "      <td>70 days</td>\n",
       "      <td>8.0</td>\n",
       "      <td>21</td>\n",
       "    </tr>\n",
       "  </tbody>\n",
       "</table>\n",
       "<p>5 rows × 87 columns</p>\n",
       "</div>"
      ],
      "text/plain": [
       "   year      artist.inverted                                  track  \\\n",
       "0  2000      Destiny's Child               Independent Women Part I   \n",
       "1  2000              Santana                           Maria, Maria   \n",
       "2  2000        Savage Garden                     I Knew I Loved You   \n",
       "3  2000              Madonna                                  Music   \n",
       "4  2000  Aguilera, Christina  Come On Over Baby (All I Want Is You)   \n",
       "\n",
       "             time genre date.entered date.peaked  x1st.week  x2nd.week  \\\n",
       "0  [3, 38, 00 AM]  Rock   2000-09-23  2000-11-18         78       63.0   \n",
       "1  [4, 18, 00 AM]  Rock   2000-02-12  2000-04-08         15        8.0   \n",
       "2  [4, 07, 00 AM]  Rock   1999-10-23  2000-01-29         71       48.0   \n",
       "3  [3, 45, 00 AM]  Rock   2000-08-12  2000-09-16         41       23.0   \n",
       "4  [3, 38, 00 AM]  Rock   2000-08-05  2000-10-14         57       47.0   \n",
       "\n",
       "   x3rd.week         ...          x71st.week  x72nd.week  x73rd.week  \\\n",
       "0       49.0         ...                 NaN         NaN         NaN   \n",
       "1        6.0         ...                 NaN         NaN         NaN   \n",
       "2       43.0         ...                 NaN         NaN         NaN   \n",
       "3       18.0         ...                 NaN         NaN         NaN   \n",
       "4       45.0         ...                 NaN         NaN         NaN   \n",
       "\n",
       "   x74th.week  x75th.week  x76th.week  seconds  time_to_peak  weeks_on_top_10  \\\n",
       "0         NaN         NaN         NaN      218       56 days             17.0   \n",
       "1         NaN         NaN         NaN      258       56 days             18.0   \n",
       "2         NaN         NaN         NaN      247       98 days             17.0   \n",
       "3         NaN         NaN         NaN      225       35 days             12.0   \n",
       "4         NaN         NaN         NaN      218       70 days              8.0   \n",
       "\n",
       "   weeks_on_billboard  \n",
       "0                  28  \n",
       "1                  26  \n",
       "2                  33  \n",
       "3                  24  \n",
       "4                  21  \n",
       "\n",
       "[5 rows x 87 columns]"
      ]
     },
     "execution_count": 87,
     "metadata": {},
     "output_type": "execute_result"
    }
   ],
   "source": [
    "bill_board.head()"
   ]
  },
  {
   "cell_type": "markdown",
   "metadata": {},
   "source": [
    "# Evaluate Statements\n",
    "#### Hypothesis testing: Is there a relationship between roc\n",
    "#### Null value(H0): There is no relationship between the top ten rock songs and rest of the songs ; Rock music mean = Overall mean \n",
    "#### Alternative value(H1): Rock songs stays longer in the chart than rest of the songs. Rock music > Overall mean\n"
   ]
  },
  {
   "cell_type": "code",
   "execution_count": 88,
   "metadata": {},
   "outputs": [
    {
     "data": {
      "text/plain": [
       "Ttest_1sampResult(statistic=-0.08554244038190302, pvalue=0.93214653785285262)"
      ]
     },
     "execution_count": 88,
     "metadata": {},
     "output_type": "execute_result"
    }
   ],
   "source": [
    "overall_mean = np.mean(bill_board['weeks_on_top_10'])\n",
    "rock_mean = np.mean(bill_board[bill_board['genre']=='Rock']['weeks_on_top_10'])\n",
    "rock_std = np.std(bill_board[bill_board['genre']=='Rock']['weeks_on_top_10'])\n",
    "rock_count = (bill_board[bill_board['genre']=='Rock']['weeks_on_top_10']).count()\n",
    "rvs = stats.norm.rvs(loc = rock_mean, scale = rock_std, size = rock_count)\n",
    "stats.ttest_1samp(rvs, overall_mean)"
   ]
  },
  {
   "cell_type": "markdown",
   "metadata": {},
   "source": [
    "#### My p-value is more than 0.788 which is way more than alpha(.05), therefore I have failed to reject the null value, which concludes that, Rock Music has higher chance of holding the top ten spots in the Billboard."
   ]
  }
 ],
 "metadata": {
  "kernelspec": {
   "display_name": "Python 2",
   "language": "python",
   "name": "python2"
  },
  "language_info": {
   "codemirror_mode": {
    "name": "ipython",
    "version": 2
   },
   "file_extension": ".py",
   "mimetype": "text/x-python",
   "name": "python",
   "nbconvert_exporter": "python",
   "pygments_lexer": "ipython2",
   "version": "2.7.13"
  }
 },
 "nbformat": 4,
 "nbformat_minor": 2
}
