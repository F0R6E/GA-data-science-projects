{
 "cells": [
  {
   "cell_type": "markdown",
   "metadata": {
    "_cell_guid": "9c75ca41-8357-479e-8a46-ebdec5f035f3",
    "_uuid": "319ae25236d9fddf1745ea1c4cb365e5dbb00372"
   },
   "source": [
    "![title](https://media1.britannica.com/eb-media/79/4679-004-8C0793EF.jpg)"
   ]
  },
  {
   "cell_type": "markdown",
   "metadata": {
    "_cell_guid": "8256c27c-c6f1-4cf7-87c0-df58a492a630",
    "_uuid": "92b554b7809e077685e89b62a6946ca300833808"
   },
   "source": [
    "## Table of contents\n",
    "***\n",
    "- [Titanic: Machine Learning from Disaster](#intro)\n",
    "- [Kernel Goals](#aboutthiskernel)\n",
    "- [Part 1: Importing Necessary Modules](#obtainingthedata)\n",
    "    - [About This Dataset](#aboutthisdataset)\n",
    "- [Part 2: Cleaning the Data](#scrubbingthedata)\n",
    "    - [2a. Dealing with different variables](#dealwithvariables)\n",
    "    - [2b. Dealing with Null values](#dealwithnullvalues)\n",
    "- [Part 3: Exploratory Data Analysis](#eda)\n",
    "    - [3a. Statistical Overview](#statisticaloverview)\n",
    "    - [3b. Correlation Matrix and Heatmap](#heatmap)\n",
    "    - [3c. Statistical Test for Correlation](#statistical_test)\n",
    "    - [3d. Feature Relations](#feature_relations)\n",
    "        - [3d1. Gender and Survived](#gender_surviver)\n",
    "        - [3d2. Pclass and Survived](#pclass_surviver)\n",
    "        - [3d3. Fare and Survived](#fare_surviver)\n",
    "        - [3d4. Age and Survived](#age_surviver)\n",
    "- [Modeling the Data](#modelingthedata)\n",
    "- [Interpreting the Data](#interpretingthedata)"
   ]
  },
  {
   "cell_type": "markdown",
   "metadata": {
    "_cell_guid": "472ad5bd-ad28-49a7-a588-6632530191cb",
    "_uuid": "15c0f2d30a3a3ed69b6255fb3dd0b3ab56ee48b0"
   },
   "source": [
    "## Titanic: Machine Learning from Disaster\n",
    "<a id=\"intro\"></a>\n",
    "***\n",
    "The sinking of the **RMS Titanic** is one of the most infamous shipwrecks in history. On April 15, 1912, during her maiden voyage, the Titanic sank after colliding with an iceberg, **killing 1502 out of 2224** passengers and crew. This sensational tragedy shocked the international community and led to better safety regulations for ships.\n",
    "\n",
    "One of the reasons that the shipwreck led to such loss of life was that there were not enough lifeboats for the passengers and crew. Although there was some element of luck involved in surviving the sinking, **some groups of people were more likely to survive than others**, such as women, children, and the upper-class.\n",
    "\n",
    "In this challenge, I will complete the analysis of what sorts of people were likely to survive. In particular, I will apply the tools of machine learning to predict which passengers survived the tragedy."
   ]
  },
  {
   "cell_type": "markdown",
   "metadata": {
    "_cell_guid": "7224a910-ec6b-481d-82f1-90ca6b5d037e",
    "_uuid": "9cd04af82734c5b53aaddc80992e1f499c180611"
   },
   "source": [
    "## Kernel Goals\n",
    "<a id=\"aboutthiskernel\"></a>\n",
    "***\n",
    "**Feel free to use this kernel as a template for your project or share it with anyone.**\n",
    "\n",
    "This kernel goes into the heart of the Titanic disaster analysis, trying to harness as many insights as possible about the tragedy. Once found, those ideas will be visualized to ease the understanding process of the report. Visualization is an important step, and it goes back to the old saying, \"a picture is worth a thousand words.\" The data visualization with quite self-explanatory, however, after each data visualization, there will be a short description the visualization.\n",
    "\n",
    "There are two primary goals of this kernel.\n",
    "- To do an exploratory data analysis of how some group of people was survived more than others through visualization.  \n",
    "- And to create a machine learning models that can predict the chances of passengers survival.\n",
    "\n",
    "*** This kernel is a work in progress like all of my other notebooks. I will always incorporate new concepts of data science as I master them. This journey of learning is worth sharing as well as collaborating. Therefore any comments about further improvements would be genuinely appreciated***"
   ]
  },
  {
   "cell_type": "markdown",
   "metadata": {
    "_cell_guid": "b3b559a5-dad0-419e-835a-e6babd1042ff",
    "_uuid": "1b1a0b28ad37a349e284d1e6ce6477d11b95e7c9"
   },
   "source": [
    "## Part 1: Importing Necessary Modules\n",
    "***\n",
    "<a id=\"obtainingthedata\"></a>\n"
   ]
  },
  {
   "cell_type": "code",
   "execution_count": 1,
   "metadata": {
    "_cell_guid": "80643cb5-64f3-4180-92a9-2f8e83263ac6",
    "_uuid": "33d54abf387474bce3017f1fc3832493355010c0",
    "collapsed": true
   },
   "outputs": [],
   "source": [
    "# Import necessary modules for data analysis and data visualization. \n",
    "# Data analysis modules\n",
    "import pandas as pd\n",
    "import numpy as np\n",
    "\n",
    "# Visualization libraries\n",
    "from matplotlib import pyplot as plt\n",
    "import seaborn as sns\n",
    "%matplotlib inline\n",
    "\n",
    "## Machine learning libraries\n",
    "from sklearn.tree import DecisionTreeClassifier, DecisionTreeRegressor\n",
    "from sklearn.model_selection import cross_val_score,GridSearchCV\n",
    "\n",
    "\n",
    "\n",
    "## Ignore warning\n",
    "# import warnings\n",
    "# warnings.filterwarnings('ignore')"
   ]
  },
  {
   "cell_type": "code",
   "execution_count": 2,
   "metadata": {
    "_cell_guid": "28722a45-5f11-4629-8814-9ab913e9349a",
    "_uuid": "185b34e70f2efded0c665c6713f79b840ddf0c89"
   },
   "outputs": [
    {
     "data": {
      "text/html": [
       "<div>\n",
       "<style>\n",
       "    .dataframe thead tr:only-child th {\n",
       "        text-align: right;\n",
       "    }\n",
       "\n",
       "    .dataframe thead th {\n",
       "        text-align: left;\n",
       "    }\n",
       "\n",
       "    .dataframe tbody tr th {\n",
       "        vertical-align: top;\n",
       "    }\n",
       "</style>\n",
       "<table border=\"1\" class=\"dataframe\">\n",
       "  <thead>\n",
       "    <tr style=\"text-align: right;\">\n",
       "      <th></th>\n",
       "      <th>PassengerId</th>\n",
       "      <th>Survived</th>\n",
       "      <th>Pclass</th>\n",
       "      <th>Name</th>\n",
       "      <th>Sex</th>\n",
       "      <th>Age</th>\n",
       "      <th>SibSp</th>\n",
       "      <th>Parch</th>\n",
       "      <th>Ticket</th>\n",
       "      <th>Fare</th>\n",
       "      <th>Cabin</th>\n",
       "      <th>Embarked</th>\n",
       "    </tr>\n",
       "  </thead>\n",
       "  <tbody>\n",
       "    <tr>\n",
       "      <th>0</th>\n",
       "      <td>1</td>\n",
       "      <td>0</td>\n",
       "      <td>3</td>\n",
       "      <td>Braund, Mr. Owen Harris</td>\n",
       "      <td>male</td>\n",
       "      <td>22.0</td>\n",
       "      <td>1</td>\n",
       "      <td>0</td>\n",
       "      <td>A/5 21171</td>\n",
       "      <td>7.2500</td>\n",
       "      <td>NaN</td>\n",
       "      <td>S</td>\n",
       "    </tr>\n",
       "    <tr>\n",
       "      <th>1</th>\n",
       "      <td>2</td>\n",
       "      <td>1</td>\n",
       "      <td>1</td>\n",
       "      <td>Cumings, Mrs. John Bradley (Florence Briggs Th...</td>\n",
       "      <td>female</td>\n",
       "      <td>38.0</td>\n",
       "      <td>1</td>\n",
       "      <td>0</td>\n",
       "      <td>PC 17599</td>\n",
       "      <td>71.2833</td>\n",
       "      <td>C85</td>\n",
       "      <td>C</td>\n",
       "    </tr>\n",
       "  </tbody>\n",
       "</table>\n",
       "</div>"
      ],
      "text/plain": [
       "   PassengerId  Survived  Pclass  \\\n",
       "0            1         0       3   \n",
       "1            2         1       1   \n",
       "\n",
       "                                                Name     Sex   Age  SibSp  \\\n",
       "0                            Braund, Mr. Owen Harris    male  22.0      1   \n",
       "1  Cumings, Mrs. John Bradley (Florence Briggs Th...  female  38.0      1   \n",
       "\n",
       "   Parch     Ticket     Fare Cabin Embarked  \n",
       "0      0  A/5 21171   7.2500   NaN        S  \n",
       "1      0   PC 17599  71.2833   C85        C  "
      ]
     },
     "execution_count": 2,
     "metadata": {},
     "output_type": "execute_result"
    }
   ],
   "source": [
    "## Importing the training dataset\n",
    "train = pd.read_csv(\"../input/train.csv\")\n",
    "test = pd.read_csv(\"../input/test.csv\")\n",
    "train.head(2)"
   ]
  },
  {
   "cell_type": "markdown",
   "metadata": {
    "_cell_guid": "15c64d36-94b3-4798-af86-775f70feb2dd",
    "_uuid": "c72d21139ee6220aee5d8f654561864a5f6499b7"
   },
   "source": [
    "### 1a. About This Dataset\n",
    "<a id=\"aboutthisdataset\"></a>\n",
    "***\n",
    "The data has been split into two groups:\n",
    "\n",
    "- training set (train.csv)\n",
    "- test set (test.csv)\n",
    "\n",
    "The training set includes passengers survival status(also know as the ground truth from the titanic tragedy)  which along with other features like gender, class, fare and pclass is used to create machine learning model. \n",
    "\n",
    "The test set should be used to see how well my model performs on unseen data. The test set does not provide passengers survival status. We are going to use our model to predict passenger survival status.\n",
    "\n",
    "Now let's go through the features and see what they stands for. \n",
    "\n",
    "**Variable    Definition    Key**\n",
    "- Survival    \n",
    "    - 0 = No\n",
    "    - 1 = Yes\n",
    "- pclass (Ticket class)    \n",
    "    - 1 = 1st, \n",
    "*     - 2 = 2nd, \n",
    "    - 3 = 3rd\n",
    "- sex\n",
    "- Age\n",
    "- sibsp (# of siblings / spouses aboard the Titanic)    \n",
    "- parch    (# of parents / children aboard the Titanic)    \n",
    "- ticket    \n",
    "- fare\n",
    "- cabin    \n",
    "- embarked    Port of Embarkation    \n",
    "    - C = Cherbourg, \n",
    "    - Q = Queenstown, \n",
    "    - S = Southampton\n",
    "\n",
    "- pclass: A proxy for socio-economic status (SES)\n",
    "\n",
    "** This is important to remember and will come in handy for later analysis**\n",
    "    - 1st = Upper\n",
    "    - 2nd = Middle\n",
    "    - 3rd = Lower\n",
    "    \n",
    "    "
   ]
  },
  {
   "cell_type": "markdown",
   "metadata": {
    "_cell_guid": "24dfbb58-4708-42a1-9122-c7e0b96ad0e9",
    "_uuid": "e789474652ddf03c65e7bb8f17f69544b907cecb"
   },
   "source": [
    "## Part 2: Cleaning the Data\n",
    "<a id=\"cleaningthedata\"></a>\n",
    "***"
   ]
  },
  {
   "cell_type": "code",
   "execution_count": 3,
   "metadata": {
    "_cell_guid": "4c5d7fec-5628-4aea-8708-83165a966e86",
    "_uuid": "0b6d9ac900950a416e448a32fdd8385a0ced4b66",
    "scrolled": false
   },
   "outputs": [
    {
     "data": {
      "text/html": [
       "<div>\n",
       "<style>\n",
       "    .dataframe thead tr:only-child th {\n",
       "        text-align: right;\n",
       "    }\n",
       "\n",
       "    .dataframe thead th {\n",
       "        text-align: left;\n",
       "    }\n",
       "\n",
       "    .dataframe tbody tr th {\n",
       "        vertical-align: top;\n",
       "    }\n",
       "</style>\n",
       "<table border=\"1\" class=\"dataframe\">\n",
       "  <thead>\n",
       "    <tr style=\"text-align: right;\">\n",
       "      <th></th>\n",
       "      <th>PassengerId</th>\n",
       "      <th>Survived</th>\n",
       "      <th>Pclass</th>\n",
       "      <th>Name</th>\n",
       "      <th>Sex</th>\n",
       "      <th>Age</th>\n",
       "      <th>SibSp</th>\n",
       "      <th>Parch</th>\n",
       "      <th>Ticket</th>\n",
       "      <th>Fare</th>\n",
       "      <th>Cabin</th>\n",
       "      <th>Embarked</th>\n",
       "    </tr>\n",
       "  </thead>\n",
       "  <tbody>\n",
       "    <tr>\n",
       "      <th>0</th>\n",
       "      <td>1</td>\n",
       "      <td>0</td>\n",
       "      <td>3</td>\n",
       "      <td>Braund, Mr. Owen Harris</td>\n",
       "      <td>male</td>\n",
       "      <td>22.0</td>\n",
       "      <td>1</td>\n",
       "      <td>0</td>\n",
       "      <td>A/5 21171</td>\n",
       "      <td>7.2500</td>\n",
       "      <td>NaN</td>\n",
       "      <td>S</td>\n",
       "    </tr>\n",
       "    <tr>\n",
       "      <th>1</th>\n",
       "      <td>2</td>\n",
       "      <td>1</td>\n",
       "      <td>1</td>\n",
       "      <td>Cumings, Mrs. John Bradley (Florence Briggs Th...</td>\n",
       "      <td>female</td>\n",
       "      <td>38.0</td>\n",
       "      <td>1</td>\n",
       "      <td>0</td>\n",
       "      <td>PC 17599</td>\n",
       "      <td>71.2833</td>\n",
       "      <td>C85</td>\n",
       "      <td>C</td>\n",
       "    </tr>\n",
       "    <tr>\n",
       "      <th>2</th>\n",
       "      <td>3</td>\n",
       "      <td>1</td>\n",
       "      <td>3</td>\n",
       "      <td>Heikkinen, Miss. Laina</td>\n",
       "      <td>female</td>\n",
       "      <td>26.0</td>\n",
       "      <td>0</td>\n",
       "      <td>0</td>\n",
       "      <td>STON/O2. 3101282</td>\n",
       "      <td>7.9250</td>\n",
       "      <td>NaN</td>\n",
       "      <td>S</td>\n",
       "    </tr>\n",
       "    <tr>\n",
       "      <th>3</th>\n",
       "      <td>4</td>\n",
       "      <td>1</td>\n",
       "      <td>1</td>\n",
       "      <td>Futrelle, Mrs. Jacques Heath (Lily May Peel)</td>\n",
       "      <td>female</td>\n",
       "      <td>35.0</td>\n",
       "      <td>1</td>\n",
       "      <td>0</td>\n",
       "      <td>113803</td>\n",
       "      <td>53.1000</td>\n",
       "      <td>C123</td>\n",
       "      <td>S</td>\n",
       "    </tr>\n",
       "    <tr>\n",
       "      <th>4</th>\n",
       "      <td>5</td>\n",
       "      <td>0</td>\n",
       "      <td>3</td>\n",
       "      <td>Allen, Mr. William Henry</td>\n",
       "      <td>male</td>\n",
       "      <td>35.0</td>\n",
       "      <td>0</td>\n",
       "      <td>0</td>\n",
       "      <td>373450</td>\n",
       "      <td>8.0500</td>\n",
       "      <td>NaN</td>\n",
       "      <td>S</td>\n",
       "    </tr>\n",
       "  </tbody>\n",
       "</table>\n",
       "</div>"
      ],
      "text/plain": [
       "   PassengerId  Survived  Pclass  \\\n",
       "0            1         0       3   \n",
       "1            2         1       1   \n",
       "2            3         1       3   \n",
       "3            4         1       1   \n",
       "4            5         0       3   \n",
       "\n",
       "                                                Name     Sex   Age  SibSp  \\\n",
       "0                            Braund, Mr. Owen Harris    male  22.0      1   \n",
       "1  Cumings, Mrs. John Bradley (Florence Briggs Th...  female  38.0      1   \n",
       "2                             Heikkinen, Miss. Laina  female  26.0      0   \n",
       "3       Futrelle, Mrs. Jacques Heath (Lily May Peel)  female  35.0      1   \n",
       "4                           Allen, Mr. William Henry    male  35.0      0   \n",
       "\n",
       "   Parch            Ticket     Fare Cabin Embarked  \n",
       "0      0         A/5 21171   7.2500   NaN        S  \n",
       "1      0          PC 17599  71.2833   C85        C  \n",
       "2      0  STON/O2. 3101282   7.9250   NaN        S  \n",
       "3      0            113803  53.1000  C123        S  \n",
       "4      0            373450   8.0500   NaN        S  "
      ]
     },
     "execution_count": 3,
     "metadata": {},
     "output_type": "execute_result"
    }
   ],
   "source": [
    "## Just to take a quick glance of what we are dealing with \n",
    "train.head(5)"
   ]
  },
  {
   "cell_type": "markdown",
   "metadata": {
    "_cell_guid": "967ae6b8-731c-4fa0-8be2-5bb21cf61a0c",
    "_uuid": "ae93d0a473f5bcf63021241f36327652529d8906"
   },
   "source": [
    "It looks like this dataset is quite organized, however, before using this dataset for analyzing and visualizing we need to..\n",
    "\n",
    "- **Deal with  different variables**\n",
    "- ** Deal with Null values.**\n"
   ]
  },
  {
   "cell_type": "markdown",
   "metadata": {
    "_cell_guid": "38efe147-5289-4500-836f-9b18cc5bdfa1",
    "_uuid": "e045161fc6f077c2e731b0401e96bcbecc98c19c"
   },
   "source": [
    "### 2a. Dealing with different variables\n",
    "<a id=\"dealwithvariables\"></a>\n",
    "***\n",
    "There are four type of variables\n",
    "\n",
    "- **Numerical Features:** Age, Fare, SibSp and Parch\n",
    "- **Categorical Features: ** Sex, Embarked, Survived and Pclass\n",
    "- **Alphanumeric Features:** Ticket and Cabin\n",
    "- **Text Features:** Name\n",
    "***\n",
    "We are going to approach these features from different aspects and depending on the situation we might have to come back and tweak these features. I will explain later on as we work through it.\n"
   ]
  },
  {
   "cell_type": "code",
   "execution_count": 4,
   "metadata": {
    "_cell_guid": "4f49f905-cb1a-45fd-b0c2-e0b392a4f768",
    "_uuid": "b0a3a917d795de64451c40927def57196ccd9017"
   },
   "outputs": [
    {
     "data": {
      "text/plain": [
       "(891, 12)"
      ]
     },
     "execution_count": 4,
     "metadata": {},
     "output_type": "execute_result"
    }
   ],
   "source": [
    "train.shape"
   ]
  },
  {
   "cell_type": "code",
   "execution_count": 5,
   "metadata": {
    "_cell_guid": "a5130f36-1d65-4188-8771-3137618522a1",
    "_uuid": "b7a844e32c08958f2d7bdc4151b09181f279318c"
   },
   "outputs": [
    {
     "data": {
      "text/plain": [
       "PassengerId      0\n",
       "Survived         0\n",
       "Pclass           0\n",
       "Name             0\n",
       "Sex              0\n",
       "Age            177\n",
       "SibSp            0\n",
       "Parch            0\n",
       "Ticket           0\n",
       "Fare             0\n",
       "Cabin          687\n",
       "Embarked         2\n",
       "dtype: int64"
      ]
     },
     "execution_count": 5,
     "metadata": {},
     "output_type": "execute_result"
    }
   ],
   "source": [
    "train.isnull().sum()"
   ]
  },
  {
   "cell_type": "code",
   "execution_count": 6,
   "metadata": {
    "_cell_guid": "d966bab0-fef8-4afd-8372-6214d53e05ce",
    "_uuid": "8baae0464bddb42b45c4e8702a43ee4273fd2567",
    "scrolled": true
   },
   "outputs": [
    {
     "data": {
      "text/html": [
       "<div>\n",
       "<style>\n",
       "    .dataframe thead tr:only-child th {\n",
       "        text-align: right;\n",
       "    }\n",
       "\n",
       "    .dataframe thead th {\n",
       "        text-align: left;\n",
       "    }\n",
       "\n",
       "    .dataframe tbody tr th {\n",
       "        vertical-align: top;\n",
       "    }\n",
       "</style>\n",
       "<table border=\"1\" class=\"dataframe\">\n",
       "  <thead>\n",
       "    <tr style=\"text-align: right;\">\n",
       "      <th></th>\n",
       "      <th>Survived</th>\n",
       "      <th>Pclass</th>\n",
       "      <th>Sex</th>\n",
       "      <th>Age</th>\n",
       "      <th>SibSp</th>\n",
       "      <th>Parch</th>\n",
       "      <th>Fare</th>\n",
       "      <th>Embarked</th>\n",
       "    </tr>\n",
       "    <tr>\n",
       "      <th>PassengerId</th>\n",
       "      <th></th>\n",
       "      <th></th>\n",
       "      <th></th>\n",
       "      <th></th>\n",
       "      <th></th>\n",
       "      <th></th>\n",
       "      <th></th>\n",
       "      <th></th>\n",
       "    </tr>\n",
       "  </thead>\n",
       "  <tbody>\n",
       "    <tr>\n",
       "      <th>1</th>\n",
       "      <td>0</td>\n",
       "      <td>3</td>\n",
       "      <td>male</td>\n",
       "      <td>22.0</td>\n",
       "      <td>1</td>\n",
       "      <td>0</td>\n",
       "      <td>7.2500</td>\n",
       "      <td>S</td>\n",
       "    </tr>\n",
       "    <tr>\n",
       "      <th>2</th>\n",
       "      <td>1</td>\n",
       "      <td>1</td>\n",
       "      <td>female</td>\n",
       "      <td>38.0</td>\n",
       "      <td>1</td>\n",
       "      <td>0</td>\n",
       "      <td>71.2833</td>\n",
       "      <td>C</td>\n",
       "    </tr>\n",
       "    <tr>\n",
       "      <th>3</th>\n",
       "      <td>1</td>\n",
       "      <td>3</td>\n",
       "      <td>female</td>\n",
       "      <td>26.0</td>\n",
       "      <td>0</td>\n",
       "      <td>0</td>\n",
       "      <td>7.9250</td>\n",
       "      <td>S</td>\n",
       "    </tr>\n",
       "  </tbody>\n",
       "</table>\n",
       "</div>"
      ],
      "text/plain": [
       "             Survived  Pclass     Sex   Age  SibSp  Parch     Fare Embarked\n",
       "PassengerId                                                                \n",
       "1                   0       3    male  22.0      1      0   7.2500        S\n",
       "2                   1       1  female  38.0      1      0  71.2833        C\n",
       "3                   1       3  female  26.0      0      0   7.9250        S"
      ]
     },
     "execution_count": 6,
     "metadata": {},
     "output_type": "execute_result"
    }
   ],
   "source": [
    "## Setting passengerID as Index since it wont be necessary for the analysis\n",
    "train = train.set_index(\"PassengerId\")\n",
    "\n",
    "## Dropped name and Cabin column since they will not be much of help with the analysis.\n",
    "train = train[['Survived', 'Pclass', 'Sex', 'Age', 'SibSp', 'Parch', 'Fare', 'Embarked']]\n",
    "train.head(3)"
   ]
  },
  {
   "cell_type": "code",
   "execution_count": 7,
   "metadata": {
    "_cell_guid": "88d3c1de-0c0e-485c-9cd1-6ad9a57d80ba",
    "_uuid": "17c0016557e36aeb4cee5a2b78910dc184734c4c",
    "collapsed": true
   },
   "outputs": [],
   "source": [
    "## get dummy variables for Column sex and embarked since they are categorical value\n",
    "train = pd.get_dummies(train, columns=[\"Sex\"], drop_first=True)\n",
    "train = pd.get_dummies(train, columns=[\"Embarked\"],drop_first=True)"
   ]
  },
  {
   "cell_type": "code",
   "execution_count": 8,
   "metadata": {
    "_cell_guid": "4fc7f2f1-a58e-4c33-aebe-2b9f6e452b96",
    "_uuid": "8eff2e307aeaa836ae4a1390a9e26edcf69834b0"
   },
   "outputs": [
    {
     "data": {
      "text/html": [
       "<div>\n",
       "<style>\n",
       "    .dataframe thead tr:only-child th {\n",
       "        text-align: right;\n",
       "    }\n",
       "\n",
       "    .dataframe thead th {\n",
       "        text-align: left;\n",
       "    }\n",
       "\n",
       "    .dataframe tbody tr th {\n",
       "        vertical-align: top;\n",
       "    }\n",
       "</style>\n",
       "<table border=\"1\" class=\"dataframe\">\n",
       "  <thead>\n",
       "    <tr style=\"text-align: right;\">\n",
       "      <th></th>\n",
       "      <th>Survived</th>\n",
       "      <th>Pclass</th>\n",
       "      <th>Age</th>\n",
       "      <th>SibSp</th>\n",
       "      <th>Parch</th>\n",
       "      <th>Fare</th>\n",
       "      <th>Gender</th>\n",
       "      <th>Embarked_Q</th>\n",
       "      <th>Embarked_S</th>\n",
       "    </tr>\n",
       "    <tr>\n",
       "      <th>PassengerId</th>\n",
       "      <th></th>\n",
       "      <th></th>\n",
       "      <th></th>\n",
       "      <th></th>\n",
       "      <th></th>\n",
       "      <th></th>\n",
       "      <th></th>\n",
       "      <th></th>\n",
       "      <th></th>\n",
       "    </tr>\n",
       "  </thead>\n",
       "  <tbody>\n",
       "    <tr>\n",
       "      <th>1</th>\n",
       "      <td>0</td>\n",
       "      <td>3</td>\n",
       "      <td>22.0</td>\n",
       "      <td>1</td>\n",
       "      <td>0</td>\n",
       "      <td>7.2500</td>\n",
       "      <td>1</td>\n",
       "      <td>0</td>\n",
       "      <td>1</td>\n",
       "    </tr>\n",
       "    <tr>\n",
       "      <th>2</th>\n",
       "      <td>1</td>\n",
       "      <td>1</td>\n",
       "      <td>38.0</td>\n",
       "      <td>1</td>\n",
       "      <td>0</td>\n",
       "      <td>71.2833</td>\n",
       "      <td>0</td>\n",
       "      <td>0</td>\n",
       "      <td>0</td>\n",
       "    </tr>\n",
       "  </tbody>\n",
       "</table>\n",
       "</div>"
      ],
      "text/plain": [
       "             Survived  Pclass   Age  SibSp  Parch     Fare  Gender  \\\n",
       "PassengerId                                                          \n",
       "1                   0       3  22.0      1      0   7.2500       1   \n",
       "2                   1       1  38.0      1      0  71.2833       0   \n",
       "\n",
       "             Embarked_Q  Embarked_S  \n",
       "PassengerId                          \n",
       "1                     0           1  \n",
       "2                     0           0  "
      ]
     },
     "execution_count": 8,
     "metadata": {},
     "output_type": "execute_result"
    }
   ],
   "source": [
    "## Renaming the Sex_male column to Gender, since this will be quite important part of this notebook later on. \n",
    "train = train.rename(columns={\"Sex_male\": \"Gender\"})\n",
    "train.head(2)"
   ]
  },
  {
   "cell_type": "markdown",
   "metadata": {
    "_cell_guid": "168ca9c5-881c-4570-b51e-f3e9c8ed65b5",
    "_uuid": "2dff881bb47f547523a2423aba41ed597bf5514c"
   },
   "source": [
    "So, we did a couple of steps above, let's take a look..\n",
    "***\n",
    "- We choose **PassengerId** feature as our index since it will not aid us in any way in creating our model. \n",
    "- We got rid of **Name** and **Ticket** feature since these features also do not help us much. \n",
    "- We got rid of **Cabin** column since approximately 3/4 of the data consists of null value.\n",
    "- We created dummy variables for **Sex** and **Embarked** since they are categorical variable."
   ]
  },
  {
   "cell_type": "markdown",
   "metadata": {
    "_cell_guid": "a1b5ec33-e176-4080-a161-fb083b8dc8f9",
    "_uuid": "c67a57659498b093d9783c57421fbbef281eeafb"
   },
   "source": [
    "### 2b. Dealing with Null values\n",
    "<a id=\"dealwithnullvalues\"></a>\n",
    "***"
   ]
  },
  {
   "cell_type": "code",
   "execution_count": 9,
   "metadata": {
    "_cell_guid": "c693b2b3-a486-44ff-83d0-d20c060c5e26",
    "_uuid": "4588f5f65173a5f10f770069c0991d0ac303d079"
   },
   "outputs": [
    {
     "data": {
      "text/plain": [
       "Survived        0\n",
       "Pclass          0\n",
       "Age           177\n",
       "SibSp           0\n",
       "Parch           0\n",
       "Fare            0\n",
       "Gender          0\n",
       "Embarked_Q      0\n",
       "Embarked_S      0\n",
       "dtype: int64"
      ]
     },
     "execution_count": 9,
     "metadata": {},
     "output_type": "execute_result"
    }
   ],
   "source": [
    "# Check to see if there are any missing values, \n",
    "# It looks like the Cabin column will not be much of help for the dataset\n",
    "train.isnull().sum()"
   ]
  },
  {
   "cell_type": "code",
   "execution_count": 10,
   "metadata": {
    "_cell_guid": "3f52ff19-104a-4a4e-958d-ec913087d935",
    "_uuid": "79704a64fe6b16df9e08bc20a4b723454b26088a"
   },
   "outputs": [
    {
     "name": "stderr",
     "output_type": "stream",
     "text": [
      "Using TensorFlow backend.\n"
     ]
    },
    {
     "name": "stdout",
     "output_type": "stream",
     "text": [
      "Imputing row 1/891 with 0 missing, elapsed time: 0.138\n",
      "Imputing row 101/891 with 0 missing, elapsed time: 0.141\n",
      "Imputing row 201/891 with 0 missing, elapsed time: 0.142\n",
      "Imputing row 301/891 with 1 missing, elapsed time: 0.143\n",
      "Imputing row 401/891 with 0 missing, elapsed time: 0.144\n",
      "Imputing row 501/891 with 0 missing, elapsed time: 0.145\n",
      "Imputing row 601/891 with 0 missing, elapsed time: 0.146\n",
      "Imputing row 701/891 with 0 missing, elapsed time: 0.146\n",
      "Imputing row 801/891 with 0 missing, elapsed time: 0.147\n"
     ]
    }
   ],
   "source": [
    "# importing KNN to help fill up the missing values for age column. \n",
    "from fancyimpute import KNN\n",
    "age_filled_data = KNN(k=10).complete(train)"
   ]
  },
  {
   "cell_type": "code",
   "execution_count": 11,
   "metadata": {
    "_cell_guid": "70e192d9-f5e2-40c3-9300-9dfa7ba07767",
    "_uuid": "6afbe88f98b6b15dd77692fdaeff5b55e046ddd5",
    "scrolled": true
   },
   "outputs": [
    {
     "data": {
      "text/html": [
       "<div>\n",
       "<style>\n",
       "    .dataframe thead tr:only-child th {\n",
       "        text-align: right;\n",
       "    }\n",
       "\n",
       "    .dataframe thead th {\n",
       "        text-align: left;\n",
       "    }\n",
       "\n",
       "    .dataframe tbody tr th {\n",
       "        vertical-align: top;\n",
       "    }\n",
       "</style>\n",
       "<table border=\"1\" class=\"dataframe\">\n",
       "  <thead>\n",
       "    <tr style=\"text-align: right;\">\n",
       "      <th></th>\n",
       "      <th>Survived</th>\n",
       "      <th>Pclass</th>\n",
       "      <th>Age</th>\n",
       "      <th>SibSp</th>\n",
       "      <th>Parch</th>\n",
       "      <th>Fare</th>\n",
       "      <th>Gender</th>\n",
       "      <th>Embarked_Q</th>\n",
       "      <th>Embarked_S</th>\n",
       "    </tr>\n",
       "  </thead>\n",
       "  <tbody>\n",
       "    <tr>\n",
       "      <th>0</th>\n",
       "      <td>0.0</td>\n",
       "      <td>3.0</td>\n",
       "      <td>22.0</td>\n",
       "      <td>1.0</td>\n",
       "      <td>0.0</td>\n",
       "      <td>7.2500</td>\n",
       "      <td>1.0</td>\n",
       "      <td>0.0</td>\n",
       "      <td>1.0</td>\n",
       "    </tr>\n",
       "    <tr>\n",
       "      <th>1</th>\n",
       "      <td>1.0</td>\n",
       "      <td>1.0</td>\n",
       "      <td>38.0</td>\n",
       "      <td>1.0</td>\n",
       "      <td>0.0</td>\n",
       "      <td>71.2833</td>\n",
       "      <td>0.0</td>\n",
       "      <td>0.0</td>\n",
       "      <td>0.0</td>\n",
       "    </tr>\n",
       "  </tbody>\n",
       "</table>\n",
       "</div>"
      ],
      "text/plain": [
       "   Survived  Pclass   Age  SibSp  Parch     Fare  Gender  Embarked_Q  \\\n",
       "0       0.0     3.0  22.0    1.0    0.0   7.2500     1.0         0.0   \n",
       "1       1.0     1.0  38.0    1.0    0.0  71.2833     0.0         0.0   \n",
       "\n",
       "   Embarked_S  \n",
       "0         1.0  \n",
       "1         0.0  "
      ]
     },
     "execution_count": 11,
     "metadata": {},
     "output_type": "execute_result"
    }
   ],
   "source": [
    "df = pd.DataFrame(age_filled_data, columns = train.columns)\n",
    "df.head(2)"
   ]
  },
  {
   "cell_type": "markdown",
   "metadata": {
    "_cell_guid": "d74895c1-ddd2-4ab8-9665-031332351886",
    "_uuid": "fd4a0f8e41484c1e010b1372e96451ef173c5963"
   },
   "source": [
    "There are different ways to deal with Null values. Some standard approaches are mean, median and mode. However, I recently learned to use pythons library **fancyimpute** where I can use the idea of **KNN** which is imputing nearest neighbor value instead of a Null value. And that is what I did above to replace the Null values in **Age** column."
   ]
  },
  {
   "cell_type": "markdown",
   "metadata": {
    "_cell_guid": "003a7779-5966-45f8-a711-67e67234a654",
    "_uuid": "402cd49464156ead61d5dd5698ffeb00eb71d0d3"
   },
   "source": [
    "## Part 3: Exploratory Data Analysis(EDA)\n",
    "<a id=\"eda\"></a>\n",
    "***"
   ]
  },
  {
   "cell_type": "markdown",
   "metadata": {
    "_cell_guid": "91eba73b-f744-478b-bd6b-13da6cff000b",
    "_uuid": "3e8b752c8963a76a86c8b1db80783c644090bdfa"
   },
   "source": [
    "![title](https://cdn-images-1.medium.com/max/400/1*hFJ-LI7IXcWpxSLtaC0dfg.png)"
   ]
  },
  {
   "cell_type": "markdown",
   "metadata": {
    "_cell_guid": "71f333a2-d3bc-4038-a1a7-efb72b626c35",
    "_uuid": "2cf1b12edd66127d191fe364c43ceec00215667f"
   },
   "source": [
    "### 3a. Statistical Overview\n",
    "<a id=\"statisticaloverview\"></a>\n",
    "***"
   ]
  },
  {
   "cell_type": "code",
   "execution_count": 12,
   "metadata": {
    "_cell_guid": "5b817552-ecb8-4f6e-9950-6697d4c44d1f",
    "_uuid": "c88dcae6209f02226f2e772b42616b5650d108f4"
   },
   "outputs": [
    {
     "data": {
      "text/plain": [
       "(891, 9)"
      ]
     },
     "execution_count": 12,
     "metadata": {},
     "output_type": "execute_result"
    }
   ],
   "source": [
    "## This dataset contains 10 columns and 891 raws. \n",
    "df.shape"
   ]
  },
  {
   "cell_type": "code",
   "execution_count": 13,
   "metadata": {
    "_cell_guid": "1045af90-b363-4c1b-a36e-810e06d09531",
    "_uuid": "65ce577e72e258b96bd0f77d539a5779e209f266",
    "scrolled": true
   },
   "outputs": [
    {
     "data": {
      "text/plain": [
       "0.0    0.616162\n",
       "1.0    0.383838\n",
       "Name: Survived, dtype: float64"
      ]
     },
     "execution_count": 13,
     "metadata": {},
     "output_type": "execute_result"
    }
   ],
   "source": [
    "# Looks like only 38% Passenger/crew have survived and 62% were not able to survive. \n",
    "df.Survived.value_counts()/len(df)"
   ]
  },
  {
   "cell_type": "code",
   "execution_count": 14,
   "metadata": {
    "_cell_guid": "b46db6c5-db1d-480a-b8ab-df1f51e64022",
    "_uuid": "63e5a91192aec316ddc3812ed5c6e37bfc2a9725"
   },
   "outputs": [
    {
     "data": {
      "text/html": [
       "<div>\n",
       "<style>\n",
       "    .dataframe thead tr:only-child th {\n",
       "        text-align: right;\n",
       "    }\n",
       "\n",
       "    .dataframe thead th {\n",
       "        text-align: left;\n",
       "    }\n",
       "\n",
       "    .dataframe tbody tr th {\n",
       "        vertical-align: top;\n",
       "    }\n",
       "</style>\n",
       "<table border=\"1\" class=\"dataframe\">\n",
       "  <thead>\n",
       "    <tr style=\"text-align: right;\">\n",
       "      <th></th>\n",
       "      <th>Survived</th>\n",
       "      <th>Pclass</th>\n",
       "      <th>Age</th>\n",
       "      <th>SibSp</th>\n",
       "      <th>Parch</th>\n",
       "      <th>Fare</th>\n",
       "      <th>Gender</th>\n",
       "      <th>Embarked_Q</th>\n",
       "      <th>Embarked_S</th>\n",
       "    </tr>\n",
       "  </thead>\n",
       "  <tbody>\n",
       "    <tr>\n",
       "      <th>count</th>\n",
       "      <td>891.000000</td>\n",
       "      <td>891.000000</td>\n",
       "      <td>891.000000</td>\n",
       "      <td>891.000000</td>\n",
       "      <td>891.000000</td>\n",
       "      <td>891.000000</td>\n",
       "      <td>891.000000</td>\n",
       "      <td>891.000000</td>\n",
       "      <td>891.000000</td>\n",
       "    </tr>\n",
       "    <tr>\n",
       "      <th>mean</th>\n",
       "      <td>0.383838</td>\n",
       "      <td>2.308642</td>\n",
       "      <td>29.964353</td>\n",
       "      <td>0.523008</td>\n",
       "      <td>0.381594</td>\n",
       "      <td>32.204208</td>\n",
       "      <td>0.647587</td>\n",
       "      <td>0.086420</td>\n",
       "      <td>0.722783</td>\n",
       "    </tr>\n",
       "    <tr>\n",
       "      <th>std</th>\n",
       "      <td>0.486592</td>\n",
       "      <td>0.836071</td>\n",
       "      <td>13.722992</td>\n",
       "      <td>1.102743</td>\n",
       "      <td>0.806057</td>\n",
       "      <td>49.693429</td>\n",
       "      <td>0.477990</td>\n",
       "      <td>0.281141</td>\n",
       "      <td>0.447876</td>\n",
       "    </tr>\n",
       "    <tr>\n",
       "      <th>min</th>\n",
       "      <td>0.000000</td>\n",
       "      <td>1.000000</td>\n",
       "      <td>0.420000</td>\n",
       "      <td>0.000000</td>\n",
       "      <td>0.000000</td>\n",
       "      <td>0.000000</td>\n",
       "      <td>0.000000</td>\n",
       "      <td>0.000000</td>\n",
       "      <td>0.000000</td>\n",
       "    </tr>\n",
       "    <tr>\n",
       "      <th>25%</th>\n",
       "      <td>0.000000</td>\n",
       "      <td>2.000000</td>\n",
       "      <td>21.000000</td>\n",
       "      <td>0.000000</td>\n",
       "      <td>0.000000</td>\n",
       "      <td>7.910400</td>\n",
       "      <td>0.000000</td>\n",
       "      <td>0.000000</td>\n",
       "      <td>0.000000</td>\n",
       "    </tr>\n",
       "    <tr>\n",
       "      <th>50%</th>\n",
       "      <td>0.000000</td>\n",
       "      <td>3.000000</td>\n",
       "      <td>28.847145</td>\n",
       "      <td>0.000000</td>\n",
       "      <td>0.000000</td>\n",
       "      <td>14.454200</td>\n",
       "      <td>1.000000</td>\n",
       "      <td>0.000000</td>\n",
       "      <td>1.000000</td>\n",
       "    </tr>\n",
       "    <tr>\n",
       "      <th>75%</th>\n",
       "      <td>1.000000</td>\n",
       "      <td>3.000000</td>\n",
       "      <td>37.000000</td>\n",
       "      <td>1.000000</td>\n",
       "      <td>0.000000</td>\n",
       "      <td>31.000000</td>\n",
       "      <td>1.000000</td>\n",
       "      <td>0.000000</td>\n",
       "      <td>1.000000</td>\n",
       "    </tr>\n",
       "    <tr>\n",
       "      <th>max</th>\n",
       "      <td>1.000000</td>\n",
       "      <td>3.000000</td>\n",
       "      <td>80.000000</td>\n",
       "      <td>8.000000</td>\n",
       "      <td>6.000000</td>\n",
       "      <td>512.329200</td>\n",
       "      <td>1.000000</td>\n",
       "      <td>1.000000</td>\n",
       "      <td>1.000000</td>\n",
       "    </tr>\n",
       "  </tbody>\n",
       "</table>\n",
       "</div>"
      ],
      "text/plain": [
       "         Survived      Pclass         Age       SibSp       Parch        Fare  \\\n",
       "count  891.000000  891.000000  891.000000  891.000000  891.000000  891.000000   \n",
       "mean     0.383838    2.308642   29.964353    0.523008    0.381594   32.204208   \n",
       "std      0.486592    0.836071   13.722992    1.102743    0.806057   49.693429   \n",
       "min      0.000000    1.000000    0.420000    0.000000    0.000000    0.000000   \n",
       "25%      0.000000    2.000000   21.000000    0.000000    0.000000    7.910400   \n",
       "50%      0.000000    3.000000   28.847145    0.000000    0.000000   14.454200   \n",
       "75%      1.000000    3.000000   37.000000    1.000000    0.000000   31.000000   \n",
       "max      1.000000    3.000000   80.000000    8.000000    6.000000  512.329200   \n",
       "\n",
       "           Gender  Embarked_Q  Embarked_S  \n",
       "count  891.000000  891.000000  891.000000  \n",
       "mean     0.647587    0.086420    0.722783  \n",
       "std      0.477990    0.281141    0.447876  \n",
       "min      0.000000    0.000000    0.000000  \n",
       "25%      0.000000    0.000000    0.000000  \n",
       "50%      1.000000    0.000000    1.000000  \n",
       "75%      1.000000    0.000000    1.000000  \n",
       "max      1.000000    1.000000    1.000000  "
      ]
     },
     "execution_count": 14,
     "metadata": {},
     "output_type": "execute_result"
    }
   ],
   "source": [
    "## Lets take a look at the statistical overview. \n",
    "df.describe()"
   ]
  },
  {
   "cell_type": "code",
   "execution_count": 15,
   "metadata": {
    "_cell_guid": "d86a206e-4715-4f0d-b9ca-9728d58a1697",
    "_uuid": "e6dd1084cd293815d7d6a50698b3d7e5201d41d4"
   },
   "outputs": [
    {
     "data": {
      "text/html": [
       "<div>\n",
       "<style>\n",
       "    .dataframe thead tr:only-child th {\n",
       "        text-align: right;\n",
       "    }\n",
       "\n",
       "    .dataframe thead th {\n",
       "        text-align: left;\n",
       "    }\n",
       "\n",
       "    .dataframe tbody tr th {\n",
       "        vertical-align: top;\n",
       "    }\n",
       "</style>\n",
       "<table border=\"1\" class=\"dataframe\">\n",
       "  <thead>\n",
       "    <tr style=\"text-align: right;\">\n",
       "      <th></th>\n",
       "      <th>Pclass</th>\n",
       "      <th>Age</th>\n",
       "      <th>SibSp</th>\n",
       "      <th>Parch</th>\n",
       "      <th>Fare</th>\n",
       "      <th>Gender</th>\n",
       "      <th>Embarked_Q</th>\n",
       "      <th>Embarked_S</th>\n",
       "    </tr>\n",
       "    <tr>\n",
       "      <th>Survived</th>\n",
       "      <th></th>\n",
       "      <th></th>\n",
       "      <th></th>\n",
       "      <th></th>\n",
       "      <th></th>\n",
       "      <th></th>\n",
       "      <th></th>\n",
       "      <th></th>\n",
       "    </tr>\n",
       "  </thead>\n",
       "  <tbody>\n",
       "    <tr>\n",
       "      <th>0.0</th>\n",
       "      <td>2.531876</td>\n",
       "      <td>31.072721</td>\n",
       "      <td>0.553734</td>\n",
       "      <td>0.329690</td>\n",
       "      <td>22.117887</td>\n",
       "      <td>0.852459</td>\n",
       "      <td>0.085610</td>\n",
       "      <td>0.777778</td>\n",
       "    </tr>\n",
       "    <tr>\n",
       "      <th>1.0</th>\n",
       "      <td>1.950292</td>\n",
       "      <td>28.185130</td>\n",
       "      <td>0.473684</td>\n",
       "      <td>0.464912</td>\n",
       "      <td>48.395408</td>\n",
       "      <td>0.318713</td>\n",
       "      <td>0.087719</td>\n",
       "      <td>0.634503</td>\n",
       "    </tr>\n",
       "  </tbody>\n",
       "</table>\n",
       "</div>"
      ],
      "text/plain": [
       "            Pclass        Age     SibSp     Parch       Fare    Gender  \\\n",
       "Survived                                                                 \n",
       "0.0       2.531876  31.072721  0.553734  0.329690  22.117887  0.852459   \n",
       "1.0       1.950292  28.185130  0.473684  0.464912  48.395408  0.318713   \n",
       "\n",
       "          Embarked_Q  Embarked_S  \n",
       "Survived                          \n",
       "0.0         0.085610    0.777778  \n",
       "1.0         0.087719    0.634503  "
      ]
     },
     "execution_count": 15,
     "metadata": {},
     "output_type": "execute_result"
    }
   ],
   "source": [
    "# Overview(Survived vs non survied)\n",
    "survived_summary = df.groupby(\"Survived\")\n",
    "survived_summary.mean()"
   ]
  },
  {
   "cell_type": "code",
   "execution_count": 16,
   "metadata": {
    "_cell_guid": "e815f5f6-08f2-49cc-852c-d4d2f297d4cc",
    "_uuid": "6fed283a68f7cd38b4b9d93bad69b21dbcee9f9c"
   },
   "outputs": [
    {
     "data": {
      "text/html": [
       "<div>\n",
       "<style>\n",
       "    .dataframe thead tr:only-child th {\n",
       "        text-align: right;\n",
       "    }\n",
       "\n",
       "    .dataframe thead th {\n",
       "        text-align: left;\n",
       "    }\n",
       "\n",
       "    .dataframe tbody tr th {\n",
       "        vertical-align: top;\n",
       "    }\n",
       "</style>\n",
       "<table border=\"1\" class=\"dataframe\">\n",
       "  <thead>\n",
       "    <tr style=\"text-align: right;\">\n",
       "      <th></th>\n",
       "      <th>Survived</th>\n",
       "      <th>Pclass</th>\n",
       "      <th>Age</th>\n",
       "      <th>SibSp</th>\n",
       "      <th>Parch</th>\n",
       "      <th>Fare</th>\n",
       "      <th>Embarked_Q</th>\n",
       "      <th>Embarked_S</th>\n",
       "    </tr>\n",
       "    <tr>\n",
       "      <th>Gender</th>\n",
       "      <th></th>\n",
       "      <th></th>\n",
       "      <th></th>\n",
       "      <th></th>\n",
       "      <th></th>\n",
       "      <th></th>\n",
       "      <th></th>\n",
       "      <th></th>\n",
       "    </tr>\n",
       "  </thead>\n",
       "  <tbody>\n",
       "    <tr>\n",
       "      <th>0.0</th>\n",
       "      <td>0.742038</td>\n",
       "      <td>2.159236</td>\n",
       "      <td>27.519238</td>\n",
       "      <td>0.694268</td>\n",
       "      <td>0.649682</td>\n",
       "      <td>44.479818</td>\n",
       "      <td>0.114650</td>\n",
       "      <td>0.646497</td>\n",
       "    </tr>\n",
       "    <tr>\n",
       "      <th>1.0</th>\n",
       "      <td>0.188908</td>\n",
       "      <td>2.389948</td>\n",
       "      <td>31.294970</td>\n",
       "      <td>0.429809</td>\n",
       "      <td>0.235702</td>\n",
       "      <td>25.523893</td>\n",
       "      <td>0.071057</td>\n",
       "      <td>0.764298</td>\n",
       "    </tr>\n",
       "  </tbody>\n",
       "</table>\n",
       "</div>"
      ],
      "text/plain": [
       "        Survived    Pclass        Age     SibSp     Parch       Fare  \\\n",
       "Gender                                                                 \n",
       "0.0     0.742038  2.159236  27.519238  0.694268  0.649682  44.479818   \n",
       "1.0     0.188908  2.389948  31.294970  0.429809  0.235702  25.523893   \n",
       "\n",
       "        Embarked_Q  Embarked_S  \n",
       "Gender                          \n",
       "0.0       0.114650    0.646497  \n",
       "1.0       0.071057    0.764298  "
      ]
     },
     "execution_count": 16,
     "metadata": {},
     "output_type": "execute_result"
    }
   ],
   "source": [
    "survived_summary = df.groupby(\"Gender\")\n",
    "survived_summary.mean()"
   ]
  },
  {
   "cell_type": "markdown",
   "metadata": {
    "_cell_guid": "49c5bfd4-227a-4561-b920-15e366cc14ff",
    "_uuid": "939d56dbfd2551f5cadcb2da474f1f7da1a317bd"
   },
   "source": [
    "There are a couple of points that should be noted from the statistical overview. They are..\n",
    "- About this data set, it has 891 raw and 9 columns. \n",
    "- About the survival rate, **only 38% passenger survived during that tragedy. **\n",
    "- About the survival rate for genders, **74% female passengers survived, while only 19% male passengers survived.**\n"
   ]
  },
  {
   "cell_type": "markdown",
   "metadata": {
    "_cell_guid": "5454218c-0a45-4a89-96fe-83d89b588183",
    "_uuid": "d00b4e471e863f766c4aad7b88e1e6d9e57d6423"
   },
   "source": [
    "### 3b. Correlation Matrix and Heatmap\n",
    "<a id=\"heatmap\"></a>\n",
    "***"
   ]
  },
  {
   "cell_type": "code",
   "execution_count": 17,
   "metadata": {
    "_cell_guid": "084ed27a-a0d6-4b94-a389-bb399f573a90",
    "_uuid": "e6e309827940a80ca5672b45c9962ebce44fe4fc"
   },
   "outputs": [
    {
     "data": {
      "text/html": [
       "<div>\n",
       "<style>\n",
       "    .dataframe thead tr:only-child th {\n",
       "        text-align: right;\n",
       "    }\n",
       "\n",
       "    .dataframe thead th {\n",
       "        text-align: left;\n",
       "    }\n",
       "\n",
       "    .dataframe tbody tr th {\n",
       "        vertical-align: top;\n",
       "    }\n",
       "</style>\n",
       "<table border=\"1\" class=\"dataframe\">\n",
       "  <thead>\n",
       "    <tr style=\"text-align: right;\">\n",
       "      <th></th>\n",
       "      <th>Survived</th>\n",
       "      <th>Pclass</th>\n",
       "      <th>Age</th>\n",
       "      <th>SibSp</th>\n",
       "      <th>Parch</th>\n",
       "      <th>Fare</th>\n",
       "      <th>Gender</th>\n",
       "      <th>Embarked_Q</th>\n",
       "      <th>Embarked_S</th>\n",
       "    </tr>\n",
       "  </thead>\n",
       "  <tbody>\n",
       "    <tr>\n",
       "      <th>Survived</th>\n",
       "      <td>1.000000</td>\n",
       "      <td>-0.338481</td>\n",
       "      <td>-0.102389</td>\n",
       "      <td>-0.035322</td>\n",
       "      <td>0.081629</td>\n",
       "      <td>0.257307</td>\n",
       "      <td>-0.543351</td>\n",
       "      <td>0.003650</td>\n",
       "      <td>-0.155660</td>\n",
       "    </tr>\n",
       "    <tr>\n",
       "      <th>Pclass</th>\n",
       "      <td>-0.338481</td>\n",
       "      <td>1.000000</td>\n",
       "      <td>-0.376435</td>\n",
       "      <td>0.083081</td>\n",
       "      <td>0.018443</td>\n",
       "      <td>-0.549500</td>\n",
       "      <td>0.131900</td>\n",
       "      <td>0.221009</td>\n",
       "      <td>0.081720</td>\n",
       "    </tr>\n",
       "    <tr>\n",
       "      <th>Age</th>\n",
       "      <td>-0.102389</td>\n",
       "      <td>-0.376435</td>\n",
       "      <td>1.000000</td>\n",
       "      <td>-0.214757</td>\n",
       "      <td>-0.182113</td>\n",
       "      <td>0.102293</td>\n",
       "      <td>0.131514</td>\n",
       "      <td>-0.025351</td>\n",
       "      <td>-0.010465</td>\n",
       "    </tr>\n",
       "    <tr>\n",
       "      <th>SibSp</th>\n",
       "      <td>-0.035322</td>\n",
       "      <td>0.083081</td>\n",
       "      <td>-0.214757</td>\n",
       "      <td>1.000000</td>\n",
       "      <td>0.414838</td>\n",
       "      <td>0.159651</td>\n",
       "      <td>-0.114631</td>\n",
       "      <td>-0.026354</td>\n",
       "      <td>0.070941</td>\n",
       "    </tr>\n",
       "    <tr>\n",
       "      <th>Parch</th>\n",
       "      <td>0.081629</td>\n",
       "      <td>0.018443</td>\n",
       "      <td>-0.182113</td>\n",
       "      <td>0.414838</td>\n",
       "      <td>1.000000</td>\n",
       "      <td>0.216225</td>\n",
       "      <td>-0.245489</td>\n",
       "      <td>-0.081228</td>\n",
       "      <td>0.063036</td>\n",
       "    </tr>\n",
       "    <tr>\n",
       "      <th>Fare</th>\n",
       "      <td>0.257307</td>\n",
       "      <td>-0.549500</td>\n",
       "      <td>0.102293</td>\n",
       "      <td>0.159651</td>\n",
       "      <td>0.216225</td>\n",
       "      <td>1.000000</td>\n",
       "      <td>-0.182333</td>\n",
       "      <td>-0.117216</td>\n",
       "      <td>-0.166603</td>\n",
       "    </tr>\n",
       "    <tr>\n",
       "      <th>Gender</th>\n",
       "      <td>-0.543351</td>\n",
       "      <td>0.131900</td>\n",
       "      <td>0.131514</td>\n",
       "      <td>-0.114631</td>\n",
       "      <td>-0.245489</td>\n",
       "      <td>-0.182333</td>\n",
       "      <td>1.000000</td>\n",
       "      <td>-0.074115</td>\n",
       "      <td>0.125722</td>\n",
       "    </tr>\n",
       "    <tr>\n",
       "      <th>Embarked_Q</th>\n",
       "      <td>0.003650</td>\n",
       "      <td>0.221009</td>\n",
       "      <td>-0.025351</td>\n",
       "      <td>-0.026354</td>\n",
       "      <td>-0.081228</td>\n",
       "      <td>-0.117216</td>\n",
       "      <td>-0.074115</td>\n",
       "      <td>1.000000</td>\n",
       "      <td>-0.496624</td>\n",
       "    </tr>\n",
       "    <tr>\n",
       "      <th>Embarked_S</th>\n",
       "      <td>-0.155660</td>\n",
       "      <td>0.081720</td>\n",
       "      <td>-0.010465</td>\n",
       "      <td>0.070941</td>\n",
       "      <td>0.063036</td>\n",
       "      <td>-0.166603</td>\n",
       "      <td>0.125722</td>\n",
       "      <td>-0.496624</td>\n",
       "      <td>1.000000</td>\n",
       "    </tr>\n",
       "  </tbody>\n",
       "</table>\n",
       "</div>"
      ],
      "text/plain": [
       "            Survived    Pclass       Age     SibSp     Parch      Fare  \\\n",
       "Survived    1.000000 -0.338481 -0.102389 -0.035322  0.081629  0.257307   \n",
       "Pclass     -0.338481  1.000000 -0.376435  0.083081  0.018443 -0.549500   \n",
       "Age        -0.102389 -0.376435  1.000000 -0.214757 -0.182113  0.102293   \n",
       "SibSp      -0.035322  0.083081 -0.214757  1.000000  0.414838  0.159651   \n",
       "Parch       0.081629  0.018443 -0.182113  0.414838  1.000000  0.216225   \n",
       "Fare        0.257307 -0.549500  0.102293  0.159651  0.216225  1.000000   \n",
       "Gender     -0.543351  0.131900  0.131514 -0.114631 -0.245489 -0.182333   \n",
       "Embarked_Q  0.003650  0.221009 -0.025351 -0.026354 -0.081228 -0.117216   \n",
       "Embarked_S -0.155660  0.081720 -0.010465  0.070941  0.063036 -0.166603   \n",
       "\n",
       "              Gender  Embarked_Q  Embarked_S  \n",
       "Survived   -0.543351    0.003650   -0.155660  \n",
       "Pclass      0.131900    0.221009    0.081720  \n",
       "Age         0.131514   -0.025351   -0.010465  \n",
       "SibSp      -0.114631   -0.026354    0.070941  \n",
       "Parch      -0.245489   -0.081228    0.063036  \n",
       "Fare       -0.182333   -0.117216   -0.166603  \n",
       "Gender      1.000000   -0.074115    0.125722  \n",
       "Embarked_Q -0.074115    1.000000   -0.496624  \n",
       "Embarked_S  0.125722   -0.496624    1.000000  "
      ]
     },
     "execution_count": 17,
     "metadata": {},
     "output_type": "execute_result"
    }
   ],
   "source": [
    "df.corr()"
   ]
  },
  {
   "cell_type": "code",
   "execution_count": 18,
   "metadata": {
    "_cell_guid": "eee23849-a390-4d16-a8df-d29c6f575413",
    "_uuid": "285660c315b854497fe00847d051ceac5c9ec298",
    "scrolled": false
   },
   "outputs": [
    {
     "data": {
      "image/png": "[encoded data removed]",
      "text/plain": [
       "<matplotlib.figure.Figure at 0x7f5cdcaf0908>"
      ]
     },
     "metadata": {},
     "output_type": "display_data"
    }
   ],
   "source": [
    "plt.subplots(figsize = (15,8))\n",
    "sns.heatmap(df.corr(), annot=True,  cmap=\"PiYG\")\n",
    "plt.title(\"Correlations Among Features\", fontsize = 20);"
   ]
  },
  {
   "cell_type": "markdown",
   "metadata": {
    "_cell_guid": "0e0b5ceb-fde5-40a7-b33b-b44e8f04189a",
    "_uuid": "41e2bc2eff5699b14a0f47d5bd2e428ee5bec3b8"
   },
   "source": [
    "#### Positive Correlation Features:\n",
    "- Fare and Survived: 0.26\n",
    "\n",
    "#### Negative Correlation Features:\n",
    "- Fare and Pclass: -0.55\n",
    "- Gender and Survived: -0.54\n",
    "- Pclass and Survived: -0.34\n",
    "\n",
    "\n",
    "**So, Let's analyze these correlations a bit.** We have found some moderately strong correlations between different features. There is a positive correlation between Fare and Survived rated. This can be explained by saying that, the passenger who paid more money for their ticket were more likely to survive. This theory aligns with one other correlation which is the correlation between Fare and Pclass(-0.55). This relationship can be explained by saying that first class passenger(1) paid more for fare then second class passenger(2), similarly second class passenger paid more than the third class passenger(3). This theory can also be supported by mentioning another Pclass correlation with our dependent variable, Survived. The correlation between Pclass and Survived is -0.34. This can also be explained by saying that first class passenger had a better chance of surviving than the second or the third and so on.\n",
    "\n",
    "However, the biggest correlation with our dependent variable is the Gender variable, which basically is the info of whether the passenger was male or female. this is a negative correlation with a magnitude of -0.54 which definitely points towards some undeniable insights. Let's do some statistics to see how undeniable this insight is. "
   ]
  },
  {
   "cell_type": "markdown",
   "metadata": {
    "_cell_guid": "85faf680-5f78-414f-87b9-b72ef6d6ffc2",
    "_uuid": "18c908fdbe16ae939827ec12a4ce028094a8a587"
   },
   "source": [
    "### 3c. Statistical Test for Correlation\n",
    "<a id=\"statistical_test\"></a>\n",
    "***\n",
    "#### One-Sample T-Test(Measuring male-female ratio)\n",
    "A one-sample t-test checks whether a sample mean differs from the population mean. Since *Gender* has the highest correlation with the dependent variable *Survived*, we can test to see if the mean *Gender* that survived differs from mean Gender that did not survive. \n",
    "***\n",
    "**Note:** There are two types of outcome in the Gender variable, **\"0\"** and **\"1\"**, ***\"0\" being the gender as female and \"1\" being the gender as \"male\"***. Therefore, while determining average of Gender, we should keep in mind that, **an increase in the average gender means an increase in male passengers, similarly a decrease in the average gender mean a reduction in male passengers, therefore increase in female passengers and so on**\n",
    "***\n",
    "\n",
    "***Hypothesis Testing***: Is there a significant difference in the mean Gender between the passenger who survived and passenger who did not survive?\n",
    "\n",
    "- ** Null Hypothesis(H0)** The null hypothesis would be that there is no difference in the mean Gender between the passenger who survived and passenger who did not survive. \n",
    "- ** Alternative Hypothesis(H1):** The alternative hypothesis would be that there is a difference in the mean Gender between the passenger who survived and those who did not.\n",
    "\n",
    "\n"
   ]
  },
  {
   "cell_type": "code",
   "execution_count": 19,
   "metadata": {
    "_cell_guid": "0ccfb90f-cdb2-4ea1-a8dc-07e8f865e08b",
    "_uuid": "1b6acd7f8de46da733168a6d8472a03dd2b264b7"
   },
   "outputs": [
    {
     "name": "stdout",
     "output_type": "stream",
     "text": [
      "The average gender for the passengers who survived is: 0.31871345029239767\n",
      "The average gender for the passengers who did not survive is: 0.8524590163934426\n"
     ]
    }
   ],
   "source": [
    "## Lets compare the means of gender for passengers who survived and the passengers who didnot survive. \n",
    "\n",
    "avg_survived = df[df[\"Survived\"]==1][\"Gender\"].mean()\n",
    "print (\"The average gender for the passengers who survived is: \" + str(avg_survived))\n",
    "avg_not_survived = df[df[\"Survived\"]==0][\"Gender\"].mean()\n",
    "print (\"The average gender for the passengers who did not survive is: \" + str(avg_not_survived))"
   ]
  },
  {
   "cell_type": "markdown",
   "metadata": {
    "_cell_guid": "04ef3035-ea28-4fcd-8a6d-fe6de349c70e",
    "_uuid": "c5c1774632ac252d5a1be17829a87c8edab8f818"
   },
   "source": [
    "#### The T-Test\n",
    "***\n",
    "Let's conduct a T-Test at **95% confidence level**. The T-Test statistics will tell us how much the sample of the survived passengers(in statistics languange this is the sample) alligns with the means of passenger(in statistics language this is population mean) who did not survive. if the test statistics(t-statistics) do not align(fall with in the critical value) 95% of the time, we reject the null hypothesis that **the sample comes from the same distribution as the passenger population**. In order to conduct a one sample t-test, we can use the **tats.ttest_1samp()** function. "
   ]
  },
  {
   "cell_type": "code",
   "execution_count": 20,
   "metadata": {
    "_cell_guid": "e3cdbd56-73f0-4271-9214-11c76b462133",
    "_uuid": "fbcb27e57f7b1b76b2cdb954bce176506f274dc9"
   },
   "outputs": [
    {
     "data": {
      "text/plain": [
       "Ttest_1sampResult(statistic=-21.15175300093388, pvalue=4.9767809898873822e-64)"
      ]
     },
     "execution_count": 20,
     "metadata": {},
     "output_type": "execute_result"
    }
   ],
   "source": [
    "import scipy.stats as stats\n",
    "stats.ttest_1samp(a=  df[df['Survived']==1]['Gender'], # Sample of passenger who survived. \n",
    "                  popmean = avg_not_survived)  # Mean of passenger who did not survive."
   ]
  },
  {
   "cell_type": "markdown",
   "metadata": {
    "_cell_guid": "6bea4e4f-acae-4735-8295-cfec119019e7",
    "_uuid": "acd8570a9b872b04c83e88ab9a5f8c2b19ee7223"
   },
   "source": [
    "#### T-test Quantile\n",
    "***\n",
    "T-test Quantile helps us to find that critical value area. In other words it helps us to draw a border between rejection area and non rejection area. If the t-statistics value we have acquired above fall outside the quantile or non-rejection area then we reject the null hypothesis. We can find the quantiles with **stats.t.ppf()**"
   ]
  },
  {
   "cell_type": "code",
   "execution_count": 21,
   "metadata": {
    "_cell_guid": "c7664b42-003c-44a1-b0d4-e37120e752fc",
    "_uuid": "d3ec8a88764c1ca074046d442c65bb393f8ead9a"
   },
   "outputs": [
    {
     "name": "stdout",
     "output_type": "stream",
     "text": [
      "The left quartile range of t-distribution is: -1.96692464548\n",
      "The right quartile range of t-distribution is: 1.96692464548\n"
     ]
    }
   ],
   "source": [
    "## Finding the t-test quantile. \n",
    "degree_freedom = len(df[df['Survived']==1])\n",
    "\n",
    "LQ = stats.t.ppf(0.025,degree_freedom)  # Left Quartile\n",
    "\n",
    "RQ = stats.t.ppf(0.975,degree_freedom)  # Right Quartile\n",
    "\n",
    "print ('The left quartile range of t-distribution is: ' + str(LQ))\n",
    "print ('The right quartile range of t-distribution is: ' + str(RQ))"
   ]
  },
  {
   "cell_type": "markdown",
   "metadata": {
    "_cell_guid": "e59831f3-a61d-4b08-8cea-7220be66f853",
    "_uuid": "a3964ebb45d8c69de4be0e6c71cb927a7bfc2e50"
   },
   "source": [
    "#### T-Test Result\n",
    "\n",
    "Our T-test result shows that the **t-statistics is -21.15**, while our left quantile range for t-distribution is -1.9669 and our right quantile range for t-distribution is 1.9669. "
   ]
  },
  {
   "cell_type": "markdown",
   "metadata": {
    "_cell_guid": "11411db7-93f3-4d48-9280-8580f7c020f8",
    "_uuid": "e8adb641afd0b9136264609d6af262792279157d"
   },
   "source": [
    "#### One-Sample T-Test Summary\n",
    "***\n",
    "- **Our t-test score is T-Test = -21.1516** \n",
    "- **P-value = 4.97**\n",
    "- **We reject the null hypothesis**\n",
    "\n",
    "**We reject the null hypothesis because ..**\n",
    "- The T-statistics is outside the quantiles(Non-rejection Region)\n",
    "- The P-value is less than the alpha(.5) or confidence level of 95%. \n",
    "\n",
    "Based on the statistics from One sample t-test, we decided to **reject the null hypothesis**. We rejected the null hypothesis based on two core components. The first one is the T-statistics of -21.15, which is far away from the quantile of -1.966. In addition to that the P-value of 4.97 which is lower than the chosen alpna value(confidence level) of .05 or 5%.\n",
    "\n",
    "Even though we have some statistics to conclude the null hypothesis but this does not mean that there is a practical significance in mean of gender between the passenger who survived and the passenger who did not survive. A more detailed conducted experiment with more data analysis and visualization can help us find more insights about this tragedy. \n",
    "\n"
   ]
  },
  {
   "cell_type": "markdown",
   "metadata": {
    "_cell_guid": "727ad441-c3d5-44c1-acc3-fbeee89c8bb7",
    "_uuid": "7f9ff2168d725501bd8a47e8f6e78545c44fe28f"
   },
   "source": [
    "### 3d. Feature Relations\n",
    "<a id=\"feature_relations\" ></a>\n",
    "***\n",
    "Before dive into finding relations between different features and our dependent variable(survivor) let us make some predictions about how we think the relations might turnout among features.  \n",
    "\n",
    "**Predictions:**\n",
    "- Gender: More female survived than male\n",
    "- Pclass: Higher socio-economic status passenger survived more than others. \n",
    "- Age: Younger passenger survived more than other passengers. \n",
    "\n"
   ]
  },
  {
   "cell_type": "markdown",
   "metadata": {
    "_cell_guid": "e3dd45b4-7c90-4838-a30b-289182069474",
    "_uuid": "1a12f6017855c1b9a2fd9f02a097b60bae3d419e"
   },
   "source": [
    "#### 3d1. Gender and Survived"
   ]
  },
  {
   "cell_type": "code",
   "execution_count": 22,
   "metadata": {
    "_cell_guid": "473d3e9a-4232-4094-b3ad-c2f49328c01d",
    "_uuid": "77af33854d1cd605ddf32bc878b1905ccc002136",
    "scrolled": false
   },
   "outputs": [
    {
     "data": {
      "image/png": "[encoded data removed]",
      "text/plain": [
       "<matplotlib.figure.Figure at 0x7f5cdcb27358>"
      ]
     },
     "metadata": {},
     "output_type": "display_data"
    }
   ],
   "source": [
    "plt.subplots(figsize = (15,8))\n",
    "sns.barplot(x = \"Gender\", y = \"Survived\", data=df, edgecolor=(0,0,0), linewidth=2)\n",
    "plt.title(\"Survived/Non-Survived Passenger Gender Distribution\", fontsize = 25)\n",
    "plt.ylabel(\"% of passenger survived\", fontsize = 15)\n",
    "plt.xlabel(\"Gender\",fontsize = 15)\n",
    "\n",
    "labels = ['Female', 'Male']\n",
    "plt.xticks(sorted(df.Gender.unique()), labels);\n"
   ]
  },
  {
   "cell_type": "markdown",
   "metadata": {
    "_cell_guid": "777f5ebc-efe9-4408-a8b1-716aee303d26",
    "_uuid": "90905d016c6b9b807361907ea9010f1f40bc3b6f"
   },
   "source": [
    "This bar plot above shows the distribution of female and male survived. The x_label shows gender and the y_label shows % of passenger survived. This bar plot shows that 74% female passenger survived while only ~19% male passenger survived."
   ]
  },
  {
   "cell_type": "code",
   "execution_count": 23,
   "metadata": {
    "_cell_guid": "0b85a8ec-1671-4762-b9ef-9ce8b183b438",
    "_uuid": "e17598b4befd7cd8b1a0f7c3938e4a026a8ac2b3",
    "scrolled": false
   },
   "outputs": [
    {
     "data": {
      "image/png": "[encoded data removed]",
      "text/plain": [
       "<matplotlib.figure.Figure at 0x7f5cdaea6240>"
      ]
     },
     "metadata": {},
     "output_type": "display_data"
    }
   ],
   "source": [
    "sns.set(style=\"darkgrid\")\n",
    "plt.subplots(figsize = (15,8))\n",
    "ax = sns.countplot(x = \"Gender\", \n",
    "                   hue=\"Survived\",\n",
    "                   data = df,\n",
    "                   edgecolor=(0,0,0), \n",
    "                   linewidth=2)\n",
    "## Fixing title, xlabel and ylabel\n",
    "plt.title(\"Passenger Gender Distribution - Survived vs Not-survived\", fontsize = 25)\n",
    "plt.xlabel(\"Gender\", fontsize = 15);\n",
    "plt.ylabel(\"# of Passenger Survived\", fontsize = 15)\n",
    "\n",
    "## Fixing xticks\n",
    "labels = ['Female', 'Male']\n",
    "plt.xticks(sorted(df.Gender.unique()), labels)\n",
    "\n",
    "## Fixing legends\n",
    "leg = ax.get_legend()\n",
    "leg.set_title(\"Survived\")\n",
    "legs = leg.texts\n",
    "legs[0].set_text(\"No\")\n",
    "legs[1].set_text(\"Yes\")\n",
    "plt.show()"
   ]
  },
  {
   "cell_type": "markdown",
   "metadata": {
    "_cell_guid": "f704fdfb-6082-4c9d-b46a-3f36afe07e16",
    "_uuid": "521d0f3fb28ced79b3758e8b143a135eb6a7f7bb"
   },
   "source": [
    "This count plot shows the actual distribution of male and female passengers that survived and did not survive. It shows that among all the females ~ 230 survived and ~ 70 did not survive. While among male passengers ~110 survived and ~480 did not survive. "
   ]
  },
  {
   "cell_type": "markdown",
   "metadata": {
    "_cell_guid": "ea500692-8eb7-468d-98ae-3f29007d1dc8",
    "_uuid": "b148cbb37a2c04e78e5647c506f5923744cbcf18"
   },
   "source": [
    "**Summary**\n",
    "***\n",
    "- As we suspected, female passengers have survived at a much better rate than male passengers. \n",
    "- It seems about right since females and children were the priority. "
   ]
  },
  {
   "cell_type": "markdown",
   "metadata": {
    "_cell_guid": "4cf9229f-b0f2-451c-9105-726ba0537af0",
    "_uuid": "7ba6b7cb3421b6ff28bb7118094d67da0ddff854"
   },
   "source": [
    "#### 3d2. Pclass and Survived\n",
    "<a id=\"pcalss_survivor\"></a>\n",
    "***"
   ]
  },
  {
   "cell_type": "code",
   "execution_count": 24,
   "metadata": {
    "_cell_guid": "02684f47-cb21-46dc-b4a0-07261c80a22a",
    "_uuid": "e5c21636e585da775f46ca1aa4b7753a02b8a100"
   },
   "outputs": [
    {
     "data": {
      "image/png": "[encoded data removed]",
      "text/plain": [
       "<matplotlib.figure.Figure at 0x7f5cdaefaf98>"
      ]
     },
     "metadata": {},
     "output_type": "display_data"
    }
   ],
   "source": [
    "plt.subplots(figsize = (15,10))\n",
    "sns.barplot(x = \"Pclass\", y = \"Survived\", data=df, edgecolor=(0,0,0), linewidth=2)\n",
    "plt.title(\"Passenger Class Distribution - Survived vs Non-Survived\", fontsize = 25)\n",
    "plt.xlabel(\"Socio-Economic class\", fontsize = 15);\n",
    "plt.ylabel(\"% of Passenger Survived\", fontsize = 15);"
   ]
  },
  {
   "cell_type": "markdown",
   "metadata": {
    "_cell_guid": "201e1f2c-7e4e-487b-9085-b66978dfbdcd",
    "_uuid": "58ac45587fdd905a37bf94e61ee6bcfdbcdd9859"
   },
   "source": [
    "- It looks like ...\n",
    "    - ~ 63% first class passenger survived titanic tragedy, while \n",
    "    - ~ 48% second class and \n",
    "    - ~ only  24% third class passenger survived. "
   ]
  },
  {
   "cell_type": "code",
   "execution_count": 25,
   "metadata": {
    "_cell_guid": "c70683ef-bdd1-4cb7-8041-cb6245033f6c",
    "_uuid": "bacb0d07d1c17763da8dc88a052dce930dd1adbe"
   },
   "outputs": [
    {
     "data": {
      "image/png": "[encoded data removed]",
      "text/plain": [
       "<matplotlib.figure.Figure at 0x7f5cdadb8080>"
      ]
     },
     "metadata": {},
     "output_type": "display_data"
    }
   ],
   "source": [
    "# Kernel Density Plot\n",
    "fig = plt.figure(figsize=(15,8),)\n",
    "ax=sns.kdeplot(df.loc[(df['Survived'] == 0),'Pclass'] , color='r',shade=True,label='not survived')\n",
    "ax=sns.kdeplot(df.loc[(df['Survived'] == 1),'Pclass'] , color='g',shade=True, label='survived')\n",
    "plt.title('Passenger Class Distribution - Survived vs Non-Survived', fontsize = 25)\n",
    "plt.ylabel(\"Frequency of Passenger Survived\", fontsize = 15)\n",
    "plt.xlabel(\"Passenger Class\", fontsize = 15)\n",
    "\n",
    "## Converting xticks into words for better understanding\n",
    "labels = ['First', 'Second', 'Third']\n",
    "plt.xticks(sorted(df.Pclass.unique()), labels);"
   ]
  },
  {
   "cell_type": "markdown",
   "metadata": {
    "_cell_guid": "1f3ce645-1e1d-4d3b-9d16-7a1976154061",
    "_uuid": "2c006f88e0c53778b0333fb384705b6537bc78d9"
   },
   "source": [
    "This kde plot is pretty self explanatory with all the labels and colors. Something I have noticed that some readers might find questionable is that in, the plot; the third class passengers have survived more than second class passnegers. It is true since there were a lot more third class passengers than first and second. "
   ]
  },
  {
   "cell_type": "markdown",
   "metadata": {
    "_cell_guid": "2e527c88-ed82-4c21-b4da-388984d107d6",
    "_uuid": "9721e1931bfe003036c3db9a49f6fdeac6872111"
   },
   "source": [
    "**Summary**\n",
    "***\n",
    "First class passenger had the upper hand during the tragedy than second and third class passengers. You can probably agree with me more on this, when we look at the distribution of ticket fare and survived column. "
   ]
  },
  {
   "cell_type": "markdown",
   "metadata": {
    "_cell_guid": "1eda4520-bb7a-4289-9208-0296290b39a8",
    "_uuid": "4ab4e61a131b6ab8c0d2f8c668433b1fcff94c2d"
   },
   "source": [
    "#### 3d3. Fare and Survived\n",
    "<a id=\"fare_survivor\"></a>\n",
    "***"
   ]
  },
  {
   "cell_type": "code",
   "execution_count": 26,
   "metadata": {
    "_cell_guid": "bc95ab76-d1b0-45fa-825e-ee84c6f404f4",
    "_uuid": "6a3b559c0f76c8e799b4aec7e2c244d2ab04b6fc"
   },
   "outputs": [
    {
     "data": {
      "text/plain": [
       "Text(0.5,0,'Fare')"
      ]
     },
     "execution_count": 26,
     "metadata": {},
     "output_type": "execute_result"
    },
    {
     "data": {
      "image/png": "[encoded data removed]",
      "text/plain": [
       "<matplotlib.figure.Figure at 0x7f5cdad34908>"
      ]
     },
     "metadata": {},
     "output_type": "display_data"
    }
   ],
   "source": [
    "# Kernel Density Plot\n",
    "fig = plt.figure(figsize=(15,8),)\n",
    "ax=sns.kdeplot(df.loc[(df['Survived'] == 0),'Fare'] , color='r',shade=True,label='not survived')\n",
    "ax=sns.kdeplot(df.loc[(df['Survived'] == 1),'Fare'] , color='g',shade=True, label='survived')\n",
    "plt.title('Fare Distribution Survived vs Non Survived', fontsize = 25)\n",
    "plt.ylabel(\"Frequency of Passenger Survived\", fontsize = 15)\n",
    "plt.xlabel(\"Fare\", fontsize = 15)"
   ]
  },
  {
   "cell_type": "markdown",
   "metadata": {
    "_cell_guid": "4620bfa8-ca80-4707-9717-f5078a076a51",
    "_uuid": "32980505207bd9b213fa81d0f02daaa9c5d14a03"
   },
   "source": [
    "This plot shows somethig really interesting..\n",
    "- When fare is approximately more than 280 dollars, there is no red shade which mean everyone passed that fare point  survived.\n",
    "- The spike in the plot under 100 dollar represents that alot of passenger who bought ticket with in that range did not survive. "
   ]
  },
  {
   "cell_type": "markdown",
   "metadata": {
    "_cell_guid": "885eeb8a-5f62-4120-91b8-64b7fc7595c6",
    "_uuid": "fbd4da61b17851d2ad4eea94ad6dd71d3c0ff23b"
   },
   "source": [
    "#### 3d4. Age and Survived\n",
    "<a id=\"age_survivor\"></a>\n",
    "***"
   ]
  },
  {
   "cell_type": "code",
   "execution_count": 27,
   "metadata": {
    "_cell_guid": "0a7d939e-1b2e-46e0-95a9-538152fdc156",
    "_uuid": "df3d1d2d747138612cba57e4d4fc924270c807fe"
   },
   "outputs": [
    {
     "data": {
      "image/png": "[encoded data removed]",
      "text/plain": [
       "<matplotlib.figure.Figure at 0x7f5cdacd2cf8>"
      ]
     },
     "metadata": {},
     "output_type": "display_data"
    }
   ],
   "source": [
    "# Kernel Density Plot\n",
    "fig = plt.figure(figsize=(15,8),)\n",
    "ax=sns.kdeplot(df.loc[(df['Survived'] == 0),'Age'] , color='r',shade=True,label='not survived')\n",
    "ax=sns.kdeplot(df.loc[(df['Survived'] == 1),'Age'] , color='g',shade=True, label='survived')\n",
    "plt.title('Age Distribution - Surviver V.S. Non Survivors')\n",
    "plt.xlabel(\"Age\", fontsize = 15)\n",
    "plt.ylabel('Frequency', fontsize = 15);"
   ]
  },
  {
   "cell_type": "markdown",
   "metadata": {
    "_cell_guid": "7a388ce6-dca8-4152-aa99-ec5787519b97",
    "_uuid": "5b5846d89d74c81f2b41deef27c96bb26302d499"
   },
   "source": [
    "There is nothing out of the ordinary of about this plot, except the very left part of the distribution. It shows that children and infants were the priority. \n"
   ]
  },
  {
   "cell_type": "markdown",
   "metadata": {
    "_cell_guid": "9de7bf55-edfb-42e0-a235-7fee883001d9",
    "_uuid": "8eb07418adf26340ec68fa41401e68d08603f6d4"
   },
   "source": [
    "## Modeling the Data\n",
    "<a name=\"modelingthedata\"></a>\n",
    "***\n",
    "I will train the data with the following models:\n",
    "- Logistic Regression\n",
    "- Gaussian Naive Bayes\n",
    "- Support Vector Machines\n",
    "- Decision Tree Classifier\n",
    "- Random Forest Classifier\n",
    "- Gradient Boosting Classifier\n",
    "- K-Nearest Neighbors(KNN)"
   ]
  },
  {
   "cell_type": "code",
   "execution_count": 28,
   "metadata": {
    "_cell_guid": "dcb0934f-8e3f-40b6-859e-abf70b0b074e",
    "_uuid": "607db6be6dfacc7385e5adcc0feeee28c50c99c5",
    "collapsed": true
   },
   "outputs": [],
   "source": [
    "# separating our independent and dependent variable\n",
    "X = df.drop(['Survived'], axis=1)\n",
    "y = df[\"Survived\"]"
   ]
  },
  {
   "cell_type": "code",
   "execution_count": 29,
   "metadata": {
    "_cell_guid": "f87f65bd-d8fb-49e3-aa92-16a18c7a61b5",
    "_uuid": "e5bd4d69d493612289101d68fe08b78b450577a8"
   },
   "outputs": [
    {
     "name": "stdout",
     "output_type": "stream",
     "text": [
      "   Pclass   Age  SibSp  Parch  Fare  Gender  Embarked_Q  Embarked_S\n",
      "0     3.0  22.0    1.0    0.0  7.25     1.0         0.0         1.0\n",
      "0    0.0\n",
      "Name: Survived, dtype: float64\n"
     ]
    }
   ],
   "source": [
    "print (X.head(1))\n",
    "print (y.head(1))"
   ]
  },
  {
   "cell_type": "code",
   "execution_count": 30,
   "metadata": {
    "_cell_guid": "56d13f45-c6fa-4ea3-a00c-48e21381ad2b",
    "_uuid": "7fe2b1b0035159e61aa4dbc3bb7617bd098f0fd6",
    "collapsed": true,
    "scrolled": true
   },
   "outputs": [],
   "source": [
    "#age_filled_data_nor = NuclearNormMinimization().complete(df1)\n",
    "#Data_1 = pd.DataFrame(age_filled_data, columns = df1.columns)\n",
    "#pd.DataFrame(zip(Data[\"Age\"],Data_1[\"Age\"],df[\"Age\"]))"
   ]
  },
  {
   "cell_type": "markdown",
   "metadata": {
    "_cell_guid": "042502ae-2714-43e2-9e33-6705b1aa781a",
    "_uuid": "92001d23ce79265c0f7d2b3d6f67094feeec2ea7"
   },
   "source": [
    "### Splitting the training data\n",
    "***\n"
   ]
  },
  {
   "cell_type": "code",
   "execution_count": 31,
   "metadata": {
    "_cell_guid": "348a5be2-5f4f-4c98-93a3-7352b6060ef4",
    "_uuid": "41b70e57f8e03da9910c20af89a9fa4a2aaea85b",
    "collapsed": true
   },
   "outputs": [],
   "source": [
    "from sklearn.model_selection import train_test_split\n",
    "x_train, x_test, y_train, y_test = train_test_split(X,y,test_size = .33, random_state = 1)"
   ]
  },
  {
   "cell_type": "markdown",
   "metadata": {
    "_cell_guid": "1f920690-2084-498c-a2fa-e618ad2228d8",
    "_uuid": "75407683b262fb65fc4afdfca6084d4ddaebe9a9"
   },
   "source": [
    "### Feature Scaling\n",
    "***\n"
   ]
  },
  {
   "cell_type": "code",
   "execution_count": 32,
   "metadata": {
    "_cell_guid": "5c89c54b-7f5a-4e31-9e8f-58726cef5eab",
    "_uuid": "182b849ba7f2b311e919cdbf83970b97736e9d98",
    "collapsed": true
   },
   "outputs": [],
   "source": [
    "# Feature Scaling\n",
    "from sklearn.preprocessing import StandardScaler\n",
    "sc = StandardScaler()\n",
    "x_train = sc.fit_transform(x_train)\n",
    "x_test = sc.transform(x_test)"
   ]
  },
  {
   "cell_type": "code",
   "execution_count": 33,
   "metadata": {
    "_cell_guid": "d83de32f-ca8a-463c-bd59-4a4c513fc207",
    "_uuid": "cc5c6e46d7860c8f189523beeaf9f83df2644da1",
    "collapsed": true
   },
   "outputs": [],
   "source": [
    "## Necessary modules for creating models. \n",
    "from sklearn.tree import DecisionTreeClassifier\n",
    "from sklearn.model_selection import cross_val_score, StratifiedKFold\n",
    "from sklearn.linear_model import LogisticRegression\n",
    "from sklearn.metrics import mean_squared_error\n",
    "from sklearn.ensemble import BaggingClassifier"
   ]
  },
  {
   "cell_type": "markdown",
   "metadata": {
    "_cell_guid": "42c1774c-f716-46e0-8c85-190f7013cb5d",
    "_uuid": "8b7a79a854c9213cb0698773313bc9eef9ba93cd"
   },
   "source": [
    "### Gaussian Naive Bayes"
   ]
  },
  {
   "cell_type": "code",
   "execution_count": 34,
   "metadata": {
    "_cell_guid": "e563827c-1e30-4519-a40d-e2daf1c16949",
    "_uuid": "42380b379a4af36a94849cd6a71e81ee84b45d8f"
   },
   "outputs": [
    {
     "name": "stdout",
     "output_type": "stream",
     "text": [
      "0.752542372881\n"
     ]
    }
   ],
   "source": [
    "# Gaussian Naive Bayes\n",
    "from sklearn.naive_bayes import GaussianNB\n",
    "from sklearn.metrics import accuracy_score\n",
    "\n",
    "gaussian = GaussianNB()\n",
    "gaussian.fit(x_train, y_train)\n",
    "y_pred = gaussian.predict(x_test)\n",
    "accy_gaussian = accuracy_score(y_pred, y_test)\n",
    "print(accy_gaussian)"
   ]
  },
  {
   "cell_type": "markdown",
   "metadata": {
    "_cell_guid": "60499960-96ae-42d7-9292-681251e4c81d",
    "_uuid": "efe29967da960aa1841e00bb25a20dd5f57e5685"
   },
   "source": [
    "### Logistic Regression"
   ]
  },
  {
   "cell_type": "code",
   "execution_count": 35,
   "metadata": {
    "_cell_guid": "5c07bff4-ae79-47fa-a916-519f038fe880",
    "_uuid": "ce4a46889fecca97013cd61822304f434295b496",
    "collapsed": true
   },
   "outputs": [],
   "source": [
    "from sklearn.metrics import accuracy_score,classification_report, precision_recall_curve, confusion_matrix"
   ]
  },
  {
   "cell_type": "code",
   "execution_count": 36,
   "metadata": {
    "_cell_guid": "0c8b0c41-6738-4689-85b0-b83a16e46ab9",
    "_uuid": "09140be1a71e37b441a16951a82747462b767e6e"
   },
   "outputs": [
    {
     "name": "stdout",
     "output_type": "stream",
     "text": [
      "0.783050847458\n"
     ]
    }
   ],
   "source": [
    "from sklearn.linear_model import LogisticRegression\n",
    "logreg = LogisticRegression(solver='liblinear', penalty='l1')\n",
    "logreg.fit(x_train,y_train)\n",
    "y_pred = logreg.predict(x_test)\n",
    "accy_logreg = accuracy_score(y_pred,y_test)\n",
    "print (accy_logreg)"
   ]
  },
  {
   "cell_type": "code",
   "execution_count": 37,
   "metadata": {
    "_cell_guid": "dc463b0f-8be3-473a-bd28-d67cd471dee0",
    "_uuid": "e1e8e2854bd934f2ed0d3d3fb52efb6a282cc862"
   },
   "outputs": [
    {
     "name": "stdout",
     "output_type": "stream",
     "text": [
      "             precision    recall  f1-score   support\n",
      "\n",
      "        0.0       0.80      0.84      0.82       174\n",
      "        1.0       0.75      0.70      0.73       121\n",
      "\n",
      "avg / total       0.78      0.78      0.78       295\n",
      "\n",
      "[[146  36]\n",
      " [ 28  85]]\n"
     ]
    }
   ],
   "source": [
    "print (classification_report(y_test, y_pred, labels=logreg.classes_))\n",
    "print (confusion_matrix(y_pred, y_test))"
   ]
  },
  {
   "cell_type": "markdown",
   "metadata": {
    "_cell_guid": "d1f2930c-43ae-4c15-87f7-ccc9214ee0e1",
    "_uuid": "b8020ecfe44bebdf7a2b95ec49393e8baac6bcf9"
   },
   "source": [
    "### Grid Search on Logistic Regression"
   ]
  },
  {
   "cell_type": "code",
   "execution_count": 38,
   "metadata": {
    "_cell_guid": "0620523c-b33b-4302-8a1c-4b6759ffa5fa",
    "_uuid": "36a379a00a31dd161be1723f65490990294fe13d",
    "collapsed": true
   },
   "outputs": [],
   "source": [
    "C_vals = [0.0001, 0.001, 0.01, 0.1,0.13,0.2, .15, .25, .275, .33, 0.5, .66, 0.75, 1.0, 2.5, 4.0,4.5,5.0,5.1,5.5,6.0, 10.0, 100.0, 1000.0]\n",
    "penalties = ['l1','l2']\n",
    "\n",
    "param = {'penalty': penalties, 'C': C_vals, }\n",
    "grid = GridSearchCV(logreg, param,verbose=False, cv = StratifiedKFold(n_splits=5,random_state=15,shuffle=True), n_jobs=1)"
   ]
  },
  {
   "cell_type": "code",
   "execution_count": 39,
   "metadata": {
    "_cell_guid": "d652b847-0fc3-4ae6-b1dc-606d3f70e98d",
    "_uuid": "e7ffd75e45a6a2f5631f321052f0766524950d2c",
    "scrolled": false
   },
   "outputs": [
    {
     "data": {
      "text/plain": [
       "GridSearchCV(cv=StratifiedKFold(n_splits=5, random_state=15, shuffle=True),\n",
       "       error_score='raise',\n",
       "       estimator=LogisticRegression(C=1.0, class_weight=None, dual=False, fit_intercept=True,\n",
       "          intercept_scaling=1, max_iter=100, multi_class='ovr', n_jobs=1,\n",
       "          penalty='l1', random_state=None, solver='liblinear', tol=0.0001,\n",
       "          verbose=0, warm_start=False),\n",
       "       fit_params=None, iid=True, n_jobs=1,\n",
       "       param_grid={'penalty': ['l1', 'l2'], 'C': [0.0001, 0.001, 0.01, 0.1, 0.13, 0.2, 0.15, 0.25, 0.275, 0.33, 0.5, 0.66, 0.75, 1.0, 2.5, 4.0, 4.5, 5.0, 5.1, 5.5, 6.0, 10.0, 100.0, 1000.0]},\n",
       "       pre_dispatch='2*n_jobs', refit=True, return_train_score='warn',\n",
       "       scoring=None, verbose=False)"
      ]
     },
     "execution_count": 39,
     "metadata": {},
     "output_type": "execute_result"
    }
   ],
   "source": [
    "grid.fit(x_train,y_train)"
   ]
  },
  {
   "cell_type": "code",
   "execution_count": 40,
   "metadata": {
    "_cell_guid": "ee6401bc-5e3b-4298-b7de-33b3be364dc6",
    "_uuid": "3f1f5e2f3889507ef05f4ab91f93159d84db57fa"
   },
   "outputs": [
    {
     "name": "stdout",
     "output_type": "stream",
     "text": [
      "{'C': 0.15, 'penalty': 'l1'}\n",
      "0.807046979866\n"
     ]
    }
   ],
   "source": [
    "print (grid.best_params_)\n",
    "print (grid.best_score_)"
   ]
  },
  {
   "cell_type": "code",
   "execution_count": 41,
   "metadata": {
    "_cell_guid": "d4dd9bfc-2b28-4482-8a9d-9013a32df78a",
    "_uuid": "1cc63ee290c263e7f74973302371638d01e0618c"
   },
   "outputs": [
    {
     "data": {
      "text/plain": [
       "0.77966101694915257"
      ]
     },
     "execution_count": 41,
     "metadata": {},
     "output_type": "execute_result"
    }
   ],
   "source": [
    "logreg_grid = LogisticRegression(penalty=grid.best_params_['penalty'], C=grid.best_params_['C'])\n",
    "logreg_grid.fit(x_train,y_train)\n",
    "y_pred = logreg_grid.predict(x_test)\n",
    "accuracy_score(y_test, y_pred)"
   ]
  },
  {
   "cell_type": "code",
   "execution_count": 42,
   "metadata": {
    "_cell_guid": "84051c83-32f6-454d-b2fd-eee6a38b2399",
    "_uuid": "59bbe4e98beeba446048bd3c2c98b98072bbede1"
   },
   "outputs": [
    {
     "name": "stdout",
     "output_type": "stream",
     "text": [
      "             precision    recall  f1-score   support\n",
      "\n",
      "        0.0       0.80      0.83      0.82       174\n",
      "        1.0       0.75      0.70      0.72       121\n",
      "\n",
      "avg / total       0.78      0.78      0.78       295\n",
      "\n"
     ]
    }
   ],
   "source": [
    "print (classification_report(y_test, y_pred, labels=logreg_grid.classes_))"
   ]
  },
  {
   "cell_type": "code",
   "execution_count": 43,
   "metadata": {
    "_cell_guid": "ad27c80f-000f-4cea-87c0-0f6739027f81",
    "_uuid": "475d9e64b1d82e891bb0eb4000dcd9375326d283",
    "scrolled": false
   },
   "outputs": [
    {
     "data": {
      "image/png": "[encoded data removed]",
      "text/plain": [
       "<matplotlib.figure.Figure at 0x7f5cdac08748>"
      ]
     },
     "metadata": {},
     "output_type": "display_data"
    }
   ],
   "source": [
    "from sklearn.metrics import roc_curve, auc\n",
    "plt.style.use('seaborn-pastel')\n",
    "y_score = logreg_grid.decision_function(x_test)\n",
    "\n",
    "FPR, TPR, _ = roc_curve(y_test, y_score)\n",
    "ROC_AUC = auc(FPR, TPR)\n",
    "\n",
    "plt.figure(figsize =[11,9])\n",
    "plt.plot(FPR, TPR, label= 'ROC curve(area = %0.2f)'%ROC_AUC, linewidth= 4)\n",
    "plt.plot([0,1],[0,1], 'k--', linewidth = 4)\n",
    "plt.xlim([0.0,1.0])\n",
    "plt.ylim([0.0,1.05])\n",
    "plt.xlabel('False Positive Rate', fontsize = 18)\n",
    "plt.ylabel('True Positive Rate', fontsize = 18)\n",
    "plt.title('ROC for Titanic survivors', fontsize= 18)\n",
    "plt.show()"
   ]
  },
  {
   "cell_type": "code",
   "execution_count": 44,
   "metadata": {
    "_cell_guid": "17e277c7-7d14-490e-ba47-9c093b813cb7",
    "_uuid": "5fa6be7351bb8cf42991dfc7764cc47e5e734f9e",
    "scrolled": false
   },
   "outputs": [
    {
     "data": {
      "image/png": "[encoded data removed]",
      "text/plain": [
       "<matplotlib.figure.Figure at 0x7f5cdab93080>"
      ]
     },
     "metadata": {},
     "output_type": "display_data"
    }
   ],
   "source": [
    "plt.style.use('seaborn-pastel')\n",
    "\n",
    "y_score = logreg_grid.decision_function(x_test)\n",
    "\n",
    "precision, recall, _ = precision_recall_curve(y_test, y_score)\n",
    "PR_AUC = auc(recall, precision)\n",
    "\n",
    "plt.figure(figsize=[11,9])\n",
    "plt.plot(recall, precision, label='PR curve (area = %0.2f)' % PR_AUC, linewidth=4)\n",
    "plt.xlabel('Recall', fontsize=18)\n",
    "plt.ylabel('Precision', fontsize=18)\n",
    "plt.title('Precision Recall Curve for Titanic survivors', fontsize=18)\n",
    "plt.legend(loc=\"lower right\")\n",
    "plt.show()"
   ]
  },
  {
   "cell_type": "markdown",
   "metadata": {
    "_cell_guid": "8046e4d9-12db-4b1c-9e9e-31fd5e6543f2",
    "_uuid": "26b0ea9184b2c37eabe4e705b1c840956ecc1e10"
   },
   "source": [
    "## KNN classifier"
   ]
  },
  {
   "cell_type": "code",
   "execution_count": 45,
   "metadata": {
    "_cell_guid": "a28c1875-c5b2-43a4-8762-c7f5f8943f4b",
    "_uuid": "4db8c923cbce0de1dbfd6c705b18f328e429bd7b"
   },
   "outputs": [
    {
     "data": {
      "text/plain": [
       "0.77288135593220342"
      ]
     },
     "execution_count": 45,
     "metadata": {},
     "output_type": "execute_result"
    }
   ],
   "source": [
    "from sklearn.neighbors import KNeighborsClassifier\n",
    "\n",
    "knn = KNeighborsClassifier(weights=\"uniform\", )\n",
    "knn.fit(x_train, y_train)\n",
    "y_pred = knn.predict(x_test)\n",
    "accuracy_score(y_test, y_pred)"
   ]
  },
  {
   "cell_type": "markdown",
   "metadata": {
    "_cell_guid": "0be691b8-3815-4f13-bec0-15332602bb1d",
    "_uuid": "1e93bcea0745748e7daa356b4cabde5fbe438791"
   },
   "source": [
    "## Grid search on KNN classifier"
   ]
  },
  {
   "cell_type": "code",
   "execution_count": 46,
   "metadata": {
    "_cell_guid": "417bebbf-230f-4155-84e2-056051c33b9a",
    "_uuid": "62ee05c718077fdd53fe958f9991d8cd42e2c6e5"
   },
   "outputs": [
    {
     "data": {
      "text/plain": [
       "GridSearchCV(cv=StratifiedKFold(n_splits=5, random_state=15, shuffle=True),\n",
       "       error_score='raise',\n",
       "       estimator=KNeighborsClassifier(algorithm='auto', leaf_size=30, metric='minkowski',\n",
       "           metric_params=None, n_jobs=1, n_neighbors=5, p=2,\n",
       "           weights='uniform'),\n",
       "       fit_params=None, iid=True, n_jobs=1,\n",
       "       param_grid={'n_neighbors': range(1, 10), 'weights': ['uniform', 'distance']},\n",
       "       pre_dispatch='2*n_jobs', refit=True, return_train_score='warn',\n",
       "       scoring=None, verbose=False)"
      ]
     },
     "execution_count": 46,
     "metadata": {},
     "output_type": "execute_result"
    }
   ],
   "source": [
    "from sklearn.neighbors import KNeighborsClassifier\n",
    "knn = KNeighborsClassifier()\n",
    "n_neighbors=range(1,10)\n",
    "weights=['uniform','distance']\n",
    "param = {'n_neighbors':n_neighbors, 'weights':weights}\n",
    "grid2 = GridSearchCV(knn, param,verbose=False, cv=StratifiedKFold(n_splits=5, random_state=15, shuffle=True))\n",
    "grid2.fit(x_train, y_train)"
   ]
  },
  {
   "cell_type": "code",
   "execution_count": 47,
   "metadata": {
    "_cell_guid": "52465cd1-56bc-4551-84b7-bf26544e1060",
    "_uuid": "15f71120c72701afb38c447dec03c00fa352fabb"
   },
   "outputs": [
    {
     "name": "stdout",
     "output_type": "stream",
     "text": [
      "{'n_neighbors': 6, 'weights': 'uniform'}\n",
      "0.832214765101\n"
     ]
    }
   ],
   "source": [
    "print (grid2.best_params_)\n",
    "print (grid2.best_score_)"
   ]
  },
  {
   "cell_type": "code",
   "execution_count": 48,
   "metadata": {
    "_cell_guid": "66c19d0d-67bd-4921-8098-8c96a104f6a0",
    "_uuid": "5108fe1af716c3c3de8b8d47b2e161538e99fb58"
   },
   "outputs": [
    {
     "data": {
      "text/plain": [
       "0.78983050847457625"
      ]
     },
     "execution_count": 48,
     "metadata": {},
     "output_type": "execute_result"
    }
   ],
   "source": [
    "knn_grid = KNeighborsClassifier(\n",
    "    n_neighbors = grid2.best_params_['n_neighbors'], \n",
    "    weights = grid2.best_params_['weights'],\n",
    "    n_jobs = 1, \n",
    ")\n",
    "knn_grid.fit(x_train,y_train)\n",
    "y_pred = knn_grid.predict(x_test)\n",
    "accuracy_score(y_test, y_pred)"
   ]
  },
  {
   "cell_type": "markdown",
   "metadata": {
    "_cell_guid": "296e2062-4bc4-448d-9cde-c780cdad9000",
    "_uuid": "b83a19edc0919954644e8d69e0ae175843197727"
   },
   "source": [
    "## DecisionTree Classifier"
   ]
  },
  {
   "cell_type": "code",
   "execution_count": 49,
   "metadata": {
    "_cell_guid": "145d5589-dcb6-4b74-be65-8596ea656033",
    "_uuid": "a708d6a22d57f51df4213b7bf4d6177eea848e0f"
   },
   "outputs": [
    {
     "name": "stdout",
     "output_type": "stream",
     "text": [
      "0.776271186441\n"
     ]
    }
   ],
   "source": [
    "#Decision Tree\n",
    "from sklearn.tree import DecisionTreeClassifier\n",
    "\n",
    "dectree = DecisionTreeClassifier( max_depth=5, \n",
    "                                class_weight = 'balanced',\n",
    "                                min_weight_fraction_leaf = 0.01)\n",
    "dectree.fit(x_train, y_train)\n",
    "y_pred = dectree.predict(x_test)\n",
    "accy_dectree = accuracy_score(y_pred, y_test)\n",
    "print(accy_dectree)"
   ]
  },
  {
   "cell_type": "markdown",
   "metadata": {
    "_cell_guid": "c1412aff-d0ae-414a-a317-3763185688eb",
    "_uuid": "74ff5f2b7d21ed4518e90108b6201e8e7c9b3b5e"
   },
   "source": [
    "### Grid search on Decision Tree"
   ]
  },
  {
   "cell_type": "code",
   "execution_count": 50,
   "metadata": {
    "_cell_guid": "38c90de9-d2e9-4341-a378-a854762d8be2",
    "_uuid": "18efb62b713591d1512010536ff10d9f6a91ec11"
   },
   "outputs": [
    {
     "data": {
      "text/plain": [
       "GridSearchCV(cv=StratifiedKFold(n_splits=5, random_state=15, shuffle=True),\n",
       "       error_score='raise',\n",
       "       estimator=DecisionTreeClassifier(class_weight='balanced', criterion='gini', max_depth=5,\n",
       "            max_features=None, max_leaf_nodes=None,\n",
       "            min_impurity_decrease=0.0, min_impurity_split=None,\n",
       "            min_samples_leaf=1, min_samples_split=2,\n",
       "            min_weight_fraction_leaf=0.01, presort=False,\n",
       "            random_state=None, splitter='best'),\n",
       "       fit_params=None, iid=True, n_jobs=1,\n",
       "       param_grid={'max_depth': range(1, 10), 'max_features': [1, 2, 3, 4, 5, 6, 7, 8, 'auto']},\n",
       "       pre_dispatch='2*n_jobs', refit=True, return_train_score='warn',\n",
       "       scoring=None, verbose=False)"
      ]
     },
     "execution_count": 50,
     "metadata": {},
     "output_type": "execute_result"
    }
   ],
   "source": [
    "max_depth = range(1,10)\n",
    "max_feature = [1,2,3,4,5,6,7,8,'auto']\n",
    "grid3 = {'max_depth':max_depth, 'max_features':max_feature}\n",
    "decisiontree_grid = GridSearchCV(dectree, grid3, verbose=False, cv=StratifiedKFold(n_splits=5, random_state=15, shuffle=True))\n",
    "decisiontree_grid.fit(x_train, y_train) "
   ]
  },
  {
   "cell_type": "code",
   "execution_count": 51,
   "metadata": {
    "_cell_guid": "b2222e4e-f5f2-4601-b95f-506d7811610a",
    "_uuid": "b0fb5055e6b4a7fb69ef44f669c4df693ce46212"
   },
   "outputs": [
    {
     "name": "stdout",
     "output_type": "stream",
     "text": [
      "{'max_depth': 8, 'max_features': 4}\n",
      "0.827181208054\n"
     ]
    }
   ],
   "source": [
    "print( decisiontree_grid.best_params_)\n",
    "print (decisiontree_grid.best_score_)\n"
   ]
  },
  {
   "cell_type": "markdown",
   "metadata": {
    "_cell_guid": "2679cc18-eb7e-40f9-a1eb-ae83068735c0",
    "_uuid": "aaf4ef6a8d77ef0d4d05f5a1c075029631cf6cac"
   },
   "source": [
    "### Bagging on Decision Tree"
   ]
  },
  {
   "cell_type": "code",
   "execution_count": 52,
   "metadata": {
    "_cell_guid": "90d4856f-935b-43a3-bfd5-101c10ab432e",
    "_uuid": "ad18ca31141ebf8a2d260a902ae7b88f23c82861",
    "collapsed": true
   },
   "outputs": [],
   "source": [
    "## This section is a part of the working process, please stay tuned"
   ]
  },
  {
   "cell_type": "markdown",
   "metadata": {
    "_cell_guid": "a8ac5172-c861-43af-a26e-959e59a7561f",
    "_uuid": "2f303fbc0df2417da8c3597c9644425947d7f00e"
   },
   "source": [
    "### Random Forest Classifier"
   ]
  },
  {
   "cell_type": "code",
   "execution_count": 53,
   "metadata": {
    "_cell_guid": "6a2109e6-1dcc-48b0-81ff-a7b6f2839e99",
    "_uuid": "2113aac53d3d0c6568cece09124755865bddda13"
   },
   "outputs": [
    {
     "name": "stdout",
     "output_type": "stream",
     "text": [
      "0.8\n"
     ]
    }
   ],
   "source": [
    "from sklearn.ensemble import RandomForestClassifier\n",
    "randomforest = RandomForestClassifier()\n",
    "#randomforest = RandomForestClassifier(class_weight='balanced', n_jobs=-1)\n",
    "randomforest.fit(x_train, y_train)\n",
    "y_pred = randomforest.predict(x_test)\n",
    "accy_random = accuracy_score(y_pred, y_test)\n",
    "print (accy_random)"
   ]
  },
  {
   "cell_type": "markdown",
   "metadata": {
    "_cell_guid": "6ea60e91-544f-49fc-8128-ee190e8292e7",
    "_uuid": "860921893a28a1fe9a4ce47f0779f1e7b154ca0a"
   },
   "source": [
    "### Gradient Boosting Classifier"
   ]
  },
  {
   "cell_type": "code",
   "execution_count": 54,
   "metadata": {
    "_cell_guid": "d32d6df9-b8e7-4637-bacc-2baec08547b8",
    "_uuid": "fd788c4f4cde834a1329f325f1f59e3f77c37e42"
   },
   "outputs": [
    {
     "name": "stdout",
     "output_type": "stream",
     "text": [
      "0.793\n"
     ]
    }
   ],
   "source": [
    "# Gradient Boosting Classifier\n",
    "from sklearn.ensemble import GradientBoostingClassifier\n",
    "\n",
    "gradient = GradientBoostingClassifier()\n",
    "gradient.fit(x_train, y_train)\n",
    "y_pred = gradient.predict(x_test)\n",
    "accy_gradient = round(accuracy_score(y_pred, y_test), 3)\n",
    "print(accy_gradient)"
   ]
  },
  {
   "cell_type": "markdown",
   "metadata": {
    "_cell_guid": "3b6698e3-1015-416a-b442-99e9b7f34a2a",
    "_uuid": "0694b86cd682bd921d18d5278e0cdb937b90b356"
   },
   "source": [
    "##### Credits\n",
    "***\n",
    "I like to give credits where it belongs. \n",
    "I have used Randy Lao's Predicting Employee Kernel as a starting point for this kernel; it's one of the best I have come across. So, Please check it out if you want."
   ]
  },
  {
   "cell_type": "markdown",
   "metadata": {
    "_cell_guid": "ca46b1a8-b336-43fc-ad3d-27ac0ea7db2e",
    "_uuid": "5b189a103139f10f3463733e4bc5eb5f583a736f",
    "collapsed": true
   },
   "source": [
    "**If you've come this far, congratulations and thank you for reading! **\n",
    "\n",
    "**If this notebook helped you in anyway please don't forget to upvote! :)**\n"
   ]
  }
 ],
 "metadata": {
  "kernelspec": {
   "display_name": "Python 3",
   "language": "python",
   "name": "python3"
  },
  "language_info": {
   "codemirror_mode": {
    "name": "ipython",
    "version": 3
   },
   "file_extension": ".py",
   "mimetype": "text/x-python",
   "name": "python",
   "nbconvert_exporter": "python",
   "pygments_lexer": "ipython3",
   "version": "3.7.2"
  }
 },
 "nbformat": 4,
 "nbformat_minor": 1
}
