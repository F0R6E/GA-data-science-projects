{
 "cells": [
  {
   "cell_type": "markdown",
   "metadata": {},
   "source": [
    "\"I am going to kill myself before I start searching for movies again\". Thats what my cousin told me when I asked her to look for a movie f"
   ]
  },
  {
   "cell_type": "markdown",
   "metadata": {},
   "source": [
    "Entertainment has been an integral part of our life. It is a balance between the fast paced weekda, we look for ways to entertain ourselves and find ways to enjoy ourtimes with closest once during the weekend. "
   ]
  },
  {
   "cell_type": "markdown",
   "metadata": {},
   "source": [
    "# Introduction\n",
    "<a name=\"#introduction\"></a>\n",
    "\n",
    "This week I am learning about ensemble methods, APIs, and natural language processing(NLP). This project is dedicated to put them all in test!. So , lets get started.\n",
    "\n",
    "\n",
    "I been hired by Netflix to examine what factors lead to certain ratings for movies. Given that Netflix does not currently store this type of data, your boss has suggested that you collect ratings and reviews data from IMDB. Netflix is no stranger to machine learning, however:\n",
    "\n",
    "Netflix uses random forests and decision trees to predict what types of movies an individual user may like.\n",
    "Using unsupervised learning techniques, they are able to continually update suggestions, listings, and other features of its user interface.\n",
    "Netflix, however, hasn't focused on collecting data on the top movies of all time, and would like to add some of them to their offerings based on popularity and other factors.\n",
    "Point: Your boss isn't sure where to start on this project, so your task is to collect the data, build a random forest, and examine its feature importances to understand what factors contribute to ratings.\n",
    "\n",
    "Project Summary\n",
    "\n",
    "Acquire data from IMDB, and use whatever metrics you can collect to predict whether a movie is highly rated.\n",
    "\n",
    "When you've finished your analysis, Netflix would like a report detailing your findings, with recommendations on next steps.\n",
    "\n",
    "Here are some questions to keep in mind:\n",
    "\n",
    "What factors are the most direct predictors of rating?\n",
    "You can use rating as your target variable, but it's up to you whether to treat it as continuous, binary, or multiclass.\n",
    "Goal: Completed Jupyter notebook that includes modeling using a random forest and an blog post explaining your findings.\n",
    "\n",
    "Requirements\n",
    "\n",
    "This is deliberately open ended. There is no starter code. It's up to you how to acquire the data, store the data, and select what features to use.\n",
    "\n",
    "We expect you to use a tree-based model, but the rest of the decisions (pun intended?) are up to you.\n",
    "\n",
    "We will be looking for the following things:\n",
    "\n",
    "A clear problem statement & description of the goals of your study to be included in the final report\n",
    "Data from IMDB\n",
    "Cleaned and refined data\n",
    "Visualization. Plots that describe your data and evaluate your model.\n",
    "Tree-based models (use any combination of ensemble techniques: random forests, bagging, boosting).\n",
    "A blog post presenting the results of your findings as a report to Netflix, including:\n",
    "a problem statement,\n",
    "summary statistics of the various factors (e.g. year, number of ratings, etc.),\n",
    "your model,\n",
    "at least 2 graphics,\n",
    "and your recommendations for next steps!"
   ]
  },
  {
   "cell_type": "markdown",
   "metadata": {},
   "source": [
    "# Objectives\n",
    "- [Introduction](#introduction)\n",
    "- [Import necessary modules](#modules)\n",
    "- [Imdb_webscraping_part#1](#imdb1)\n",
    "- [Imdb_webscraping_part#2](#imdb2)\n",
    "- [Rotten tomato webscraping](#Rotten tomato webscraping)\n",
    "- [Cleaning All datasets(This is the starting point of this project after collecting all the data)](#cleaning_data_sets)\n",
    "- [Visualization](#visualization)\n",
    "- [Feature Engineering](#feature_engineering)\n",
    "- [Train-test split](#train_test_split)\n",
    "- [Creating models](#creating_models)\n",
    "- [Result metrics](#result_metrics)\n",
    "- [Feature Importance](#feature_importance)\n",
    "- [ROC/AUC curve](#roc_auc_curve)\n",
    "- [Wrapping Up](#wrapping_up)\n",
    "- [Next](#next)"
   ]
  },
  {
   "cell_type": "markdown",
   "metadata": {},
   "source": [
    "#### Importing all the necessary modules\n",
    "<a name=\"#modules\"></a>"
   ]
  },
  {
   "cell_type": "code",
   "execution_count": 1,
   "metadata": {
    "collapsed": true
   },
   "outputs": [],
   "source": [
    "import pandas as pd\n",
    "import requests\n",
    "import numpy as np\n",
    "import re\n",
    "import csv\n",
    "from bs4 import BeautifulSoup\n",
    "pd.set_option('display.max_columns', 500) ## to see all the columns,\n",
    "pd.set_option('display.max_rows', 500)"
   ]
  },
  {
   "cell_type": "markdown",
   "metadata": {},
   "source": [
    "#### Imdb webscraping part #1\n",
    "<a name=\"imdb1\"></a>"
   ]
  },
  {
   "cell_type": "code",
   "execution_count": null,
   "metadata": {
    "collapsed": true
   },
   "outputs": [],
   "source": [
    "%%time\n",
    "## Creating couple of empty list that will be used to create the dataframe. \n",
    "title_id = []\n",
    "title = []\n",
    "runtime =[]\n",
    "genre = []\n",
    "certificate = []\n",
    "imdb_rating = []\n",
    "gross = []\n",
    "year = []\n",
    "votes = []\n",
    "director_actor=[]\n",
    "metascore=[]\n",
    "## Looping through each page of the IMDB website which consists of 50\n",
    "##movies in each page, picking movies only with more than 1000 votes \n",
    "#and a rating higher than 9 and lower than 5\n",
    "\n",
    "## a is doing 30 iterations to get 1500 movies\n",
    "for a in range(30): \n",
    "    ## b is doing 2 iterations to switch r value\n",
    "    for b in range(2): \n",
    "        \n",
    "        # r with rating above 8\n",
    "        r = requests.get(\"http://www.imdb.com/search/title?num_votes=1000,&title_type=feature,tv_movie,documentary,\\\n",
    "                          short&user_rating=8.0,&page=\"+str(a)+\"&ref_=adv_nxt\")\n",
    "       \n",
    "        ## altering the value of r, in order to scrape movies with rating lower than 5.\n",
    "        if b == 1:\n",
    "         \n",
    "            # r with rating below 5\n",
    "            r = requests.get(\"http://www.imdb.com/search/title?num_votes=1000,&title_type=feature,tv_movie,documentary,\\\n",
    "                              short&user_rating=,5.0&page=\"+str(a)+\"&ref_=adv_nxt\")\n",
    "       \n",
    "        ## use BeautifulSoup based on either r\n",
    "        soup = BeautifulSoup(r.content, \"lxml\")\n",
    "        \n",
    "        for i in soup.findAll(class_='lister-item-content'):\n",
    "            \n",
    "            # Getting title_id\n",
    "            title_id.append(re.findall(r'tt.+\\d', str(i.find(\"a\"))))\n",
    "            \n",
    "            # Getting title\n",
    "            title.append(i.find('a').text.strip())\n",
    "            \n",
    "            # Gerring genre\n",
    "            try:\n",
    "                genre.append(i.find('span', class_ = \"genre\").text.strip())\n",
    "            except:\n",
    "                genre.append(None)\n",
    "            \n",
    "            # Getting runtime\n",
    "            try:\n",
    "                # runtime.append(re.findall(r'\\d+', i.find('span', class_ = \"runtime\").text)[0])\n",
    "                runtime.append(re.findall(r'\\d+', i.find('span', class_ = \"runtime\").text))\n",
    "            except:\n",
    "                runtime.append(None)\n",
    "            \n",
    "            # Getting certificate    \n",
    "            try:\n",
    "                certificate.append(i.find(\"span\", class_ =\"certificate\").text)\n",
    "            except:\n",
    "                certificate.append(None)\n",
    "            \n",
    "            # Getting imdb_rating\n",
    "            imdb_rating.append(float(i.find(\"strong\").text))\n",
    "            \n",
    "            # Getting year\n",
    "            year.append(i.find(\"span\", class_=\"lister-item-year text-muted unbold\").text)\n",
    "            \n",
    "            # Getting votes\n",
    "            votes.append((i.find(\"span\", attrs={\"name\":\"nv\"}).text).replace(\",\",\"\"))\n",
    "            \n",
    "            # Getting gross\n",
    "            try:\n",
    "                #gross.append(i.find(\"span\", attrs={\"name\":\"nv\"}).find_next_sibling(\"span\", attrs={\"name\":\"nv\"}).get_text())\n",
    "                gross.append(re.findall(r'\\d.+\\d', i.find(\"span\", attrs={\"name\":\"nv\"}).find_next_sibling(\"span\", \\\n",
    "                attrs={\"name\":\"nv\"}).get_text()))\n",
    "            except:\n",
    "                gross.append(None)\n",
    "            \n",
    "            ## Getting director and actors\n",
    "            try:\n",
    "                director_actor.append(i.find(\"p\", class_=\"text-muted\").find_next_sibling(\"p\", class_=\"\").text.strip())\n",
    "            except:\n",
    "                director.append(None)\n",
    "            \n",
    "            ## Getting metascore\n",
    "            try:\n",
    "                metascore.append(int(i.find(\"span\",  class_=\"metascore favorable\").text.strip()))\n",
    "            except:\n",
    "                metascore.append(None)"
   ]
  },
  {
   "cell_type": "code",
   "execution_count": null,
   "metadata": {
    "collapsed": true
   },
   "outputs": [],
   "source": [
    "## checking the length of each features\n",
    "print len(title_id)\n",
    "print len(title)\n",
    "print len(runtime)\n",
    "print len(genre)\n",
    "print len(certificate)\n",
    "print len(imdb_rating)\n",
    "print len(gross)  ## there seems to be a problem with the gross, will look into that. \n",
    "print len(year)\n",
    "print len(votes)\n",
    "print len(director_actor)\n",
    "print len(metascore)"
   ]
  },
  {
   "cell_type": "code",
   "execution_count": null,
   "metadata": {
    "collapsed": true
   },
   "outputs": [],
   "source": [
    "## Fix title_id since its picking up some extra characters we do not want. \n",
    "a = []\n",
    "for i in title_id:\n",
    "    for j in i:\n",
    "        a.append(j.split(\"/\")[0])\n",
    "title_id = a"
   ]
  },
  {
   "cell_type": "code",
   "execution_count": null,
   "metadata": {
    "collapsed": true
   },
   "outputs": [],
   "source": [
    "data_list = [title_id, title, runtime, genre, certificate, imdb_rating, gross, year, votes, director_actor, metascore]"
   ]
  },
  {
   "cell_type": "code",
   "execution_count": null,
   "metadata": {
    "collapsed": true
   },
   "outputs": [],
   "source": [
    "df = pd.DataFrame(data_list)"
   ]
  },
  {
   "cell_type": "code",
   "execution_count": null,
   "metadata": {
    "collapsed": true
   },
   "outputs": [],
   "source": [
    "df = df.T"
   ]
  },
  {
   "cell_type": "code",
   "execution_count": null,
   "metadata": {
    "collapsed": true
   },
   "outputs": [],
   "source": [
    "header =[\"title_id\", \"title\", \"runtime\", \"genre\", \"certificate\", \"imdb_rating\", \"gross\", \"year\", \"votes\", \"director_actor\", \"metascore\"] "
   ]
  },
  {
   "cell_type": "code",
   "execution_count": null,
   "metadata": {
    "collapsed": true
   },
   "outputs": [],
   "source": [
    "df.columns = header"
   ]
  },
  {
   "cell_type": "code",
   "execution_count": null,
   "metadata": {
    "collapsed": true
   },
   "outputs": [],
   "source": [
    "df.head()"
   ]
  },
  {
   "cell_type": "code",
   "execution_count": null,
   "metadata": {
    "collapsed": true
   },
   "outputs": [],
   "source": [
    "## The code above ran in AWS and once the web scrapig was completed, the data was stored as a csv file in EC2. \n",
    "df.to_csv('imdb_1.csv', encoding=\"utf-8\")"
   ]
  },
  {
   "cell_type": "markdown",
   "metadata": {},
   "source": [
    "<a name=\"imdb2\"></a>\n",
    "#### Imdb webscarping part #2"
   ]
  },
  {
   "cell_type": "code",
   "execution_count": null,
   "metadata": {
    "collapsed": true,
    "scrolled": false
   },
   "outputs": [],
   "source": [
    "%%time\n",
    "\n",
    "import sys\n",
    "sys.stdout = open('/dev/stdout', 'w') ## this is just for me to print out \"w\" in the termin and make sure that My code is working\n",
    "\n",
    "user_review =[]\n",
    "critic_review = []\n",
    "writer = []\n",
    "language = []\n",
    "country = []\n",
    "budget = []\n",
    "gross_1 = []\n",
    "opening_week=[]\n",
    "oscar_win = []\n",
    "oscar_nom = []\n",
    "other_win = []\n",
    "other_nom = []\n",
    "count = 0\n",
    "for i in title_id:\n",
    "    \n",
    "    sys.stdout.write(i + '\\n')\n",
    "    \n",
    "    r = requests.get(\"http://www.imdb.com/title/\"+str(i)+\"/?ref_=nv_sr_1\")\n",
    "    soup = BeautifulSoup(r.content, \"lxml\")\n",
    "    \n",
    "    # Getting User_review_no\n",
    "    try:\n",
    "        user_review.append(re.findall(r'.+\\d', soup.find('span', attrs={'itemprop':\"reviewCount\"}).text))\n",
    "    except:\n",
    "        user_review.append(None)\n",
    "    # Getting Critic_no\n",
    "    try:\n",
    "        critic_review.append(re.findall(r'.+\\d',soup.find('span', attrs={'itemprop':\"reviewCount\"}).find_next_sibling().text))\n",
    "    except:\n",
    "        critic_review.append(None)\n",
    "        \n",
    "    \"\"\"try:\n",
    "        won.append(soup.find(\"span\", itemprop=\"awards\").text.strip())\n",
    "    except:\n",
    "        won.append(None)\"\"\"\n",
    "    # Getting Writer\n",
    "    try:\n",
    "        writer.append(soup.find('span', attrs={'itemprop':\"creator\"}).text)\n",
    "    except:\n",
    "        writer.append(None)\n",
    "    \"\"\"for i in soup.find_all('h4',class_ = \"inline\"):\n",
    "        if i.text.strip() == \"Writers:\" or i.text.strip() ==\"Writer\":\n",
    "            writer.append(i.find_next().text.strip())\"\"\"\n",
    "    \n",
    "    # Getting Language\n",
    "    a = 0\n",
    "    try:\n",
    "        for i in soup.find_all(\"h4\", class_ = 'inline'):\n",
    "            if i.text.strip() == \"Language:\":\n",
    "                a = i.find_next().text\n",
    "                #language.append(i.find_next().text)\n",
    "    except:\n",
    "        a = None\n",
    "    language.append(a)\n",
    "        \n",
    "    # Getting Country\n",
    "    a = 0\n",
    "    try:\n",
    "        for i in soup.find_all('h4',class_ = \"inline\"):\n",
    "            if i.text.strip() == \"Country:\":\n",
    "                a = i.find_next().text.strip()\n",
    "                #country.append(i.find_next().text.strip())\n",
    "    except:\n",
    "        a = None\n",
    "    country.append(a)\n",
    "            \n",
    "    # Getting Budget\n",
    "    a = 0\n",
    "    try:\n",
    "        for i in soup.find_all(\"h4\", class_ = \"inline\"):\n",
    "            if i.text.strip() == \"Budget:\":\n",
    "                a = (i.next_sibling.strip()).replace(\",\",\"\")\n",
    "               # budget.append((i.next_sibling.strip()).replace(\",\",\"\"))\n",
    "    except:\n",
    "        a = None\n",
    "    budget.append(a)\n",
    "            \n",
    "    # Getting Gross\n",
    "    a = 0\n",
    "    try:\n",
    "        for i in soup.find_all(\"h4\", class_ = \"inline\"):\n",
    "            if i.text.strip() == \"Gross:\":    \n",
    "                a = (i.next_sibling.strip()).replace(\",\",\"\")\n",
    "                #gross_1.append((i.next_sibling.strip()).replace(\",\",\"\"))\n",
    "    except:\n",
    "        a = None\n",
    "    gross_1.append(a)\n",
    "        \n",
    "    # Getting Opening Weekend\n",
    "    a = 0\n",
    "    try:\n",
    "        for i in soup.find_all(\"h4\", class_ = \"inline\"):\n",
    "            if i.text.strip() == \"Opening Weekend:\":\n",
    "                a = (i.next_sibling.strip()).replace(\",\",\"\")\n",
    "                #opening_week.append((i.next_sibling.strip()).replace(\",\",\"\"))\n",
    "    except:\n",
    "        a = None\n",
    "    opening_week.append(a)\n",
    "    \n",
    "    \n",
    "    # Getting Oscar, Oscar_nomination, Other_awards, Other_nomminations\n",
    "    # getting oscar\n",
    "    while soup.find_all(\"span\", attrs={\"itemprop\":\"awards\"}):\n",
    "        for i in soup.find_all(\"span\", attrs={\"itemprop\":\"awards\"}):\n",
    "            if \"Won\" in i.text and (\"Oscar.\" in i.text or \"Oscars.\" in i.text):\n",
    "                oscar_win.append(re.findall(r'\\d+', i.text.strip(\"\")))\n",
    "                break\n",
    "            else:\n",
    "                oscar_win.append(None)\n",
    "                break\n",
    "        break\n",
    "    else:\n",
    "        oscar_win.append(None)\n",
    "        \n",
    "    # find nominations for oscar\n",
    "    while soup.find_all(\"span\", attrs={\"itemprop\":\"awards\"}):\n",
    "        for i in soup.find_all(\"span\", attrs={\"itemprop\":\"awards\"}):\n",
    "            if \"Nominated\" in i.text and (\"Oscar.\" in i.text or \"Oscars.\" in i.text):\n",
    "                oscar_nom.append(re.findall(r'\\d+', i.text.strip(\"\")))\n",
    "                break\n",
    "            else:\n",
    "                oscar_nom.append(None)\n",
    "                break\n",
    "        break\n",
    "    else:\n",
    "        oscar_nom.append(None)\n",
    "    \n",
    "    # Getting other wins\n",
    "    try:\n",
    "        for i in soup.find_all(\"span\", attrs={\"itemprop\":\"awards\"}):\n",
    "            #print i.text\n",
    "            if (\"wins\" in i.text or \"win\" in i.text) and (\"nominations\" in i.text or \"nomination.\" in i.text):\n",
    "                a = re.findall(r'\\d+', i.text.strip(\"\"))[0]\n",
    "            elif (\"wins\" in i.text or \"win\" in i.text) and (\"nominations\" not in i.text or \"nomination.\" not in i.text):\n",
    "                a = re.findall(r'\\d+', i.text.strip(\"\"))[0]\n",
    "            elif (\"wins\" not in i.text or \"win\" not in i.text) and (\"nominations\" in i.text or \"nomination.\" in i.text):\n",
    "                a = None\n",
    "    except:\n",
    "        a = None\n",
    "    other_win.append(a)\n",
    "        \n",
    "        \n",
    "    # Getting other nominations\n",
    "    try:\n",
    "        for i in soup.find_all(\"span\", attrs={\"itemprop\":\"awards\"}):\n",
    "            #print i.text\n",
    "            if (\"wins\" in i.text or \"win\" in i.text) and (\"nominations\" in i.text or \"nomination.\" in i.text):\n",
    "                #other_nom.append(re.findall(r'\\d+', i.text.strip(\"\"))[1])\n",
    "                a = re.findall(r'\\d+', i.text.strip(\"\"))[1]\n",
    "            elif (\"wins\" in i.text or \"win\" in i.text) and (\"nominations\" not in i.text or \"nomination.\" not in i.text):\n",
    "                a = None\n",
    "            elif (\"wins\" not in i.text or \"win\" not in i.text) and (\"nominations\" in i.text or \"nomination.\" in i.text):\n",
    "                a = re.findall(r'\\d+', i.text.strip(\"\"))[0]\n",
    "    except:\n",
    "        a = None\n",
    "    other_nom.append(a)\n",
    "    count += 1\n",
    "    \n"
   ]
  },
  {
   "cell_type": "code",
   "execution_count": null,
   "metadata": {
    "collapsed": true
   },
   "outputs": [],
   "source": [
    "# checking the length of each features\n",
    "print count\n",
    "print len(user_review)\n",
    "print len(critic_review)\n",
    "print len(writer)\n",
    "print len(language)\n",
    "print len(country)\n",
    "print len(budget)\n",
    "print len(gross_1)\n",
    "print len(opening_week)\n",
    "print len(oscar_win)\n",
    "print len(oscar_nom)\n",
    "print len(other_win)\n",
    "print len(other_nom)\n",
    "\n"
   ]
  },
  {
   "cell_type": "code",
   "execution_count": null,
   "metadata": {
    "collapsed": true,
    "scrolled": false
   },
   "outputs": [],
   "source": [
    "## creating a second list with all the scraped features\n",
    "data_list_2 = [user_review, critic_review, writer, language, country, budget, gross_1, opening_week, oscar_win, oscar_nom, other_win, other_nom]"
   ]
  },
  {
   "cell_type": "code",
   "execution_count": null,
   "metadata": {
    "collapsed": true
   },
   "outputs": [],
   "source": [
    "\n",
    "df2 = pd.DataFrame(data_list_2)"
   ]
  },
  {
   "cell_type": "code",
   "execution_count": null,
   "metadata": {
    "collapsed": true
   },
   "outputs": [],
   "source": [
    "df2 = df2.T"
   ]
  },
  {
   "cell_type": "code",
   "execution_count": null,
   "metadata": {
    "collapsed": true
   },
   "outputs": [],
   "source": [
    "\n",
    "header2 = [\"user_review\", \"critic_review\", \"writer\", \"language\", \"country\", \"budget\", \"gross_1\", \"opening_week\", \"oscar_win\", \"oscar_nom\", \"other_win\", \"other_nom\"]"
   ]
  },
  {
   "cell_type": "code",
   "execution_count": null,
   "metadata": {
    "collapsed": true
   },
   "outputs": [],
   "source": [
    "df2.columns = header2"
   ]
  },
  {
   "cell_type": "code",
   "execution_count": null,
   "metadata": {
    "collapsed": true
   },
   "outputs": [],
   "source": [
    "## The code above ran in AWS and once the scrapig was completed, the scraped data stored as a csv file in EC2. \n",
    "df2.to_csv('imdb_2.csv', encoding=\"utf-8\")"
   ]
  },
  {
   "cell_type": "code",
   "execution_count": null,
   "metadata": {
    "collapsed": true
   },
   "outputs": [],
   "source": [
    "## Getting all the titles in order to run through rotten tomato. \n",
    "title = df1[\"title\"]"
   ]
  },
  {
   "cell_type": "code",
   "execution_count": null,
   "metadata": {
    "collapsed": true
   },
   "outputs": [],
   "source": [
    "## making necessary changes in order to fit the rotten tomato urls. \n",
    "title = title.apply(lambda x:x.replace(\" \", \"_\"))\n",
    "title = title.apply(lambda x:x.replace(\".\", \"\"))\n",
    "title = title.apply(lambda x:x.replace(\":\", \"\"))\n",
    "title = title.apply(lambda x:x.replace(\"-\", \"\"))\n",
    "title = title.apply(lambda x:x.replace(\",\", \"\"))\n",
    "title = title.apply(lambda x:x.replace(\"'\", \"\"))\n",
    "title = title.apply(lambda x:x.replace(\"__\", \"_\"))\n",
    "\n",
    "## changes that name of the spoted movies to fit the url. \n",
    "title = title.apply(lambda x:x.replace(\"Logan\", \"logan_2017\"))\n",
    "title = title.apply(lambda x:x.replace(\"Lion\", \"lion_2016\"))\n",
    "title = title.apply(lambda x:x.replace(\"Bahubali_The_Beginning\", \"Baahubali_The_Beginning\"))\n",
    "title = title.apply(lambda x:x.replace(\"Star_Wars_Episode_V__The_Empire_Strikes_Back\", \"empire_strikes_back\"))\n",
    "title = title.apply(lambda x:x.replace(\"Kavkazskaya_plennitsa_ili_Novye_priklyucheniya_Shurika\", \"kavkazskaya_plennitsa_ili_novye_priklyucheniya_shurika_kidnapping_caucassian_style\"))\n",
    "title = title.apply(lambda x:x.replace(\"Star_Wars_Episode_IV_A_New_Hope\", \"star_wars\"))\n",
    "title = title.apply(lambda x:x.replace(\"Tom_Petty_and_the_Heartbreakers_Runnin_Down_a_Dream\", \"runnin_down_a_dream_tom_petty_and_the_heartbreakers\"))\n",
    "title = title.apply(lambda x:x.replace(\"The_Incredibly_Strange_Creatures_Who_Stopped_Living_and_Became_MixedUp_Zombies!!?\", \"the_incredibly_strange_creatures\"))"
   ]
  },
  {
   "cell_type": "markdown",
   "metadata": {},
   "source": [
    "#### Rotten_tomato webscraping\n",
    "<a name=\"Rotten tomato webscraping\"></a>"
   ]
  },
  {
   "cell_type": "code",
   "execution_count": null,
   "metadata": {
    "collapsed": true,
    "scrolled": true
   },
   "outputs": [],
   "source": [
    "%%time\n",
    "\n",
    "import sys\n",
    "sys.stdout = open('/dev/stdout', 'w')\n",
    "\n",
    "rt_score = []\n",
    "rt_avg_rating = []\n",
    "rt_audience_score = []\n",
    "rt_user_rating = []\n",
    "rt_avg_aud_rating = []\n",
    "rt_fresh = []\n",
    "rt_rotten = []\n",
    "\n",
    "for i in title:\n",
    "    \n",
    "    sys.stdout.write(i + '\\n')\n",
    "    \n",
    "    r = requests.get(\"https://www.rottentomatoes.com/m/\"+str(i))\n",
    "    soup = BeautifulSoup(r.content, \"lxml\")\n",
    "    \n",
    "    # Getting tomato meter score.\n",
    "    a = 0\n",
    "    for i in soup.find_all(\"h3\", class_ =\"scoreTitle superPageFontColor\"):\n",
    "        if i.text.strip() == \"TOMATOMETER\":\n",
    "            try:\n",
    "                a = i.find_next(\"span\", class_=\"meter-value superPageFontColor\").text\n",
    "            except:\n",
    "                a = None\n",
    "    rt_score.append(a)\n",
    "    \n",
    "    # Getting average_rating from tomatometer \n",
    "    a = 0\n",
    "    for i in soup.find_all(\"div\", attrs= {\"id\":\"all-critics-numbers\"}):\n",
    "        try:\n",
    "            a = re.findall(r'./.\\d', i.text.strip())[0]\n",
    "        except:\n",
    "            a = None\n",
    "    rt_avg_rating.append(a)\n",
    "    \n",
    "    # Getting audience score meter score.\n",
    "    a = 0\n",
    "    for i in soup.find_all(\"h3\", class_ =\"scoreTitle superPageFontColor\"):\n",
    "        if i.text.strip() == \"AUDIENCE SCORE\":\n",
    "            try:\n",
    "                a = i.find_next(\"span\" ,class_ =\"superPageFontColor\").text\n",
    "            except:\n",
    "                a = None\n",
    "    rt_audience_score.append(a)\n",
    "    \n",
    "    # Getting user rating from Rotten Tomato\n",
    "    a = 0\n",
    "    for i in soup.find_all(\"span\" ,class_ =\"subtle superPageFontColor\"):\n",
    "        if i.text == \"User Ratings:\":\n",
    "            try:\n",
    "                a = i.next_sibling.strip()\n",
    "            except:\n",
    "                a = None\n",
    "    rt_user_rating.append(a)\n",
    "    \n",
    "    # Getting Average rating from Rotten Tomato(Audience score)\n",
    "    a = 0\n",
    "    for i in soup.find_all(\"span\" ,class_ =\"subtle superPageFontColor\"):\n",
    "        if i.text == \"Average Rating:\":\n",
    "            try:\n",
    "                a = i.next_sibling.strip()\n",
    "            except:\n",
    "                a = None\n",
    "    rt_avg_aud_rating.append(a)\n",
    "    \n",
    "    # finding fresh for all critic\n",
    "    a = 0\n",
    "    for i in soup.find_all(\"span\" ,class_ =\"subtle superPageFontColor audience-info\"):\n",
    "        if i.text.strip() == \"Fresh:\":\n",
    "            a = int(i.find_next().text)\n",
    "            break\n",
    "    rt_fresh.append(a)\n",
    "    \n",
    "    # finding rotten for all critic\n",
    "    a = 0\n",
    "    for i in soup.find_all(\"span\" ,class_ =\"subtle superPageFontColor audience-info\"):\n",
    "        if i.text.strip() == \"Rotten:\":\n",
    "            a = int(i.find_next().text)\n",
    "            break\n",
    "    rt_rotten.append(a)"
   ]
  },
  {
   "cell_type": "code",
   "execution_count": null,
   "metadata": {
    "collapsed": true
   },
   "outputs": [],
   "source": [
    "## creating a third list with all the scraped features\n",
    "data_list_3 = [rt_score, rt_avg_rating, rt_audience_score, rt_user_rating, rt_avg_aud_rating, rt_fresh, rt_rotten ]"
   ]
  },
  {
   "cell_type": "code",
   "execution_count": null,
   "metadata": {
    "collapsed": true
   },
   "outputs": [],
   "source": [
    "for i in data_list_3:\n",
    "    print len(i)"
   ]
  },
  {
   "cell_type": "code",
   "execution_count": null,
   "metadata": {
    "collapsed": true
   },
   "outputs": [],
   "source": [
    "\n",
    "df3 = pd.DataFrame(data_list_3)"
   ]
  },
  {
   "cell_type": "code",
   "execution_count": null,
   "metadata": {
    "collapsed": true
   },
   "outputs": [],
   "source": [
    "df3 = df3.T"
   ]
  },
  {
   "cell_type": "code",
   "execution_count": null,
   "metadata": {
    "collapsed": true
   },
   "outputs": [],
   "source": [
    "\n",
    "header3 = [\"rt_score\", \"rt_avg_rating\", \"rt_audience_score\", \"rt_user_rating\", \"rt_avg_aud_rating\", \"rt_fresh\", \"rt_rotten\"]"
   ]
  },
  {
   "cell_type": "code",
   "execution_count": null,
   "metadata": {
    "collapsed": true
   },
   "outputs": [],
   "source": [
    "df3.columns = header3"
   ]
  },
  {
   "cell_type": "code",
   "execution_count": null,
   "metadata": {
    "collapsed": true
   },
   "outputs": [],
   "source": [
    "## The code above ran in AWS and once the scrapig was completed, the scraped data stored as a csv file in EC2. \n",
    "df3.to_csv('rt.csv', encoding=\"utf-8\")"
   ]
  },
  {
   "cell_type": "code",
   "execution_count": 508,
   "metadata": {},
   "outputs": [
    {
     "data": {
      "text/plain": [
       "'mt_score = []\\n\\nfor i in title_id:\\n    r = requests.get(\"http://www.imdb.com/title/\"+str(i)+\"/?ref_=nv_sr_2\")\\n    soup = BeautifulSoup(r.content, \"lxml\")\\n    a = 0\\n    try:\\n        a = soup.find(\"a\", attrs={\"href\":\"criticreviews?ref_=tt_ov_rt\"}).text.strip()\\n    except:\\n        a =  None\\n    print a\\n    mt_score.append(a)'"
      ]
     },
     "execution_count": 508,
     "metadata": {},
     "output_type": "execute_result"
    }
   ],
   "source": [
    "## re-ran the code for meta score. \n",
    "mt_score = []\n",
    "\n",
    "for i in title_id:\n",
    "    r = requests.get(\"http://www.imdb.com/title/\"+str(i)+\"/?ref_=nv_sr_2\")\n",
    "    soup = BeautifulSoup(r.content, \"lxml\")\n",
    "    a = 0\n",
    "    try:\n",
    "        a = soup.find(\"a\", attrs={\"href\":\"criticreviews?ref_=tt_ov_rt\"}).text.strip()\n",
    "    except:\n",
    "        a =  None\n",
    "    print a\n",
    "    mt_score.append(a)"
   ]
  },
  {
   "cell_type": "code",
   "execution_count": 989,
   "metadata": {
    "collapsed": true
   },
   "outputs": [],
   "source": [
    "header = [\"metascores\"]"
   ]
  },
  {
   "cell_type": "code",
   "execution_count": 990,
   "metadata": {
    "collapsed": true
   },
   "outputs": [],
   "source": [
    "df4.columns = header"
   ]
  },
  {
   "cell_type": "code",
   "execution_count": 509,
   "metadata": {
    "collapsed": true
   },
   "outputs": [],
   "source": [
    "df_mt.to_csv(\"meta.csv\", encoding=\"utf-8\")"
   ]
  },
  {
   "cell_type": "markdown",
   "metadata": {},
   "source": [
    "# Cleaning all the datasets\n",
    "<a name =\"cleaning_data_sets\"></a>"
   ]
  },
  {
   "cell_type": "code",
   "execution_count": 3,
   "metadata": {
    "collapsed": true
   },
   "outputs": [],
   "source": [
    "## This can be the socend part of this project, from here on, I dont have to worry web scraping and all \n",
    "## the scraped data was saved in a csv file and imported fresh with the following codes\n",
    "import pandas as pd\n",
    "import requests\n",
    "import numpy as np\n",
    "import re\n",
    "import csv\n",
    "from bs4 import BeautifulSoup\n",
    "from sklearn.metrics import roc_curve, auc, precision_recall_curve"
   ]
  },
  {
   "cell_type": "code",
   "execution_count": 4,
   "metadata": {
    "collapsed": true
   },
   "outputs": [],
   "source": [
    "## getting the scraped csv files. \n",
    "df1 = pd.read_csv('imdb_1.csv')\n",
    "df2 = pd.read_csv('imdb_2.csv')\n",
    "df3 = pd.read_csv('rt.csv')\n",
    "df4 = pd.read_csv('meta.csv')"
   ]
  },
  {
   "cell_type": "code",
   "execution_count": 5,
   "metadata": {
    "collapsed": true
   },
   "outputs": [],
   "source": [
    "#Dropping the first columns of each datasets\n",
    "df1.drop(df1.columns[0], axis=1, inplace=True)\n",
    "df2.drop(df2.columns[0], axis=1, inplace=True)\n",
    "df3.drop(df3.columns[0], axis=1, inplace=True)\n",
    "df4.drop(df4.columns[0], axis=1, inplace=True)"
   ]
  },
  {
   "cell_type": "code",
   "execution_count": 6,
   "metadata": {
    "collapsed": true
   },
   "outputs": [],
   "source": [
    "header = [\"metascores\"]"
   ]
  },
  {
   "cell_type": "code",
   "execution_count": 7,
   "metadata": {
    "collapsed": true
   },
   "outputs": [],
   "source": [
    "df4.columns = header"
   ]
  },
  {
   "cell_type": "code",
   "execution_count": 8,
   "metadata": {},
   "outputs": [
    {
     "data": {
      "text/html": [
       "<div>\n",
       "<table border=\"1\" class=\"dataframe\">\n",
       "  <thead>\n",
       "    <tr style=\"text-align: right;\">\n",
       "      <th></th>\n",
       "      <th>title_id</th>\n",
       "      <th>title</th>\n",
       "      <th>runtime</th>\n",
       "      <th>genre</th>\n",
       "      <th>certificate</th>\n",
       "      <th>imdb_rating</th>\n",
       "      <th>gross</th>\n",
       "      <th>year</th>\n",
       "      <th>votes</th>\n",
       "      <th>director_actor</th>\n",
       "      <th>metascore</th>\n",
       "    </tr>\n",
       "  </thead>\n",
       "  <tbody>\n",
       "    <tr>\n",
       "      <th>0</th>\n",
       "      <td>tt3896198</td>\n",
       "      <td>Guardians of the Galaxy Vol. 2</td>\n",
       "      <td>[136]</td>\n",
       "      <td>Action, Adventure, Sci-Fi</td>\n",
       "      <td>PG-13</td>\n",
       "      <td>8.1</td>\n",
       "      <td>[183.16]</td>\n",
       "      <td>(2017)</td>\n",
       "      <td>107822</td>\n",
       "      <td>Director:\\nJames Gunn\\n| \\n    Stars:\\nChris P...</td>\n",
       "      <td>67.0</td>\n",
       "    </tr>\n",
       "    <tr>\n",
       "      <th>1</th>\n",
       "      <td>tt4849438</td>\n",
       "      <td>Baahubali 2: The Conclusion</td>\n",
       "      <td>[167]</td>\n",
       "      <td>Action, Adventure, Drama</td>\n",
       "      <td>NaN</td>\n",
       "      <td>9.0</td>\n",
       "      <td>[17.38]</td>\n",
       "      <td>(2017)</td>\n",
       "      <td>31843</td>\n",
       "      <td>Director:\\nS.S. Rajamouli\\n| \\n    Stars:\\nPra...</td>\n",
       "      <td>NaN</td>\n",
       "    </tr>\n",
       "    <tr>\n",
       "      <th>2</th>\n",
       "      <td>tt5052448</td>\n",
       "      <td>Get Out</td>\n",
       "      <td>[104]</td>\n",
       "      <td>Horror, Mystery</td>\n",
       "      <td>R</td>\n",
       "      <td>8.0</td>\n",
       "      <td>[173.84]</td>\n",
       "      <td>(I) (2017)</td>\n",
       "      <td>80515</td>\n",
       "      <td>Director:\\nJordan Peele\\n| \\n    Stars:\\nDanie...</td>\n",
       "      <td>84.0</td>\n",
       "    </tr>\n",
       "    <tr>\n",
       "      <th>3</th>\n",
       "      <td>tt2015381</td>\n",
       "      <td>Guardians of the Galaxy</td>\n",
       "      <td>[121]</td>\n",
       "      <td>Action, Adventure, Sci-Fi</td>\n",
       "      <td>PG-13</td>\n",
       "      <td>8.1</td>\n",
       "      <td>[333.13]</td>\n",
       "      <td>(2014)</td>\n",
       "      <td>753002</td>\n",
       "      <td>Director:\\nJames Gunn\\n| \\n    Stars:\\nChris P...</td>\n",
       "      <td>76.0</td>\n",
       "    </tr>\n",
       "    <tr>\n",
       "      <th>4</th>\n",
       "      <td>tt1790809</td>\n",
       "      <td>Pirates of the Caribbean: Dead Men Tell No Tales</td>\n",
       "      <td>[129]</td>\n",
       "      <td>Action, Adventure, Fantasy</td>\n",
       "      <td>PG-13</td>\n",
       "      <td>8.6</td>\n",
       "      <td>NaN</td>\n",
       "      <td>(2017)</td>\n",
       "      <td>1008</td>\n",
       "      <td>Directors:\\nJoachim Rønning, \\nEspen Sandberg\\...</td>\n",
       "      <td>NaN</td>\n",
       "    </tr>\n",
       "  </tbody>\n",
       "</table>\n",
       "</div>"
      ],
      "text/plain": [
       "    title_id                                             title runtime  \\\n",
       "0  tt3896198                    Guardians of the Galaxy Vol. 2   [136]   \n",
       "1  tt4849438                       Baahubali 2: The Conclusion   [167]   \n",
       "2  tt5052448                                           Get Out   [104]   \n",
       "3  tt2015381                           Guardians of the Galaxy   [121]   \n",
       "4  tt1790809  Pirates of the Caribbean: Dead Men Tell No Tales   [129]   \n",
       "\n",
       "                        genre certificate  imdb_rating     gross        year  \\\n",
       "0   Action, Adventure, Sci-Fi       PG-13          8.1  [183.16]      (2017)   \n",
       "1    Action, Adventure, Drama         NaN          9.0   [17.38]      (2017)   \n",
       "2             Horror, Mystery           R          8.0  [173.84]  (I) (2017)   \n",
       "3   Action, Adventure, Sci-Fi       PG-13          8.1  [333.13]      (2014)   \n",
       "4  Action, Adventure, Fantasy       PG-13          8.6       NaN      (2017)   \n",
       "\n",
       "    votes                                     director_actor  metascore  \n",
       "0  107822  Director:\\nJames Gunn\\n| \\n    Stars:\\nChris P...       67.0  \n",
       "1   31843  Director:\\nS.S. Rajamouli\\n| \\n    Stars:\\nPra...        NaN  \n",
       "2   80515  Director:\\nJordan Peele\\n| \\n    Stars:\\nDanie...       84.0  \n",
       "3  753002  Director:\\nJames Gunn\\n| \\n    Stars:\\nChris P...       76.0  \n",
       "4    1008  Directors:\\nJoachim Rønning, \\nEspen Sandberg\\...        NaN  "
      ]
     },
     "execution_count": 8,
     "metadata": {},
     "output_type": "execute_result"
    }
   ],
   "source": [
    "df1.head()"
   ]
  },
  {
   "cell_type": "code",
   "execution_count": 9,
   "metadata": {
    "collapsed": true
   },
   "outputs": [],
   "source": [
    "## Adding all the colummns together. \n",
    "df = pd.concat([df1, df2, df3, df4], axis = 1)"
   ]
  },
  {
   "cell_type": "code",
   "execution_count": 10,
   "metadata": {},
   "outputs": [
    {
     "data": {
      "text/html": [
       "<div>\n",
       "<table border=\"1\" class=\"dataframe\">\n",
       "  <thead>\n",
       "    <tr style=\"text-align: right;\">\n",
       "      <th></th>\n",
       "      <th>title_id</th>\n",
       "      <th>title</th>\n",
       "      <th>runtime</th>\n",
       "      <th>genre</th>\n",
       "      <th>certificate</th>\n",
       "      <th>imdb_rating</th>\n",
       "      <th>gross</th>\n",
       "      <th>year</th>\n",
       "      <th>votes</th>\n",
       "      <th>director_actor</th>\n",
       "      <th>metascore</th>\n",
       "      <th>user_review</th>\n",
       "      <th>critic_review</th>\n",
       "      <th>writer</th>\n",
       "      <th>language</th>\n",
       "      <th>country</th>\n",
       "      <th>budget</th>\n",
       "      <th>gross_1</th>\n",
       "      <th>opening_week</th>\n",
       "      <th>oscar_win</th>\n",
       "      <th>oscar_nom</th>\n",
       "      <th>other_win</th>\n",
       "      <th>other_nom</th>\n",
       "      <th>rt_score</th>\n",
       "      <th>rt_avg_rating</th>\n",
       "      <th>rt_audience_score</th>\n",
       "      <th>rt_user_rating</th>\n",
       "      <th>rt_avg_aud_rating</th>\n",
       "      <th>rt_fresh</th>\n",
       "      <th>rt_rotten</th>\n",
       "      <th>metascores</th>\n",
       "    </tr>\n",
       "  </thead>\n",
       "  <tbody>\n",
       "    <tr>\n",
       "      <th>0</th>\n",
       "      <td>tt3896198</td>\n",
       "      <td>Guardians of the Galaxy Vol. 2</td>\n",
       "      <td>[136]</td>\n",
       "      <td>Action, Adventure, Sci-Fi</td>\n",
       "      <td>PG-13</td>\n",
       "      <td>8.1</td>\n",
       "      <td>[183.16]</td>\n",
       "      <td>(2017)</td>\n",
       "      <td>107822</td>\n",
       "      <td>Director:\\nJames Gunn\\n| \\n    Stars:\\nChris P...</td>\n",
       "      <td>67.0</td>\n",
       "      <td>[361]</td>\n",
       "      <td>[380]</td>\n",
       "      <td>\\nJames Gunn,</td>\n",
       "      <td>English</td>\n",
       "      <td>USA</td>\n",
       "      <td>$200000000</td>\n",
       "      <td>$156372759</td>\n",
       "      <td>$146510104        \\n\\n      (USA)</td>\n",
       "      <td>NaN</td>\n",
       "      <td>NaN</td>\n",
       "      <td>$146510104        \\n\\n      (USA)</td>\n",
       "      <td>$146510104        \\n\\n      (USA)</td>\n",
       "      <td>81%</td>\n",
       "      <td>1/10</td>\n",
       "      <td>90%</td>\n",
       "      <td>71,995</td>\n",
       "      <td>4.3/5</td>\n",
       "      <td>227</td>\n",
       "      <td>52</td>\n",
       "      <td>67.0</td>\n",
       "    </tr>\n",
       "    <tr>\n",
       "      <th>1</th>\n",
       "      <td>tt4849438</td>\n",
       "      <td>Baahubali 2: The Conclusion</td>\n",
       "      <td>[167]</td>\n",
       "      <td>Action, Adventure, Drama</td>\n",
       "      <td>NaN</td>\n",
       "      <td>9.0</td>\n",
       "      <td>[17.38]</td>\n",
       "      <td>(2017)</td>\n",
       "      <td>31843</td>\n",
       "      <td>Director:\\nS.S. Rajamouli\\n| \\n    Stars:\\nPra...</td>\n",
       "      <td>NaN</td>\n",
       "      <td>[14]</td>\n",
       "      <td>[64]</td>\n",
       "      <td>\\nDan O'Bannon (based on characters created by...</td>\n",
       "      <td>English</td>\n",
       "      <td>USA</td>\n",
       "      <td>0</td>\n",
       "      <td>0</td>\n",
       "      <td>0</td>\n",
       "      <td>NaN</td>\n",
       "      <td>NaN</td>\n",
       "      <td>NaN</td>\n",
       "      <td>1</td>\n",
       "      <td>75%</td>\n",
       "      <td>3/10</td>\n",
       "      <td>0</td>\n",
       "      <td>38,209</td>\n",
       "      <td>0</td>\n",
       "      <td>81</td>\n",
       "      <td>27</td>\n",
       "      <td>NaN</td>\n",
       "    </tr>\n",
       "    <tr>\n",
       "      <th>2</th>\n",
       "      <td>tt5052448</td>\n",
       "      <td>Get Out</td>\n",
       "      <td>[104]</td>\n",
       "      <td>Horror, Mystery</td>\n",
       "      <td>R</td>\n",
       "      <td>8.0</td>\n",
       "      <td>[173.84]</td>\n",
       "      <td>(I) (2017)</td>\n",
       "      <td>80515</td>\n",
       "      <td>Director:\\nJordan Peele\\n| \\n    Stars:\\nDanie...</td>\n",
       "      <td>84.0</td>\n",
       "      <td>[288]</td>\n",
       "      <td>[44]</td>\n",
       "      <td>\\nMankombu Gopalakrishnan (dialogue),         ...</td>\n",
       "      <td>Telugu</td>\n",
       "      <td>India</td>\n",
       "      <td>$40000000</td>\n",
       "      <td>$16575025</td>\n",
       "      <td>$10354532        \\n\\n      (USA)</td>\n",
       "      <td>NaN</td>\n",
       "      <td>NaN</td>\n",
       "      <td>$10354532        \\n\\n      (USA)</td>\n",
       "      <td>$10354532        \\n\\n      (USA)</td>\n",
       "      <td>100%</td>\n",
       "      <td>8/10</td>\n",
       "      <td>90%</td>\n",
       "      <td>1,346</td>\n",
       "      <td>4.5/5</td>\n",
       "      <td>5</td>\n",
       "      <td>0</td>\n",
       "      <td>84.0</td>\n",
       "    </tr>\n",
       "    <tr>\n",
       "      <th>3</th>\n",
       "      <td>tt2015381</td>\n",
       "      <td>Guardians of the Galaxy</td>\n",
       "      <td>[121]</td>\n",
       "      <td>Action, Adventure, Sci-Fi</td>\n",
       "      <td>PG-13</td>\n",
       "      <td>8.1</td>\n",
       "      <td>[333.13]</td>\n",
       "      <td>(2014)</td>\n",
       "      <td>753002</td>\n",
       "      <td>Director:\\nJames Gunn\\n| \\n    Stars:\\nChris P...</td>\n",
       "      <td>76.0</td>\n",
       "      <td>[396]</td>\n",
       "      <td>[464]</td>\n",
       "      <td>\\nJordan Peele</td>\n",
       "      <td>English</td>\n",
       "      <td>USA</td>\n",
       "      <td>$5000000</td>\n",
       "      <td>$173836140</td>\n",
       "      <td>$33377060        \\n\\n      (USA)</td>\n",
       "      <td>NaN</td>\n",
       "      <td>NaN</td>\n",
       "      <td>NaN</td>\n",
       "      <td>7</td>\n",
       "      <td>99%</td>\n",
       "      <td>3/10</td>\n",
       "      <td>88%</td>\n",
       "      <td>53,088</td>\n",
       "      <td>4.3/5</td>\n",
       "      <td>252</td>\n",
       "      <td>1</td>\n",
       "      <td>76.0</td>\n",
       "    </tr>\n",
       "    <tr>\n",
       "      <th>4</th>\n",
       "      <td>tt1790809</td>\n",
       "      <td>Pirates of the Caribbean: Dead Men Tell No Tales</td>\n",
       "      <td>[129]</td>\n",
       "      <td>Action, Adventure, Fantasy</td>\n",
       "      <td>PG-13</td>\n",
       "      <td>8.6</td>\n",
       "      <td>NaN</td>\n",
       "      <td>(2017)</td>\n",
       "      <td>1008</td>\n",
       "      <td>Directors:\\nJoachim Rønning, \\nEspen Sandberg\\...</td>\n",
       "      <td>NaN</td>\n",
       "      <td>[1,130]</td>\n",
       "      <td>[669]</td>\n",
       "      <td>\\nJames Gunn,</td>\n",
       "      <td>English</td>\n",
       "      <td>USA</td>\n",
       "      <td>$170000000</td>\n",
       "      <td>$333130696</td>\n",
       "      <td>$94320883        \\n\\n      (USA)</td>\n",
       "      <td>NaN</td>\n",
       "      <td>[2]</td>\n",
       "      <td>50</td>\n",
       "      <td>96</td>\n",
       "      <td>91%</td>\n",
       "      <td>8/10</td>\n",
       "      <td>92%</td>\n",
       "      <td>249,085</td>\n",
       "      <td>4.4/5</td>\n",
       "      <td>263</td>\n",
       "      <td>25</td>\n",
       "      <td>NaN</td>\n",
       "    </tr>\n",
       "  </tbody>\n",
       "</table>\n",
       "</div>"
      ],
      "text/plain": [
       "    title_id                                             title runtime  \\\n",
       "0  tt3896198                    Guardians of the Galaxy Vol. 2   [136]   \n",
       "1  tt4849438                       Baahubali 2: The Conclusion   [167]   \n",
       "2  tt5052448                                           Get Out   [104]   \n",
       "3  tt2015381                           Guardians of the Galaxy   [121]   \n",
       "4  tt1790809  Pirates of the Caribbean: Dead Men Tell No Tales   [129]   \n",
       "\n",
       "                        genre certificate  imdb_rating     gross        year  \\\n",
       "0   Action, Adventure, Sci-Fi       PG-13          8.1  [183.16]      (2017)   \n",
       "1    Action, Adventure, Drama         NaN          9.0   [17.38]      (2017)   \n",
       "2             Horror, Mystery           R          8.0  [173.84]  (I) (2017)   \n",
       "3   Action, Adventure, Sci-Fi       PG-13          8.1  [333.13]      (2014)   \n",
       "4  Action, Adventure, Fantasy       PG-13          8.6       NaN      (2017)   \n",
       "\n",
       "    votes                                     director_actor  metascore  \\\n",
       "0  107822  Director:\\nJames Gunn\\n| \\n    Stars:\\nChris P...       67.0   \n",
       "1   31843  Director:\\nS.S. Rajamouli\\n| \\n    Stars:\\nPra...        NaN   \n",
       "2   80515  Director:\\nJordan Peele\\n| \\n    Stars:\\nDanie...       84.0   \n",
       "3  753002  Director:\\nJames Gunn\\n| \\n    Stars:\\nChris P...       76.0   \n",
       "4    1008  Directors:\\nJoachim Rønning, \\nEspen Sandberg\\...        NaN   \n",
       "\n",
       "  user_review critic_review  \\\n",
       "0       [361]         [380]   \n",
       "1        [14]          [64]   \n",
       "2       [288]          [44]   \n",
       "3       [396]         [464]   \n",
       "4     [1,130]         [669]   \n",
       "\n",
       "                                              writer language country  \\\n",
       "0                         \\nJames Gunn,               English     USA   \n",
       "1  \\nDan O'Bannon (based on characters created by...  English     USA   \n",
       "2  \\nMankombu Gopalakrishnan (dialogue),         ...   Telugu   India   \n",
       "3                                    \\nJordan Peele   English     USA   \n",
       "4                         \\nJames Gunn,               English     USA   \n",
       "\n",
       "       budget     gross_1                       opening_week oscar_win  \\\n",
       "0  $200000000  $156372759  $146510104        \\n\\n      (USA)       NaN   \n",
       "1           0           0                                  0       NaN   \n",
       "2   $40000000   $16575025   $10354532        \\n\\n      (USA)       NaN   \n",
       "3    $5000000  $173836140   $33377060        \\n\\n      (USA)       NaN   \n",
       "4  $170000000  $333130696   $94320883        \\n\\n      (USA)       NaN   \n",
       "\n",
       "  oscar_nom                          other_win  \\\n",
       "0       NaN  $146510104        \\n\\n      (USA)   \n",
       "1       NaN                                NaN   \n",
       "2       NaN   $10354532        \\n\\n      (USA)   \n",
       "3       NaN                                NaN   \n",
       "4       [2]                                 50   \n",
       "\n",
       "                           other_nom rt_score rt_avg_rating rt_audience_score  \\\n",
       "0  $146510104        \\n\\n      (USA)      81%          1/10               90%   \n",
       "1                                  1      75%          3/10                 0   \n",
       "2   $10354532        \\n\\n      (USA)     100%          8/10               90%   \n",
       "3                                  7      99%          3/10               88%   \n",
       "4                                 96      91%          8/10               92%   \n",
       "\n",
       "  rt_user_rating rt_avg_aud_rating  rt_fresh  rt_rotten  metascores  \n",
       "0         71,995             4.3/5       227         52        67.0  \n",
       "1         38,209                 0        81         27         NaN  \n",
       "2          1,346             4.5/5         5          0        84.0  \n",
       "3         53,088             4.3/5       252          1        76.0  \n",
       "4        249,085             4.4/5       263         25         NaN  "
      ]
     },
     "execution_count": 10,
     "metadata": {},
     "output_type": "execute_result"
    }
   ],
   "source": [
    "df.head()"
   ]
  },
  {
   "cell_type": "code",
   "execution_count": 11,
   "metadata": {},
   "outputs": [
    {
     "data": {
      "text/plain": [
       "title_id                0\n",
       "title                   0\n",
       "runtime                 4\n",
       "genre                   3\n",
       "certificate           774\n",
       "imdb_rating             0\n",
       "gross                1863\n",
       "year                    0\n",
       "votes                   0\n",
       "director_actor          1\n",
       "metascore            2562\n",
       "user_review             0\n",
       "critic_review         100\n",
       "writer                 13\n",
       "language                0\n",
       "country                 0\n",
       "budget                  0\n",
       "gross_1                 0\n",
       "opening_week            0\n",
       "oscar_win            2750\n",
       "oscar_nom            2763\n",
       "other_win             440\n",
       "other_nom             321\n",
       "rt_score              834\n",
       "rt_avg_rating         834\n",
       "rt_audience_score       0\n",
       "rt_user_rating          0\n",
       "rt_avg_aud_rating     140\n",
       "rt_fresh                0\n",
       "rt_rotten               0\n",
       "metascores           2022\n",
       "dtype: int64"
      ]
     },
     "execution_count": 11,
     "metadata": {},
     "output_type": "execute_result"
    }
   ],
   "source": [
    "df.isnull().sum()"
   ]
  },
  {
   "cell_type": "code",
   "execution_count": 12,
   "metadata": {
    "collapsed": true
   },
   "outputs": [],
   "source": [
    "df = df.replace('N/A',np.nan)"
   ]
  },
  {
   "cell_type": "code",
   "execution_count": 13,
   "metadata": {
    "collapsed": true
   },
   "outputs": [],
   "source": [
    "# Dropping duplicates \n",
    "df.drop_duplicates(inplace = True)"
   ]
  },
  {
   "cell_type": "code",
   "execution_count": 14,
   "metadata": {},
   "outputs": [
    {
     "data": {
      "text/plain": [
       "2999"
      ]
     },
     "execution_count": 14,
     "metadata": {},
     "output_type": "execute_result"
    }
   ],
   "source": [
    "len(df)"
   ]
  },
  {
   "cell_type": "code",
   "execution_count": 15,
   "metadata": {
    "collapsed": true
   },
   "outputs": [],
   "source": [
    "## dropping gross column, since I already have another column for gross with less NaN values\n",
    "df.drop(\"gross\",inplace = True,axis = 1)"
   ]
  },
  {
   "cell_type": "code",
   "execution_count": 16,
   "metadata": {
    "scrolled": true
   },
   "outputs": [
    {
     "name": "stdout",
     "output_type": "stream",
     "text": [
      "<class 'pandas.core.frame.DataFrame'>\n",
      "Int64Index: 2999 entries, 0 to 2999\n",
      "Data columns (total 30 columns):\n",
      "title_id             2999 non-null object\n",
      "title                2999 non-null object\n",
      "runtime              2995 non-null object\n",
      "genre                2996 non-null object\n",
      "certificate          2225 non-null object\n",
      "imdb_rating          2999 non-null float64\n",
      "year                 2999 non-null object\n",
      "votes                2999 non-null int64\n",
      "director_actor       2998 non-null object\n",
      "metascore            438 non-null float64\n",
      "user_review          2999 non-null object\n",
      "critic_review        2899 non-null object\n",
      "writer               2986 non-null object\n",
      "language             2999 non-null object\n",
      "country              2999 non-null object\n",
      "budget               2999 non-null object\n",
      "gross_1              2999 non-null object\n",
      "opening_week         2999 non-null object\n",
      "oscar_win            250 non-null object\n",
      "oscar_nom            237 non-null object\n",
      "other_win            2559 non-null object\n",
      "other_nom            2678 non-null object\n",
      "rt_score             2165 non-null object\n",
      "rt_avg_rating        2165 non-null object\n",
      "rt_audience_score    2999 non-null object\n",
      "rt_user_rating       2999 non-null object\n",
      "rt_avg_aud_rating    2859 non-null object\n",
      "rt_fresh             2999 non-null int64\n",
      "rt_rotten            2999 non-null int64\n",
      "metascores           977 non-null float64\n",
      "dtypes: float64(3), int64(3), object(24)\n",
      "memory usage: 726.3+ KB\n"
     ]
    }
   ],
   "source": [
    "df.info()"
   ]
  },
  {
   "cell_type": "code",
   "execution_count": 18,
   "metadata": {},
   "outputs": [
    {
     "data": {
      "text/html": [
       "<div>\n",
       "<table border=\"1\" class=\"dataframe\">\n",
       "  <thead>\n",
       "    <tr style=\"text-align: right;\">\n",
       "      <th></th>\n",
       "      <th>title_id</th>\n",
       "      <th>title</th>\n",
       "      <th>runtime</th>\n",
       "      <th>genre</th>\n",
       "      <th>certificate</th>\n",
       "      <th>imdb_rating</th>\n",
       "      <th>year</th>\n",
       "      <th>votes</th>\n",
       "      <th>director_actor</th>\n",
       "      <th>metascore</th>\n",
       "      <th>user_review</th>\n",
       "      <th>critic_review</th>\n",
       "      <th>writer</th>\n",
       "      <th>language</th>\n",
       "      <th>country</th>\n",
       "      <th>budget</th>\n",
       "      <th>gross_1</th>\n",
       "      <th>opening_week</th>\n",
       "      <th>oscar_win</th>\n",
       "      <th>oscar_nom</th>\n",
       "      <th>other_win</th>\n",
       "      <th>other_nom</th>\n",
       "      <th>rt_score</th>\n",
       "      <th>rt_avg_rating</th>\n",
       "      <th>rt_audience_score</th>\n",
       "      <th>rt_user_rating</th>\n",
       "      <th>rt_avg_aud_rating</th>\n",
       "      <th>rt_fresh</th>\n",
       "      <th>rt_rotten</th>\n",
       "      <th>metascores</th>\n",
       "    </tr>\n",
       "  </thead>\n",
       "  <tbody>\n",
       "    <tr>\n",
       "      <th>0</th>\n",
       "      <td>tt3896198</td>\n",
       "      <td>Guardians of the Galaxy Vol. 2</td>\n",
       "      <td>[136]</td>\n",
       "      <td>Action, Adventure, Sci-Fi</td>\n",
       "      <td>PG-13</td>\n",
       "      <td>8.1</td>\n",
       "      <td>(2017)</td>\n",
       "      <td>107822</td>\n",
       "      <td>Director:\\nJames Gunn\\n| \\n    Stars:\\nChris P...</td>\n",
       "      <td>67.0</td>\n",
       "      <td>[361]</td>\n",
       "      <td>[380]</td>\n",
       "      <td>\\nJames Gunn,</td>\n",
       "      <td>English</td>\n",
       "      <td>USA</td>\n",
       "      <td>$200000000</td>\n",
       "      <td>$156372759</td>\n",
       "      <td>$146510104        \\n\\n      (USA)</td>\n",
       "      <td>NaN</td>\n",
       "      <td>NaN</td>\n",
       "      <td>$146510104        \\n\\n      (USA)</td>\n",
       "      <td>$146510104        \\n\\n      (USA)</td>\n",
       "      <td>81%</td>\n",
       "      <td>1/10</td>\n",
       "      <td>90%</td>\n",
       "      <td>71,995</td>\n",
       "      <td>4.3/5</td>\n",
       "      <td>227</td>\n",
       "      <td>52</td>\n",
       "      <td>67.0</td>\n",
       "    </tr>\n",
       "    <tr>\n",
       "      <th>1</th>\n",
       "      <td>tt4849438</td>\n",
       "      <td>Baahubali 2: The Conclusion</td>\n",
       "      <td>[167]</td>\n",
       "      <td>Action, Adventure, Drama</td>\n",
       "      <td>NaN</td>\n",
       "      <td>9.0</td>\n",
       "      <td>(2017)</td>\n",
       "      <td>31843</td>\n",
       "      <td>Director:\\nS.S. Rajamouli\\n| \\n    Stars:\\nPra...</td>\n",
       "      <td>NaN</td>\n",
       "      <td>[14]</td>\n",
       "      <td>[64]</td>\n",
       "      <td>\\nDan O'Bannon (based on characters created by...</td>\n",
       "      <td>English</td>\n",
       "      <td>USA</td>\n",
       "      <td>0</td>\n",
       "      <td>0</td>\n",
       "      <td>0</td>\n",
       "      <td>NaN</td>\n",
       "      <td>NaN</td>\n",
       "      <td>NaN</td>\n",
       "      <td>1</td>\n",
       "      <td>75%</td>\n",
       "      <td>3/10</td>\n",
       "      <td>0</td>\n",
       "      <td>38,209</td>\n",
       "      <td>0</td>\n",
       "      <td>81</td>\n",
       "      <td>27</td>\n",
       "      <td>NaN</td>\n",
       "    </tr>\n",
       "    <tr>\n",
       "      <th>2</th>\n",
       "      <td>tt5052448</td>\n",
       "      <td>Get Out</td>\n",
       "      <td>[104]</td>\n",
       "      <td>Horror, Mystery</td>\n",
       "      <td>R</td>\n",
       "      <td>8.0</td>\n",
       "      <td>(I) (2017)</td>\n",
       "      <td>80515</td>\n",
       "      <td>Director:\\nJordan Peele\\n| \\n    Stars:\\nDanie...</td>\n",
       "      <td>84.0</td>\n",
       "      <td>[288]</td>\n",
       "      <td>[44]</td>\n",
       "      <td>\\nMankombu Gopalakrishnan (dialogue),         ...</td>\n",
       "      <td>Telugu</td>\n",
       "      <td>India</td>\n",
       "      <td>$40000000</td>\n",
       "      <td>$16575025</td>\n",
       "      <td>$10354532        \\n\\n      (USA)</td>\n",
       "      <td>NaN</td>\n",
       "      <td>NaN</td>\n",
       "      <td>$10354532        \\n\\n      (USA)</td>\n",
       "      <td>$10354532        \\n\\n      (USA)</td>\n",
       "      <td>100%</td>\n",
       "      <td>8/10</td>\n",
       "      <td>90%</td>\n",
       "      <td>1,346</td>\n",
       "      <td>4.5/5</td>\n",
       "      <td>5</td>\n",
       "      <td>0</td>\n",
       "      <td>84.0</td>\n",
       "    </tr>\n",
       "    <tr>\n",
       "      <th>3</th>\n",
       "      <td>tt2015381</td>\n",
       "      <td>Guardians of the Galaxy</td>\n",
       "      <td>[121]</td>\n",
       "      <td>Action, Adventure, Sci-Fi</td>\n",
       "      <td>PG-13</td>\n",
       "      <td>8.1</td>\n",
       "      <td>(2014)</td>\n",
       "      <td>753002</td>\n",
       "      <td>Director:\\nJames Gunn\\n| \\n    Stars:\\nChris P...</td>\n",
       "      <td>76.0</td>\n",
       "      <td>[396]</td>\n",
       "      <td>[464]</td>\n",
       "      <td>\\nJordan Peele</td>\n",
       "      <td>English</td>\n",
       "      <td>USA</td>\n",
       "      <td>$5000000</td>\n",
       "      <td>$173836140</td>\n",
       "      <td>$33377060        \\n\\n      (USA)</td>\n",
       "      <td>NaN</td>\n",
       "      <td>NaN</td>\n",
       "      <td>NaN</td>\n",
       "      <td>7</td>\n",
       "      <td>99%</td>\n",
       "      <td>3/10</td>\n",
       "      <td>88%</td>\n",
       "      <td>53,088</td>\n",
       "      <td>4.3/5</td>\n",
       "      <td>252</td>\n",
       "      <td>1</td>\n",
       "      <td>76.0</td>\n",
       "    </tr>\n",
       "    <tr>\n",
       "      <th>4</th>\n",
       "      <td>tt1790809</td>\n",
       "      <td>Pirates of the Caribbean: Dead Men Tell No Tales</td>\n",
       "      <td>[129]</td>\n",
       "      <td>Action, Adventure, Fantasy</td>\n",
       "      <td>PG-13</td>\n",
       "      <td>8.6</td>\n",
       "      <td>(2017)</td>\n",
       "      <td>1008</td>\n",
       "      <td>Directors:\\nJoachim Rønning, \\nEspen Sandberg\\...</td>\n",
       "      <td>NaN</td>\n",
       "      <td>[1,130]</td>\n",
       "      <td>[669]</td>\n",
       "      <td>\\nJames Gunn,</td>\n",
       "      <td>English</td>\n",
       "      <td>USA</td>\n",
       "      <td>$170000000</td>\n",
       "      <td>$333130696</td>\n",
       "      <td>$94320883        \\n\\n      (USA)</td>\n",
       "      <td>NaN</td>\n",
       "      <td>[2]</td>\n",
       "      <td>50</td>\n",
       "      <td>96</td>\n",
       "      <td>91%</td>\n",
       "      <td>8/10</td>\n",
       "      <td>92%</td>\n",
       "      <td>249,085</td>\n",
       "      <td>4.4/5</td>\n",
       "      <td>263</td>\n",
       "      <td>25</td>\n",
       "      <td>NaN</td>\n",
       "    </tr>\n",
       "  </tbody>\n",
       "</table>\n",
       "</div>"
      ],
      "text/plain": [
       "    title_id                                             title runtime  \\\n",
       "0  tt3896198                    Guardians of the Galaxy Vol. 2   [136]   \n",
       "1  tt4849438                       Baahubali 2: The Conclusion   [167]   \n",
       "2  tt5052448                                           Get Out   [104]   \n",
       "3  tt2015381                           Guardians of the Galaxy   [121]   \n",
       "4  tt1790809  Pirates of the Caribbean: Dead Men Tell No Tales   [129]   \n",
       "\n",
       "                        genre certificate  imdb_rating        year   votes  \\\n",
       "0   Action, Adventure, Sci-Fi       PG-13          8.1      (2017)  107822   \n",
       "1    Action, Adventure, Drama         NaN          9.0      (2017)   31843   \n",
       "2             Horror, Mystery           R          8.0  (I) (2017)   80515   \n",
       "3   Action, Adventure, Sci-Fi       PG-13          8.1      (2014)  753002   \n",
       "4  Action, Adventure, Fantasy       PG-13          8.6      (2017)    1008   \n",
       "\n",
       "                                      director_actor  metascore user_review  \\\n",
       "0  Director:\\nJames Gunn\\n| \\n    Stars:\\nChris P...       67.0       [361]   \n",
       "1  Director:\\nS.S. Rajamouli\\n| \\n    Stars:\\nPra...        NaN        [14]   \n",
       "2  Director:\\nJordan Peele\\n| \\n    Stars:\\nDanie...       84.0       [288]   \n",
       "3  Director:\\nJames Gunn\\n| \\n    Stars:\\nChris P...       76.0       [396]   \n",
       "4  Directors:\\nJoachim Rønning, \\nEspen Sandberg\\...        NaN     [1,130]   \n",
       "\n",
       "  critic_review                                             writer language  \\\n",
       "0         [380]                         \\nJames Gunn,               English   \n",
       "1          [64]  \\nDan O'Bannon (based on characters created by...  English   \n",
       "2          [44]  \\nMankombu Gopalakrishnan (dialogue),         ...   Telugu   \n",
       "3         [464]                                    \\nJordan Peele   English   \n",
       "4         [669]                         \\nJames Gunn,               English   \n",
       "\n",
       "  country      budget     gross_1                       opening_week  \\\n",
       "0     USA  $200000000  $156372759  $146510104        \\n\\n      (USA)   \n",
       "1     USA           0           0                                  0   \n",
       "2   India   $40000000   $16575025   $10354532        \\n\\n      (USA)   \n",
       "3     USA    $5000000  $173836140   $33377060        \\n\\n      (USA)   \n",
       "4     USA  $170000000  $333130696   $94320883        \\n\\n      (USA)   \n",
       "\n",
       "  oscar_win oscar_nom                          other_win  \\\n",
       "0       NaN       NaN  $146510104        \\n\\n      (USA)   \n",
       "1       NaN       NaN                                NaN   \n",
       "2       NaN       NaN   $10354532        \\n\\n      (USA)   \n",
       "3       NaN       NaN                                NaN   \n",
       "4       NaN       [2]                                 50   \n",
       "\n",
       "                           other_nom rt_score rt_avg_rating rt_audience_score  \\\n",
       "0  $146510104        \\n\\n      (USA)      81%          1/10               90%   \n",
       "1                                  1      75%          3/10                 0   \n",
       "2   $10354532        \\n\\n      (USA)     100%          8/10               90%   \n",
       "3                                  7      99%          3/10               88%   \n",
       "4                                 96      91%          8/10               92%   \n",
       "\n",
       "  rt_user_rating rt_avg_aud_rating  rt_fresh  rt_rotten  metascores  \n",
       "0         71,995             4.3/5       227         52        67.0  \n",
       "1         38,209                 0        81         27         NaN  \n",
       "2          1,346             4.5/5         5          0        84.0  \n",
       "3         53,088             4.3/5       252          1        76.0  \n",
       "4        249,085             4.4/5       263         25         NaN  "
      ]
     },
     "execution_count": 18,
     "metadata": {},
     "output_type": "execute_result"
    }
   ],
   "source": [
    "df.head()"
   ]
  },
  {
   "cell_type": "markdown",
   "metadata": {},
   "source": [
    "##### Cleaning runtime. \n",
    "<a name = \"cleaning_runtime\"></a>"
   ]
  },
  {
   "cell_type": "code",
   "execution_count": 19,
   "metadata": {
    "scrolled": false
   },
   "outputs": [
    {
     "name": "stderr",
     "output_type": "stream",
     "text": [
      "/Users/masumrumi/anaconda/lib/python2.7/site-packages/ipykernel_launcher.py:1: FutureWarning: currently extract(expand=None) means expand=False (return Index/Series/DataFrame) but in a future version of pandas this will be changed to expand=True (return DataFrame)\n",
      "  \"\"\"Entry point for launching an IPython kernel.\n"
     ]
    }
   ],
   "source": [
    "df[\"runtime\"] = df['runtime'].str.extract(r'(\\d+)')"
   ]
  },
  {
   "cell_type": "code",
   "execution_count": 16,
   "metadata": {
    "collapsed": true
   },
   "outputs": [],
   "source": [
    "#df[\"runtime\"] = df[\"runtime\"].apply(lambda x: None if x is None else int(re.findall(r'\\d+',i)[0]))"
   ]
  },
  {
   "cell_type": "code",
   "execution_count": 23,
   "metadata": {},
   "outputs": [
    {
     "data": {
      "text/html": [
       "<div>\n",
       "<table border=\"1\" class=\"dataframe\">\n",
       "  <thead>\n",
       "    <tr style=\"text-align: right;\">\n",
       "      <th></th>\n",
       "      <th>title_id</th>\n",
       "      <th>title</th>\n",
       "      <th>runtime</th>\n",
       "      <th>genre</th>\n",
       "      <th>certificate</th>\n",
       "      <th>imdb_rating</th>\n",
       "      <th>year</th>\n",
       "      <th>votes</th>\n",
       "      <th>director_actor</th>\n",
       "      <th>metascore</th>\n",
       "      <th>user_review</th>\n",
       "      <th>critic_review</th>\n",
       "      <th>writer</th>\n",
       "      <th>language</th>\n",
       "      <th>country</th>\n",
       "      <th>budget</th>\n",
       "      <th>gross_1</th>\n",
       "      <th>opening_week</th>\n",
       "      <th>oscar_win</th>\n",
       "      <th>oscar_nom</th>\n",
       "      <th>other_win</th>\n",
       "      <th>other_nom</th>\n",
       "      <th>rt_score</th>\n",
       "      <th>rt_avg_rating</th>\n",
       "      <th>rt_audience_score</th>\n",
       "      <th>rt_user_rating</th>\n",
       "      <th>rt_avg_aud_rating</th>\n",
       "      <th>rt_fresh</th>\n",
       "      <th>rt_rotten</th>\n",
       "      <th>metascores</th>\n",
       "    </tr>\n",
       "  </thead>\n",
       "  <tbody>\n",
       "    <tr>\n",
       "      <th>2233</th>\n",
       "      <td>tt4899880</td>\n",
       "      <td>Shah</td>\n",
       "      <td>NaN</td>\n",
       "      <td>Biography, Drama, Sport</td>\n",
       "      <td>NaN</td>\n",
       "      <td>8.7</td>\n",
       "      <td>(2015)</td>\n",
       "      <td>1127</td>\n",
       "      <td>Director:\\nAdnan Sarwar\\n| \\n    Stars:\\nAdnan...</td>\n",
       "      <td>NaN</td>\n",
       "      <td>[36]</td>\n",
       "      <td>[20]</td>\n",
       "      <td>\\nWarner Bros. Home Video</td>\n",
       "      <td>English</td>\n",
       "      <td>USA</td>\n",
       "      <td>0</td>\n",
       "      <td>0</td>\n",
       "      <td>0</td>\n",
       "      <td>NaN</td>\n",
       "      <td>NaN</td>\n",
       "      <td>2</td>\n",
       "      <td>2</td>\n",
       "      <td>85%</td>\n",
       "      <td>4/10</td>\n",
       "      <td>89%</td>\n",
       "      <td>7,988</td>\n",
       "      <td>4/5</td>\n",
       "      <td>11</td>\n",
       "      <td>2</td>\n",
       "      <td>NaN</td>\n",
       "    </tr>\n",
       "    <tr>\n",
       "      <th>2496</th>\n",
       "      <td>tt1309000</td>\n",
       "      <td>Álom.net</td>\n",
       "      <td>NaN</td>\n",
       "      <td>Comedy, Romance, Sport</td>\n",
       "      <td>NaN</td>\n",
       "      <td>2.0</td>\n",
       "      <td>(2009)</td>\n",
       "      <td>8450</td>\n",
       "      <td>Director:\\nGábor Forgács\\n| \\n    Stars:\\nLill...</td>\n",
       "      <td>NaN</td>\n",
       "      <td>[72]</td>\n",
       "      <td>[46]</td>\n",
       "      <td>\\nWilliam Butler (story),</td>\n",
       "      <td>English</td>\n",
       "      <td>USA</td>\n",
       "      <td>0</td>\n",
       "      <td>0</td>\n",
       "      <td>0</td>\n",
       "      <td>NaN</td>\n",
       "      <td>NaN</td>\n",
       "      <td>0</td>\n",
       "      <td>0</td>\n",
       "      <td>0</td>\n",
       "      <td>0</td>\n",
       "      <td>0</td>\n",
       "      <td>0</td>\n",
       "      <td>0</td>\n",
       "      <td>0</td>\n",
       "      <td>0</td>\n",
       "      <td>NaN</td>\n",
       "    </tr>\n",
       "    <tr>\n",
       "      <th>2513</th>\n",
       "      <td>tt0157571</td>\n",
       "      <td>Ek Ruka Hua Faisla</td>\n",
       "      <td>NaN</td>\n",
       "      <td>Drama</td>\n",
       "      <td>NaN</td>\n",
       "      <td>8.3</td>\n",
       "      <td>(1986 TV Movie)</td>\n",
       "      <td>1048</td>\n",
       "      <td>Director:\\nBasu Chatterjee\\n| \\n    Stars:\\nDe...</td>\n",
       "      <td>NaN</td>\n",
       "      <td>[10]</td>\n",
       "      <td>[]</td>\n",
       "      <td>\\nP. Padmarajan</td>\n",
       "      <td>Malayalam</td>\n",
       "      <td>India</td>\n",
       "      <td>0</td>\n",
       "      <td>0</td>\n",
       "      <td>0</td>\n",
       "      <td>NaN</td>\n",
       "      <td>NaN</td>\n",
       "      <td>0</td>\n",
       "      <td>0</td>\n",
       "      <td>NaN</td>\n",
       "      <td>NaN</td>\n",
       "      <td>Average Rating:</td>\n",
       "      <td>0</td>\n",
       "      <td>NaN</td>\n",
       "      <td>0</td>\n",
       "      <td>0</td>\n",
       "      <td>NaN</td>\n",
       "    </tr>\n",
       "    <tr>\n",
       "      <th>2834</th>\n",
       "      <td>tt0115398</td>\n",
       "      <td>The Triumph of the Nerds: The Rise of Accident...</td>\n",
       "      <td>NaN</td>\n",
       "      <td>Documentary</td>\n",
       "      <td>NaN</td>\n",
       "      <td>8.5</td>\n",
       "      <td>(1996 TV Movie)</td>\n",
       "      <td>1103</td>\n",
       "      <td>Stars:\\nRobert X. Cringely, \\nDouglas Adams, \\...</td>\n",
       "      <td>NaN</td>\n",
       "      <td>[20]</td>\n",
       "      <td>[]</td>\n",
       "      <td>\\nGregory Colbert</td>\n",
       "      <td>English</td>\n",
       "      <td>USA</td>\n",
       "      <td>0</td>\n",
       "      <td>0</td>\n",
       "      <td>0</td>\n",
       "      <td>NaN</td>\n",
       "      <td>NaN</td>\n",
       "      <td>0</td>\n",
       "      <td>0</td>\n",
       "      <td>NaN</td>\n",
       "      <td>NaN</td>\n",
       "      <td>91%</td>\n",
       "      <td>788</td>\n",
       "      <td>4.4/5</td>\n",
       "      <td>0</td>\n",
       "      <td>0</td>\n",
       "      <td>NaN</td>\n",
       "    </tr>\n",
       "  </tbody>\n",
       "</table>\n",
       "</div>"
      ],
      "text/plain": [
       "       title_id                                              title runtime  \\\n",
       "2233  tt4899880                                               Shah     NaN   \n",
       "2496  tt1309000                                           Álom.net     NaN   \n",
       "2513  tt0157571                                 Ek Ruka Hua Faisla     NaN   \n",
       "2834  tt0115398  The Triumph of the Nerds: The Rise of Accident...     NaN   \n",
       "\n",
       "                        genre certificate  imdb_rating             year  \\\n",
       "2233  Biography, Drama, Sport         NaN          8.7           (2015)   \n",
       "2496   Comedy, Romance, Sport         NaN          2.0           (2009)   \n",
       "2513                    Drama         NaN          8.3  (1986 TV Movie)   \n",
       "2834              Documentary         NaN          8.5  (1996 TV Movie)   \n",
       "\n",
       "      votes                                     director_actor  metascore  \\\n",
       "2233   1127  Director:\\nAdnan Sarwar\\n| \\n    Stars:\\nAdnan...        NaN   \n",
       "2496   8450  Director:\\nGábor Forgács\\n| \\n    Stars:\\nLill...        NaN   \n",
       "2513   1048  Director:\\nBasu Chatterjee\\n| \\n    Stars:\\nDe...        NaN   \n",
       "2834   1103  Stars:\\nRobert X. Cringely, \\nDouglas Adams, \\...        NaN   \n",
       "\n",
       "     user_review critic_review                                  writer  \\\n",
       "2233        [36]          [20]               \\nWarner Bros. Home Video   \n",
       "2496        [72]          [46]  \\nWilliam Butler (story),                \n",
       "2513        [10]            []                        \\nP. Padmarajan    \n",
       "2834        [20]            []                      \\nGregory Colbert    \n",
       "\n",
       "       language country budget gross_1 opening_week oscar_win oscar_nom  \\\n",
       "2233    English     USA      0       0            0       NaN       NaN   \n",
       "2496    English     USA      0       0            0       NaN       NaN   \n",
       "2513  Malayalam   India      0       0            0       NaN       NaN   \n",
       "2834    English     USA      0       0            0       NaN       NaN   \n",
       "\n",
       "     other_win other_nom rt_score rt_avg_rating rt_audience_score  \\\n",
       "2233         2         2      85%          4/10               89%   \n",
       "2496         0         0        0             0                 0   \n",
       "2513         0         0      NaN           NaN   Average Rating:   \n",
       "2834         0         0      NaN           NaN               91%   \n",
       "\n",
       "     rt_user_rating rt_avg_aud_rating  rt_fresh  rt_rotten  metascores  \n",
       "2233          7,988               4/5        11          2         NaN  \n",
       "2496              0                 0         0          0         NaN  \n",
       "2513              0               NaN         0          0         NaN  \n",
       "2834            788             4.4/5         0          0         NaN  "
      ]
     },
     "execution_count": 23,
     "metadata": {},
     "output_type": "execute_result"
    }
   ],
   "source": [
    "df[df.runtime.isnull()]"
   ]
  },
  {
   "cell_type": "code",
   "execution_count": 31,
   "metadata": {},
   "outputs": [
    {
     "ename": "TypeError",
     "evalue": "<lambda>() takes exactly 1 argument (0 given)",
     "output_type": "error",
     "traceback": [
      "\u001b[0;31m---------------------------------------------------------------------------\u001b[0m",
      "\u001b[0;31mTypeError\u001b[0m                                 Traceback (most recent call last)",
      "\u001b[0;32m<ipython-input-31-fc07a51ff189>\u001b[0m in \u001b[0;36m<module>\u001b[0;34m()\u001b[0m\n\u001b[0;32m----> 1\u001b[0;31m \u001b[0mdf\u001b[0m\u001b[0;34m.\u001b[0m\u001b[0mruntime\u001b[0m \u001b[0;34m=\u001b[0m \u001b[0mapply\u001b[0m\u001b[0;34m(\u001b[0m\u001b[0;32mlambda\u001b[0m \u001b[0mx\u001b[0m \u001b[0;34m:\u001b[0m \u001b[0mint\u001b[0m\u001b[0;34m(\u001b[0m\u001b[0mx\u001b[0m\u001b[0;34m)\u001b[0m\u001b[0;34m)\u001b[0m\u001b[0;34m\u001b[0m\u001b[0m\n\u001b[0m",
      "\u001b[0;31mTypeError\u001b[0m: <lambda>() takes exactly 1 argument (0 given)"
     ]
    }
   ],
   "source": []
  },
  {
   "cell_type": "code",
   "execution_count": 18,
   "metadata": {
    "collapsed": true
   },
   "outputs": [],
   "source": [
    "# fill the 4 missing values with the average. \n",
    "df.runtime.fillna(106, inplace=True)"
   ]
  },
  {
   "cell_type": "code",
   "execution_count": 19,
   "metadata": {},
   "outputs": [
    {
     "data": {
      "text/plain": [
       "0"
      ]
     },
     "execution_count": 19,
     "metadata": {},
     "output_type": "execute_result"
    }
   ],
   "source": [
    "df.runtime.isnull().sum()"
   ]
  },
  {
   "cell_type": "markdown",
   "metadata": {},
   "source": [
    "##### Cleaning Award rows"
   ]
  },
  {
   "cell_type": "code",
   "execution_count": 20,
   "metadata": {},
   "outputs": [
    {
     "name": "stderr",
     "output_type": "stream",
     "text": [
      "/Users/masumrumi/anaconda/lib/python2.7/site-packages/ipykernel_launcher.py:1: FutureWarning: currently extract(expand=None) means expand=False (return Index/Series/DataFrame) but in a future version of pandas this will be changed to expand=True (return DataFrame)\n",
      "  \"\"\"Entry point for launching an IPython kernel.\n",
      "/Users/masumrumi/anaconda/lib/python2.7/site-packages/ipykernel_launcher.py:2: FutureWarning: currently extract(expand=None) means expand=False (return Index/Series/DataFrame) but in a future version of pandas this will be changed to expand=True (return DataFrame)\n",
      "  \n"
     ]
    }
   ],
   "source": [
    "df.oscar_win = df.oscar_win.str.extract(r'(\\d+)')\n",
    "df.oscar_nom = df.oscar_nom.str.extract(r'(\\d+)')\n",
    "df.oscar_win.fillna(0, inplace=True)\n",
    "df.oscar_nom.fillna(0, inplace=True)\n",
    "df.other_win.fillna(0, inplace=True)\n",
    "df.other_nom.fillna(0, inplace=True)\n",
    "\n"
   ]
  },
  {
   "cell_type": "code",
   "execution_count": 21,
   "metadata": {
    "collapsed": true
   },
   "outputs": [],
   "source": [
    "other_win = []\n",
    "for i in df.other_win:\n",
    "    a = 0\n",
    "    try:\n",
    "        a = int(i)\n",
    "    except:\n",
    "        a = 0\n",
    "    other_win.append(a)\n",
    "    \n",
    "df.other_win = other_win"
   ]
  },
  {
   "cell_type": "code",
   "execution_count": 22,
   "metadata": {
    "collapsed": true
   },
   "outputs": [],
   "source": [
    "other_nom = []\n",
    "for i in df.other_nom:\n",
    "    a = 0\n",
    "    try:\n",
    "        a = int(i)\n",
    "    except:\n",
    "        a = 0\n",
    "    other_nom.append(a)\n",
    "    \n",
    "df.other_nom = other_nom"
   ]
  },
  {
   "cell_type": "markdown",
   "metadata": {},
   "source": [
    "##### Cleaning Genre and Creating columns for each genre"
   ]
  },
  {
   "cell_type": "code",
   "execution_count": 23,
   "metadata": {},
   "outputs": [
    {
     "data": {
      "text/plain": [
       "3"
      ]
     },
     "execution_count": 23,
     "metadata": {},
     "output_type": "execute_result"
    }
   ],
   "source": [
    "df.genre.isnull().sum()"
   ]
  },
  {
   "cell_type": "code",
   "execution_count": 24,
   "metadata": {},
   "outputs": [
    {
     "data": {
      "text/html": [
       "<div>\n",
       "<table border=\"1\" class=\"dataframe\">\n",
       "  <thead>\n",
       "    <tr style=\"text-align: right;\">\n",
       "      <th></th>\n",
       "      <th>title_id</th>\n",
       "      <th>title</th>\n",
       "      <th>runtime</th>\n",
       "      <th>genre</th>\n",
       "      <th>certificate</th>\n",
       "      <th>imdb_rating</th>\n",
       "      <th>year</th>\n",
       "      <th>votes</th>\n",
       "      <th>director_actor</th>\n",
       "      <th>metascore</th>\n",
       "      <th>...</th>\n",
       "      <th>other_win</th>\n",
       "      <th>other_nom</th>\n",
       "      <th>rt_score</th>\n",
       "      <th>rt_avg_rating</th>\n",
       "      <th>rt_audience_score</th>\n",
       "      <th>rt_user_rating</th>\n",
       "      <th>rt_avg_aud_rating</th>\n",
       "      <th>rt_fresh</th>\n",
       "      <th>rt_rotten</th>\n",
       "      <th>metascores</th>\n",
       "    </tr>\n",
       "  </thead>\n",
       "  <tbody>\n",
       "    <tr>\n",
       "      <th>1233</th>\n",
       "      <td>tt1795369</td>\n",
       "      <td>Frankenstein</td>\n",
       "      <td>130</td>\n",
       "      <td>NaN</td>\n",
       "      <td>NaN</td>\n",
       "      <td>9.1</td>\n",
       "      <td>(2011)</td>\n",
       "      <td>1400</td>\n",
       "      <td>Director:\\nDanny Boyle\\n| \\n    Stars:\\nJonny ...</td>\n",
       "      <td>NaN</td>\n",
       "      <td>...</td>\n",
       "      <td>7</td>\n",
       "      <td>14</td>\n",
       "      <td>NaN</td>\n",
       "      <td>NaN</td>\n",
       "      <td>90%</td>\n",
       "      <td>19,722</td>\n",
       "      <td>4.3/5</td>\n",
       "      <td>0</td>\n",
       "      <td>0</td>\n",
       "      <td>97.0</td>\n",
       "    </tr>\n",
       "    <tr>\n",
       "      <th>1730</th>\n",
       "      <td>tt1712931</td>\n",
       "      <td>Lost - Epilogue: The New Man in Charge</td>\n",
       "      <td>12</td>\n",
       "      <td>NaN</td>\n",
       "      <td>Not Rated</td>\n",
       "      <td>8.3</td>\n",
       "      <td>(2010 TV Movie)</td>\n",
       "      <td>1207</td>\n",
       "      <td>Director:\\nPaul A. Edwards\\n| \\n    Stars:\\nMi...</td>\n",
       "      <td>NaN</td>\n",
       "      <td>...</td>\n",
       "      <td>1</td>\n",
       "      <td>1</td>\n",
       "      <td>0</td>\n",
       "      <td>0</td>\n",
       "      <td>0</td>\n",
       "      <td>0</td>\n",
       "      <td>0</td>\n",
       "      <td>0</td>\n",
       "      <td>0</td>\n",
       "      <td>NaN</td>\n",
       "    </tr>\n",
       "    <tr>\n",
       "      <th>2348</th>\n",
       "      <td>tt0583508</td>\n",
       "      <td>Friends: The One Before the Last One - Ten Yea...</td>\n",
       "      <td>22</td>\n",
       "      <td>NaN</td>\n",
       "      <td>TV-14</td>\n",
       "      <td>8.8</td>\n",
       "      <td>(2004 TV Movie)</td>\n",
       "      <td>1054</td>\n",
       "      <td>Director:\\nLorna Davis\\n| \\n    Stars:\\nJennif...</td>\n",
       "      <td>NaN</td>\n",
       "      <td>...</td>\n",
       "      <td>0</td>\n",
       "      <td>0</td>\n",
       "      <td>NaN</td>\n",
       "      <td>NaN</td>\n",
       "      <td>86%</td>\n",
       "      <td>100</td>\n",
       "      <td>4.1/5</td>\n",
       "      <td>0</td>\n",
       "      <td>0</td>\n",
       "      <td>NaN</td>\n",
       "    </tr>\n",
       "  </tbody>\n",
       "</table>\n",
       "<p>3 rows × 30 columns</p>\n",
       "</div>"
      ],
      "text/plain": [
       "       title_id                                              title runtime  \\\n",
       "1233  tt1795369                                       Frankenstein     130   \n",
       "1730  tt1712931             Lost - Epilogue: The New Man in Charge      12   \n",
       "2348  tt0583508  Friends: The One Before the Last One - Ten Yea...      22   \n",
       "\n",
       "     genre certificate  imdb_rating             year  votes  \\\n",
       "1233   NaN         NaN          9.1           (2011)   1400   \n",
       "1730   NaN   Not Rated          8.3  (2010 TV Movie)   1207   \n",
       "2348   NaN       TV-14          8.8  (2004 TV Movie)   1054   \n",
       "\n",
       "                                         director_actor  metascore    ...      \\\n",
       "1233  Director:\\nDanny Boyle\\n| \\n    Stars:\\nJonny ...        NaN    ...       \n",
       "1730  Director:\\nPaul A. Edwards\\n| \\n    Stars:\\nMi...        NaN    ...       \n",
       "2348  Director:\\nLorna Davis\\n| \\n    Stars:\\nJennif...        NaN    ...       \n",
       "\n",
       "     other_win other_nom rt_score rt_avg_rating rt_audience_score  \\\n",
       "1233         7        14      NaN           NaN               90%   \n",
       "1730         1         1        0             0                 0   \n",
       "2348         0         0      NaN           NaN               86%   \n",
       "\n",
       "     rt_user_rating rt_avg_aud_rating rt_fresh rt_rotten metascores  \n",
       "1233         19,722             4.3/5        0         0       97.0  \n",
       "1730              0                 0        0         0        NaN  \n",
       "2348            100             4.1/5        0         0        NaN  \n",
       "\n",
       "[3 rows x 30 columns]"
      ]
     },
     "execution_count": 24,
     "metadata": {},
     "output_type": "execute_result"
    }
   ],
   "source": [
    "df[df.genre.isnull()]"
   ]
  },
  {
   "cell_type": "code",
   "execution_count": 25,
   "metadata": {
    "collapsed": true
   },
   "outputs": [],
   "source": [
    "## filled the 3 missing genre rows with \"Drama\"\n",
    "df.genre.fillna(\"Drama\", inplace=True)"
   ]
  },
  {
   "cell_type": "code",
   "execution_count": 26,
   "metadata": {
    "collapsed": true
   },
   "outputs": [],
   "source": [
    "# Create a unique list for genre.\n",
    "unique_genre = []\n",
    "for i in df.genre:\n",
    "    a = i.split(\",\")\n",
    "    for b in a:\n",
    "        if b.strip() not in unique_genre:\n",
    "            unique_genre.append(b.strip())"
   ]
  },
  {
   "cell_type": "code",
   "execution_count": 27,
   "metadata": {
    "collapsed": true
   },
   "outputs": [],
   "source": [
    "## create a cleaned list of lists where each list is a row from each row of the dataFrame. \n",
    "cleaned_genre = []\n",
    "for i in df.genre:\n",
    "    a = i.split(\",\")\n",
    "    c =[]\n",
    "    for b in a:\n",
    "        c.append(b.strip())\n",
    "    cleaned_genre.append(c)"
   ]
  },
  {
   "cell_type": "code",
   "execution_count": 28,
   "metadata": {
    "collapsed": true
   },
   "outputs": [],
   "source": [
    "## Creating new columns in the dataFrame and based on unique genre list, pluging in 1 or 0\n",
    "for i in unique_genre:\n",
    "    df[i] = [1 if i in x else 0 for x in cleaned_genre]"
   ]
  },
  {
   "cell_type": "code",
   "execution_count": 29,
   "metadata": {},
   "outputs": [
    {
     "data": {
      "text/html": [
       "<div>\n",
       "<table border=\"1\" class=\"dataframe\">\n",
       "  <thead>\n",
       "    <tr style=\"text-align: right;\">\n",
       "      <th></th>\n",
       "      <th>title_id</th>\n",
       "      <th>title</th>\n",
       "      <th>runtime</th>\n",
       "      <th>genre</th>\n",
       "      <th>certificate</th>\n",
       "      <th>imdb_rating</th>\n",
       "      <th>year</th>\n",
       "      <th>votes</th>\n",
       "      <th>director_actor</th>\n",
       "      <th>metascore</th>\n",
       "      <th>...</th>\n",
       "      <th>Romance</th>\n",
       "      <th>Documentary</th>\n",
       "      <th>War</th>\n",
       "      <th>Family</th>\n",
       "      <th>Western</th>\n",
       "      <th>Sport</th>\n",
       "      <th>Musical</th>\n",
       "      <th>Film-Noir</th>\n",
       "      <th>News</th>\n",
       "      <th>Short</th>\n",
       "    </tr>\n",
       "  </thead>\n",
       "  <tbody>\n",
       "    <tr>\n",
       "      <th>0</th>\n",
       "      <td>tt3896198</td>\n",
       "      <td>Guardians of the Galaxy Vol. 2</td>\n",
       "      <td>136</td>\n",
       "      <td>Action, Adventure, Sci-Fi</td>\n",
       "      <td>PG-13</td>\n",
       "      <td>8.1</td>\n",
       "      <td>(2017)</td>\n",
       "      <td>107822</td>\n",
       "      <td>Director:\\nJames Gunn\\n| \\n    Stars:\\nChris P...</td>\n",
       "      <td>67.0</td>\n",
       "      <td>...</td>\n",
       "      <td>0</td>\n",
       "      <td>0</td>\n",
       "      <td>0</td>\n",
       "      <td>0</td>\n",
       "      <td>0</td>\n",
       "      <td>0</td>\n",
       "      <td>0</td>\n",
       "      <td>0</td>\n",
       "      <td>0</td>\n",
       "      <td>0</td>\n",
       "    </tr>\n",
       "    <tr>\n",
       "      <th>1</th>\n",
       "      <td>tt4849438</td>\n",
       "      <td>Baahubali 2: The Conclusion</td>\n",
       "      <td>167</td>\n",
       "      <td>Action, Adventure, Drama</td>\n",
       "      <td>NaN</td>\n",
       "      <td>9.0</td>\n",
       "      <td>(2017)</td>\n",
       "      <td>31843</td>\n",
       "      <td>Director:\\nS.S. Rajamouli\\n| \\n    Stars:\\nPra...</td>\n",
       "      <td>NaN</td>\n",
       "      <td>...</td>\n",
       "      <td>0</td>\n",
       "      <td>0</td>\n",
       "      <td>0</td>\n",
       "      <td>0</td>\n",
       "      <td>0</td>\n",
       "      <td>0</td>\n",
       "      <td>0</td>\n",
       "      <td>0</td>\n",
       "      <td>0</td>\n",
       "      <td>0</td>\n",
       "    </tr>\n",
       "    <tr>\n",
       "      <th>2</th>\n",
       "      <td>tt5052448</td>\n",
       "      <td>Get Out</td>\n",
       "      <td>104</td>\n",
       "      <td>Horror, Mystery</td>\n",
       "      <td>R</td>\n",
       "      <td>8.0</td>\n",
       "      <td>(I) (2017)</td>\n",
       "      <td>80515</td>\n",
       "      <td>Director:\\nJordan Peele\\n| \\n    Stars:\\nDanie...</td>\n",
       "      <td>84.0</td>\n",
       "      <td>...</td>\n",
       "      <td>0</td>\n",
       "      <td>0</td>\n",
       "      <td>0</td>\n",
       "      <td>0</td>\n",
       "      <td>0</td>\n",
       "      <td>0</td>\n",
       "      <td>0</td>\n",
       "      <td>0</td>\n",
       "      <td>0</td>\n",
       "      <td>0</td>\n",
       "    </tr>\n",
       "  </tbody>\n",
       "</table>\n",
       "<p>3 rows × 54 columns</p>\n",
       "</div>"
      ],
      "text/plain": [
       "    title_id                           title runtime  \\\n",
       "0  tt3896198  Guardians of the Galaxy Vol. 2     136   \n",
       "1  tt4849438     Baahubali 2: The Conclusion     167   \n",
       "2  tt5052448                         Get Out     104   \n",
       "\n",
       "                       genre certificate  imdb_rating        year   votes  \\\n",
       "0  Action, Adventure, Sci-Fi       PG-13          8.1      (2017)  107822   \n",
       "1   Action, Adventure, Drama         NaN          9.0      (2017)   31843   \n",
       "2            Horror, Mystery           R          8.0  (I) (2017)   80515   \n",
       "\n",
       "                                      director_actor  metascore  ...  Romance  \\\n",
       "0  Director:\\nJames Gunn\\n| \\n    Stars:\\nChris P...       67.0  ...        0   \n",
       "1  Director:\\nS.S. Rajamouli\\n| \\n    Stars:\\nPra...        NaN  ...        0   \n",
       "2  Director:\\nJordan Peele\\n| \\n    Stars:\\nDanie...       84.0  ...        0   \n",
       "\n",
       "  Documentary War Family Western Sport Musical Film-Noir News Short  \n",
       "0           0   0      0       0     0       0         0    0     0  \n",
       "1           0   0      0       0     0       0         0    0     0  \n",
       "2           0   0      0       0     0       0         0    0     0  \n",
       "\n",
       "[3 rows x 54 columns]"
      ]
     },
     "execution_count": 29,
     "metadata": {},
     "output_type": "execute_result"
    }
   ],
   "source": [
    "df.head(3)"
   ]
  },
  {
   "cell_type": "code",
   "execution_count": 30,
   "metadata": {
    "collapsed": true
   },
   "outputs": [],
   "source": [
    "# Dropping genre and opening_week columns \n",
    "df.drop(\"genre\", axis=1, inplace=True)\n",
    "df.drop(\"opening_week\",axis=1, inplace=True)\n",
    "\n"
   ]
  },
  {
   "cell_type": "code",
   "execution_count": 31,
   "metadata": {
    "scrolled": true
   },
   "outputs": [
    {
     "data": {
      "text/html": [
       "<div>\n",
       "<table border=\"1\" class=\"dataframe\">\n",
       "  <thead>\n",
       "    <tr style=\"text-align: right;\">\n",
       "      <th></th>\n",
       "      <th>title_id</th>\n",
       "      <th>title</th>\n",
       "      <th>runtime</th>\n",
       "      <th>certificate</th>\n",
       "      <th>imdb_rating</th>\n",
       "      <th>year</th>\n",
       "      <th>votes</th>\n",
       "      <th>director_actor</th>\n",
       "      <th>metascore</th>\n",
       "      <th>user_review</th>\n",
       "      <th>...</th>\n",
       "      <th>Romance</th>\n",
       "      <th>Documentary</th>\n",
       "      <th>War</th>\n",
       "      <th>Family</th>\n",
       "      <th>Western</th>\n",
       "      <th>Sport</th>\n",
       "      <th>Musical</th>\n",
       "      <th>Film-Noir</th>\n",
       "      <th>News</th>\n",
       "      <th>Short</th>\n",
       "    </tr>\n",
       "  </thead>\n",
       "  <tbody>\n",
       "    <tr>\n",
       "      <th>0</th>\n",
       "      <td>tt3896198</td>\n",
       "      <td>Guardians of the Galaxy Vol. 2</td>\n",
       "      <td>136</td>\n",
       "      <td>PG-13</td>\n",
       "      <td>8.1</td>\n",
       "      <td>(2017)</td>\n",
       "      <td>107822</td>\n",
       "      <td>Director:\\nJames Gunn\\n| \\n    Stars:\\nChris P...</td>\n",
       "      <td>67.0</td>\n",
       "      <td>[361]</td>\n",
       "      <td>...</td>\n",
       "      <td>0</td>\n",
       "      <td>0</td>\n",
       "      <td>0</td>\n",
       "      <td>0</td>\n",
       "      <td>0</td>\n",
       "      <td>0</td>\n",
       "      <td>0</td>\n",
       "      <td>0</td>\n",
       "      <td>0</td>\n",
       "      <td>0</td>\n",
       "    </tr>\n",
       "    <tr>\n",
       "      <th>1</th>\n",
       "      <td>tt4849438</td>\n",
       "      <td>Baahubali 2: The Conclusion</td>\n",
       "      <td>167</td>\n",
       "      <td>NaN</td>\n",
       "      <td>9.0</td>\n",
       "      <td>(2017)</td>\n",
       "      <td>31843</td>\n",
       "      <td>Director:\\nS.S. Rajamouli\\n| \\n    Stars:\\nPra...</td>\n",
       "      <td>NaN</td>\n",
       "      <td>[14]</td>\n",
       "      <td>...</td>\n",
       "      <td>0</td>\n",
       "      <td>0</td>\n",
       "      <td>0</td>\n",
       "      <td>0</td>\n",
       "      <td>0</td>\n",
       "      <td>0</td>\n",
       "      <td>0</td>\n",
       "      <td>0</td>\n",
       "      <td>0</td>\n",
       "      <td>0</td>\n",
       "    </tr>\n",
       "    <tr>\n",
       "      <th>2</th>\n",
       "      <td>tt5052448</td>\n",
       "      <td>Get Out</td>\n",
       "      <td>104</td>\n",
       "      <td>R</td>\n",
       "      <td>8.0</td>\n",
       "      <td>(I) (2017)</td>\n",
       "      <td>80515</td>\n",
       "      <td>Director:\\nJordan Peele\\n| \\n    Stars:\\nDanie...</td>\n",
       "      <td>84.0</td>\n",
       "      <td>[288]</td>\n",
       "      <td>...</td>\n",
       "      <td>0</td>\n",
       "      <td>0</td>\n",
       "      <td>0</td>\n",
       "      <td>0</td>\n",
       "      <td>0</td>\n",
       "      <td>0</td>\n",
       "      <td>0</td>\n",
       "      <td>0</td>\n",
       "      <td>0</td>\n",
       "      <td>0</td>\n",
       "    </tr>\n",
       "  </tbody>\n",
       "</table>\n",
       "<p>3 rows × 52 columns</p>\n",
       "</div>"
      ],
      "text/plain": [
       "    title_id                           title runtime certificate  imdb_rating  \\\n",
       "0  tt3896198  Guardians of the Galaxy Vol. 2     136       PG-13          8.1   \n",
       "1  tt4849438     Baahubali 2: The Conclusion     167         NaN          9.0   \n",
       "2  tt5052448                         Get Out     104           R          8.0   \n",
       "\n",
       "         year   votes                                     director_actor  \\\n",
       "0      (2017)  107822  Director:\\nJames Gunn\\n| \\n    Stars:\\nChris P...   \n",
       "1      (2017)   31843  Director:\\nS.S. Rajamouli\\n| \\n    Stars:\\nPra...   \n",
       "2  (I) (2017)   80515  Director:\\nJordan Peele\\n| \\n    Stars:\\nDanie...   \n",
       "\n",
       "   metascore user_review  ...   Romance Documentary War Family Western Sport  \\\n",
       "0       67.0       [361]  ...         0           0   0      0       0     0   \n",
       "1        NaN        [14]  ...         0           0   0      0       0     0   \n",
       "2       84.0       [288]  ...         0           0   0      0       0     0   \n",
       "\n",
       "  Musical Film-Noir  News  Short  \n",
       "0       0         0     0      0  \n",
       "1       0         0     0      0  \n",
       "2       0         0     0      0  \n",
       "\n",
       "[3 rows x 52 columns]"
      ]
     },
     "execution_count": 31,
     "metadata": {},
     "output_type": "execute_result"
    }
   ],
   "source": [
    "df.head(3)"
   ]
  },
  {
   "cell_type": "markdown",
   "metadata": {},
   "source": [
    "##### Meta Score"
   ]
  },
  {
   "cell_type": "code",
   "execution_count": 32,
   "metadata": {
    "collapsed": true
   },
   "outputs": [],
   "source": [
    "df.drop(\"metascore\", axis=1, inplace=True) ## dropped the previous meta score code. "
   ]
  },
  {
   "cell_type": "code",
   "execution_count": 33,
   "metadata": {
    "scrolled": true
   },
   "outputs": [
    {
     "data": {
      "text/plain": [
       "NaN      2022\n",
       " 27.0      25\n",
       " 33.0      22\n",
       " 82.0      21\n",
       " 90.0      20\n",
       "Name: metascores, dtype: int64"
      ]
     },
     "execution_count": 33,
     "metadata": {},
     "output_type": "execute_result"
    }
   ],
   "source": [
    "df.metascores.value_counts(dropna=False).head()"
   ]
  },
  {
   "cell_type": "code",
   "execution_count": 34,
   "metadata": {
    "collapsed": true
   },
   "outputs": [],
   "source": [
    "#df.metascores.fillna(np.nanmean(df.metascores), inplace=True)"
   ]
  },
  {
   "cell_type": "code",
   "execution_count": 35,
   "metadata": {
    "collapsed": true
   },
   "outputs": [],
   "source": [
    "#df.metascores = df.metascores.apply(lambda x: int(x))"
   ]
  },
  {
   "cell_type": "markdown",
   "metadata": {},
   "source": [
    "##### Munging Language, Country and year column. "
   ]
  },
  {
   "cell_type": "code",
   "execution_count": 36,
   "metadata": {
    "collapsed": true
   },
   "outputs": [],
   "source": [
    "df.language.replace('0', \"English\", inplace=True)\n",
    "df.country.replace('0', \"USA\", inplace=True)\n",
    "df.year = df.year.apply(lambda x : int(re.findall(r\"\\D(\\d{4})\\D\", x)[0]))"
   ]
  },
  {
   "cell_type": "markdown",
   "metadata": {},
   "source": [
    "##### User_review and critic review"
   ]
  },
  {
   "cell_type": "code",
   "execution_count": 37,
   "metadata": {
    "collapsed": true
   },
   "outputs": [],
   "source": [
    "df.user_review.replace(\",\", \"\", inplace=True)"
   ]
  },
  {
   "cell_type": "code",
   "execution_count": 38,
   "metadata": {
    "collapsed": true
   },
   "outputs": [],
   "source": [
    "df.user_review = df.user_review.apply(lambda x: x.replace(\",\", \"\"))"
   ]
  },
  {
   "cell_type": "code",
   "execution_count": 39,
   "metadata": {},
   "outputs": [
    {
     "name": "stderr",
     "output_type": "stream",
     "text": [
      "/Users/masumrumi/anaconda/lib/python2.7/site-packages/ipykernel_launcher.py:1: FutureWarning: currently extract(expand=None) means expand=False (return Index/Series/DataFrame) but in a future version of pandas this will be changed to expand=True (return DataFrame)\n",
      "  \"\"\"Entry point for launching an IPython kernel.\n"
     ]
    }
   ],
   "source": [
    "df.user_review = df.user_review.str.extract(r'(\\d+)')"
   ]
  },
  {
   "cell_type": "code",
   "execution_count": 40,
   "metadata": {},
   "outputs": [
    {
     "data": {
      "text/plain": [
       "282"
      ]
     },
     "execution_count": 40,
     "metadata": {},
     "output_type": "execute_result"
    }
   ],
   "source": [
    "df.user_review.isnull().sum()"
   ]
  },
  {
   "cell_type": "code",
   "execution_count": 41,
   "metadata": {
    "collapsed": true
   },
   "outputs": [],
   "source": [
    "#df.user_review.fillna(0, inplace=True)"
   ]
  },
  {
   "cell_type": "code",
   "execution_count": 42,
   "metadata": {},
   "outputs": [
    {
     "name": "stderr",
     "output_type": "stream",
     "text": [
      "/Users/masumrumi/anaconda/lib/python2.7/site-packages/ipykernel_launcher.py:1: FutureWarning: currently extract(expand=None) means expand=False (return Index/Series/DataFrame) but in a future version of pandas this will be changed to expand=True (return DataFrame)\n",
      "  \"\"\"Entry point for launching an IPython kernel.\n"
     ]
    }
   ],
   "source": [
    "df.critic_review = df.critic_review.str.extract(r'(\\d+)')"
   ]
  },
  {
   "cell_type": "code",
   "execution_count": 43,
   "metadata": {},
   "outputs": [
    {
     "data": {
      "text/plain": [
       "636"
      ]
     },
     "execution_count": 43,
     "metadata": {},
     "output_type": "execute_result"
    }
   ],
   "source": [
    "df.critic_review.isnull().sum()"
   ]
  },
  {
   "cell_type": "code",
   "execution_count": 44,
   "metadata": {
    "collapsed": true
   },
   "outputs": [],
   "source": [
    "#df.critic_review.fillna(0, inplace=True)"
   ]
  },
  {
   "cell_type": "markdown",
   "metadata": {},
   "source": [
    "##### budget and gross"
   ]
  },
  {
   "cell_type": "code",
   "execution_count": 45,
   "metadata": {},
   "outputs": [
    {
     "name": "stderr",
     "output_type": "stream",
     "text": [
      "/Users/masumrumi/anaconda/lib/python2.7/site-packages/ipykernel_launcher.py:1: FutureWarning: currently extract(expand=None) means expand=False (return Index/Series/DataFrame) but in a future version of pandas this will be changed to expand=True (return DataFrame)\n",
      "  \"\"\"Entry point for launching an IPython kernel.\n"
     ]
    }
   ],
   "source": [
    "df.budget = df.budget.str.extract(r'(\\d+)')\n",
    "df.budget = df.budget.apply(lambda x: int(x))\n",
    "df.budget.replace(\"0\", None, inplace=True)"
   ]
  },
  {
   "cell_type": "code",
   "execution_count": 46,
   "metadata": {},
   "outputs": [
    {
     "name": "stderr",
     "output_type": "stream",
     "text": [
      "/Users/masumrumi/anaconda/lib/python2.7/site-packages/ipykernel_launcher.py:1: FutureWarning: currently extract(expand=None) means expand=False (return Index/Series/DataFrame) but in a future version of pandas this will be changed to expand=True (return DataFrame)\n",
      "  \"\"\"Entry point for launching an IPython kernel.\n"
     ]
    }
   ],
   "source": [
    "df.gross_1 = df.gross_1.str.extract(r'(\\d+)')\n",
    "df.gross_1 = df.gross_1.apply(lambda x: int(x))\n",
    "df.gross_1.replace(\"0\",None, inplace=True)"
   ]
  },
  {
   "cell_type": "markdown",
   "metadata": {},
   "source": [
    "##### Rotten Tomato scores"
   ]
  },
  {
   "cell_type": "code",
   "execution_count": 47,
   "metadata": {
    "scrolled": true
   },
   "outputs": [
    {
     "name": "stderr",
     "output_type": "stream",
     "text": [
      "/Users/masumrumi/anaconda/lib/python2.7/site-packages/ipykernel_launcher.py:1: FutureWarning: currently extract(expand=None) means expand=False (return Index/Series/DataFrame) but in a future version of pandas this will be changed to expand=True (return DataFrame)\n",
      "  \"\"\"Entry point for launching an IPython kernel.\n"
     ]
    }
   ],
   "source": [
    "df.rt_score = df.rt_score.str.extract(r'(\\d+)')"
   ]
  },
  {
   "cell_type": "code",
   "execution_count": 48,
   "metadata": {
    "collapsed": true
   },
   "outputs": [],
   "source": [
    "df.rt_score = [None if type(x) is float else int(x) for x in df.rt_score]"
   ]
  },
  {
   "cell_type": "code",
   "execution_count": 49,
   "metadata": {
    "collapsed": true
   },
   "outputs": [],
   "source": [
    "df.rt_avg_rating = [None if type(x) is float else x.split(\"/\")[0] for x in df.rt_avg_rating]\n"
   ]
  },
  {
   "cell_type": "code",
   "execution_count": 50,
   "metadata": {
    "collapsed": true
   },
   "outputs": [],
   "source": [
    "df.rt_avg_rating = [int(x) if x else None for x in df.rt_avg_rating]"
   ]
  },
  {
   "cell_type": "code",
   "execution_count": 51,
   "metadata": {},
   "outputs": [
    {
     "name": "stderr",
     "output_type": "stream",
     "text": [
      "/Users/masumrumi/anaconda/lib/python2.7/site-packages/ipykernel_launcher.py:1: FutureWarning: currently extract(expand=None) means expand=False (return Index/Series/DataFrame) but in a future version of pandas this will be changed to expand=True (return DataFrame)\n",
      "  \"\"\"Entry point for launching an IPython kernel.\n"
     ]
    }
   ],
   "source": [
    "df.rt_audience_score = df.rt_audience_score.str.extract(r'(\\d+)')"
   ]
  },
  {
   "cell_type": "code",
   "execution_count": 52,
   "metadata": {
    "collapsed": true
   },
   "outputs": [],
   "source": [
    "df.rt_avg_aud_rating = [None if type(x) is float else x.split(\"/\")[0] for x in df.rt_avg_aud_rating]"
   ]
  },
  {
   "cell_type": "code",
   "execution_count": 53,
   "metadata": {
    "collapsed": true
   },
   "outputs": [],
   "source": [
    "df.rt_user_rating = [i.replace(',',\"\") for i in df.rt_user_rating]"
   ]
  },
  {
   "cell_type": "markdown",
   "metadata": {},
   "source": [
    "##### Getting Writers."
   ]
  },
  {
   "cell_type": "code",
   "execution_count": 54,
   "metadata": {
    "collapsed": true
   },
   "outputs": [],
   "source": [
    "writer = []\n",
    "for x in df.writer:\n",
    "    try:\n",
    "        a = x.split(\"(\")[0].strip()\n",
    "        a = a.strip(\",\")\n",
    "        a = a.replace(\" \", \"_\")\n",
    "    except:\n",
    "        a = None\n",
    "    writer.append(a)\n",
    "df.writer = writer"
   ]
  },
  {
   "cell_type": "code",
   "execution_count": 55,
   "metadata": {},
   "outputs": [
    {
     "data": {
      "text/plain": [
       "2339"
      ]
     },
     "execution_count": 55,
     "metadata": {},
     "output_type": "execute_result"
    }
   ],
   "source": [
    "unique_writer = []\n",
    "for i in df.writer:\n",
    "    if i not in unique_writer:\n",
    "        unique_writer.append(i)\n",
    "len(unique_writer)"
   ]
  },
  {
   "cell_type": "code",
   "execution_count": 56,
   "metadata": {
    "collapsed": true
   },
   "outputs": [],
   "source": [
    "## Dropping writer since there are too many unique values. \n",
    "df.drop(\"writer\", axis=1, inplace=True)"
   ]
  },
  {
   "cell_type": "markdown",
   "metadata": {},
   "source": [
    "##### Getting Directors."
   ]
  },
  {
   "cell_type": "code",
   "execution_count": 57,
   "metadata": {
    "collapsed": true
   },
   "outputs": [],
   "source": [
    "## Creating a new column with only Directors name. \n",
    "director = []\n",
    "for x in df.director_actor:\n",
    "    try:\n",
    "        if \"Director:\" in x:\n",
    "            a = x\n",
    "    except:\n",
    "        a = None\n",
    "    director.append(a)\n",
    "df[\"director\"] = director"
   ]
  },
  {
   "cell_type": "code",
   "execution_count": 58,
   "metadata": {
    "collapsed": true
   },
   "outputs": [],
   "source": [
    "## Getting rid of \n",
    "director_1 = []\n",
    "for i in df.director:\n",
    "    try:\n",
    "        a = i.split(\"|\")[0]\n",
    "        a = a.split(\":\")[1]\n",
    "        a = a.strip()\n",
    "        a = a.replace(\" \", \"_\")\n",
    "    except:\n",
    "        a = None\n",
    "    director_1.append(a)\n",
    "df[\"director\"] = director_1"
   ]
  },
  {
   "cell_type": "code",
   "execution_count": 59,
   "metadata": {},
   "outputs": [
    {
     "data": {
      "text/plain": [
       "1"
      ]
     },
     "execution_count": 59,
     "metadata": {},
     "output_type": "execute_result"
    }
   ],
   "source": [
    "df.director.isnull().sum()"
   ]
  },
  {
   "cell_type": "code",
   "execution_count": 60,
   "metadata": {
    "collapsed": true,
    "scrolled": true
   },
   "outputs": [],
   "source": [
    "#df[df.director.isnull()].director = \"Don Hertzfeldt\" ## was trying to manually import one missing value.\n",
    "## getting rid of that one missing value\n",
    "df.director.dropna(inplace=True)"
   ]
  },
  {
   "cell_type": "code",
   "execution_count": 61,
   "metadata": {},
   "outputs": [
    {
     "data": {
      "text/plain": [
       "1907"
      ]
     },
     "execution_count": 61,
     "metadata": {},
     "output_type": "execute_result"
    }
   ],
   "source": [
    "u_director = []\n",
    "for i in df.director:\n",
    "    if i not in u_director:\n",
    "        u_director.append(i)\n",
    "len(u_director)"
   ]
  },
  {
   "cell_type": "code",
   "execution_count": 62,
   "metadata": {
    "collapsed": true,
    "scrolled": true
   },
   "outputs": [],
   "source": [
    "## Dropping \"director\" columns since there are too many unique values. \n",
    "df.drop(\"director\", axis=1, inplace=True)"
   ]
  },
  {
   "cell_type": "markdown",
   "metadata": {},
   "source": [
    "##### Getting Actors. "
   ]
  },
  {
   "cell_type": "code",
   "execution_count": 63,
   "metadata": {
    "collapsed": true
   },
   "outputs": [],
   "source": [
    "## Creating a new column with only Directors name. \n",
    "actor = []\n",
    "for x in df.director_actor:\n",
    "    try:\n",
    "        if \"Stars:\" in x:\n",
    "            a = x\n",
    "    except:\n",
    "        a = None\n",
    "    actor.append(a)\n",
    "df[\"actors\"] = actor"
   ]
  },
  {
   "cell_type": "code",
   "execution_count": 64,
   "metadata": {
    "collapsed": true
   },
   "outputs": [],
   "source": [
    "## Getting rid of \n",
    "actor = []\n",
    "for i in df.actors:\n",
    "    try:\n",
    "        a = i.split(\"|\")[1]\n",
    "        a = a.split(\":\")[1]\n",
    "        a = a.strip(\"\\n\")\n",
    "        a = a.strip(\",\")\n",
    "        a = a.split(\",\")\n",
    "        #a = a.replace(\" \", \"_\")\n",
    "    except:\n",
    "        a = None\n",
    "    actor.append(a)\n",
    "df[\"actors\"] = actor"
   ]
  },
  {
   "cell_type": "code",
   "execution_count": 65,
   "metadata": {},
   "outputs": [
    {
     "data": {
      "text/plain": [
       "['Chris Pratt', ' \\nZoe Saldana', ' \\nDave Bautista', ' \\nVin Diesel']"
      ]
     },
     "execution_count": 65,
     "metadata": {},
     "output_type": "execute_result"
    }
   ],
   "source": [
    "df.actors[0]"
   ]
  },
  {
   "cell_type": "code",
   "execution_count": 66,
   "metadata": {
    "collapsed": true
   },
   "outputs": [],
   "source": [
    "b = []\n",
    "for i in df.actors:\n",
    "    try:\n",
    "        a = []\n",
    "        for j in i:\n",
    "            c = j.strip()\n",
    "            c = c.replace(\" \",\"_\")\n",
    "            a.append(c)\n",
    "    except:\n",
    "        a = None\n",
    "    b.append(a)\n",
    "df.actors = b\n",
    "        "
   ]
  },
  {
   "cell_type": "code",
   "execution_count": 67,
   "metadata": {},
   "outputs": [
    {
     "data": {
      "text/plain": [
       "['Prabhas', 'Rana_Daggubati', 'Anushka_Shetty', 'Tamannaah_Bhatia']"
      ]
     },
     "execution_count": 67,
     "metadata": {},
     "output_type": "execute_result"
    }
   ],
   "source": [
    "df.actors[1]"
   ]
  },
  {
   "cell_type": "code",
   "execution_count": 68,
   "metadata": {
    "collapsed": true
   },
   "outputs": [],
   "source": [
    "# Dropping director_actor columns since its not needed anymore.\n",
    "df.drop(\"director_actor\", axis=1,inplace=True)"
   ]
  },
  {
   "cell_type": "code",
   "execution_count": 69,
   "metadata": {
    "collapsed": true
   },
   "outputs": [],
   "source": [
    "# Create a unique list for directors, writers."
   ]
  },
  {
   "cell_type": "code",
   "execution_count": 70,
   "metadata": {
    "collapsed": true
   },
   "outputs": [],
   "source": [
    "## Dropping the actors for now but will look into it in the future. \n",
    "df.drop(\"actors\",axis = 1, inplace=True)"
   ]
  },
  {
   "cell_type": "markdown",
   "metadata": {},
   "source": [
    "##### Certificate"
   ]
  },
  {
   "cell_type": "code",
   "execution_count": 71,
   "metadata": {
    "collapsed": true
   },
   "outputs": [],
   "source": [
    "df.certificate.replace(\"Not Rated\", \"Unrated\", inplace=True)\n",
    "df.certificate.replace(np.nan, \"Unrated\", inplace=True)"
   ]
  },
  {
   "cell_type": "code",
   "execution_count": 72,
   "metadata": {},
   "outputs": [
    {
     "data": {
      "text/plain": [
       "Unrated     1252\n",
       "R            782\n",
       "PG-13        393\n",
       "PG           326\n",
       "Approved      71\n",
       "G             69\n",
       "TV-14         46\n",
       "Passed        18\n",
       "TV-G          10\n",
       "TV-PG         10\n",
       "TV-MA          9\n",
       "GP             5\n",
       "NC-17          4\n",
       "X              2\n",
       "M              1\n",
       "E              1\n",
       "Name: certificate, dtype: int64"
      ]
     },
     "execution_count": 72,
     "metadata": {},
     "output_type": "execute_result"
    }
   ],
   "source": [
    "df.certificate.value_counts(dropna=False)"
   ]
  },
  {
   "cell_type": "markdown",
   "metadata": {},
   "source": [
    "## Visualization\n",
    "<a name=\"visualization\"></a>"
   ]
  },
  {
   "cell_type": "code",
   "execution_count": 73,
   "metadata": {
    "collapsed": true
   },
   "outputs": [],
   "source": [
    "corr = df.corr()"
   ]
  },
  {
   "cell_type": "code",
   "execution_count": 74,
   "metadata": {
    "collapsed": true
   },
   "outputs": [],
   "source": [
    "import matplotlib.pyplot as plt\n",
    "import seaborn as sns\n",
    "% matplotlib inline"
   ]
  },
  {
   "cell_type": "code",
   "execution_count": 75,
   "metadata": {},
   "outputs": [
    {
     "data": {
      "image/png": "[encoded data removed]",
      "text/plain": [
       "<matplotlib.figure.Figure at 0x122a752d0>"
      ]
     },
     "metadata": {},
     "output_type": "display_data"
    }
   ],
   "source": [
    "fig, ax = plt.subplots(figsize = (15,8))\n",
    "sns.heatmap(corr);"
   ]
  },
  {
   "cell_type": "code",
   "execution_count": 76,
   "metadata": {
    "scrolled": false
   },
   "outputs": [
    {
     "data": {
      "image/png": "[encoded data removed]",
      "text/plain": [
       "<matplotlib.figure.Figure at 0x122b34190>"
      ]
     },
     "metadata": {},
     "output_type": "display_data"
    }
   ],
   "source": [
    "fig, ax = plt.subplots(figsize = (15,8))\n",
    "sns.heatmap(corr**2);\n",
    "plt.title(\"Correlation between features\", size = 20);"
   ]
  },
  {
   "cell_type": "code",
   "execution_count": 77,
   "metadata": {},
   "outputs": [
    {
     "data": {
      "image/png": "[encoded data removed]",
      "text/plain": [
       "<matplotlib.figure.Figure at 0x124f04410>"
      ]
     },
     "metadata": {},
     "output_type": "display_data"
    }
   ],
   "source": [
    "fig, ax = plt.subplots(figsize = (15,8))\n",
    "sns.distplot(df.imdb_rating,bins = 50);\n",
    "plt.title(\"Distribution of imdb ratings among movies\", size = 20);"
   ]
  },
  {
   "cell_type": "markdown",
   "metadata": {},
   "source": [
    "The distribution of the imdb_rating clearly shows how I have chosen two sets of movies. This could give me a result with better r scores. However, it is important to keep in mind that in the real work the distribution do not act similarly. Often you get data sets \n"
   ]
  },
  {
   "cell_type": "code",
   "execution_count": 78,
   "metadata": {
    "scrolled": false
   },
   "outputs": [
    {
     "data": {
      "image/png": "[encoded data removed]",
      "text/plain": [
       "<matplotlib.figure.Figure at 0x12537cb90>"
      ]
     },
     "metadata": {},
     "output_type": "display_data"
    }
   ],
   "source": [
    "fig, ax = plt.subplots(figsize = (15,8))\n",
    "sns.distplot(df.year,bins = 50);\n",
    "plt.title(\"Distribution of years among movies\", size = 20);"
   ]
  },
  {
   "cell_type": "markdown",
   "metadata": {},
   "source": [
    "Most of the movies are pretty recent."
   ]
  },
  {
   "cell_type": "code",
   "execution_count": 79,
   "metadata": {},
   "outputs": [
    {
     "data": {
      "text/html": [
       "<div>\n",
       "<table border=\"1\" class=\"dataframe\">\n",
       "  <thead>\n",
       "    <tr style=\"text-align: right;\">\n",
       "      <th></th>\n",
       "      <th>title_id</th>\n",
       "      <th>title</th>\n",
       "      <th>runtime</th>\n",
       "      <th>certificate</th>\n",
       "      <th>imdb_rating</th>\n",
       "      <th>year</th>\n",
       "      <th>votes</th>\n",
       "      <th>user_review</th>\n",
       "      <th>critic_review</th>\n",
       "      <th>language</th>\n",
       "      <th>...</th>\n",
       "      <th>Romance</th>\n",
       "      <th>Documentary</th>\n",
       "      <th>War</th>\n",
       "      <th>Family</th>\n",
       "      <th>Western</th>\n",
       "      <th>Sport</th>\n",
       "      <th>Musical</th>\n",
       "      <th>Film-Noir</th>\n",
       "      <th>News</th>\n",
       "      <th>Short</th>\n",
       "    </tr>\n",
       "  </thead>\n",
       "  <tbody>\n",
       "    <tr>\n",
       "      <th>0</th>\n",
       "      <td>tt3896198</td>\n",
       "      <td>Guardians of the Galaxy Vol. 2</td>\n",
       "      <td>136</td>\n",
       "      <td>PG-13</td>\n",
       "      <td>8.1</td>\n",
       "      <td>2017</td>\n",
       "      <td>107822</td>\n",
       "      <td>361</td>\n",
       "      <td>380</td>\n",
       "      <td>English</td>\n",
       "      <td>...</td>\n",
       "      <td>0</td>\n",
       "      <td>0</td>\n",
       "      <td>0</td>\n",
       "      <td>0</td>\n",
       "      <td>0</td>\n",
       "      <td>0</td>\n",
       "      <td>0</td>\n",
       "      <td>0</td>\n",
       "      <td>0</td>\n",
       "      <td>0</td>\n",
       "    </tr>\n",
       "    <tr>\n",
       "      <th>1</th>\n",
       "      <td>tt4849438</td>\n",
       "      <td>Baahubali 2: The Conclusion</td>\n",
       "      <td>167</td>\n",
       "      <td>Unrated</td>\n",
       "      <td>9.0</td>\n",
       "      <td>2017</td>\n",
       "      <td>31843</td>\n",
       "      <td>14</td>\n",
       "      <td>64</td>\n",
       "      <td>English</td>\n",
       "      <td>...</td>\n",
       "      <td>0</td>\n",
       "      <td>0</td>\n",
       "      <td>0</td>\n",
       "      <td>0</td>\n",
       "      <td>0</td>\n",
       "      <td>0</td>\n",
       "      <td>0</td>\n",
       "      <td>0</td>\n",
       "      <td>0</td>\n",
       "      <td>0</td>\n",
       "    </tr>\n",
       "    <tr>\n",
       "      <th>2</th>\n",
       "      <td>tt5052448</td>\n",
       "      <td>Get Out</td>\n",
       "      <td>104</td>\n",
       "      <td>R</td>\n",
       "      <td>8.0</td>\n",
       "      <td>2017</td>\n",
       "      <td>80515</td>\n",
       "      <td>288</td>\n",
       "      <td>44</td>\n",
       "      <td>Telugu</td>\n",
       "      <td>...</td>\n",
       "      <td>0</td>\n",
       "      <td>0</td>\n",
       "      <td>0</td>\n",
       "      <td>0</td>\n",
       "      <td>0</td>\n",
       "      <td>0</td>\n",
       "      <td>0</td>\n",
       "      <td>0</td>\n",
       "      <td>0</td>\n",
       "      <td>0</td>\n",
       "    </tr>\n",
       "    <tr>\n",
       "      <th>3</th>\n",
       "      <td>tt2015381</td>\n",
       "      <td>Guardians of the Galaxy</td>\n",
       "      <td>121</td>\n",
       "      <td>PG-13</td>\n",
       "      <td>8.1</td>\n",
       "      <td>2014</td>\n",
       "      <td>753002</td>\n",
       "      <td>396</td>\n",
       "      <td>464</td>\n",
       "      <td>English</td>\n",
       "      <td>...</td>\n",
       "      <td>0</td>\n",
       "      <td>0</td>\n",
       "      <td>0</td>\n",
       "      <td>0</td>\n",
       "      <td>0</td>\n",
       "      <td>0</td>\n",
       "      <td>0</td>\n",
       "      <td>0</td>\n",
       "      <td>0</td>\n",
       "      <td>0</td>\n",
       "    </tr>\n",
       "    <tr>\n",
       "      <th>4</th>\n",
       "      <td>tt1790809</td>\n",
       "      <td>Pirates of the Caribbean: Dead Men Tell No Tales</td>\n",
       "      <td>129</td>\n",
       "      <td>PG-13</td>\n",
       "      <td>8.6</td>\n",
       "      <td>2017</td>\n",
       "      <td>1008</td>\n",
       "      <td>1130</td>\n",
       "      <td>669</td>\n",
       "      <td>English</td>\n",
       "      <td>...</td>\n",
       "      <td>0</td>\n",
       "      <td>0</td>\n",
       "      <td>0</td>\n",
       "      <td>0</td>\n",
       "      <td>0</td>\n",
       "      <td>0</td>\n",
       "      <td>0</td>\n",
       "      <td>0</td>\n",
       "      <td>0</td>\n",
       "      <td>0</td>\n",
       "    </tr>\n",
       "    <tr>\n",
       "      <th>5</th>\n",
       "      <td>tt3315342</td>\n",
       "      <td>Logan</td>\n",
       "      <td>137</td>\n",
       "      <td>R</td>\n",
       "      <td>8.4</td>\n",
       "      <td>2017</td>\n",
       "      <td>250086</td>\n",
       "      <td>924</td>\n",
       "      <td>513</td>\n",
       "      <td>English</td>\n",
       "      <td>...</td>\n",
       "      <td>0</td>\n",
       "      <td>0</td>\n",
       "      <td>0</td>\n",
       "      <td>0</td>\n",
       "      <td>0</td>\n",
       "      <td>0</td>\n",
       "      <td>0</td>\n",
       "      <td>0</td>\n",
       "      <td>0</td>\n",
       "      <td>0</td>\n",
       "    </tr>\n",
       "    <tr>\n",
       "      <th>6</th>\n",
       "      <td>tt3783958</td>\n",
       "      <td>La La Land</td>\n",
       "      <td>128</td>\n",
       "      <td>PG-13</td>\n",
       "      <td>8.3</td>\n",
       "      <td>2016</td>\n",
       "      <td>252049</td>\n",
       "      <td>1040</td>\n",
       "      <td>581</td>\n",
       "      <td>English</td>\n",
       "      <td>...</td>\n",
       "      <td>0</td>\n",
       "      <td>0</td>\n",
       "      <td>0</td>\n",
       "      <td>0</td>\n",
       "      <td>0</td>\n",
       "      <td>0</td>\n",
       "      <td>0</td>\n",
       "      <td>0</td>\n",
       "      <td>0</td>\n",
       "      <td>0</td>\n",
       "    </tr>\n",
       "    <tr>\n",
       "      <th>7</th>\n",
       "      <td>tt2631186</td>\n",
       "      <td>Bahubali: The Beginning</td>\n",
       "      <td>159</td>\n",
       "      <td>Unrated</td>\n",
       "      <td>8.3</td>\n",
       "      <td>2015</td>\n",
       "      <td>74789</td>\n",
       "      <td>431</td>\n",
       "      <td>49</td>\n",
       "      <td>Telugu</td>\n",
       "      <td>...</td>\n",
       "      <td>0</td>\n",
       "      <td>0</td>\n",
       "      <td>0</td>\n",
       "      <td>0</td>\n",
       "      <td>0</td>\n",
       "      <td>0</td>\n",
       "      <td>0</td>\n",
       "      <td>0</td>\n",
       "      <td>0</td>\n",
       "      <td>0</td>\n",
       "    </tr>\n",
       "    <tr>\n",
       "      <th>8</th>\n",
       "      <td>tt3741834</td>\n",
       "      <td>Lion</td>\n",
       "      <td>118</td>\n",
       "      <td>PG-13</td>\n",
       "      <td>8.1</td>\n",
       "      <td>2016</td>\n",
       "      <td>98549</td>\n",
       "      <td>275</td>\n",
       "      <td>320</td>\n",
       "      <td>English</td>\n",
       "      <td>...</td>\n",
       "      <td>0</td>\n",
       "      <td>0</td>\n",
       "      <td>0</td>\n",
       "      <td>0</td>\n",
       "      <td>0</td>\n",
       "      <td>0</td>\n",
       "      <td>0</td>\n",
       "      <td>0</td>\n",
       "      <td>0</td>\n",
       "      <td>0</td>\n",
       "    </tr>\n",
       "    <tr>\n",
       "      <th>9</th>\n",
       "      <td>tt1201607</td>\n",
       "      <td>Harry Potter and the Deathly Hallows: Part 2</td>\n",
       "      <td>130</td>\n",
       "      <td>PG-13</td>\n",
       "      <td>8.1</td>\n",
       "      <td>2011</td>\n",
       "      <td>589204</td>\n",
       "      <td>827</td>\n",
       "      <td>474</td>\n",
       "      <td>English</td>\n",
       "      <td>...</td>\n",
       "      <td>0</td>\n",
       "      <td>0</td>\n",
       "      <td>0</td>\n",
       "      <td>0</td>\n",
       "      <td>0</td>\n",
       "      <td>0</td>\n",
       "      <td>0</td>\n",
       "      <td>0</td>\n",
       "      <td>0</td>\n",
       "      <td>0</td>\n",
       "    </tr>\n",
       "    <tr>\n",
       "      <th>10</th>\n",
       "      <td>tt2119532</td>\n",
       "      <td>Hacksaw Ridge</td>\n",
       "      <td>139</td>\n",
       "      <td>R</td>\n",
       "      <td>8.2</td>\n",
       "      <td>2016</td>\n",
       "      <td>206959</td>\n",
       "      <td>518</td>\n",
       "      <td>415</td>\n",
       "      <td>English</td>\n",
       "      <td>...</td>\n",
       "      <td>0</td>\n",
       "      <td>0</td>\n",
       "      <td>0</td>\n",
       "      <td>0</td>\n",
       "      <td>0</td>\n",
       "      <td>0</td>\n",
       "      <td>0</td>\n",
       "      <td>0</td>\n",
       "      <td>0</td>\n",
       "      <td>0</td>\n",
       "    </tr>\n",
       "    <tr>\n",
       "      <th>11</th>\n",
       "      <td>tt4425200</td>\n",
       "      <td>John Wick: Chapter 2</td>\n",
       "      <td>122</td>\n",
       "      <td>R</td>\n",
       "      <td>8.1</td>\n",
       "      <td>2017</td>\n",
       "      <td>83072</td>\n",
       "      <td>339</td>\n",
       "      <td>324</td>\n",
       "      <td>English</td>\n",
       "      <td>...</td>\n",
       "      <td>0</td>\n",
       "      <td>0</td>\n",
       "      <td>0</td>\n",
       "      <td>0</td>\n",
       "      <td>0</td>\n",
       "      <td>0</td>\n",
       "      <td>0</td>\n",
       "      <td>0</td>\n",
       "      <td>0</td>\n",
       "      <td>0</td>\n",
       "    </tr>\n",
       "    <tr>\n",
       "      <th>12</th>\n",
       "      <td>tt0068646</td>\n",
       "      <td>The Godfather</td>\n",
       "      <td>175</td>\n",
       "      <td>R</td>\n",
       "      <td>9.2</td>\n",
       "      <td>1972</td>\n",
       "      <td>1234560</td>\n",
       "      <td>2403</td>\n",
       "      <td>217</td>\n",
       "      <td>English</td>\n",
       "      <td>...</td>\n",
       "      <td>0</td>\n",
       "      <td>0</td>\n",
       "      <td>0</td>\n",
       "      <td>0</td>\n",
       "      <td>0</td>\n",
       "      <td>0</td>\n",
       "      <td>0</td>\n",
       "      <td>0</td>\n",
       "      <td>0</td>\n",
       "      <td>0</td>\n",
       "    </tr>\n",
       "    <tr>\n",
       "      <th>13</th>\n",
       "      <td>tt2543164</td>\n",
       "      <td>Arrival</td>\n",
       "      <td>116</td>\n",
       "      <td>PG-13</td>\n",
       "      <td>8.0</td>\n",
       "      <td>2016</td>\n",
       "      <td>334924</td>\n",
       "      <td>1212</td>\n",
       "      <td>634</td>\n",
       "      <td>English</td>\n",
       "      <td>...</td>\n",
       "      <td>0</td>\n",
       "      <td>0</td>\n",
       "      <td>0</td>\n",
       "      <td>0</td>\n",
       "      <td>0</td>\n",
       "      <td>0</td>\n",
       "      <td>0</td>\n",
       "      <td>0</td>\n",
       "      <td>0</td>\n",
       "      <td>0</td>\n",
       "    </tr>\n",
       "    <tr>\n",
       "      <th>14</th>\n",
       "      <td>tt0816692</td>\n",
       "      <td>Interstellar</td>\n",
       "      <td>169</td>\n",
       "      <td>PG-13</td>\n",
       "      <td>8.6</td>\n",
       "      <td>2014</td>\n",
       "      <td>1044048</td>\n",
       "      <td>2858</td>\n",
       "      <td>731</td>\n",
       "      <td>English</td>\n",
       "      <td>...</td>\n",
       "      <td>0</td>\n",
       "      <td>0</td>\n",
       "      <td>0</td>\n",
       "      <td>0</td>\n",
       "      <td>0</td>\n",
       "      <td>0</td>\n",
       "      <td>0</td>\n",
       "      <td>0</td>\n",
       "      <td>0</td>\n",
       "      <td>0</td>\n",
       "    </tr>\n",
       "    <tr>\n",
       "      <th>15</th>\n",
       "      <td>tt2488496</td>\n",
       "      <td>Star Wars: Episode VII - The Force Awakens</td>\n",
       "      <td>136</td>\n",
       "      <td>PG-13</td>\n",
       "      <td>8.1</td>\n",
       "      <td>2015</td>\n",
       "      <td>659153</td>\n",
       "      <td>4124</td>\n",
       "      <td>832</td>\n",
       "      <td>English</td>\n",
       "      <td>...</td>\n",
       "      <td>0</td>\n",
       "      <td>0</td>\n",
       "      <td>0</td>\n",
       "      <td>0</td>\n",
       "      <td>0</td>\n",
       "      <td>0</td>\n",
       "      <td>0</td>\n",
       "      <td>0</td>\n",
       "      <td>0</td>\n",
       "      <td>0</td>\n",
       "    </tr>\n",
       "    <tr>\n",
       "      <th>16</th>\n",
       "      <td>tt0078748</td>\n",
       "      <td>Alien</td>\n",
       "      <td>117</td>\n",
       "      <td>R</td>\n",
       "      <td>8.5</td>\n",
       "      <td>1979</td>\n",
       "      <td>608224</td>\n",
       "      <td>1157</td>\n",
       "      <td>408</td>\n",
       "      <td>English</td>\n",
       "      <td>...</td>\n",
       "      <td>0</td>\n",
       "      <td>0</td>\n",
       "      <td>0</td>\n",
       "      <td>0</td>\n",
       "      <td>0</td>\n",
       "      <td>0</td>\n",
       "      <td>0</td>\n",
       "      <td>0</td>\n",
       "      <td>0</td>\n",
       "      <td>0</td>\n",
       "    </tr>\n",
       "    <tr>\n",
       "      <th>17</th>\n",
       "      <td>tt0076759</td>\n",
       "      <td>Star Wars: Episode IV - A New Hope</td>\n",
       "      <td>121</td>\n",
       "      <td>PG</td>\n",
       "      <td>8.7</td>\n",
       "      <td>1977</td>\n",
       "      <td>976334</td>\n",
       "      <td>1515</td>\n",
       "      <td>296</td>\n",
       "      <td>English</td>\n",
       "      <td>...</td>\n",
       "      <td>0</td>\n",
       "      <td>0</td>\n",
       "      <td>0</td>\n",
       "      <td>0</td>\n",
       "      <td>0</td>\n",
       "      <td>0</td>\n",
       "      <td>0</td>\n",
       "      <td>0</td>\n",
       "      <td>0</td>\n",
       "      <td>0</td>\n",
       "    </tr>\n",
       "    <tr>\n",
       "      <th>18</th>\n",
       "      <td>tt1431045</td>\n",
       "      <td>Deadpool</td>\n",
       "      <td>108</td>\n",
       "      <td>R</td>\n",
       "      <td>8.0</td>\n",
       "      <td>2016</td>\n",
       "      <td>624479</td>\n",
       "      <td>1178</td>\n",
       "      <td>628</td>\n",
       "      <td>English</td>\n",
       "      <td>...</td>\n",
       "      <td>0</td>\n",
       "      <td>0</td>\n",
       "      <td>0</td>\n",
       "      <td>0</td>\n",
       "      <td>0</td>\n",
       "      <td>0</td>\n",
       "      <td>0</td>\n",
       "      <td>0</td>\n",
       "      <td>0</td>\n",
       "      <td>0</td>\n",
       "    </tr>\n",
       "    <tr>\n",
       "      <th>19</th>\n",
       "      <td>tt0482571</td>\n",
       "      <td>The Prestige</td>\n",
       "      <td>130</td>\n",
       "      <td>PG-13</td>\n",
       "      <td>8.5</td>\n",
       "      <td>2006</td>\n",
       "      <td>910993</td>\n",
       "      <td>1125</td>\n",
       "      <td>350</td>\n",
       "      <td>English</td>\n",
       "      <td>...</td>\n",
       "      <td>0</td>\n",
       "      <td>0</td>\n",
       "      <td>0</td>\n",
       "      <td>0</td>\n",
       "      <td>0</td>\n",
       "      <td>0</td>\n",
       "      <td>0</td>\n",
       "      <td>0</td>\n",
       "      <td>0</td>\n",
       "      <td>0</td>\n",
       "    </tr>\n",
       "    <tr>\n",
       "      <th>20</th>\n",
       "      <td>tt0111161</td>\n",
       "      <td>The Shawshank Redemption</td>\n",
       "      <td>142</td>\n",
       "      <td>R</td>\n",
       "      <td>9.3</td>\n",
       "      <td>1994</td>\n",
       "      <td>1807960</td>\n",
       "      <td>4526</td>\n",
       "      <td>201</td>\n",
       "      <td>English</td>\n",
       "      <td>...</td>\n",
       "      <td>0</td>\n",
       "      <td>0</td>\n",
       "      <td>0</td>\n",
       "      <td>0</td>\n",
       "      <td>0</td>\n",
       "      <td>0</td>\n",
       "      <td>0</td>\n",
       "      <td>0</td>\n",
       "      <td>0</td>\n",
       "      <td>0</td>\n",
       "    </tr>\n",
       "    <tr>\n",
       "      <th>21</th>\n",
       "      <td>tt3890160</td>\n",
       "      <td>Baby Driver</td>\n",
       "      <td>113</td>\n",
       "      <td>Unrated</td>\n",
       "      <td>8.7</td>\n",
       "      <td>2017</td>\n",
       "      <td>1011</td>\n",
       "      <td>1332</td>\n",
       "      <td>178</td>\n",
       "      <td>English</td>\n",
       "      <td>...</td>\n",
       "      <td>0</td>\n",
       "      <td>0</td>\n",
       "      <td>0</td>\n",
       "      <td>0</td>\n",
       "      <td>0</td>\n",
       "      <td>0</td>\n",
       "      <td>0</td>\n",
       "      <td>0</td>\n",
       "      <td>0</td>\n",
       "      <td>0</td>\n",
       "    </tr>\n",
       "    <tr>\n",
       "      <th>22</th>\n",
       "      <td>tt0108052</td>\n",
       "      <td>Schindler's List</td>\n",
       "      <td>195</td>\n",
       "      <td>R</td>\n",
       "      <td>8.9</td>\n",
       "      <td>1993</td>\n",
       "      <td>927879</td>\n",
       "      <td>4885</td>\n",
       "      <td>651</td>\n",
       "      <td>English</td>\n",
       "      <td>...</td>\n",
       "      <td>0</td>\n",
       "      <td>0</td>\n",
       "      <td>0</td>\n",
       "      <td>0</td>\n",
       "      <td>0</td>\n",
       "      <td>0</td>\n",
       "      <td>0</td>\n",
       "      <td>0</td>\n",
       "      <td>0</td>\n",
       "      <td>0</td>\n",
       "    </tr>\n",
       "    <tr>\n",
       "      <th>23</th>\n",
       "      <td>tt0468569</td>\n",
       "      <td>The Dark Knight</td>\n",
       "      <td>152</td>\n",
       "      <td>PG-13</td>\n",
       "      <td>9.0</td>\n",
       "      <td>2008</td>\n",
       "      <td>1788083</td>\n",
       "      <td>1651</td>\n",
       "      <td>772</td>\n",
       "      <td>English</td>\n",
       "      <td>...</td>\n",
       "      <td>0</td>\n",
       "      <td>0</td>\n",
       "      <td>0</td>\n",
       "      <td>0</td>\n",
       "      <td>0</td>\n",
       "      <td>0</td>\n",
       "      <td>0</td>\n",
       "      <td>0</td>\n",
       "      <td>0</td>\n",
       "      <td>0</td>\n",
       "    </tr>\n",
       "    <tr>\n",
       "      <th>24</th>\n",
       "      <td>tt1392190</td>\n",
       "      <td>Mad Max: Fury Road</td>\n",
       "      <td>120</td>\n",
       "      <td>R</td>\n",
       "      <td>8.1</td>\n",
       "      <td>2015</td>\n",
       "      <td>630604</td>\n",
       "      <td>1106</td>\n",
       "      <td>263</td>\n",
       "      <td>English</td>\n",
       "      <td>...</td>\n",
       "      <td>0</td>\n",
       "      <td>0</td>\n",
       "      <td>0</td>\n",
       "      <td>0</td>\n",
       "      <td>0</td>\n",
       "      <td>0</td>\n",
       "      <td>0</td>\n",
       "      <td>0</td>\n",
       "      <td>0</td>\n",
       "      <td>0</td>\n",
       "    </tr>\n",
       "    <tr>\n",
       "      <th>25</th>\n",
       "      <td>tt0090605</td>\n",
       "      <td>Aliens</td>\n",
       "      <td>137</td>\n",
       "      <td>R</td>\n",
       "      <td>8.4</td>\n",
       "      <td>1986</td>\n",
       "      <td>521167</td>\n",
       "      <td>518</td>\n",
       "      <td>434</td>\n",
       "      <td>English</td>\n",
       "      <td>...</td>\n",
       "      <td>0</td>\n",
       "      <td>0</td>\n",
       "      <td>0</td>\n",
       "      <td>0</td>\n",
       "      <td>0</td>\n",
       "      <td>0</td>\n",
       "      <td>0</td>\n",
       "      <td>0</td>\n",
       "      <td>0</td>\n",
       "      <td>0</td>\n",
       "    </tr>\n",
       "    <tr>\n",
       "      <th>26</th>\n",
       "      <td>tt2948356</td>\n",
       "      <td>Zootopia</td>\n",
       "      <td>108</td>\n",
       "      <td>PG</td>\n",
       "      <td>8.1</td>\n",
       "      <td>2016</td>\n",
       "      <td>294477</td>\n",
       "      <td>1165</td>\n",
       "      <td>579</td>\n",
       "      <td>English</td>\n",
       "      <td>...</td>\n",
       "      <td>0</td>\n",
       "      <td>0</td>\n",
       "      <td>0</td>\n",
       "      <td>0</td>\n",
       "      <td>0</td>\n",
       "      <td>0</td>\n",
       "      <td>0</td>\n",
       "      <td>0</td>\n",
       "      <td>0</td>\n",
       "      <td>0</td>\n",
       "    </tr>\n",
       "    <tr>\n",
       "      <th>27</th>\n",
       "      <td>tt2267998</td>\n",
       "      <td>Gone Girl</td>\n",
       "      <td>149</td>\n",
       "      <td>R</td>\n",
       "      <td>8.1</td>\n",
       "      <td>2014</td>\n",
       "      <td>634309</td>\n",
       "      <td>120</td>\n",
       "      <td>134</td>\n",
       "      <td>Japanese</td>\n",
       "      <td>...</td>\n",
       "      <td>0</td>\n",
       "      <td>0</td>\n",
       "      <td>0</td>\n",
       "      <td>0</td>\n",
       "      <td>0</td>\n",
       "      <td>0</td>\n",
       "      <td>0</td>\n",
       "      <td>0</td>\n",
       "      <td>0</td>\n",
       "      <td>0</td>\n",
       "    </tr>\n",
       "    <tr>\n",
       "      <th>28</th>\n",
       "      <td>tt5311514</td>\n",
       "      <td>Kimi no na wa</td>\n",
       "      <td>106</td>\n",
       "      <td>PG</td>\n",
       "      <td>8.6</td>\n",
       "      <td>2016</td>\n",
       "      <td>32593</td>\n",
       "      <td>2886</td>\n",
       "      <td>657</td>\n",
       "      <td>English</td>\n",
       "      <td>...</td>\n",
       "      <td>0</td>\n",
       "      <td>0</td>\n",
       "      <td>0</td>\n",
       "      <td>0</td>\n",
       "      <td>0</td>\n",
       "      <td>0</td>\n",
       "      <td>0</td>\n",
       "      <td>0</td>\n",
       "      <td>0</td>\n",
       "      <td>0</td>\n",
       "    </tr>\n",
       "    <tr>\n",
       "      <th>29</th>\n",
       "      <td>tt1375666</td>\n",
       "      <td>Inception</td>\n",
       "      <td>148</td>\n",
       "      <td>PG-13</td>\n",
       "      <td>8.8</td>\n",
       "      <td>2010</td>\n",
       "      <td>1579908</td>\n",
       "      <td>1494</td>\n",
       "      <td>152</td>\n",
       "      <td>English</td>\n",
       "      <td>...</td>\n",
       "      <td>0</td>\n",
       "      <td>0</td>\n",
       "      <td>0</td>\n",
       "      <td>0</td>\n",
       "      <td>0</td>\n",
       "      <td>0</td>\n",
       "      <td>0</td>\n",
       "      <td>0</td>\n",
       "      <td>0</td>\n",
       "      <td>0</td>\n",
       "    </tr>\n",
       "    <tr>\n",
       "      <th>...</th>\n",
       "      <td>...</td>\n",
       "      <td>...</td>\n",
       "      <td>...</td>\n",
       "      <td>...</td>\n",
       "      <td>...</td>\n",
       "      <td>...</td>\n",
       "      <td>...</td>\n",
       "      <td>...</td>\n",
       "      <td>...</td>\n",
       "      <td>...</td>\n",
       "      <td>...</td>\n",
       "      <td>...</td>\n",
       "      <td>...</td>\n",
       "      <td>...</td>\n",
       "      <td>...</td>\n",
       "      <td>...</td>\n",
       "      <td>...</td>\n",
       "      <td>...</td>\n",
       "      <td>...</td>\n",
       "      <td>...</td>\n",
       "      <td>...</td>\n",
       "    </tr>\n",
       "    <tr>\n",
       "      <th>2970</th>\n",
       "      <td>tt1523267</td>\n",
       "      <td>Arctic Blast</td>\n",
       "      <td>92</td>\n",
       "      <td>Unrated</td>\n",
       "      <td>3.9</td>\n",
       "      <td>2010</td>\n",
       "      <td>2969</td>\n",
       "      <td>39</td>\n",
       "      <td>32</td>\n",
       "      <td>English</td>\n",
       "      <td>...</td>\n",
       "      <td>0</td>\n",
       "      <td>0</td>\n",
       "      <td>0</td>\n",
       "      <td>0</td>\n",
       "      <td>0</td>\n",
       "      <td>0</td>\n",
       "      <td>0</td>\n",
       "      <td>0</td>\n",
       "      <td>0</td>\n",
       "      <td>0</td>\n",
       "    </tr>\n",
       "    <tr>\n",
       "      <th>2971</th>\n",
       "      <td>tt1740725</td>\n",
       "      <td>Bigfoot: The Lost Coast Tapes</td>\n",
       "      <td>90</td>\n",
       "      <td>Unrated</td>\n",
       "      <td>4.5</td>\n",
       "      <td>2012</td>\n",
       "      <td>1962</td>\n",
       "      <td>418</td>\n",
       "      <td>88</td>\n",
       "      <td>English</td>\n",
       "      <td>...</td>\n",
       "      <td>0</td>\n",
       "      <td>0</td>\n",
       "      <td>0</td>\n",
       "      <td>0</td>\n",
       "      <td>0</td>\n",
       "      <td>0</td>\n",
       "      <td>0</td>\n",
       "      <td>0</td>\n",
       "      <td>0</td>\n",
       "      <td>0</td>\n",
       "    </tr>\n",
       "    <tr>\n",
       "      <th>2972</th>\n",
       "      <td>tt0120662</td>\n",
       "      <td>Eye of the Beholder</td>\n",
       "      <td>109</td>\n",
       "      <td>R</td>\n",
       "      <td>4.9</td>\n",
       "      <td>1999</td>\n",
       "      <td>13568</td>\n",
       "      <td>20</td>\n",
       "      <td>NaN</td>\n",
       "      <td>English</td>\n",
       "      <td>...</td>\n",
       "      <td>0</td>\n",
       "      <td>0</td>\n",
       "      <td>0</td>\n",
       "      <td>0</td>\n",
       "      <td>0</td>\n",
       "      <td>0</td>\n",
       "      <td>0</td>\n",
       "      <td>0</td>\n",
       "      <td>0</td>\n",
       "      <td>0</td>\n",
       "    </tr>\n",
       "    <tr>\n",
       "      <th>2973</th>\n",
       "      <td>tt1899324</td>\n",
       "      <td>The Letter</td>\n",
       "      <td>92</td>\n",
       "      <td>R</td>\n",
       "      <td>3.7</td>\n",
       "      <td>2012</td>\n",
       "      <td>1221</td>\n",
       "      <td>19</td>\n",
       "      <td>30</td>\n",
       "      <td>English</td>\n",
       "      <td>...</td>\n",
       "      <td>0</td>\n",
       "      <td>0</td>\n",
       "      <td>0</td>\n",
       "      <td>0</td>\n",
       "      <td>0</td>\n",
       "      <td>0</td>\n",
       "      <td>0</td>\n",
       "      <td>0</td>\n",
       "      <td>0</td>\n",
       "      <td>0</td>\n",
       "    </tr>\n",
       "    <tr>\n",
       "      <th>2974</th>\n",
       "      <td>tt1745672</td>\n",
       "      <td>Children of the Corn: Genesis</td>\n",
       "      <td>80</td>\n",
       "      <td>R</td>\n",
       "      <td>3.8</td>\n",
       "      <td>2011</td>\n",
       "      <td>2488</td>\n",
       "      <td>22</td>\n",
       "      <td>14</td>\n",
       "      <td>English</td>\n",
       "      <td>...</td>\n",
       "      <td>0</td>\n",
       "      <td>0</td>\n",
       "      <td>0</td>\n",
       "      <td>0</td>\n",
       "      <td>0</td>\n",
       "      <td>0</td>\n",
       "      <td>0</td>\n",
       "      <td>0</td>\n",
       "      <td>0</td>\n",
       "      <td>0</td>\n",
       "    </tr>\n",
       "    <tr>\n",
       "      <th>2975</th>\n",
       "      <td>tt1693679</td>\n",
       "      <td>Hirokin: The Last Samurai</td>\n",
       "      <td>105</td>\n",
       "      <td>R</td>\n",
       "      <td>3.4</td>\n",
       "      <td>2012</td>\n",
       "      <td>1570</td>\n",
       "      <td>111</td>\n",
       "      <td>19</td>\n",
       "      <td>English</td>\n",
       "      <td>...</td>\n",
       "      <td>0</td>\n",
       "      <td>0</td>\n",
       "      <td>0</td>\n",
       "      <td>0</td>\n",
       "      <td>0</td>\n",
       "      <td>0</td>\n",
       "      <td>0</td>\n",
       "      <td>0</td>\n",
       "      <td>0</td>\n",
       "      <td>0</td>\n",
       "    </tr>\n",
       "    <tr>\n",
       "      <th>2976</th>\n",
       "      <td>tt0263728</td>\n",
       "      <td>Megiddo: The Omega Code 2</td>\n",
       "      <td>104</td>\n",
       "      <td>PG-13</td>\n",
       "      <td>4.1</td>\n",
       "      <td>2001</td>\n",
       "      <td>2304</td>\n",
       "      <td>34</td>\n",
       "      <td>16</td>\n",
       "      <td>English</td>\n",
       "      <td>...</td>\n",
       "      <td>0</td>\n",
       "      <td>0</td>\n",
       "      <td>0</td>\n",
       "      <td>0</td>\n",
       "      <td>0</td>\n",
       "      <td>0</td>\n",
       "      <td>0</td>\n",
       "      <td>0</td>\n",
       "      <td>0</td>\n",
       "      <td>0</td>\n",
       "    </tr>\n",
       "    <tr>\n",
       "      <th>2977</th>\n",
       "      <td>tt1419950</td>\n",
       "      <td>Riverworld</td>\n",
       "      <td>178</td>\n",
       "      <td>TV-14</td>\n",
       "      <td>5.0</td>\n",
       "      <td>2010</td>\n",
       "      <td>1992</td>\n",
       "      <td>45</td>\n",
       "      <td>11</td>\n",
       "      <td>Hindi</td>\n",
       "      <td>...</td>\n",
       "      <td>0</td>\n",
       "      <td>0</td>\n",
       "      <td>0</td>\n",
       "      <td>0</td>\n",
       "      <td>0</td>\n",
       "      <td>0</td>\n",
       "      <td>0</td>\n",
       "      <td>0</td>\n",
       "      <td>0</td>\n",
       "      <td>0</td>\n",
       "    </tr>\n",
       "    <tr>\n",
       "      <th>2978</th>\n",
       "      <td>tt0473310</td>\n",
       "      <td>Ram Gopal Varma's Indian Flames</td>\n",
       "      <td>171</td>\n",
       "      <td>Unrated</td>\n",
       "      <td>1.9</td>\n",
       "      <td>2007</td>\n",
       "      <td>6000</td>\n",
       "      <td>163</td>\n",
       "      <td>86</td>\n",
       "      <td>English</td>\n",
       "      <td>...</td>\n",
       "      <td>0</td>\n",
       "      <td>0</td>\n",
       "      <td>0</td>\n",
       "      <td>0</td>\n",
       "      <td>0</td>\n",
       "      <td>0</td>\n",
       "      <td>0</td>\n",
       "      <td>0</td>\n",
       "      <td>0</td>\n",
       "      <td>0</td>\n",
       "    </tr>\n",
       "    <tr>\n",
       "      <th>2979</th>\n",
       "      <td>tt0156841</td>\n",
       "      <td>The Next Best Thing</td>\n",
       "      <td>108</td>\n",
       "      <td>PG-13</td>\n",
       "      <td>4.7</td>\n",
       "      <td>2000</td>\n",
       "      <td>9585</td>\n",
       "      <td>45</td>\n",
       "      <td>41</td>\n",
       "      <td>English</td>\n",
       "      <td>...</td>\n",
       "      <td>1</td>\n",
       "      <td>0</td>\n",
       "      <td>0</td>\n",
       "      <td>0</td>\n",
       "      <td>0</td>\n",
       "      <td>0</td>\n",
       "      <td>0</td>\n",
       "      <td>0</td>\n",
       "      <td>0</td>\n",
       "      <td>0</td>\n",
       "    </tr>\n",
       "    <tr>\n",
       "      <th>2980</th>\n",
       "      <td>tt0434424</td>\n",
       "      <td>Undiscovered</td>\n",
       "      <td>97</td>\n",
       "      <td>PG-13</td>\n",
       "      <td>4.2</td>\n",
       "      <td>2005</td>\n",
       "      <td>2635</td>\n",
       "      <td>50</td>\n",
       "      <td>51</td>\n",
       "      <td>Cantonese</td>\n",
       "      <td>...</td>\n",
       "      <td>1</td>\n",
       "      <td>0</td>\n",
       "      <td>0</td>\n",
       "      <td>0</td>\n",
       "      <td>0</td>\n",
       "      <td>0</td>\n",
       "      <td>0</td>\n",
       "      <td>0</td>\n",
       "      <td>0</td>\n",
       "      <td>0</td>\n",
       "    </tr>\n",
       "    <tr>\n",
       "      <th>2981</th>\n",
       "      <td>tt0481280</td>\n",
       "      <td>Live Feed</td>\n",
       "      <td>77</td>\n",
       "      <td>R</td>\n",
       "      <td>3.5</td>\n",
       "      <td>2006</td>\n",
       "      <td>1350</td>\n",
       "      <td>17</td>\n",
       "      <td>26</td>\n",
       "      <td>English</td>\n",
       "      <td>...</td>\n",
       "      <td>0</td>\n",
       "      <td>0</td>\n",
       "      <td>0</td>\n",
       "      <td>0</td>\n",
       "      <td>0</td>\n",
       "      <td>0</td>\n",
       "      <td>0</td>\n",
       "      <td>0</td>\n",
       "      <td>0</td>\n",
       "      <td>0</td>\n",
       "    </tr>\n",
       "    <tr>\n",
       "      <th>2982</th>\n",
       "      <td>tt2726270</td>\n",
       "      <td>Tormented</td>\n",
       "      <td>83</td>\n",
       "      <td>Unrated</td>\n",
       "      <td>4.7</td>\n",
       "      <td>2014</td>\n",
       "      <td>1143</td>\n",
       "      <td>25</td>\n",
       "      <td>NaN</td>\n",
       "      <td>Polish</td>\n",
       "      <td>...</td>\n",
       "      <td>0</td>\n",
       "      <td>0</td>\n",
       "      <td>0</td>\n",
       "      <td>0</td>\n",
       "      <td>0</td>\n",
       "      <td>0</td>\n",
       "      <td>0</td>\n",
       "      <td>0</td>\n",
       "      <td>0</td>\n",
       "      <td>0</td>\n",
       "    </tr>\n",
       "    <tr>\n",
       "      <th>2983</th>\n",
       "      <td>tt0300657</td>\n",
       "      <td>Wiedzmin</td>\n",
       "      <td>130</td>\n",
       "      <td>Unrated</td>\n",
       "      <td>3.6</td>\n",
       "      <td>2001</td>\n",
       "      <td>1401</td>\n",
       "      <td>29</td>\n",
       "      <td>19</td>\n",
       "      <td>English</td>\n",
       "      <td>...</td>\n",
       "      <td>0</td>\n",
       "      <td>0</td>\n",
       "      <td>0</td>\n",
       "      <td>0</td>\n",
       "      <td>0</td>\n",
       "      <td>0</td>\n",
       "      <td>0</td>\n",
       "      <td>0</td>\n",
       "      <td>0</td>\n",
       "      <td>0</td>\n",
       "    </tr>\n",
       "    <tr>\n",
       "      <th>2984</th>\n",
       "      <td>tt1135933</td>\n",
       "      <td>Never Cry Werewolf</td>\n",
       "      <td>87</td>\n",
       "      <td>Unrated</td>\n",
       "      <td>4.9</td>\n",
       "      <td>2008</td>\n",
       "      <td>2054</td>\n",
       "      <td>10</td>\n",
       "      <td>NaN</td>\n",
       "      <td>English</td>\n",
       "      <td>...</td>\n",
       "      <td>0</td>\n",
       "      <td>0</td>\n",
       "      <td>0</td>\n",
       "      <td>0</td>\n",
       "      <td>0</td>\n",
       "      <td>0</td>\n",
       "      <td>0</td>\n",
       "      <td>0</td>\n",
       "      <td>0</td>\n",
       "      <td>0</td>\n",
       "    </tr>\n",
       "    <tr>\n",
       "      <th>2985</th>\n",
       "      <td>tt1046171</td>\n",
       "      <td>You and I</td>\n",
       "      <td>100</td>\n",
       "      <td>R</td>\n",
       "      <td>4.9</td>\n",
       "      <td>2011</td>\n",
       "      <td>1999</td>\n",
       "      <td>22</td>\n",
       "      <td>30</td>\n",
       "      <td>English</td>\n",
       "      <td>...</td>\n",
       "      <td>1</td>\n",
       "      <td>0</td>\n",
       "      <td>0</td>\n",
       "      <td>0</td>\n",
       "      <td>0</td>\n",
       "      <td>0</td>\n",
       "      <td>0</td>\n",
       "      <td>0</td>\n",
       "      <td>0</td>\n",
       "      <td>0</td>\n",
       "    </tr>\n",
       "    <tr>\n",
       "      <th>2986</th>\n",
       "      <td>tt1448762</td>\n",
       "      <td>Open House</td>\n",
       "      <td>88</td>\n",
       "      <td>R</td>\n",
       "      <td>4.4</td>\n",
       "      <td>2010</td>\n",
       "      <td>2051</td>\n",
       "      <td>44</td>\n",
       "      <td>55</td>\n",
       "      <td>English</td>\n",
       "      <td>...</td>\n",
       "      <td>0</td>\n",
       "      <td>0</td>\n",
       "      <td>0</td>\n",
       "      <td>0</td>\n",
       "      <td>0</td>\n",
       "      <td>0</td>\n",
       "      <td>0</td>\n",
       "      <td>0</td>\n",
       "      <td>0</td>\n",
       "      <td>0</td>\n",
       "    </tr>\n",
       "    <tr>\n",
       "      <th>2987</th>\n",
       "      <td>tt1907779</td>\n",
       "      <td>The Dinosaur Project</td>\n",
       "      <td>83</td>\n",
       "      <td>PG-13</td>\n",
       "      <td>4.7</td>\n",
       "      <td>2012</td>\n",
       "      <td>4455</td>\n",
       "      <td>17</td>\n",
       "      <td>37</td>\n",
       "      <td>English</td>\n",
       "      <td>...</td>\n",
       "      <td>0</td>\n",
       "      <td>0</td>\n",
       "      <td>0</td>\n",
       "      <td>0</td>\n",
       "      <td>0</td>\n",
       "      <td>0</td>\n",
       "      <td>0</td>\n",
       "      <td>0</td>\n",
       "      <td>0</td>\n",
       "      <td>0</td>\n",
       "    </tr>\n",
       "    <tr>\n",
       "      <th>2988</th>\n",
       "      <td>tt1848832</td>\n",
       "      <td>Crawl</td>\n",
       "      <td>80</td>\n",
       "      <td>Unrated</td>\n",
       "      <td>4.7</td>\n",
       "      <td>2011</td>\n",
       "      <td>1002</td>\n",
       "      <td>32</td>\n",
       "      <td>29</td>\n",
       "      <td>English</td>\n",
       "      <td>...</td>\n",
       "      <td>0</td>\n",
       "      <td>0</td>\n",
       "      <td>0</td>\n",
       "      <td>0</td>\n",
       "      <td>0</td>\n",
       "      <td>0</td>\n",
       "      <td>0</td>\n",
       "      <td>0</td>\n",
       "      <td>0</td>\n",
       "      <td>0</td>\n",
       "    </tr>\n",
       "    <tr>\n",
       "      <th>2989</th>\n",
       "      <td>tt1986857</td>\n",
       "      <td>Hijacked</td>\n",
       "      <td>86</td>\n",
       "      <td>R</td>\n",
       "      <td>3.8</td>\n",
       "      <td>2012</td>\n",
       "      <td>3359</td>\n",
       "      <td>19</td>\n",
       "      <td>20</td>\n",
       "      <td>English</td>\n",
       "      <td>...</td>\n",
       "      <td>0</td>\n",
       "      <td>0</td>\n",
       "      <td>0</td>\n",
       "      <td>0</td>\n",
       "      <td>0</td>\n",
       "      <td>0</td>\n",
       "      <td>0</td>\n",
       "      <td>0</td>\n",
       "      <td>0</td>\n",
       "      <td>0</td>\n",
       "    </tr>\n",
       "    <tr>\n",
       "      <th>2990</th>\n",
       "      <td>tt1560954</td>\n",
       "      <td>Gun</td>\n",
       "      <td>82</td>\n",
       "      <td>R</td>\n",
       "      <td>3.8</td>\n",
       "      <td>2010</td>\n",
       "      <td>3241</td>\n",
       "      <td>22</td>\n",
       "      <td>14</td>\n",
       "      <td>English</td>\n",
       "      <td>...</td>\n",
       "      <td>0</td>\n",
       "      <td>0</td>\n",
       "      <td>0</td>\n",
       "      <td>0</td>\n",
       "      <td>0</td>\n",
       "      <td>0</td>\n",
       "      <td>0</td>\n",
       "      <td>0</td>\n",
       "      <td>0</td>\n",
       "      <td>0</td>\n",
       "    </tr>\n",
       "    <tr>\n",
       "      <th>2991</th>\n",
       "      <td>tt1854582</td>\n",
       "      <td>No Vacancy</td>\n",
       "      <td>81</td>\n",
       "      <td>R</td>\n",
       "      <td>4.2</td>\n",
       "      <td>2012</td>\n",
       "      <td>1667</td>\n",
       "      <td>55</td>\n",
       "      <td>30</td>\n",
       "      <td>English</td>\n",
       "      <td>...</td>\n",
       "      <td>0</td>\n",
       "      <td>0</td>\n",
       "      <td>0</td>\n",
       "      <td>0</td>\n",
       "      <td>0</td>\n",
       "      <td>0</td>\n",
       "      <td>0</td>\n",
       "      <td>0</td>\n",
       "      <td>0</td>\n",
       "      <td>0</td>\n",
       "    </tr>\n",
       "    <tr>\n",
       "      <th>2992</th>\n",
       "      <td>tt0078856</td>\n",
       "      <td>Beyond the Poseidon Adventure</td>\n",
       "      <td>114</td>\n",
       "      <td>PG</td>\n",
       "      <td>4.5</td>\n",
       "      <td>1979</td>\n",
       "      <td>3814</td>\n",
       "      <td>45</td>\n",
       "      <td>35</td>\n",
       "      <td>German</td>\n",
       "      <td>...</td>\n",
       "      <td>0</td>\n",
       "      <td>0</td>\n",
       "      <td>0</td>\n",
       "      <td>0</td>\n",
       "      <td>0</td>\n",
       "      <td>0</td>\n",
       "      <td>0</td>\n",
       "      <td>0</td>\n",
       "      <td>0</td>\n",
       "      <td>0</td>\n",
       "    </tr>\n",
       "    <tr>\n",
       "      <th>2993</th>\n",
       "      <td>tt1620449</td>\n",
       "      <td>Konferenz der Tiere</td>\n",
       "      <td>93</td>\n",
       "      <td>PG</td>\n",
       "      <td>4.9</td>\n",
       "      <td>2010</td>\n",
       "      <td>4827</td>\n",
       "      <td>28</td>\n",
       "      <td>NaN</td>\n",
       "      <td>English</td>\n",
       "      <td>...</td>\n",
       "      <td>0</td>\n",
       "      <td>0</td>\n",
       "      <td>0</td>\n",
       "      <td>1</td>\n",
       "      <td>0</td>\n",
       "      <td>0</td>\n",
       "      <td>0</td>\n",
       "      <td>0</td>\n",
       "      <td>0</td>\n",
       "      <td>0</td>\n",
       "    </tr>\n",
       "    <tr>\n",
       "      <th>2994</th>\n",
       "      <td>tt0115676</td>\n",
       "      <td>Big Bully</td>\n",
       "      <td>90</td>\n",
       "      <td>PG</td>\n",
       "      <td>4.5</td>\n",
       "      <td>1996</td>\n",
       "      <td>3852</td>\n",
       "      <td>30</td>\n",
       "      <td>22</td>\n",
       "      <td>English</td>\n",
       "      <td>...</td>\n",
       "      <td>0</td>\n",
       "      <td>0</td>\n",
       "      <td>0</td>\n",
       "      <td>0</td>\n",
       "      <td>0</td>\n",
       "      <td>0</td>\n",
       "      <td>0</td>\n",
       "      <td>0</td>\n",
       "      <td>0</td>\n",
       "      <td>0</td>\n",
       "    </tr>\n",
       "    <tr>\n",
       "      <th>2995</th>\n",
       "      <td>tt0820142</td>\n",
       "      <td>Shark Bait</td>\n",
       "      <td>77</td>\n",
       "      <td>G</td>\n",
       "      <td>4.2</td>\n",
       "      <td>2006</td>\n",
       "      <td>3200</td>\n",
       "      <td>84</td>\n",
       "      <td>34</td>\n",
       "      <td>English</td>\n",
       "      <td>...</td>\n",
       "      <td>0</td>\n",
       "      <td>0</td>\n",
       "      <td>0</td>\n",
       "      <td>1</td>\n",
       "      <td>0</td>\n",
       "      <td>0</td>\n",
       "      <td>0</td>\n",
       "      <td>0</td>\n",
       "      <td>0</td>\n",
       "      <td>0</td>\n",
       "    </tr>\n",
       "    <tr>\n",
       "      <th>2996</th>\n",
       "      <td>tt0068837</td>\n",
       "      <td>The Legend of Boggy Creek</td>\n",
       "      <td>85</td>\n",
       "      <td>G</td>\n",
       "      <td>4.9</td>\n",
       "      <td>1972</td>\n",
       "      <td>2095</td>\n",
       "      <td>19</td>\n",
       "      <td>10</td>\n",
       "      <td>English</td>\n",
       "      <td>...</td>\n",
       "      <td>0</td>\n",
       "      <td>0</td>\n",
       "      <td>0</td>\n",
       "      <td>0</td>\n",
       "      <td>0</td>\n",
       "      <td>0</td>\n",
       "      <td>0</td>\n",
       "      <td>0</td>\n",
       "      <td>0</td>\n",
       "      <td>0</td>\n",
       "    </tr>\n",
       "    <tr>\n",
       "      <th>2997</th>\n",
       "      <td>tt2569236</td>\n",
       "      <td>Suddenly</td>\n",
       "      <td>90</td>\n",
       "      <td>Unrated</td>\n",
       "      <td>3.6</td>\n",
       "      <td>2013</td>\n",
       "      <td>1195</td>\n",
       "      <td>NaN</td>\n",
       "      <td>18</td>\n",
       "      <td>English</td>\n",
       "      <td>...</td>\n",
       "      <td>0</td>\n",
       "      <td>0</td>\n",
       "      <td>0</td>\n",
       "      <td>0</td>\n",
       "      <td>0</td>\n",
       "      <td>0</td>\n",
       "      <td>0</td>\n",
       "      <td>0</td>\n",
       "      <td>0</td>\n",
       "      <td>0</td>\n",
       "    </tr>\n",
       "    <tr>\n",
       "      <th>2998</th>\n",
       "      <td>tt3013160</td>\n",
       "      <td>Arrowhead</td>\n",
       "      <td>95</td>\n",
       "      <td>Unrated</td>\n",
       "      <td>4.5</td>\n",
       "      <td>2016</td>\n",
       "      <td>1055</td>\n",
       "      <td>56</td>\n",
       "      <td>20</td>\n",
       "      <td>English</td>\n",
       "      <td>...</td>\n",
       "      <td>0</td>\n",
       "      <td>0</td>\n",
       "      <td>0</td>\n",
       "      <td>0</td>\n",
       "      <td>0</td>\n",
       "      <td>0</td>\n",
       "      <td>0</td>\n",
       "      <td>0</td>\n",
       "      <td>0</td>\n",
       "      <td>0</td>\n",
       "    </tr>\n",
       "    <tr>\n",
       "      <th>2999</th>\n",
       "      <td>tt0049370</td>\n",
       "      <td>It Conquered the World</td>\n",
       "      <td>71</td>\n",
       "      <td>Approved</td>\n",
       "      <td>4.9</td>\n",
       "      <td>1956</td>\n",
       "      <td>1605</td>\n",
       "      <td>12</td>\n",
       "      <td>10</td>\n",
       "      <td>English</td>\n",
       "      <td>...</td>\n",
       "      <td>0</td>\n",
       "      <td>0</td>\n",
       "      <td>0</td>\n",
       "      <td>0</td>\n",
       "      <td>0</td>\n",
       "      <td>0</td>\n",
       "      <td>0</td>\n",
       "      <td>0</td>\n",
       "      <td>0</td>\n",
       "      <td>0</td>\n",
       "    </tr>\n",
       "  </tbody>\n",
       "</table>\n",
       "<p>2999 rows × 49 columns</p>\n",
       "</div>"
      ],
      "text/plain": [
       "       title_id                                             title runtime  \\\n",
       "0     tt3896198                    Guardians of the Galaxy Vol. 2     136   \n",
       "1     tt4849438                       Baahubali 2: The Conclusion     167   \n",
       "2     tt5052448                                           Get Out     104   \n",
       "3     tt2015381                           Guardians of the Galaxy     121   \n",
       "4     tt1790809  Pirates of the Caribbean: Dead Men Tell No Tales     129   \n",
       "5     tt3315342                                             Logan     137   \n",
       "6     tt3783958                                        La La Land     128   \n",
       "7     tt2631186                           Bahubali: The Beginning     159   \n",
       "8     tt3741834                                              Lion     118   \n",
       "9     tt1201607      Harry Potter and the Deathly Hallows: Part 2     130   \n",
       "10    tt2119532                                     Hacksaw Ridge     139   \n",
       "11    tt4425200                              John Wick: Chapter 2     122   \n",
       "12    tt0068646                                     The Godfather     175   \n",
       "13    tt2543164                                           Arrival     116   \n",
       "14    tt0816692                                      Interstellar     169   \n",
       "15    tt2488496        Star Wars: Episode VII - The Force Awakens     136   \n",
       "16    tt0078748                                             Alien     117   \n",
       "17    tt0076759                Star Wars: Episode IV - A New Hope     121   \n",
       "18    tt1431045                                          Deadpool     108   \n",
       "19    tt0482571                                      The Prestige     130   \n",
       "20    tt0111161                          The Shawshank Redemption     142   \n",
       "21    tt3890160                                       Baby Driver     113   \n",
       "22    tt0108052                                  Schindler's List     195   \n",
       "23    tt0468569                                   The Dark Knight     152   \n",
       "24    tt1392190                                Mad Max: Fury Road     120   \n",
       "25    tt0090605                                            Aliens     137   \n",
       "26    tt2948356                                          Zootopia     108   \n",
       "27    tt2267998                                         Gone Girl     149   \n",
       "28    tt5311514                                     Kimi no na wa     106   \n",
       "29    tt1375666                                         Inception     148   \n",
       "...         ...                                               ...     ...   \n",
       "2970  tt1523267                                      Arctic Blast      92   \n",
       "2971  tt1740725                     Bigfoot: The Lost Coast Tapes      90   \n",
       "2972  tt0120662                               Eye of the Beholder     109   \n",
       "2973  tt1899324                                        The Letter      92   \n",
       "2974  tt1745672                     Children of the Corn: Genesis      80   \n",
       "2975  tt1693679                         Hirokin: The Last Samurai     105   \n",
       "2976  tt0263728                         Megiddo: The Omega Code 2     104   \n",
       "2977  tt1419950                                        Riverworld     178   \n",
       "2978  tt0473310                   Ram Gopal Varma's Indian Flames     171   \n",
       "2979  tt0156841                               The Next Best Thing     108   \n",
       "2980  tt0434424                                      Undiscovered      97   \n",
       "2981  tt0481280                                         Live Feed      77   \n",
       "2982  tt2726270                                         Tormented      83   \n",
       "2983  tt0300657                                          Wiedzmin     130   \n",
       "2984  tt1135933                                Never Cry Werewolf      87   \n",
       "2985  tt1046171                                         You and I     100   \n",
       "2986  tt1448762                                        Open House      88   \n",
       "2987  tt1907779                              The Dinosaur Project      83   \n",
       "2988  tt1848832                                             Crawl      80   \n",
       "2989  tt1986857                                          Hijacked      86   \n",
       "2990  tt1560954                                               Gun      82   \n",
       "2991  tt1854582                                        No Vacancy      81   \n",
       "2992  tt0078856                     Beyond the Poseidon Adventure     114   \n",
       "2993  tt1620449                               Konferenz der Tiere      93   \n",
       "2994  tt0115676                                         Big Bully      90   \n",
       "2995  tt0820142                                        Shark Bait      77   \n",
       "2996  tt0068837                         The Legend of Boggy Creek      85   \n",
       "2997  tt2569236                                          Suddenly      90   \n",
       "2998  tt3013160                                         Arrowhead      95   \n",
       "2999  tt0049370                            It Conquered the World      71   \n",
       "\n",
       "     certificate  imdb_rating  year    votes user_review critic_review  \\\n",
       "0          PG-13          8.1  2017   107822         361           380   \n",
       "1        Unrated          9.0  2017    31843          14            64   \n",
       "2              R          8.0  2017    80515         288            44   \n",
       "3          PG-13          8.1  2014   753002         396           464   \n",
       "4          PG-13          8.6  2017     1008        1130           669   \n",
       "5              R          8.4  2017   250086         924           513   \n",
       "6          PG-13          8.3  2016   252049        1040           581   \n",
       "7        Unrated          8.3  2015    74789         431            49   \n",
       "8          PG-13          8.1  2016    98549         275           320   \n",
       "9          PG-13          8.1  2011   589204         827           474   \n",
       "10             R          8.2  2016   206959         518           415   \n",
       "11             R          8.1  2017    83072         339           324   \n",
       "12             R          9.2  1972  1234560        2403           217   \n",
       "13         PG-13          8.0  2016   334924        1212           634   \n",
       "14         PG-13          8.6  2014  1044048        2858           731   \n",
       "15         PG-13          8.1  2015   659153        4124           832   \n",
       "16             R          8.5  1979   608224        1157           408   \n",
       "17            PG          8.7  1977   976334        1515           296   \n",
       "18             R          8.0  2016   624479        1178           628   \n",
       "19         PG-13          8.5  2006   910993        1125           350   \n",
       "20             R          9.3  1994  1807960        4526           201   \n",
       "21       Unrated          8.7  2017     1011        1332           178   \n",
       "22             R          8.9  1993   927879        4885           651   \n",
       "23         PG-13          9.0  2008  1788083        1651           772   \n",
       "24             R          8.1  2015   630604        1106           263   \n",
       "25             R          8.4  1986   521167         518           434   \n",
       "26            PG          8.1  2016   294477        1165           579   \n",
       "27             R          8.1  2014   634309         120           134   \n",
       "28            PG          8.6  2016    32593        2886           657   \n",
       "29         PG-13          8.8  2010  1579908        1494           152   \n",
       "...          ...          ...   ...      ...         ...           ...   \n",
       "2970     Unrated          3.9  2010     2969          39            32   \n",
       "2971     Unrated          4.5  2012     1962         418            88   \n",
       "2972           R          4.9  1999    13568          20           NaN   \n",
       "2973           R          3.7  2012     1221          19            30   \n",
       "2974           R          3.8  2011     2488          22            14   \n",
       "2975           R          3.4  2012     1570         111            19   \n",
       "2976       PG-13          4.1  2001     2304          34            16   \n",
       "2977       TV-14          5.0  2010     1992          45            11   \n",
       "2978     Unrated          1.9  2007     6000         163            86   \n",
       "2979       PG-13          4.7  2000     9585          45            41   \n",
       "2980       PG-13          4.2  2005     2635          50            51   \n",
       "2981           R          3.5  2006     1350          17            26   \n",
       "2982     Unrated          4.7  2014     1143          25           NaN   \n",
       "2983     Unrated          3.6  2001     1401          29            19   \n",
       "2984     Unrated          4.9  2008     2054          10           NaN   \n",
       "2985           R          4.9  2011     1999          22            30   \n",
       "2986           R          4.4  2010     2051          44            55   \n",
       "2987       PG-13          4.7  2012     4455          17            37   \n",
       "2988     Unrated          4.7  2011     1002          32            29   \n",
       "2989           R          3.8  2012     3359          19            20   \n",
       "2990           R          3.8  2010     3241          22            14   \n",
       "2991           R          4.2  2012     1667          55            30   \n",
       "2992          PG          4.5  1979     3814          45            35   \n",
       "2993          PG          4.9  2010     4827          28           NaN   \n",
       "2994          PG          4.5  1996     3852          30            22   \n",
       "2995           G          4.2  2006     3200          84            34   \n",
       "2996           G          4.9  1972     2095          19            10   \n",
       "2997     Unrated          3.6  2013     1195         NaN            18   \n",
       "2998     Unrated          4.5  2016     1055          56            20   \n",
       "2999    Approved          4.9  1956     1605          12            10   \n",
       "\n",
       "       language  ...  Romance  Documentary  War Family Western  Sport  \\\n",
       "0       English  ...        0            0    0      0       0      0   \n",
       "1       English  ...        0            0    0      0       0      0   \n",
       "2        Telugu  ...        0            0    0      0       0      0   \n",
       "3       English  ...        0            0    0      0       0      0   \n",
       "4       English  ...        0            0    0      0       0      0   \n",
       "5       English  ...        0            0    0      0       0      0   \n",
       "6       English  ...        0            0    0      0       0      0   \n",
       "7        Telugu  ...        0            0    0      0       0      0   \n",
       "8       English  ...        0            0    0      0       0      0   \n",
       "9       English  ...        0            0    0      0       0      0   \n",
       "10      English  ...        0            0    0      0       0      0   \n",
       "11      English  ...        0            0    0      0       0      0   \n",
       "12      English  ...        0            0    0      0       0      0   \n",
       "13      English  ...        0            0    0      0       0      0   \n",
       "14      English  ...        0            0    0      0       0      0   \n",
       "15      English  ...        0            0    0      0       0      0   \n",
       "16      English  ...        0            0    0      0       0      0   \n",
       "17      English  ...        0            0    0      0       0      0   \n",
       "18      English  ...        0            0    0      0       0      0   \n",
       "19      English  ...        0            0    0      0       0      0   \n",
       "20      English  ...        0            0    0      0       0      0   \n",
       "21      English  ...        0            0    0      0       0      0   \n",
       "22      English  ...        0            0    0      0       0      0   \n",
       "23      English  ...        0            0    0      0       0      0   \n",
       "24      English  ...        0            0    0      0       0      0   \n",
       "25      English  ...        0            0    0      0       0      0   \n",
       "26      English  ...        0            0    0      0       0      0   \n",
       "27     Japanese  ...        0            0    0      0       0      0   \n",
       "28      English  ...        0            0    0      0       0      0   \n",
       "29      English  ...        0            0    0      0       0      0   \n",
       "...         ...  ...      ...          ...  ...    ...     ...    ...   \n",
       "2970    English  ...        0            0    0      0       0      0   \n",
       "2971    English  ...        0            0    0      0       0      0   \n",
       "2972    English  ...        0            0    0      0       0      0   \n",
       "2973    English  ...        0            0    0      0       0      0   \n",
       "2974    English  ...        0            0    0      0       0      0   \n",
       "2975    English  ...        0            0    0      0       0      0   \n",
       "2976    English  ...        0            0    0      0       0      0   \n",
       "2977      Hindi  ...        0            0    0      0       0      0   \n",
       "2978    English  ...        0            0    0      0       0      0   \n",
       "2979    English  ...        1            0    0      0       0      0   \n",
       "2980  Cantonese  ...        1            0    0      0       0      0   \n",
       "2981    English  ...        0            0    0      0       0      0   \n",
       "2982     Polish  ...        0            0    0      0       0      0   \n",
       "2983    English  ...        0            0    0      0       0      0   \n",
       "2984    English  ...        0            0    0      0       0      0   \n",
       "2985    English  ...        1            0    0      0       0      0   \n",
       "2986    English  ...        0            0    0      0       0      0   \n",
       "2987    English  ...        0            0    0      0       0      0   \n",
       "2988    English  ...        0            0    0      0       0      0   \n",
       "2989    English  ...        0            0    0      0       0      0   \n",
       "2990    English  ...        0            0    0      0       0      0   \n",
       "2991    English  ...        0            0    0      0       0      0   \n",
       "2992     German  ...        0            0    0      0       0      0   \n",
       "2993    English  ...        0            0    0      1       0      0   \n",
       "2994    English  ...        0            0    0      0       0      0   \n",
       "2995    English  ...        0            0    0      1       0      0   \n",
       "2996    English  ...        0            0    0      0       0      0   \n",
       "2997    English  ...        0            0    0      0       0      0   \n",
       "2998    English  ...        0            0    0      0       0      0   \n",
       "2999    English  ...        0            0    0      0       0      0   \n",
       "\n",
       "      Musical  Film-Noir  News Short  \n",
       "0           0          0     0     0  \n",
       "1           0          0     0     0  \n",
       "2           0          0     0     0  \n",
       "3           0          0     0     0  \n",
       "4           0          0     0     0  \n",
       "5           0          0     0     0  \n",
       "6           0          0     0     0  \n",
       "7           0          0     0     0  \n",
       "8           0          0     0     0  \n",
       "9           0          0     0     0  \n",
       "10          0          0     0     0  \n",
       "11          0          0     0     0  \n",
       "12          0          0     0     0  \n",
       "13          0          0     0     0  \n",
       "14          0          0     0     0  \n",
       "15          0          0     0     0  \n",
       "16          0          0     0     0  \n",
       "17          0          0     0     0  \n",
       "18          0          0     0     0  \n",
       "19          0          0     0     0  \n",
       "20          0          0     0     0  \n",
       "21          0          0     0     0  \n",
       "22          0          0     0     0  \n",
       "23          0          0     0     0  \n",
       "24          0          0     0     0  \n",
       "25          0          0     0     0  \n",
       "26          0          0     0     0  \n",
       "27          0          0     0     0  \n",
       "28          0          0     0     0  \n",
       "29          0          0     0     0  \n",
       "...       ...        ...   ...   ...  \n",
       "2970        0          0     0     0  \n",
       "2971        0          0     0     0  \n",
       "2972        0          0     0     0  \n",
       "2973        0          0     0     0  \n",
       "2974        0          0     0     0  \n",
       "2975        0          0     0     0  \n",
       "2976        0          0     0     0  \n",
       "2977        0          0     0     0  \n",
       "2978        0          0     0     0  \n",
       "2979        0          0     0     0  \n",
       "2980        0          0     0     0  \n",
       "2981        0          0     0     0  \n",
       "2982        0          0     0     0  \n",
       "2983        0          0     0     0  \n",
       "2984        0          0     0     0  \n",
       "2985        0          0     0     0  \n",
       "2986        0          0     0     0  \n",
       "2987        0          0     0     0  \n",
       "2988        0          0     0     0  \n",
       "2989        0          0     0     0  \n",
       "2990        0          0     0     0  \n",
       "2991        0          0     0     0  \n",
       "2992        0          0     0     0  \n",
       "2993        0          0     0     0  \n",
       "2994        0          0     0     0  \n",
       "2995        0          0     0     0  \n",
       "2996        0          0     0     0  \n",
       "2997        0          0     0     0  \n",
       "2998        0          0     0     0  \n",
       "2999        0          0     0     0  \n",
       "\n",
       "[2999 rows x 49 columns]"
      ]
     },
     "execution_count": 79,
     "metadata": {},
     "output_type": "execute_result"
    }
   ],
   "source": [
    "df"
   ]
  },
  {
   "cell_type": "markdown",
   "metadata": {},
   "source": [
    "## Feature Engineering\n",
    "<a name =\"feature_engineering\"></a>"
   ]
  },
  {
   "cell_type": "code",
   "execution_count": 80,
   "metadata": {
    "collapsed": true
   },
   "outputs": [],
   "source": [
    "df = pd.get_dummies(df, columns=[\"language\", \"country\"], drop_first=True)"
   ]
  },
  {
   "cell_type": "code",
   "execution_count": 81,
   "metadata": {
    "collapsed": true
   },
   "outputs": [],
   "source": [
    "df = pd.get_dummies(df, columns=[\"certificate\"],dummy_na=True, drop_first=True)"
   ]
  },
  {
   "cell_type": "code",
   "execution_count": 82,
   "metadata": {
    "collapsed": true
   },
   "outputs": [],
   "source": [
    "df['label'] = df.imdb_rating.apply(lambda x : 1 if x > 7.5 else 0)"
   ]
  },
  {
   "cell_type": "code",
   "execution_count": 83,
   "metadata": {
    "collapsed": true
   },
   "outputs": [],
   "source": [
    "y = df.label\n",
    "X = df.drop([\"title_id\", \"title\", \"imdb_rating\", \"label\" ],axis = 1)\n"
   ]
  },
  {
   "cell_type": "markdown",
   "metadata": {},
   "source": [
    "### Train-test split\n",
    "<a name=\"train_test_split\"></a>"
   ]
  },
  {
   "cell_type": "code",
   "execution_count": 84,
   "metadata": {
    "collapsed": true
   },
   "outputs": [],
   "source": [
    "from sklearn.model_selection import train_test_split\n",
    "X_train, X_test, y_train, y_test = train_test_split(X,y,test_size=.25)"
   ]
  },
  {
   "cell_type": "markdown",
   "metadata": {},
   "source": [
    "#### Imputing for NaN values"
   ]
  },
  {
   "cell_type": "code",
   "execution_count": 85,
   "metadata": {
    "collapsed": true
   },
   "outputs": [],
   "source": [
    "from fancyimpute import KNN"
   ]
  },
  {
   "cell_type": "code",
   "execution_count": 86,
   "metadata": {
    "collapsed": true
   },
   "outputs": [],
   "source": [
    "header = X_train.columns"
   ]
  },
  {
   "cell_type": "code",
   "execution_count": 87,
   "metadata": {
    "scrolled": true
   },
   "outputs": [
    {
     "name": "stdout",
     "output_type": "stream",
     "text": [
      "Imputing row 1/2249 with 1 missing, elapsed time: 5.834\n",
      "Imputing row 101/2249 with 1 missing, elapsed time: 5.841\n",
      "Imputing row 201/2249 with 1 missing, elapsed time: 5.850\n",
      "Imputing row 301/2249 with 1 missing, elapsed time: 5.857\n",
      "Imputing row 401/2249 with 0 missing, elapsed time: 5.864\n",
      "Imputing row 501/2249 with 3 missing, elapsed time: 5.870\n",
      "Imputing row 601/2249 with 1 missing, elapsed time: 5.877\n",
      "Imputing row 701/2249 with 5 missing, elapsed time: 5.884\n",
      "Imputing row 801/2249 with 0 missing, elapsed time: 5.891\n",
      "Imputing row 901/2249 with 2 missing, elapsed time: 5.897\n",
      "Imputing row 1001/2249 with 0 missing, elapsed time: 5.903\n",
      "Imputing row 1101/2249 with 1 missing, elapsed time: 5.910\n",
      "Imputing row 1201/2249 with 1 missing, elapsed time: 5.917\n",
      "Imputing row 1301/2249 with 1 missing, elapsed time: 5.924\n",
      "Imputing row 1401/2249 with 0 missing, elapsed time: 5.930\n",
      "Imputing row 1501/2249 with 1 missing, elapsed time: 5.936\n",
      "Imputing row 1601/2249 with 2 missing, elapsed time: 5.943\n",
      "Imputing row 1701/2249 with 4 missing, elapsed time: 5.949\n",
      "Imputing row 1801/2249 with 0 missing, elapsed time: 5.958\n",
      "Imputing row 1901/2249 with 0 missing, elapsed time: 5.967\n",
      "Imputing row 2001/2249 with 1 missing, elapsed time: 5.973\n",
      "Imputing row 2101/2249 with 1 missing, elapsed time: 5.980\n",
      "Imputing row 2201/2249 with 1 missing, elapsed time: 5.986\n"
     ]
    }
   ],
   "source": [
    "X_train= KNN(k=5).complete(X_train)"
   ]
  },
  {
   "cell_type": "code",
   "execution_count": 88,
   "metadata": {
    "collapsed": true
   },
   "outputs": [],
   "source": [
    "X_train = pd.DataFrame(X_train, columns=header)"
   ]
  },
  {
   "cell_type": "code",
   "execution_count": 89,
   "metadata": {
    "scrolled": false
   },
   "outputs": [
    {
     "data": {
      "text/html": [
       "<div>\n",
       "<table border=\"1\" class=\"dataframe\">\n",
       "  <thead>\n",
       "    <tr style=\"text-align: right;\">\n",
       "      <th></th>\n",
       "      <th>runtime</th>\n",
       "      <th>year</th>\n",
       "      <th>votes</th>\n",
       "      <th>user_review</th>\n",
       "      <th>critic_review</th>\n",
       "      <th>budget</th>\n",
       "      <th>gross_1</th>\n",
       "      <th>oscar_win</th>\n",
       "      <th>oscar_nom</th>\n",
       "      <th>other_win</th>\n",
       "      <th>...</th>\n",
       "      <th>certificate_PG-13</th>\n",
       "      <th>certificate_Passed</th>\n",
       "      <th>certificate_R</th>\n",
       "      <th>certificate_TV-14</th>\n",
       "      <th>certificate_TV-G</th>\n",
       "      <th>certificate_TV-MA</th>\n",
       "      <th>certificate_TV-PG</th>\n",
       "      <th>certificate_Unrated</th>\n",
       "      <th>certificate_X</th>\n",
       "      <th>certificate_nan</th>\n",
       "    </tr>\n",
       "  </thead>\n",
       "  <tbody>\n",
       "    <tr>\n",
       "      <th>0</th>\n",
       "      <td>97.0</td>\n",
       "      <td>1947.0</td>\n",
       "      <td>24749.0</td>\n",
       "      <td>175.0</td>\n",
       "      <td>105.0</td>\n",
       "      <td>1475000.0</td>\n",
       "      <td>502028.0</td>\n",
       "      <td>0.0</td>\n",
       "      <td>0.0</td>\n",
       "      <td>29.0</td>\n",
       "      <td>...</td>\n",
       "      <td>0.0</td>\n",
       "      <td>0.0</td>\n",
       "      <td>0.0</td>\n",
       "      <td>0.0</td>\n",
       "      <td>0.0</td>\n",
       "      <td>0.0</td>\n",
       "      <td>0.0</td>\n",
       "      <td>1.0</td>\n",
       "      <td>0.0</td>\n",
       "      <td>0.0</td>\n",
       "    </tr>\n",
       "    <tr>\n",
       "      <th>1</th>\n",
       "      <td>83.0</td>\n",
       "      <td>2005.0</td>\n",
       "      <td>1953.0</td>\n",
       "      <td>93.0</td>\n",
       "      <td>65.0</td>\n",
       "      <td>70000.0</td>\n",
       "      <td>294991.0</td>\n",
       "      <td>0.0</td>\n",
       "      <td>0.0</td>\n",
       "      <td>0.0</td>\n",
       "      <td>...</td>\n",
       "      <td>0.0</td>\n",
       "      <td>0.0</td>\n",
       "      <td>1.0</td>\n",
       "      <td>0.0</td>\n",
       "      <td>0.0</td>\n",
       "      <td>0.0</td>\n",
       "      <td>0.0</td>\n",
       "      <td>0.0</td>\n",
       "      <td>0.0</td>\n",
       "      <td>0.0</td>\n",
       "    </tr>\n",
       "    <tr>\n",
       "      <th>2</th>\n",
       "      <td>116.0</td>\n",
       "      <td>2008.0</td>\n",
       "      <td>2464.0</td>\n",
       "      <td>14.0</td>\n",
       "      <td>96.0</td>\n",
       "      <td>5000000.0</td>\n",
       "      <td>6980986.0</td>\n",
       "      <td>0.0</td>\n",
       "      <td>0.0</td>\n",
       "      <td>2.0</td>\n",
       "      <td>...</td>\n",
       "      <td>0.0</td>\n",
       "      <td>0.0</td>\n",
       "      <td>0.0</td>\n",
       "      <td>0.0</td>\n",
       "      <td>0.0</td>\n",
       "      <td>0.0</td>\n",
       "      <td>0.0</td>\n",
       "      <td>1.0</td>\n",
       "      <td>0.0</td>\n",
       "      <td>0.0</td>\n",
       "    </tr>\n",
       "    <tr>\n",
       "      <th>3</th>\n",
       "      <td>85.0</td>\n",
       "      <td>2015.0</td>\n",
       "      <td>1314.0</td>\n",
       "      <td>311.0</td>\n",
       "      <td>68.0</td>\n",
       "      <td>22000000.0</td>\n",
       "      <td>4273372.0</td>\n",
       "      <td>0.0</td>\n",
       "      <td>0.0</td>\n",
       "      <td>3.0</td>\n",
       "      <td>...</td>\n",
       "      <td>0.0</td>\n",
       "      <td>0.0</td>\n",
       "      <td>0.0</td>\n",
       "      <td>0.0</td>\n",
       "      <td>0.0</td>\n",
       "      <td>0.0</td>\n",
       "      <td>0.0</td>\n",
       "      <td>1.0</td>\n",
       "      <td>0.0</td>\n",
       "      <td>0.0</td>\n",
       "    </tr>\n",
       "    <tr>\n",
       "      <th>4</th>\n",
       "      <td>82.0</td>\n",
       "      <td>2016.0</td>\n",
       "      <td>1228.0</td>\n",
       "      <td>49.0</td>\n",
       "      <td>66.0</td>\n",
       "      <td>5000000.0</td>\n",
       "      <td>5409517.0</td>\n",
       "      <td>0.0</td>\n",
       "      <td>0.0</td>\n",
       "      <td>0.0</td>\n",
       "      <td>...</td>\n",
       "      <td>0.0</td>\n",
       "      <td>0.0</td>\n",
       "      <td>1.0</td>\n",
       "      <td>0.0</td>\n",
       "      <td>0.0</td>\n",
       "      <td>0.0</td>\n",
       "      <td>0.0</td>\n",
       "      <td>0.0</td>\n",
       "      <td>0.0</td>\n",
       "      <td>0.0</td>\n",
       "    </tr>\n",
       "  </tbody>\n",
       "</table>\n",
       "<p>5 rows × 185 columns</p>\n",
       "</div>"
      ],
      "text/plain": [
       "   runtime    year    votes  user_review  critic_review      budget  \\\n",
       "0     97.0  1947.0  24749.0        175.0          105.0   1475000.0   \n",
       "1     83.0  2005.0   1953.0         93.0           65.0     70000.0   \n",
       "2    116.0  2008.0   2464.0         14.0           96.0   5000000.0   \n",
       "3     85.0  2015.0   1314.0        311.0           68.0  22000000.0   \n",
       "4     82.0  2016.0   1228.0         49.0           66.0   5000000.0   \n",
       "\n",
       "     gross_1  oscar_win  oscar_nom  other_win       ...         \\\n",
       "0   502028.0        0.0        0.0       29.0       ...          \n",
       "1   294991.0        0.0        0.0        0.0       ...          \n",
       "2  6980986.0        0.0        0.0        2.0       ...          \n",
       "3  4273372.0        0.0        0.0        3.0       ...          \n",
       "4  5409517.0        0.0        0.0        0.0       ...          \n",
       "\n",
       "   certificate_PG-13  certificate_Passed  certificate_R  certificate_TV-14  \\\n",
       "0                0.0                 0.0            0.0                0.0   \n",
       "1                0.0                 0.0            1.0                0.0   \n",
       "2                0.0                 0.0            0.0                0.0   \n",
       "3                0.0                 0.0            0.0                0.0   \n",
       "4                0.0                 0.0            1.0                0.0   \n",
       "\n",
       "   certificate_TV-G  certificate_TV-MA  certificate_TV-PG  \\\n",
       "0               0.0                0.0                0.0   \n",
       "1               0.0                0.0                0.0   \n",
       "2               0.0                0.0                0.0   \n",
       "3               0.0                0.0                0.0   \n",
       "4               0.0                0.0                0.0   \n",
       "\n",
       "   certificate_Unrated  certificate_X  certificate_nan  \n",
       "0                  1.0            0.0              0.0  \n",
       "1                  0.0            0.0              0.0  \n",
       "2                  1.0            0.0              0.0  \n",
       "3                  1.0            0.0              0.0  \n",
       "4                  0.0            0.0              0.0  \n",
       "\n",
       "[5 rows x 185 columns]"
      ]
     },
     "execution_count": 89,
     "metadata": {},
     "output_type": "execute_result"
    }
   ],
   "source": [
    "X_train.head()"
   ]
  },
  {
   "cell_type": "code",
   "execution_count": 90,
   "metadata": {},
   "outputs": [
    {
     "name": "stdout",
     "output_type": "stream",
     "text": [
      "Imputing row 1/750 with 0 missing, elapsed time: 0.490\n",
      "Imputing row 101/750 with 1 missing, elapsed time: 0.495\n",
      "Imputing row 201/750 with 0 missing, elapsed time: 0.500\n",
      "Imputing row 301/750 with 0 missing, elapsed time: 0.504\n",
      "Imputing row 401/750 with 1 missing, elapsed time: 0.508\n",
      "Imputing row 501/750 with 3 missing, elapsed time: 0.512\n",
      "Imputing row 601/750 with 0 missing, elapsed time: 0.516\n",
      "Imputing row 701/750 with 0 missing, elapsed time: 0.520\n"
     ]
    }
   ],
   "source": [
    "X_test = KNN(k=5).complete(X_test)"
   ]
  },
  {
   "cell_type": "code",
   "execution_count": 91,
   "metadata": {
    "collapsed": true
   },
   "outputs": [],
   "source": [
    "X_test = pd.DataFrame(X_test, columns=header)"
   ]
  },
  {
   "cell_type": "code",
   "execution_count": 92,
   "metadata": {},
   "outputs": [
    {
     "data": {
      "text/html": [
       "<div>\n",
       "<table border=\"1\" class=\"dataframe\">\n",
       "  <thead>\n",
       "    <tr style=\"text-align: right;\">\n",
       "      <th></th>\n",
       "      <th>runtime</th>\n",
       "      <th>year</th>\n",
       "      <th>votes</th>\n",
       "      <th>user_review</th>\n",
       "      <th>critic_review</th>\n",
       "      <th>budget</th>\n",
       "      <th>gross_1</th>\n",
       "      <th>oscar_win</th>\n",
       "      <th>oscar_nom</th>\n",
       "      <th>other_win</th>\n",
       "      <th>...</th>\n",
       "      <th>certificate_PG-13</th>\n",
       "      <th>certificate_Passed</th>\n",
       "      <th>certificate_R</th>\n",
       "      <th>certificate_TV-14</th>\n",
       "      <th>certificate_TV-G</th>\n",
       "      <th>certificate_TV-MA</th>\n",
       "      <th>certificate_TV-PG</th>\n",
       "      <th>certificate_Unrated</th>\n",
       "      <th>certificate_X</th>\n",
       "      <th>certificate_nan</th>\n",
       "    </tr>\n",
       "  </thead>\n",
       "  <tbody>\n",
       "    <tr>\n",
       "      <th>0</th>\n",
       "      <td>92.0</td>\n",
       "      <td>2009.0</td>\n",
       "      <td>128730.0</td>\n",
       "      <td>291.0</td>\n",
       "      <td>137.0</td>\n",
       "      <td>910000.0</td>\n",
       "      <td>9600000.0</td>\n",
       "      <td>8.0</td>\n",
       "      <td>0.0</td>\n",
       "      <td>21.0</td>\n",
       "      <td>...</td>\n",
       "      <td>0.0</td>\n",
       "      <td>0.0</td>\n",
       "      <td>0.0</td>\n",
       "      <td>0.0</td>\n",
       "      <td>0.0</td>\n",
       "      <td>0.0</td>\n",
       "      <td>0.0</td>\n",
       "      <td>1.0</td>\n",
       "      <td>0.0</td>\n",
       "      <td>0.0</td>\n",
       "    </tr>\n",
       "    <tr>\n",
       "      <th>1</th>\n",
       "      <td>110.0</td>\n",
       "      <td>2010.0</td>\n",
       "      <td>2652.0</td>\n",
       "      <td>47.0</td>\n",
       "      <td>65.0</td>\n",
       "      <td>800000.0</td>\n",
       "      <td>190562.0</td>\n",
       "      <td>0.0</td>\n",
       "      <td>0.0</td>\n",
       "      <td>0.0</td>\n",
       "      <td>...</td>\n",
       "      <td>0.0</td>\n",
       "      <td>0.0</td>\n",
       "      <td>0.0</td>\n",
       "      <td>0.0</td>\n",
       "      <td>0.0</td>\n",
       "      <td>0.0</td>\n",
       "      <td>0.0</td>\n",
       "      <td>0.0</td>\n",
       "      <td>0.0</td>\n",
       "      <td>0.0</td>\n",
       "    </tr>\n",
       "    <tr>\n",
       "      <th>2</th>\n",
       "      <td>121.0</td>\n",
       "      <td>2004.0</td>\n",
       "      <td>280154.0</td>\n",
       "      <td>276.0</td>\n",
       "      <td>354.0</td>\n",
       "      <td>500000.0</td>\n",
       "      <td>7098492.0</td>\n",
       "      <td>1.0</td>\n",
       "      <td>0.0</td>\n",
       "      <td>77.0</td>\n",
       "      <td>...</td>\n",
       "      <td>1.0</td>\n",
       "      <td>0.0</td>\n",
       "      <td>0.0</td>\n",
       "      <td>0.0</td>\n",
       "      <td>0.0</td>\n",
       "      <td>0.0</td>\n",
       "      <td>0.0</td>\n",
       "      <td>0.0</td>\n",
       "      <td>0.0</td>\n",
       "      <td>0.0</td>\n",
       "    </tr>\n",
       "    <tr>\n",
       "      <th>3</th>\n",
       "      <td>102.0</td>\n",
       "      <td>1977.0</td>\n",
       "      <td>15702.0</td>\n",
       "      <td>55.0</td>\n",
       "      <td>24.0</td>\n",
       "      <td>35000000.0</td>\n",
       "      <td>674925.0</td>\n",
       "      <td>0.0</td>\n",
       "      <td>0.0</td>\n",
       "      <td>0.0</td>\n",
       "      <td>...</td>\n",
       "      <td>0.0</td>\n",
       "      <td>0.0</td>\n",
       "      <td>1.0</td>\n",
       "      <td>0.0</td>\n",
       "      <td>0.0</td>\n",
       "      <td>0.0</td>\n",
       "      <td>0.0</td>\n",
       "      <td>0.0</td>\n",
       "      <td>0.0</td>\n",
       "      <td>0.0</td>\n",
       "    </tr>\n",
       "    <tr>\n",
       "      <th>4</th>\n",
       "      <td>100.0</td>\n",
       "      <td>1992.0</td>\n",
       "      <td>14141.0</td>\n",
       "      <td>63.0</td>\n",
       "      <td>42.0</td>\n",
       "      <td>8000000.0</td>\n",
       "      <td>17092453.0</td>\n",
       "      <td>0.0</td>\n",
       "      <td>0.0</td>\n",
       "      <td>0.0</td>\n",
       "      <td>...</td>\n",
       "      <td>0.0</td>\n",
       "      <td>0.0</td>\n",
       "      <td>1.0</td>\n",
       "      <td>0.0</td>\n",
       "      <td>0.0</td>\n",
       "      <td>0.0</td>\n",
       "      <td>0.0</td>\n",
       "      <td>0.0</td>\n",
       "      <td>0.0</td>\n",
       "      <td>0.0</td>\n",
       "    </tr>\n",
       "  </tbody>\n",
       "</table>\n",
       "<p>5 rows × 185 columns</p>\n",
       "</div>"
      ],
      "text/plain": [
       "   runtime    year     votes  user_review  critic_review      budget  \\\n",
       "0     92.0  2009.0  128730.0        291.0          137.0    910000.0   \n",
       "1    110.0  2010.0    2652.0         47.0           65.0    800000.0   \n",
       "2    121.0  2004.0  280154.0        276.0          354.0    500000.0   \n",
       "3    102.0  1977.0   15702.0         55.0           24.0  35000000.0   \n",
       "4    100.0  1992.0   14141.0         63.0           42.0   8000000.0   \n",
       "\n",
       "      gross_1  oscar_win  oscar_nom  other_win       ...         \\\n",
       "0   9600000.0        8.0        0.0       21.0       ...          \n",
       "1    190562.0        0.0        0.0        0.0       ...          \n",
       "2   7098492.0        1.0        0.0       77.0       ...          \n",
       "3    674925.0        0.0        0.0        0.0       ...          \n",
       "4  17092453.0        0.0        0.0        0.0       ...          \n",
       "\n",
       "   certificate_PG-13  certificate_Passed  certificate_R  certificate_TV-14  \\\n",
       "0                0.0                 0.0            0.0                0.0   \n",
       "1                0.0                 0.0            0.0                0.0   \n",
       "2                1.0                 0.0            0.0                0.0   \n",
       "3                0.0                 0.0            1.0                0.0   \n",
       "4                0.0                 0.0            1.0                0.0   \n",
       "\n",
       "   certificate_TV-G  certificate_TV-MA  certificate_TV-PG  \\\n",
       "0               0.0                0.0                0.0   \n",
       "1               0.0                0.0                0.0   \n",
       "2               0.0                0.0                0.0   \n",
       "3               0.0                0.0                0.0   \n",
       "4               0.0                0.0                0.0   \n",
       "\n",
       "   certificate_Unrated  certificate_X  certificate_nan  \n",
       "0                  1.0            0.0              0.0  \n",
       "1                  0.0            0.0              0.0  \n",
       "2                  0.0            0.0              0.0  \n",
       "3                  0.0            0.0              0.0  \n",
       "4                  0.0            0.0              0.0  \n",
       "\n",
       "[5 rows x 185 columns]"
      ]
     },
     "execution_count": 92,
     "metadata": {},
     "output_type": "execute_result"
    }
   ],
   "source": [
    "X_test.head()"
   ]
  },
  {
   "cell_type": "code",
   "execution_count": 93,
   "metadata": {},
   "outputs": [
    {
     "data": {
      "text/plain": [
       "'for i in numeric_columns:\\n    X_train[i] = [X_train.i.mean() if x == np.nan else x for x in X_train[i]]\\n    X_test[i] = [X_test.i.mean() if x == np.nan else x for x in X_test[i]]'"
      ]
     },
     "execution_count": 93,
     "metadata": {},
     "output_type": "execute_result"
    }
   ],
   "source": [
    "# imputing the mean for any nulls\n",
    "\"\"\"for i in numeric_columns:\n",
    "    X_train[i] = [X_train.i.mean() if x == np.nan else x for x in X_train[i]]\n",
    "    X_test[i] = [X_test.i.mean() if x == np.nan else x for x in X_test[i]]\"\"\""
   ]
  },
  {
   "cell_type": "markdown",
   "metadata": {},
   "source": [
    "#### Feature scaling"
   ]
  },
  {
   "cell_type": "code",
   "execution_count": 94,
   "metadata": {
    "collapsed": true
   },
   "outputs": [],
   "source": [
    "from sklearn.preprocessing import minmax_scale, StandardScaler"
   ]
  },
  {
   "cell_type": "code",
   "execution_count": 95,
   "metadata": {
    "collapsed": true
   },
   "outputs": [],
   "source": [
    "scale = [\"runtime\", \"year\", \"votes\", \"user_review\", \"critic_review\", \"budget\", \"gross_1\", \"rt_score\", \"rt_avg_rating\", \"rt_audience_score\", \"rt_user_rating\", \"rt_avg_aud_rating\", \"rt_fresh\", \"rt_rotten\", \"metascores\"]"
   ]
  },
  {
   "cell_type": "code",
   "execution_count": 96,
   "metadata": {
    "collapsed": true
   },
   "outputs": [],
   "source": [
    "scaler = StandardScaler()"
   ]
  },
  {
   "cell_type": "code",
   "execution_count": 97,
   "metadata": {
    "collapsed": true
   },
   "outputs": [],
   "source": [
    "X_train[scale] = scaler.fit_transform(X_train[scale])\n",
    "#X_test[scale] = scaler.fit_transform(X_test[scale])"
   ]
  },
  {
   "cell_type": "code",
   "execution_count": 98,
   "metadata": {
    "collapsed": true
   },
   "outputs": [],
   "source": [
    "X_test[scale] = scaler.fit_transform(X_test[scale])"
   ]
  },
  {
   "cell_type": "markdown",
   "metadata": {},
   "source": [
    "## Creating Models\n",
    "<a name=\"creating_models\"></a>\n"
   ]
  },
  {
   "cell_type": "code",
   "execution_count": 102,
   "metadata": {
    "collapsed": true
   },
   "outputs": [],
   "source": [
    "from sklearn.ensemble import RandomForestClassifier,BaggingClassifier\n",
    "from sklearn.model_selection import GridSearchCV, StratifiedKFold, cross_val_score\n",
    "from sklearn.metrics import confusion_matrix, accuracy_score, classification_report,precision_recall_curve\n",
    "from sklearn.tree import DecisionTreeClassifier"
   ]
  },
  {
   "cell_type": "markdown",
   "metadata": {},
   "source": [
    "##### Finding the best Max_depth"
   ]
  },
  {
   "cell_type": "code",
   "execution_count": 103,
   "metadata": {
    "scrolled": false
   },
   "outputs": [
    {
     "name": "stdout",
     "output_type": "stream",
     "text": [
      "Max depth:1\n",
      "0.775902004454\n",
      "\n",
      "Max depth:2\n",
      "0.878173719376\n",
      "\n",
      "Max depth:3\n",
      "0.893290769611\n",
      "\n",
      "Max depth:4\n",
      "0.924859193269\n",
      "\n",
      "Max depth:5\n",
      "0.925299678297\n",
      "\n",
      "Max depth:6\n",
      "0.932855233853\n",
      "\n",
      "Max depth:7\n",
      "0.935084385053\n",
      "\n",
      "Max depth:None\n",
      "0.933302647859\n",
      "\n"
     ]
    }
   ],
   "source": [
    "# finding the best max depth for the DecisionTreeClassifier. \n",
    "\n",
    "cv = StratifiedKFold(n_splits=5, shuffle=True, random_state=11)\n",
    "\n",
    "for i in [1,2,3,4,5,6,7,None]:\n",
    "    print \"Max depth:{}\".format(i)\n",
    "    clf = DecisionTreeClassifier(max_depth=i)\n",
    "    print cross_val_score(clf, X_train, y_train, cv=cv, n_jobs =1).mean()\n",
    "    print "
   ]
  },
  {
   "cell_type": "markdown",
   "metadata": {},
   "source": [
    "##### GridSearch on Random Forest"
   ]
  },
  {
   "cell_type": "code",
   "execution_count": 104,
   "metadata": {},
   "outputs": [
    {
     "data": {
      "text/plain": [
       "{'class_weight': 'balanced_subsample',\n",
       " 'criterion': 'entropy',\n",
       " 'max_features': 3,\n",
       " 'n_estimators': 50}"
      ]
     },
     "execution_count": 104,
     "metadata": {},
     "output_type": "execute_result"
    }
   ],
   "source": [
    "grid = {\n",
    "    'n_estimators': [10, 20, 30, 50, 100],\n",
    "    'max_features': [1,2,3,4,5,6,'auto'],\n",
    "    'criterion': ['gini','entropy'],\n",
    "    'class_weight': [\"balanced\",\"balanced_subsample\",None]\n",
    "}\n",
    "\n",
    "\n",
    "\n",
    "dtc_ = DecisionTreeClassifier(max_depth=6)\n",
    "rf = RandomForestClassifier(dtc_)\n",
    "gs = GridSearchCV(rf, grid)\n",
    "\n",
    "model_rf_gs = gs.fit(X_train, y_train)\n",
    "gs.best_params_"
   ]
  },
  {
   "cell_type": "code",
   "execution_count": 105,
   "metadata": {},
   "outputs": [
    {
     "name": "stdout",
     "output_type": "stream",
     "text": [
      "{'max_features': 3, 'n_estimators': 50, 'criterion': 'entropy', 'class_weight': 'balanced_subsample'}\n",
      "0.978212538906\n"
     ]
    }
   ],
   "source": [
    "print gs.best_params_\n",
    "print gs.best_score_"
   ]
  },
  {
   "cell_type": "markdown",
   "metadata": {},
   "source": [
    "##### Create Random Forest Model using the best param_ from GridSearch"
   ]
  },
  {
   "cell_type": "code",
   "execution_count": 106,
   "metadata": {
    "collapsed": true
   },
   "outputs": [],
   "source": [
    "rf = RandomForestClassifier(max_features = gs.best_params_[\"max_features\"],\\\n",
    "                            n_estimators = gs.best_params_[\"n_estimators\"],\\\n",
    "                            criterion = gs.best_params_[\"criterion\"],\\\n",
    "                            class_weight = gs.best_params_[\"class_weight\"])\n",
    "model_rf = rf.fit(X_train, y_train)"
   ]
  },
  {
   "cell_type": "code",
   "execution_count": 107,
   "metadata": {
    "collapsed": true
   },
   "outputs": [],
   "source": [
    "## Predict y_train for X_train\n",
    "y_pred = model_rf.predict(X_train)"
   ]
  },
  {
   "cell_type": "code",
   "execution_count": 108,
   "metadata": {
    "collapsed": true
   },
   "outputs": [],
   "source": [
    "## Predict y_test\n",
    "y_pred_test = model_rf.predict(X_test)"
   ]
  },
  {
   "cell_type": "markdown",
   "metadata": {},
   "source": [
    "### Result Metrics\n",
    "<a name=\"result_metrics\"></a>"
   ]
  },
  {
   "cell_type": "code",
   "execution_count": 109,
   "metadata": {},
   "outputs": [
    {
     "data": {
      "text/html": [
       "<div>\n",
       "<table border=\"1\" class=\"dataframe\">\n",
       "  <thead>\n",
       "    <tr style=\"text-align: right;\">\n",
       "      <th></th>\n",
       "      <th>Predicted high</th>\n",
       "      <th>Predicted low</th>\n",
       "    </tr>\n",
       "  </thead>\n",
       "  <tbody>\n",
       "    <tr>\n",
       "      <th>is high</th>\n",
       "      <td>368</td>\n",
       "      <td>11</td>\n",
       "    </tr>\n",
       "    <tr>\n",
       "      <th>is low</th>\n",
       "      <td>8</td>\n",
       "      <td>363</td>\n",
       "    </tr>\n",
       "  </tbody>\n",
       "</table>\n",
       "</div>"
      ],
      "text/plain": [
       "         Predicted high  Predicted low\n",
       "is high             368             11\n",
       "is low                8            363"
      ]
     },
     "execution_count": 109,
     "metadata": {},
     "output_type": "execute_result"
    }
   ],
   "source": [
    "# printing confision matrix\n",
    "pd.DataFrame(confusion_matrix(y_test,y_pred_test),\\\n",
    "            columns=[\"Predicted high\", \"Predicted low\"],\\\n",
    "            index=[\"is high\",\"is low\"] )"
   ]
  },
  {
   "cell_type": "code",
   "execution_count": 110,
   "metadata": {},
   "outputs": [
    {
     "name": "stdout",
     "output_type": "stream",
     "text": [
      "             precision    recall  f1-score   support\n",
      "\n",
      "          0       1.00      1.00      1.00      1120\n",
      "          1       1.00      1.00      1.00      1129\n",
      "\n",
      "avg / total       1.00      1.00      1.00      2249\n",
      "\n"
     ]
    }
   ],
   "source": [
    "print classification_report(y_train, y_pred, labels=model_rf.classes_)"
   ]
  },
  {
   "cell_type": "code",
   "execution_count": 111,
   "metadata": {},
   "outputs": [
    {
     "name": "stdout",
     "output_type": "stream",
     "text": [
      "             precision    recall  f1-score   support\n",
      "\n",
      "          0       0.98      0.97      0.97       379\n",
      "          1       0.97      0.98      0.97       371\n",
      "\n",
      "avg / total       0.97      0.97      0.97       750\n",
      "\n"
     ]
    }
   ],
   "source": [
    "# Print classification report for y_test\n",
    "print classification_report(y_test, y_pred_test, labels=model_rf.classes_)"
   ]
  },
  {
   "cell_type": "code",
   "execution_count": 112,
   "metadata": {},
   "outputs": [
    {
     "name": "stdout",
     "output_type": "stream",
     "text": [
      "1.0\n",
      "0.974666666667\n"
     ]
    }
   ],
   "source": [
    "# Printing accuracy Score\n",
    "print accuracy_score(y_train, y_pred)\n",
    "print accuracy_score(y_test, y_pred_test)"
   ]
  },
  {
   "cell_type": "markdown",
   "metadata": {},
   "source": [
    "### Feature Importance\n",
    "<a name=\"feature_importance\"></a>"
   ]
  },
  {
   "cell_type": "code",
   "execution_count": 113,
   "metadata": {
    "scrolled": true
   },
   "outputs": [
    {
     "data": {
      "text/html": [
       "<div>\n",
       "<table border=\"1\" class=\"dataframe\">\n",
       "  <thead>\n",
       "    <tr style=\"text-align: right;\">\n",
       "      <th></th>\n",
       "      <th>importance</th>\n",
       "    </tr>\n",
       "  </thead>\n",
       "  <tbody>\n",
       "    <tr>\n",
       "      <th>rt_audience_score</th>\n",
       "      <td>0.072343</td>\n",
       "    </tr>\n",
       "    <tr>\n",
       "      <th>rt_avg_aud_rating</th>\n",
       "      <td>0.068171</td>\n",
       "    </tr>\n",
       "    <tr>\n",
       "      <th>runtime</th>\n",
       "      <td>0.059525</td>\n",
       "    </tr>\n",
       "    <tr>\n",
       "      <th>other_win</th>\n",
       "      <td>0.046455</td>\n",
       "    </tr>\n",
       "    <tr>\n",
       "      <th>language_English</th>\n",
       "      <td>0.045057</td>\n",
       "    </tr>\n",
       "    <tr>\n",
       "      <th>gross_1</th>\n",
       "      <td>0.039326</td>\n",
       "    </tr>\n",
       "    <tr>\n",
       "      <th>votes</th>\n",
       "      <td>0.038825</td>\n",
       "    </tr>\n",
       "    <tr>\n",
       "      <th>year</th>\n",
       "      <td>0.038648</td>\n",
       "    </tr>\n",
       "    <tr>\n",
       "      <th>rt_score</th>\n",
       "      <td>0.033636</td>\n",
       "    </tr>\n",
       "    <tr>\n",
       "      <th>country_USA</th>\n",
       "      <td>0.031091</td>\n",
       "    </tr>\n",
       "  </tbody>\n",
       "</table>\n",
       "</div>"
      ],
      "text/plain": [
       "                   importance\n",
       "rt_audience_score    0.072343\n",
       "rt_avg_aud_rating    0.068171\n",
       "runtime              0.059525\n",
       "other_win            0.046455\n",
       "language_English     0.045057\n",
       "gross_1              0.039326\n",
       "votes                0.038825\n",
       "year                 0.038648\n",
       "rt_score             0.033636\n",
       "country_USA          0.031091"
      ]
     },
     "execution_count": 113,
     "metadata": {},
     "output_type": "execute_result"
    }
   ],
   "source": [
    "# Get features Gini scores\n",
    "feature_importances = pd.DataFrame(model_rf.feature_importances_, \n",
    "                                   index = X_train.columns, \n",
    "                                   columns=['importance'])\n",
    "\n",
    "feature_importances[feature_importances['importance']!=0].sort_values(by='importance', ascending=False).head(10)"
   ]
  },
  {
   "cell_type": "markdown",
   "metadata": {},
   "source": [
    "### ROC/AUC CURVE\n",
    "<a name=\"roc_auc_curve\"></a>"
   ]
  },
  {
   "cell_type": "code",
   "execution_count": 116,
   "metadata": {},
   "outputs": [
    {
     "data": {
      "image/png": "[encoded data removed]",
      "text/plain": [
       "<matplotlib.figure.Figure at 0x1277fc050>"
      ]
     },
     "metadata": {},
     "output_type": "display_data"
    }
   ],
   "source": [
    "Y_score = model_rf_gs.best_estimator_.predict_proba(X_test)[:,1]\n",
    "\n",
    "\n",
    "# For class 1, find the area under the curve\n",
    "FPR, TPR, _ = roc_curve(y_test, Y_score)\n",
    "ROC_AUC = auc(FPR, TPR)\n",
    "\"\"\"\n",
    "PREC, REC, _ = precision_recall_curve(y_test, Y_score)\n",
    "PR_AUC = auc(REC, PREC)\"\"\"\n",
    "\n",
    "# Plot of a ROC curve for class 1 (has_cancer)\n",
    "plt.figure(figsize=[11,9])\n",
    "plt.plot(FPR, TPR, label='ROC curve (area = %0.2f)' % ROC_AUC, linewidth=4)\n",
    "#plt.plot(REC, PREC, label='PR curve (area = %0.2f)' % PR_AUC, linewidth=4)\n",
    "plt.plot([0, 1], [0, 1], 'k--', linewidth=4)\n",
    "plt.xlim([0.0, 1.0])\n",
    "plt.ylim([0.0, 1.05])\n",
    "plt.xlabel('False Positive', fontsize=18)\n",
    "plt.ylabel('True Positive', fontsize=18)\n",
    "plt.title('Random Forest for imdb rating', fontsize=18)\n",
    "plt.legend(loc=\"lower right\")\n",
    "plt.show()"
   ]
  },
  {
   "cell_type": "code",
   "execution_count": 117,
   "metadata": {},
   "outputs": [
    {
     "data": {
      "image/png": "[encoded data removed]",
      "text/plain": [
       "<matplotlib.figure.Figure at 0x127b1e810>"
      ]
     },
     "metadata": {},
     "output_type": "display_data"
    }
   ],
   "source": [
    "Y_score = model_rf_gs.best_estimator_.predict_proba(X_test)[:,1]\n",
    "\n",
    "\n",
    "# For class 1, find the area under the curve\n",
    "PREC, REC, _ = precision_recall_curve(y_test, Y_score)\n",
    "PR_AUC = auc(REC, PREC)\n",
    "\n",
    "# Plot of a ROC curve for class 1 (has_cancer)\n",
    "plt.figure(figsize=[11,9])\n",
    "plt.plot(REC, PREC, label='PR curve (area = %0.2f)' % PR_AUC, linewidth=4)\n",
    "plt.plot([0, 1], [0, 1], 'k--', linewidth=4)\n",
    "plt.xlim([0.0, 1.0])\n",
    "plt.ylim([0.0, 1.05])\n",
    "plt.xlabel('Recall Rate', fontsize=18)\n",
    "plt.ylabel('Precision Rate', fontsize=18)\n",
    "plt.title('Random Forest for imdb rating', fontsize=18)\n",
    "plt.legend(loc=\"lower right\")\n",
    "plt.show()"
   ]
  },
  {
   "cell_type": "markdown",
   "metadata": {},
   "source": [
    "# Wrapping Up\n",
    "<a name=\"wrapping_up\"></a>"
   ]
  },
  {
   "cell_type": "markdown",
   "metadata": {},
   "source": [
    "My model seems to perform too well. One of the reasons could be the way I collected data. I hypothesis is that I was biased while collecting data. The way I web-scraped and collected my data points, there was a huge difference between the two types of data which is unlikely in the real world data problems. This is something to think about for the upcoming projects. "
   ]
  },
  {
   "cell_type": "markdown",
   "metadata": {},
   "source": [
    "### Next..\n",
    "<a name=\"next\"></a>"
   ]
  },
  {
   "cell_type": "markdown",
   "metadata": {},
   "source": [
    "I believe one of the reasons who my model was giving me really good results is because of the way I collected data from the beginning. While web scraping I basically collected two type of movies. First with imdb_rating over 8 and then imdb_rating below 5. Since there is a big gap in the rating, My model was able to predict too well. This is unlikely in the real world. Therefore, my next procedure would be to web scrape again but this time I should have more variety in the rating while scraping since it is my target variable. Also I would like to work with Actors, Director and Writers as a part of NLP for the next trial. "
   ]
  }
 ],
 "metadata": {
  "kernelspec": {
   "display_name": "Python 2",
   "language": "python",
   "name": "python2"
  },
  "language_info": {
   "codemirror_mode": {
    "name": "ipython",
    "version": 2
   },
   "file_extension": ".py",
   "mimetype": "text/x-python",
   "name": "python",
   "nbconvert_exporter": "python",
   "pygments_lexer": "ipython2",
   "version": "2.7.14"
  }
 },
 "nbformat": 4,
 "nbformat_minor": 2
}
